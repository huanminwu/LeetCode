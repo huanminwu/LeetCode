{
 "cells": [
  {
   "attachments": {},
   "cell_type": "markdown",
   "metadata": {},
   "source": [
    "# String and Number\n",
    "In this notebook we will study Python hello world, then the numbers and strings."
   ]
  },
  {
   "attachments": {},
   "cell_type": "markdown",
   "metadata": {},
   "source": [
    "# Prerequisites"
   ]
  },
  {
   "attachments": {},
   "cell_type": "markdown",
   "metadata": {},
   "source": [
    "- Assume you have a Windows laptop with internet connection.\n",
    "- You need install Visual Studio Code from Microsoft Store.\n",
    "- Open a folder, such as Pyhton in your machine and create a notebooks folder under it.\n",
    "- Copy any hello world ipynb file in the notebooks folder.\n",
    "- Launch VSCode and open this folder.\n",
    "- Install latest Python + Jupyter notebook when click install kernel.\n",
    "- Set default environment from Get Started with Python Development."
   ]
  },
  {
   "attachments": {},
   "cell_type": "markdown",
   "metadata": {},
   "source": [
    "## Hello World\n",
    "The following python code will first print a line of text \"Hello World\"\n",
    "Then we will assign this sentence to a variable and print it again."
   ]
  },
  {
   "cell_type": "code",
   "execution_count": 1,
   "metadata": {},
   "outputs": [
    {
     "name": "stdout",
     "output_type": "stream",
     "text": [
      "Hello World!\n",
      "Hello World!\n"
     ]
    }
   ],
   "source": [
    "# Print Hello world. \n",
    "print('Hello World!')\n",
    "\n",
    "# Assign it to a variable and print it again.\n",
    "greeting_message = \"Hello World!\"\n",
    "print(greeting_message)"
   ]
  },
  {
   "attachments": {},
   "cell_type": "markdown",
   "metadata": {},
   "source": [
    "#### Observation\n",
    "From the above example, we observe following points:\n",
    "1. Python does not use any statement end mark (for example ; in C/C++), end of line means end of statement.\n",
    "2. We do not need to declare the type of a variable in advance (but we can do it, we will discuss later)."
   ]
  },
  {
   "attachments": {},
   "cell_type": "markdown",
   "metadata": {},
   "source": [
    "#### Variable Naming Convention \n",
    "We use lower case as name of variable, if the variable contains two english words, we use underscore '_' to connect them."
   ]
  },
  {
   "attachments": {},
   "cell_type": "markdown",
   "metadata": {},
   "source": [
    "## String\n",
    "Now let's look at string, a line of text."
   ]
  },
  {
   "cell_type": "code",
   "execution_count": 2,
   "metadata": {},
   "outputs": [
    {
     "name": "stdout",
     "output_type": "stream",
     "text": [
      "ada lovelace\n",
      "Ada Lovelace\n",
      "ADA LOVELACE\n",
      "ada lovelace\n",
      "Hi, my name is Ada Lovelace\n"
     ]
    }
   ],
   "source": [
    "# Let's first get a variable\n",
    "name = \"ada lovelace\"\n",
    "print(name)\n",
    "\n",
    "# Make upper case for the first character in each word.\n",
    "print(name.title())\n",
    "\n",
    "# Make it all upper case\n",
    "print(name.upper())\n",
    "print(name.lower())\n",
    "\n",
    "# Let's use variable as placeholder in a string\n",
    "greeting_message = 'Hi, my name is {name_placeholder}'\n",
    "\n",
    "# replace the placeholder by real name\n",
    "greeting_message = greeting_message.format(name_placeholder=name.title())\n",
    "print(greeting_message)"
   ]
  },
  {
   "attachments": {},
   "cell_type": "markdown",
   "metadata": {},
   "source": [
    "#### Observation \n",
    "All the string function above will not change the input string itself, instead it will return the result of operation."
   ]
  },
  {
   "attachments": {},
   "cell_type": "markdown",
   "metadata": {},
   "source": [
    "#### Space\n",
    "Now Let's look at same common space characters in the string. Then try to remove the extra space before and after the text. "
   ]
  },
  {
   "cell_type": "code",
   "execution_count": 3,
   "metadata": {},
   "outputs": [
    {
     "name": "stdout",
     "output_type": "stream",
     "text": [
      "My name is\n",
      "ada \t lovelace\n",
      "   \t python  \n",
      "python  \n",
      "   \t python\n",
      "python\n"
     ]
    }
   ],
   "source": [
    "# \\t is the tab key and \\n is the new line\n",
    "name = \"My name is\\nada \\t lovelace\"\n",
    "print(name)\n",
    "\n",
    "# Remove the space before and after.\n",
    "string = '   \\t python  '\n",
    "# we see spaces before and after\n",
    "print(string)\n",
    "# we remove spaces before the string\n",
    "print(string.lstrip())\n",
    "# we remove spaces after the string\n",
    "print(string.rstrip())\n",
    "# we remove spaces before and after the string\n",
    "print(string.strip())"
   ]
  },
  {
   "attachments": {},
   "cell_type": "markdown",
   "metadata": {},
   "source": [
    "### Quotes\n",
    "In python we can use either double quotes or single quotes. In this case you can avoid escape the special characters.\n",
    "We can also specify a multi-lines text to a string.\n"
   ]
  },
  {
   "cell_type": "code",
   "execution_count": 4,
   "metadata": {},
   "outputs": [
    {
     "name": "stdout",
     "output_type": "stream",
     "text": [
      "One of Python's strength is its diverse community.\n",
      "\n",
      "The Zen of Python, by Tim Peters:\n",
      "\"Beautiful is better than ugly. \n",
      "Simple is better than complex.\n",
      "Complex is better than complicated.\n",
      "Readability counts\n",
      "\"\n",
      "\n"
     ]
    }
   ],
   "source": [
    "# Let's use single quote inside a string\n",
    "sentence = \"One of Python's strength is its diverse community.\"\n",
    "print(sentence)\n",
    "\n",
    "# Let's create a multi-line text with any special characters inside it.\n",
    "text = \"\"\"\n",
    "The Zen of Python, by Tim Peters:\n",
    "\"Beautiful is better than ugly. \n",
    "Simple is better than complex.\n",
    "Complex is better than complicated.\n",
    "Readability counts\n",
    "\"\n",
    "\"\"\"\n",
    "print(text)"
   ]
  },
  {
   "attachments": {},
   "cell_type": "markdown",
   "metadata": {},
   "source": [
    "## Numbers\n",
    "Let's start some numeric value in python. "
   ]
  },
  {
   "cell_type": "code",
   "execution_count": 7,
   "metadata": {},
   "outputs": [
    {
     "name": "stdout",
     "output_type": "stream",
     "text": [
      "5\n",
      "1\n",
      "6\n",
      "5 / 2 = 2.5\n",
      "int(5 / 2) = 2\n",
      "3**29\n",
      "4\n",
      "0.2\n",
      "0.30000000000000004\n",
      "14000000000000000000000000000000000\n",
      "1 2 3\n",
      "MAX_CONNECTIONS5000\n",
      "7 % 3 = 1\n"
     ]
    }
   ],
   "source": [
    "# Let's work on some basic arithmetic\n",
    "a = 2 + 3\n",
    "print(a)\n",
    "\n",
    "a = 3 - 2\n",
    "print(a)\n",
    "\n",
    "a = 2 * 3\n",
    "print(a)\n",
    "\n",
    "a = 5 / 2\n",
    "print('5 / 2 = ' + str(a))\n",
    "print('int(5 / 2) = ' + str(int(a)))\n",
    "\n",
    "a = 3**2\n",
    "print('3**2' + str(a))\n",
    "\n",
    "a = 2 * (4-2)\n",
    "print(a)\n",
    "\n",
    "a = 0.1 + 0.1\n",
    "print(a)\n",
    "\n",
    "a = 0.2 + 0.1\n",
    "print(a)\n",
    "\n",
    "large = 14_000_000_000_000_000_000_000_000_000_000_000\n",
    "print(large)\n",
    "\n",
    "x, y, z = 1, 2, 3\n",
    "print(x,y,z)\n",
    "\n",
    "# The following is a constant value\n",
    "MAX_CONNECTIONS = 5000\n",
    "print('MAX_CONNECTIONS' + str(MAX_CONNECTIONS))\n",
    "\n",
    "# calculate module\n",
    "print('7 % 3 = ' + str(7%3))\n"
   ]
  },
  {
   "attachments": {},
   "cell_type": "markdown",
   "metadata": {},
   "source": [
    "#### Observation \n",
    "1. In Python there is no difference between integer and float. By default, the division result will be treated as float. This is quite different from other language, for example in C/C++ or Java, 5/2 = 2, not 2.5, but in python it is 2.5\n",
    "2. Like all other languages, float will encounter precision issue, for example like 0.1 + 0.2. We will study precision round up later.\n",
    "3. Python can use under score '_' to separate multiple digits in a number.\n",
    "4. Python does not have capacity for a number, unlike C/C++ or Java, which will have integer(32 bits) and long (64 bits). A numeric value in python can be very big. But it is also not a double value, so you should not worry about precision of the large number.\n",
    "5. We can assign multiple values to multiple variables in one statement.\n",
    "6. Constant value can be represented by all upper case variables.\n",
    "7. We can convert a float to integer by int().\n",
    "8. We can convert numeric to string by str()"
   ]
  }
 ],
 "metadata": {
  "kernelspec": {
   "display_name": "venv",
   "language": "python",
   "name": "python3"
  },
  "language_info": {
   "codemirror_mode": {
    "name": "ipython",
    "version": 3
   },
   "file_extension": ".py",
   "mimetype": "text/x-python",
   "name": "python",
   "nbconvert_exporter": "python",
   "pygments_lexer": "ipython3",
   "version": "3.11.4"
  },
  "orig_nbformat": 4
 },
 "nbformat": 4,
 "nbformat_minor": 2
}
