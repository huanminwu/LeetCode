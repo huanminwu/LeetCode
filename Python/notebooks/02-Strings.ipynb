{
 "cells": [
  {
   "attachments": {},
   "cell_type": "markdown",
   "metadata": {},
   "source": [
    "# String\n",
    "In this notebook we will study string in python."
   ]
  },
  {
   "attachments": {},
   "cell_type": "markdown",
   "metadata": {},
   "source": [
    "## String Functions\n",
    "Now let's look at string, a line of text."
   ]
  },
  {
   "cell_type": "code",
   "execution_count": 2,
   "metadata": {},
   "outputs": [
    {
     "name": "stdout",
     "output_type": "stream",
     "text": [
      "ada lovelace\n",
      "Ada Lovelace\n",
      "ADA LOVELACE\n",
      "ada lovelace\n",
      "Hi, my name is Ada Lovelace\n"
     ]
    }
   ],
   "source": [
    "# Let's first get a variable\n",
    "name = \"ada lovelace\"\n",
    "print(name)\n",
    "\n",
    "# Make upper case for the first character in each word.\n",
    "print(name.title())\n",
    "\n",
    "# Make it all upper case\n",
    "print(name.upper())\n",
    "print(name.lower())\n",
    "\n",
    "# Let's use variable as placeholder in a string\n",
    "greeting_message = 'Hi, my name is {name_placeholder}'\n",
    "\n",
    "# replace the placeholder by real name\n",
    "greeting_message = greeting_message.format(name_placeholder=name.title())\n",
    "print(greeting_message)"
   ]
  },
  {
   "attachments": {},
   "cell_type": "markdown",
   "metadata": {},
   "source": [
    "#### Observation \n",
    "All the string function above will not change the input string itself, instead it will return the result of operation."
   ]
  },
  {
   "attachments": {},
   "cell_type": "markdown",
   "metadata": {},
   "source": [
    "### Space\n",
    "Now Let's look at same common space characters in the string. Then try to remove the extra space before and after the text. "
   ]
  },
  {
   "cell_type": "code",
   "execution_count": 3,
   "metadata": {},
   "outputs": [
    {
     "name": "stdout",
     "output_type": "stream",
     "text": [
      "My name is\n",
      "ada \t lovelace\n",
      "   \t python  \n",
      "python  \n",
      "   \t python\n",
      "python\n"
     ]
    }
   ],
   "source": [
    "# \\t is the tab key and \\n is the new line\n",
    "name = \"My name is\\nada \\t lovelace\"\n",
    "print(name)\n",
    "\n",
    "# Remove the space before and after.\n",
    "string = '   \\t python  '\n",
    "# we see spaces before and after\n",
    "print(string)\n",
    "# we remove spaces before the string\n",
    "print(string.lstrip())\n",
    "# we remove spaces after the string\n",
    "print(string.rstrip())\n",
    "# we remove spaces before and after the string\n",
    "print(string.strip())"
   ]
  },
  {
   "attachments": {},
   "cell_type": "markdown",
   "metadata": {},
   "source": [
    "### Quotes\n",
    "In python we can use either double quotes or single quotes. In this case you can avoid escape the special characters.\n",
    "We can also specify a multi-lines text to a string.\n"
   ]
  },
  {
   "cell_type": "code",
   "execution_count": 4,
   "metadata": {},
   "outputs": [
    {
     "name": "stdout",
     "output_type": "stream",
     "text": [
      "One of Python's strength is its diverse community.\n",
      "\n",
      "The Zen of Python, by Tim Peters:\n",
      "\"Beautiful is better than ugly. \n",
      "Simple is better than complex.\n",
      "Complex is better than complicated.\n",
      "Readability counts\n",
      "\"\n",
      "\n"
     ]
    }
   ],
   "source": [
    "# Let's use single quote inside a string\n",
    "sentence = \"One of Python's strength is its diverse community.\"\n",
    "print(sentence)\n",
    "\n",
    "# Let's create a multi-line text with any special characters inside it.\n",
    "text = \"\"\"\n",
    "The Zen of Python, by Tim Peters:\n",
    "\"Beautiful is better than ugly. \n",
    "Simple is better than complex.\n",
    "Complex is better than complicated.\n",
    "Readability counts\n",
    "\"\n",
    "\"\"\"\n",
    "print(text)"
   ]
  },
  {
   "attachments": {},
   "cell_type": "markdown",
   "metadata": {},
   "source": [
    "### Character and Encoding\n",
    "The string is made of a list of characters. Assume s is a string, s[i] will return the character, and ord(ch) will return the ascii of the character and  "
   ]
  },
  {
   "cell_type": "code",
   "execution_count": 4,
   "metadata": {},
   "outputs": [
    {
     "name": "stdout",
     "output_type": "stream",
     "text": [
      "s =  abcdefg\n",
      "s[3] =  d\n",
      "ord(s[3]) =  100\n",
      "chr(110) =  n\n",
      "s.encode('utf-8') =  b'abcdefg'\n",
      "c =  abcxyz\n",
      "d =  ax\n"
     ]
    }
   ],
   "source": [
    "# initialize a string\n",
    "s = \"abcdefg\"\n",
    "print(\"s = \", s)\n",
    "print(\"s[3] = \", s[3])\n",
    "print(\"ord(s[3]) = \", ord(s[3]))\n",
    "print(\"chr(110) = \", chr(110))\n",
    "\n",
    "# covert string to bytes\n",
    "print(\"s.encode('utf-8') = \", s.encode('utf-8'))\n",
    "\n",
    "# merge two strings\n",
    "a = \"abc\";\n",
    "b = \"xyz\";\n",
    "c = a + b;\n",
    "print(\"c = \", c)\n",
    "d = a[0] + b[0];\n",
    "print(\"d = \", d) "
   ]
  },
  {
   "cell_type": "markdown",
   "metadata": {},
   "source": [
    "#### Decoding and Encoding Hexadecimal Digits"
   ]
  },
  {
   "cell_type": "code",
   "execution_count": 12,
   "metadata": {},
   "outputs": [
    {
     "name": "stdout",
     "output_type": "stream",
     "text": [
      "s =  b'hello'\n",
      "hex_str =  b'68656c6c6f'\n",
      "hex_str =  b'68656C6C6F'\n",
      "s =  b'hello'\n",
      "utf_8_str =  hello\n",
      "ascii_str =  b'hello'\n",
      "base64_str =  b'aGVsbG8='\n",
      "s =  b'hello'\n"
     ]
    }
   ],
   "source": [
    "# Initial byte string\n",
    "s = b'hello'\n",
    "print('s = ', s)\n",
    "\n",
    "# Encode as hex\n",
    "import binascii\n",
    "hex_str = binascii.b2a_hex(s)\n",
    "print('hex_str = ', hex_str)\n",
    "\n",
    "import base64\n",
    "hex_str = base64.b16encode(s)\n",
    "print(\"hex_str = \", hex_str)\n",
    "s = base64.b16decode(h)\n",
    "print(\"s = \", s)\n",
    "utf_8_str = s.decode('utf-8')\n",
    "print(\"utf_8_str = \", utf_8_str)\n",
    "ascii_str = utf_8_str.encode('ascii')\n",
    "print(\"ascii_str = \", ascii_str)\n",
    "\n",
    "base64_str = base64.b64encode(s)\n",
    "print(\"base64_str = \", base64_str)\n",
    "s = base64.b64decode(base64_str)\n",
    "print(\"s = \", s)"
   ]
  },
  {
   "attachments": {},
   "cell_type": "markdown",
   "metadata": {},
   "source": [
    "### Format String\n",
    "We can put a place holder in the string and replace the place holder with a real value. "
   ]
  },
  {
   "cell_type": "code",
   "execution_count": 2,
   "metadata": {},
   "outputs": [
    {
     "name": "stdout",
     "output_type": "stream",
     "text": [
      "James won the champion of 100-meter-running in the school sporst meeting\n",
      "The value of PI is 3.14159\n"
     ]
    }
   ],
   "source": [
    "# Format a string with placeholders\n",
    "bulletin = \"{Student} won the champion of {Game} in the school sporst meeting\"\n",
    "bulletin.format(Student= \"James\", Game = \"100-meter-running\")\n",
    "print(bulletin.format(Student= \"James\", Game = \"100-meter-running\"))\n",
    "\n",
    "# Format a numeric with specified digits\n",
    "s = \"The value of PI is {pi:.5f}\"\n",
    "s = s.format(pi = 3.1415926)\n",
    "print(s)\n"
   ]
  },
  {
   "attachments": {},
   "cell_type": "markdown",
   "metadata": {},
   "source": [
    "### Split string\n",
    "split string by delimeter"
   ]
  },
  {
   "cell_type": "code",
   "execution_count": 2,
   "metadata": {},
   "outputs": [
    {
     "name": "stdout",
     "output_type": "stream",
     "text": [
      "D:\\Python\\ch6 split by \\ is ['D:', 'Python', 'ch6']\n"
     ]
    }
   ],
   "source": [
    "str = \"D:\\\\Python\\\\ch6\"\n",
    "print(str, 'split by \\\\ is', str.split('\\\\'))"
   ]
  },
  {
   "cell_type": "markdown",
   "metadata": {},
   "source": [
    "#### Reverse String"
   ]
  },
  {
   "cell_type": "code",
   "execution_count": 5,
   "metadata": {},
   "outputs": [
    {
     "name": "stdout",
     "output_type": "stream",
     "text": [
      "reverse:  edcba\n"
     ]
    }
   ],
   "source": [
    "str = \"abcde\"\n",
    "print(\"reverse: \", str[::-1])"
   ]
  },
  {
   "attachments": {},
   "cell_type": "markdown",
   "metadata": {},
   "source": [
    "### String Method\n",
    "The following table for string method can be used as reference\n"
   ]
  },
  {
   "attachments": {},
   "cell_type": "markdown",
   "metadata": {},
   "source": [
    "| Method | Description |\n",
    "| --- | --- |\n",
    "| capitalize() | Converts the first character to upper case |\n",
    "| count() |\tReturns the number of times a specified value occurs in a string |\n",
    "| encode() | Returns an encoded version of the string |\n",
    "| endswith() |Returns true if the string ends with the specified value |\n",
    "| find() | Searches the string for a specified value and returns the position of where it was found |\n",
    "| format() | Formats specified values in a string |\n",
    "| format_map() | Formats specified values in a string |\n",
    "| isalnum() | Returns True if all characters in the string are alphanumeric |\n",
    "| isalpha() | Returns True if all characters in the string are in the alphabet |\n",
    "| isascii() | Returns True if all characters in the string are ascii characters |\n",
    "| isdecimal() | Returns True if all characters in the string are decimals |\n",
    "| isdigit() | Returns True if all characters in the string are digits |\n",
    "| isidentifier() | Returns True if the string is an identifier |\n",
    "| islower() | Returns True if all characters in the string are lower case |\n",
    "| isnumeric() | Returns True if all characters in the string are numeric |\n",
    "| isspace()\t| Returns True if all characters in the string are whitespaces |\n",
    "| isupper() | Returns True if all characters in the string are upper case |\n",
    "| join() | Converts the elements of an iterable into a string |\n",
    "| lower() | Converts a string into lower case |\n",
    "| replace() | Returns a string where a specified value is replaced with a specified value |\n",
    "| rfind() |\tSearches the string for a specified value and returns the last position of where it was found |\n",
    "| split() | Splits the string at the specified separator, and returns a list |\n",
    "| splitlines() | Splits the string at line breaks and returns a list |\n",
    "| startswith() | Returns true if the string starts with the specified value |\n",
    "| strip() | Returns a trimmed version of the string |\n",
    "| title() |\tConverts the first character of each word to upper case |\n",
    "| upper() | Converts a string into upper case |\n",
    "| zfill() |\tFills the string with a specified number of 0 values at the beginning |"
   ]
  },
  {
   "attachments": {},
   "cell_type": "markdown",
   "metadata": {},
   "source": [
    "### Check String Type\n",
    "We can determine if the string is alpha or digit "
   ]
  },
  {
   "cell_type": "code",
   "execution_count": 3,
   "metadata": {},
   "outputs": [
    {
     "name": "stdout",
     "output_type": "stream",
     "text": [
      "abc is alpha? True\n",
      "abc is digit? False\n",
      "abc is upper? False\n",
      "abc is lower? True\n",
      "123 is alpha? False\n",
      "123 is digit? True\n"
     ]
    }
   ],
   "source": [
    "s = \"abc\"\n",
    "n = \"123\"\n",
    "print(\"abc is alpha?\", s.isalpha())\n",
    "print(\"abc is digit?\", s.isdigit())\n",
    "print(\"abc is upper?\", s.isupper())\n",
    "print(\"abc is lower?\", s.islower())\n",
    "print(\"123 is alpha?\", n.isalpha())\n",
    "print(\"123 is digit?\", n.isdigit())"
   ]
  },
  {
   "attachments": {},
   "cell_type": "markdown",
   "metadata": {},
   "source": [
    "### Find and Replace\n",
    "We can use find() to find a substring and use replace to replace all the matched substrings. "
   ]
  },
  {
   "cell_type": "code",
   "execution_count": 3,
   "metadata": {},
   "outputs": [
    {
     "name": "stdout",
     "output_type": "stream",
     "text": [
      "text =  yeah, but no, but yeah, but no, but yeah\n",
      "text find 'no': 10\n",
      "text.replace('yeah, 'yep') yep, but no, but yep, but no, but yep\n"
     ]
    }
   ],
   "source": [
    "text = 'yeah, but no, but yeah, but no, but yeah'\n",
    "print(\"text = \", text)\n",
    "print(\"text find 'no':\", text.find('no'))\n",
    "print(\"text.replace('yeah, 'yep'): \", text.replace('yeah', 'yep'))"
   ]
  },
  {
   "attachments": {},
   "cell_type": "markdown",
   "metadata": {},
   "source": [
    "#### Join words"
   ]
  },
  {
   "cell_type": "code",
   "execution_count": 4,
   "metadata": {},
   "outputs": [
    {
     "name": "stdout",
     "output_type": "stream",
     "text": [
      "apple, orange, watermelon, banana, lychee, peach\n"
     ]
    }
   ],
   "source": [
    "fruits = ['apple', 'orange', 'watermelon', 'banana', 'lychee', 'peach']\n",
    "print (', '.join(fruits))"
   ]
  }
 ],
 "metadata": {
  "kernelspec": {
   "display_name": "venv",
   "language": "python",
   "name": "python3"
  },
  "language_info": {
   "codemirror_mode": {
    "name": "ipython",
    "version": 3
   },
   "file_extension": ".py",
   "mimetype": "text/x-python",
   "name": "python",
   "nbconvert_exporter": "python",
   "pygments_lexer": "ipython3",
   "version": "3.11.8"
  },
  "orig_nbformat": 4
 },
 "nbformat": 4,
 "nbformat_minor": 2
}
