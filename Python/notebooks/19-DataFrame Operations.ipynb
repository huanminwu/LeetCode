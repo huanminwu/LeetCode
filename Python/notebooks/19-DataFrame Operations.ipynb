{
 "cells": [
  {
   "cell_type": "markdown",
   "metadata": {},
   "source": [
    "# DataFrame Operations"
   ]
  },
  {
   "cell_type": "markdown",
   "metadata": {},
   "source": [
    "### Convert DataType"
   ]
  },
  {
   "cell_type": "code",
   "execution_count": 6,
   "metadata": {},
   "outputs": [
    {
     "name": "stdout",
     "output_type": "stream",
     "text": [
      "df =     student_id  name  age  grade\n",
      "0           1   Ava    6     73\n",
      "1           2  Kate   15     87\n"
     ]
    }
   ],
   "source": [
    "import pandas as pd\n",
    "data = {\n",
    "        'student_id' : [1, 2],\n",
    "        'name' : ['Ava', 'Kate'],\n",
    "        'age' : [6, 15],\n",
    "        'grade' : [73.0, 87.0]\n",
    "       }\n",
    "\n",
    "# add two data frames\n",
    "df = pd.DataFrame(data)\n",
    "df['grade'] = df[\"grade\"].astype(int) \n",
    "print('df = ', df)"
   ]
  },
  {
   "cell_type": "markdown",
   "metadata": {},
   "source": [
    "### Handle NaN data\n",
    "| Method | Description |\n",
    "| --- | --- |\n",
    "| dropna | Filter axis labels based on whether values for each label having missing data, with varying thresholds for how much missing data to tolerate. |\n",
    "| fillna | Fill in missing data with some value or using an interpolation method such as 'ffill' or 'bfill'. |\n",
    "| isnull | return boolean values indicating which values are missing N/A. |\n",
    "| notnull | Negation of isnull |"
   ]
  },
  {
   "cell_type": "markdown",
   "metadata": {},
   "source": [
    "#### Drop missing data"
   ]
  },
  {
   "cell_type": "code",
   "execution_count": 12,
   "metadata": {},
   "outputs": [
    {
     "name": "stdout",
     "output_type": "stream",
     "text": [
      "df = \n",
      "   student_id   name  age\n",
      "0          32  Piper    5\n",
      "1         217  Grace   19\n",
      "2         779   None   20\n",
      "3         849   None   14\n",
      "df.dropna(subset = ['name']\n",
      "   student_id   name  age\n",
      "0          32  Piper    5\n",
      "1         217  Grace   19\n"
     ]
    }
   ],
   "source": [
    "import pandas as pd\n",
    "data = {\n",
    "        'student_id' : [32, 217, 779, 849],\n",
    "        'name' : ['Piper', 'Grace', None, None],\n",
    "        'age' : [5, 19, 20, 14]\n",
    "       }\n",
    "\n",
    "# add two data frames\n",
    "df = pd.DataFrame(data)\n",
    "print(\"df = \")\n",
    "print(df)\n",
    "print(\"df.dropna(subset = ['name']\")\n",
    "print(df.dropna(subset = ['name']))"
   ]
  },
  {
   "cell_type": "markdown",
   "metadata": {},
   "source": [
    "#### Fill missing data"
   ]
  },
  {
   "cell_type": "code",
   "execution_count": 17,
   "metadata": {},
   "outputs": [
    {
     "name": "stdout",
     "output_type": "stream",
     "text": [
      "df = \n",
      "              name  quantity  price\n",
      "0       Wristwatch      32.0    135\n",
      "1  WirelessEarbuds       NaN    821\n",
      "2        GolfClubs       NaN   9319\n",
      "3          Printer     849.0   3051\n",
      "df['quantity'] = df.fillna(value=0)\n",
      "              name  quantity  price\n",
      "0       Wristwatch      32.0    135\n",
      "1  WirelessEarbuds       0.0    821\n",
      "2        GolfClubs       0.0   9319\n",
      "3          Printer     849.0   3051\n"
     ]
    }
   ],
   "source": [
    "import pandas as pd\n",
    "data = {\n",
    "        'name' : ['Wristwatch', 'WirelessEarbuds', 'GolfClubs', 'Printer'],\n",
    "        'quantity' : [32, None, None, 849],\n",
    "        'price' : [135, 821, 9319, 3051]\n",
    "       }\n",
    "# add two data frames\n",
    "df = pd.DataFrame(data)\n",
    "print(\"df = \")\n",
    "print(df)\n",
    "df['quantity'] = df['quantity'].fillna(0)\n",
    "print(\"df['quantity'] = df.fillna(value=0)\")\n",
    "print(df)"
   ]
  },
  {
   "cell_type": "markdown",
   "metadata": {},
   "source": [
    "### Remove Duplicate"
   ]
  },
  {
   "cell_type": "code",
   "execution_count": 20,
   "metadata": {},
   "outputs": [
    {
     "name": "stdout",
     "output_type": "stream",
     "text": [
      "   customer_id     name                email\n",
      "0            1     Ella    emily@example.com\n",
      "1            2    David  michael@example.com\n",
      "2            3  Zachary    sarah@example.com\n",
      "3            4    Alice     john@example.com\n",
      "5            6   Violet    alice@example.com\n"
     ]
    }
   ],
   "source": [
    "import pandas as pd\n",
    "data = {\n",
    "        'customer_id' : [1, 2, 3, 4, 5, 6],\n",
    "        'name' : ['Ella', 'David', 'Zachary', 'Alice', 'Finn', 'Violet'],\n",
    "        'email' : ['emily@example.com', 'michael@example.com', 'sarah@example.com', 'john@example.com', 'john@example.com', 'alice@example.com']\n",
    "       }\n",
    "df = pd.DataFrame(data)\n",
    "df = df.drop_duplicates(['email'])\n",
    "print(df)"
   ]
  },
  {
   "cell_type": "markdown",
   "metadata": {},
   "source": [
    "## Function application and mapping"
   ]
  },
  {
   "cell_type": "markdown",
   "metadata": {},
   "source": [
    "#### Example 1: Apply on every row"
   ]
  },
  {
   "cell_type": "code",
   "execution_count": 2,
   "metadata": {},
   "outputs": [
    {
     "name": "stdout",
     "output_type": "stream",
     "text": [
      "Original DataFrame:\n",
      "    A  B  C\n",
      "0  1  4  7\n",
      "1  2  5  8\n",
      "2  3  6  9\n",
      "\n",
      "After Applying Function: \n",
      "   A  B  C  add\n",
      "0  1  4  7   12\n",
      "1  2  5  8   15\n",
      "2  3  6  9   18\n"
     ]
    }
   ],
   "source": [
    "# Import pandas package \n",
    "import pandas as pd\n",
    " \n",
    "# Function to add\n",
    "def add(a, b, c):\n",
    "    return a + b + c\n",
    " \n",
    "def main():\n",
    "     \n",
    "    # create a dictionary with\n",
    "    # three fields each\n",
    "    data = {\n",
    "            'A':[1, 2, 3], \n",
    "            'B':[4, 5, 6], \n",
    "            'C':[7, 8, 9] }\n",
    "     \n",
    "    # Convert the dictionary into DataFrame \n",
    "    df = pd.DataFrame(data)\n",
    "    print(\"Original DataFrame:\\n\")\n",
    "    print(df)\n",
    "     \n",
    "    df['add'] = df.apply(lambda row : add(row['A'],\n",
    "                     row['B'], row['C']), axis = 1)\n",
    "  \n",
    "    print('\\nAfter Applying Function: ')\n",
    "    # printing the new dataframe\n",
    "    print(df)\n",
    "  \n",
    "if __name__ == '__main__':\n",
    "    main()"
   ]
  },
  {
   "cell_type": "markdown",
   "metadata": {},
   "source": [
    "#### Example 2 : Leverage NumPy"
   ]
  },
  {
   "cell_type": "code",
   "execution_count": 21,
   "metadata": {},
   "outputs": [
    {
     "name": "stdout",
     "output_type": "stream",
     "text": [
      "Original DataFrame:\n",
      "    A  B  C\n",
      "0  1  4  7\n",
      "1  2  5  8\n",
      "2  3  6  9\n",
      "\n",
      "After Applying Function: \n",
      "   A  B  C  add\n",
      "0  1  4  7   12\n",
      "1  2  5  8   15\n",
      "2  3  6  9   18\n"
     ]
    }
   ],
   "source": [
    "import pandas as pd\n",
    "import numpy as np\n",
    "  \n",
    "def main():\n",
    "     \n",
    "    # create a dictionary with\n",
    "    # five fields each\n",
    "    data = {\n",
    "            'A':[1, 2, 3], \n",
    "            'B':[4, 5, 6], \n",
    "            'C':[7, 8, 9] }\n",
    "     \n",
    "    # Convert the dictionary into DataFrame \n",
    "    df = pd.DataFrame(data)\n",
    "    print(\"Original DataFrame:\\n\", df)\n",
    "     \n",
    "    # applying function to each row in the dataframe\n",
    "    # and storing result in a new column\n",
    "    df['add'] = df.apply(np.sum, axis = 1)\n",
    "  \n",
    "    print('\\nAfter Applying Function: ')\n",
    "    # printing the new dataframe\n",
    "    print(df)\n",
    "  \n",
    "if __name__ == '__main__':\n",
    "    main()"
   ]
  },
  {
   "cell_type": "markdown",
   "metadata": {},
   "source": [
    "#### Example 3: Normalising Data"
   ]
  },
  {
   "cell_type": "code",
   "execution_count": 22,
   "metadata": {},
   "outputs": [
    {
     "name": "stdout",
     "output_type": "stream",
     "text": [
      "Original DataFrame:\n",
      "    X   Y\n",
      "0  1  45\n",
      "1  2  65\n",
      "2  3  89\n",
      "\n",
      "Normalized:\n",
      "     X   Y\n",
      "0 -0.5  45\n",
      "1 -0.5  65\n",
      "2 -0.5  89\n"
     ]
    }
   ],
   "source": [
    "# Import pandas package \n",
    "import pandas as pd\n",
    " \n",
    "def normalize(x, y):\n",
    "    x_new = ((x - np.mean([x, y])) /\n",
    "             (max(x, y) - min(x, y)))\n",
    "     \n",
    "    # print(x_new)\n",
    "    return x_new\n",
    " \n",
    "def main():\n",
    "     \n",
    "    # create a dictionary with three fields each\n",
    "    data = {\n",
    "        'X':[1, 2, 3], \n",
    "        'Y':[45, 65, 89] }\n",
    "     \n",
    "    # Convert the dictionary into DataFrame \n",
    "    df = pd.DataFrame(data)\n",
    "    print(\"Original DataFrame:\\n\", df)\n",
    "     \n",
    "    df['X'] = df.apply(lambda row : normalize(row['X'],\n",
    "                                  row['Y']), axis = 1)\n",
    "  \n",
    "    print('\\nNormalized:')\n",
    "    print(df)\n",
    "  \n",
    "if __name__ == '__main__':\n",
    "    main()"
   ]
  },
  {
   "cell_type": "markdown",
   "metadata": {},
   "source": [
    "#### Example 4: Generate range"
   ]
  },
  {
   "cell_type": "code",
   "execution_count": null,
   "metadata": {},
   "outputs": [],
   "source": [
    "import pandas as pd\n",
    "import numpy as np\n",
    "  \n",
    "pd.options.mode.chained_assignment = None\n",
    " \n",
    "# Function to generate range\n",
    "def generate_range(n):\n",
    "     \n",
    "    # printing the range for eg:\n",
    "    # input is 67 output is 60-70\n",
    "    n = int(n)\n",
    "     \n",
    "    lower_limit = n//10 * 10\n",
    "    upper_limit = lower_limit + 10\n",
    "     \n",
    "    return str(str(lower_limit) + '-' + str(upper_limit))\n",
    "      \n",
    "def replace(row):\n",
    "    for i, item in enumerate(row):\n",
    "         \n",
    "        # updating the value of the row\n",
    "        row[i] = generate_range(item)\n",
    "    return row\n",
    "          \n",
    "  \n",
    "def main():\n",
    "    # create a dictionary with\n",
    "    # three fields each\n",
    "    data = {\n",
    "            'A':[0, 2, 3], \n",
    "            'B':[4, 15, 6], \n",
    "            'C':[47, 8, 19] }\n",
    "     \n",
    "    # Convert the dictionary into DataFrame \n",
    "    df = pd.DataFrame(data)\n",
    "  \n",
    "    print('Before applying function: ')\n",
    "    print(df)\n",
    "      \n",
    "    # applying function to each row in\n",
    "    # dataframe and storing result in a new column\n",
    "    df = df.apply(lambda row : replace(row))\n",
    "      \n",
    "  \n",
    "    print('After Applying Function: ')\n",
    "    # printing the new dataframe\n",
    "    print(df)\n",
    "  \n",
    "if __name__ == '__main__':\n",
    "    main()"
   ]
  },
  {
   "cell_type": "markdown",
   "metadata": {},
   "source": [
    "## Applying Lambda Functions to Pandas\n",
    "#### Dataframe.assign() on a Single Column\n",
    "In this example, we will apply the lambda function Dataframe.assign() to a single column. The function is applied to the ‘Total_Marks’ column, and a new column ‘Percentage’ is formed with its help."
   ]
  },
  {
   "cell_type": "code",
   "execution_count": 24,
   "metadata": {},
   "outputs": [
    {
     "name": "stdout",
     "output_type": "stream",
     "text": [
      "      Name  Total_Marks  Percentage\n",
      "0    Rohan          455        91.0\n",
      "1   Elvish          250        50.0\n",
      "2   Deepak          495        99.0\n",
      "3     Soni          400        80.0\n",
      "4  Radhika          350        70.0\n",
      "5    Vansh          450        90.0\n"
     ]
    }
   ],
   "source": [
    "# importing pandas library\n",
    "import pandas as pd\n",
    "\n",
    "# creating and initializing a list\n",
    "values= [['Rohan',455],['Elvish',250],['Deepak',495],\n",
    "\t\t['Soni',400],['Radhika',350],['Vansh',450]] \n",
    "\n",
    "# creating a pandas dataframe\n",
    "df = pd.DataFrame(values,columns=['Name','Total_Marks'])\n",
    "\n",
    "# Applying lambda function to find \n",
    "# percentage of 'Total_Marks' column \n",
    "# using df.assign()\n",
    "df = df.assign(Percentage = lambda x: (x['Total_Marks'] /500 * 100))\n",
    "print(df)\n"
   ]
  },
  {
   "cell_type": "markdown",
   "metadata": {},
   "source": [
    "#### Dataframe.assign() on Multiple Columns\n",
    "In this example, we will apply the lambda function Dataframe.assign() to multiple columns. The lambda function is applied to 3 columns i.e., ‘Field_1’, ‘Field_2’, and ‘Field_3’."
   ]
  },
  {
   "cell_type": "code",
   "execution_count": 25,
   "metadata": {},
   "outputs": [
    {
     "name": "stdout",
     "output_type": "stream",
     "text": [
      "   Field_1  Field_2  Field_3  Product\n",
      "0       15      2.5      100   3750.0\n",
      "1       20      4.5       50   4500.0\n",
      "2       25      5.2       80  10400.0\n",
      "3       45      5.8       48  12528.0\n",
      "4       40      6.3       70  17640.0\n",
      "5       41      6.4       90  23616.0\n",
      "6       51      2.3      111  13020.3\n"
     ]
    }
   ],
   "source": [
    "# importing pandas library\n",
    "import pandas as pd\n",
    "\n",
    "# creating and initializing a nested list\n",
    "values_list = [[15, 2.5, 100], [20, 4.5, 50], [25, 5.2, 80],\n",
    "\t\t\t[45, 5.8, 48], [40, 6.3, 70], [41, 6.4, 90],\n",
    "\t\t\t[51, 2.3, 111]]\n",
    "\n",
    "# creating a pandas dataframe\n",
    "df = pd.DataFrame(values_list, columns=['Field_1', 'Field_2', 'Field_3'])\n",
    "\n",
    "# Applying lambda function to find\n",
    "# the product of 3 columns using\n",
    "# df.assign()\n",
    "df = df.assign(Product=lambda x: (x['Field_1'] * x['Field_2'] * x['Field_3']))\n",
    "\n",
    "# printing dataframe\n",
    "print(df)"
   ]
  },
  {
   "cell_type": "markdown",
   "metadata": {},
   "source": [
    "#### Dataframe.apply() on a Single Row\n",
    "In this example, we will apply the lambda function Dataframe.apply() to single row. The lambda function is applied to a row starting with ‘d’ and hence square all values corresponding to it."
   ]
  },
  {
   "cell_type": "code",
   "execution_count": 28,
   "metadata": {},
   "outputs": [
    {
     "name": "stdout",
     "output_type": "stream",
     "text": [
      "Before applying function:\n",
      "   Field_1  Field_2  Field_3\n",
      "a       15      2.5      100\n",
      "b       20      4.5       50\n",
      "c       25      5.2       80\n",
      "d       45      5.8       48\n",
      "e       40      6.3       70\n",
      "f       41      6.4       90\n",
      "g       51      2.3      111\n",
      "\n",
      "\n",
      "\n",
      "After applying function:\n",
      "   Field_1  Field_2  Field_3\n",
      "a     15.0     2.50    100.0\n",
      "b     20.0     4.50     50.0\n",
      "c     25.0     5.20     80.0\n",
      "d   2025.0    33.64   2304.0\n",
      "e     40.0     6.30     70.0\n",
      "f     41.0     6.40     90.0\n",
      "g     51.0     2.30    111.0\n"
     ]
    }
   ],
   "source": [
    "# importing pandas and numpy libraries\n",
    "import pandas as pd\n",
    "import numpy as np\n",
    "\n",
    "# creating and initializing a nested list\n",
    "values_list = [[15, 2.5, 100], [20, 4.5, 50], [25, 5.2, 80],\n",
    "\t\t\t[45, 5.8, 48], [40, 6.3, 70], [41, 6.4, 90], \n",
    "\t\t\t[51, 2.3, 111]]\n",
    "\n",
    "# creating a pandas dataframe\n",
    "df = pd.DataFrame(values_list, columns=['Field_1', 'Field_2', 'Field_3'],\n",
    "\t\t\t\tindex=['a', 'b', 'c', 'd', 'e', 'f', 'g'])\n",
    "\n",
    "print(\"Before applying function:\")\n",
    "print(df)\n",
    "# Apply function numpy.square() to square\n",
    "# the values of one row only i.e. row \n",
    "# with index name 'd'\n",
    "df = df.apply(lambda x: np.square(x) if x.name == 'd' else x, axis=1)\n",
    "\n",
    "print(\"\\n\\n\")\n",
    "print(\"After applying function:\")\n",
    "# printing dataframe\n",
    "print(df)"
   ]
  },
  {
   "cell_type": "markdown",
   "metadata": {},
   "source": [
    "#### Dataframe.apply() on Multiple Rows\n",
    "In this example, we will apply the lambda function to multiple rows using Dataframe.apply(). The lambda function is applied to 3 rows starting with ‘a’, ‘e’, and ‘g’."
   ]
  },
  {
   "cell_type": "code",
   "execution_count": 29,
   "metadata": {},
   "outputs": [
    {
     "name": "stdout",
     "output_type": "stream",
     "text": [
      "   Field_1  Field_2  Field_3\n",
      "a    225.0     6.25  10000.0\n",
      "b     20.0     4.50     50.0\n",
      "c     25.0     5.20     80.0\n",
      "d     45.0     5.80     48.0\n",
      "e   1600.0    39.69   4900.0\n",
      "f     41.0     6.40     90.0\n",
      "g   2601.0     5.29  12321.0\n"
     ]
    }
   ],
   "source": [
    "# importing pandas and numpylibraries\n",
    "import pandas as pd\n",
    "import numpy as np\n",
    "\n",
    "# creating and initializing a nested list\n",
    "values_list = [[15, 2.5, 100], [20, 4.5, 50], [25, 5.2, 80],\n",
    "\t\t\t[45, 5.8, 48], [40, 6.3, 70], [41, 6.4, 90],\n",
    "\t\t\t[51, 2.3, 111]]\n",
    "\n",
    "# creating a pandas dataframe\n",
    "df = pd.DataFrame(values_list, columns=['Field_1', 'Field_2', 'Field_3'],\n",
    "\t\t\t\tindex=['a', 'b', 'c', 'd', 'e', 'f', 'g'])\n",
    "\n",
    "\n",
    "# Apply function numpy.square() to square \n",
    "# the values of 3 rows only i.e. with row\n",
    "# index name 'a', 'e' and 'g' only\n",
    "df = df.apply(lambda x: np.square(x) if x.name in [\n",
    "\t\t\t'a', 'e', 'g'] else x, axis=1)\n",
    "\n",
    "# printing dataframe\n",
    "print(df)\n"
   ]
  },
  {
   "cell_type": "markdown",
   "metadata": {},
   "source": [
    "#### Lambda Function on Multiple Rows and Columns Simultaneously\n",
    "In this example, we will apply the lambda function simultaneously to multiple columns and rows using dataframe.assign() and dataframe.apply()."
   ]
  },
  {
   "cell_type": "code",
   "execution_count": 30,
   "metadata": {},
   "outputs": [
    {
     "name": "stdout",
     "output_type": "stream",
     "text": [
      "   Field_1  Field_2  Field_3     Product\n",
      "a     1.50     2.50     10.0     37.5000\n",
      "b     4.00    20.25     25.0   2025.0000\n",
      "c     2.50     5.20      8.0    104.0000\n",
      "d     4.50     5.80      4.8    125.2800\n",
      "e     4.00     6.30     70.0   1764.0000\n",
      "f    16.81    40.96     81.0  55771.5456\n",
      "g     5.10     2.30     11.1    130.2030\n"
     ]
    }
   ],
   "source": [
    "# importing pandas and numpylibraries\n",
    "import pandas as pd\n",
    "import numpy as np\n",
    "\n",
    "# creating and initializing a nested list\n",
    "values_list = [[1.5, 2.5, 10.0], [2.0, 4.5, 5.0], [2.5, 5.2, 8.0],\n",
    "\t\t\t[4.5, 5.8, 4.8], [4.0, 6.3, 70], [4.1, 6.4, 9.0],\n",
    "\t\t\t[5.1, 2.3, 11.1]]\n",
    "\n",
    "# creating a pandas dataframe\n",
    "df = pd.DataFrame(values_list, columns=['Field_1', 'Field_2', 'Field_3'],\n",
    "\t\t\t\tindex=['a', 'b', 'c', 'd', 'e', 'f', 'g'])\n",
    "\n",
    "\n",
    "# Apply function numpy.square() to square \n",
    "# the values of 2 rows only i.e. with row\n",
    "# index name 'b' and 'f' only\n",
    "df = df.apply(lambda x: np.square(x) if x.name in ['b', 'f'] else x, axis=1)\n",
    "\n",
    "# Applying lambda function to find product of 3 columns\n",
    "# i.e 'Field_1', 'Field_2' and 'Field_3'\n",
    "df = df.assign(Product=lambda x: (x['Field_1'] * x['Field_2'] * x['Field_3']))\n",
    "\n",
    "\n",
    "# printing dataframe\n",
    "print(df)"
   ]
  },
  {
   "cell_type": "markdown",
   "metadata": {},
   "source": [
    "## Arithmetic and data alignment"
   ]
  },
  {
   "cell_type": "markdown",
   "metadata": {},
   "source": [
    "#### arithmetic methods\n",
    "| Method | Description |\n",
    "| --- | --- |\n",
    "| add | Method for addition(+) |\n",
    "| sub | Method for substraction(-) |\n",
    "| div | Method for division(/) |\n",
    "| mul | Method for multiplication(*) |"
   ]
  },
  {
   "cell_type": "code",
   "execution_count": 101,
   "metadata": {},
   "outputs": [
    {
     "name": "stdout",
     "output_type": "stream",
     "text": [
      "df1 =            b  c  d\n",
      "Ohio      0  1  2\n",
      "Texas     3  4  5\n",
      "Colorado  6  7  8\n",
      "df2 =          b   d   e\n",
      "Utah    0   1   2\n",
      "Ohio    3   4   5\n",
      "Texas   6   7   8\n",
      "Oregon  9  10  11\n",
      "df1 + df2 =              b   c     d   e\n",
      "Colorado  NaN NaN   NaN NaN\n",
      "Ohio      3.0 NaN   6.0 NaN\n",
      "Oregon    NaN NaN   NaN NaN\n",
      "Texas     9.0 NaN  12.0 NaN\n",
      "Utah      NaN NaN   NaN NaN\n",
      "df1.add(df2, fill_value=0)             b    c     d     e\n",
      "Colorado  6.0  7.0   8.0   NaN\n",
      "Ohio      3.0  1.0   6.0   5.0\n",
      "Oregon    9.0  NaN  10.0  11.0\n",
      "Texas     9.0  4.0  12.0   8.0\n",
      "Utah      0.0  NaN   1.0   2.0\n"
     ]
    }
   ],
   "source": [
    "from pandas import Series, DataFrame\n",
    "import pandas as pd\n",
    "import numpy as np\n",
    "\n",
    "# add two data frames\n",
    "df1 = DataFrame(np.arange(9).reshape(3,3), columns=list(\"bcd\"), index=['Ohio', 'Texas', 'Colorado'])\n",
    "df2 = DataFrame(np.arange(12).reshape(4,3), columns=list(\"bde\"), index=['Utah', 'Ohio', 'Texas', 'Oregon'])\n",
    "print('df1 = ', df1)\n",
    "print('df2 = ', df2)\n",
    "print('df1 + df2 = ', df1 + df2)\n",
    "print(\"df1.add(df2, fill_value=0)\", df1.add(df2, fill_value=0))\n"
   ]
  },
  {
   "cell_type": "markdown",
   "metadata": {},
   "source": [
    "#### Observation \n",
    "1. If we want to do arithemtic operations on two data frame, we should use fill_value"
   ]
  },
  {
   "cell_type": "code",
   "execution_count": 115,
   "metadata": {},
   "outputs": [
    {
     "name": "stdout",
     "output_type": "stream",
     "text": [
      "Before function\n",
      "        b   d   e\n",
      "Utah    0   1   2\n",
      "Ohio    3   4   5\n",
      "Texas   6   7   8\n",
      "Oregon  9  10  11\n",
      "\n",
      "After function\n",
      "     b   d   e\n",
      "min  0   1   2\n",
      "max  9  10  11\n",
      "f = lambda x : x.max() - x.min()\n",
      "df.apply(f)\n",
      "     b   d   e\n",
      "min  0   1   2\n",
      "max  9  10  11\n"
     ]
    }
   ],
   "source": [
    "from pandas import Series, DataFrame\n",
    "import pandas as pd\n",
    "import numpy as np\n",
    "def f(x) :\n",
    "    return Series([x.min(), x.max()], index=['min', 'max'])\n",
    "df = DataFrame(np.arange(12).reshape(4,3), columns=list(\"bde\"), index=['Utah', 'Ohio', 'Texas', 'Oregon'])\n",
    "print(\"Before function\")\n",
    "print(df)\n",
    "df2 = df.apply(f)\n",
    "print(\"\")\n",
    "print(\"After function\")\n",
    "print(df2)\n",
    "print(\"f = lambda x : x.max() - x.min()\")\n",
    "print(\"df.apply(f)\")\n",
    "df3 = df.apply(f)\n",
    "print(df3)"
   ]
  },
  {
   "cell_type": "markdown",
   "metadata": {},
   "source": [
    "#### Sort and Ranking"
   ]
  },
  {
   "cell_type": "code",
   "execution_count": 136,
   "metadata": {},
   "outputs": [
    {
     "name": "stdout",
     "output_type": "stream",
     "text": [
      "frame =    b  a\n",
      "0  4  0\n",
      "1  7  1\n",
      "2 -3  0\n",
      "3 -2  1\n",
      "frame.sort_values(by=['a', 'b'])    a  b\n",
      "2  0 -3\n",
      "0  0  4\n",
      "3  1 -2\n",
      "1  1  7\n",
      "   a  b  rank_a  rank_b\n",
      "0  0  4     1.5     3.0\n",
      "1  1  7     3.5     4.0\n",
      "2  0 -3     1.5     1.0\n",
      "3  1 -2     3.5     2.0\n"
     ]
    }
   ],
   "source": [
    "from pandas import Series, DataFrame\n",
    "import pandas as pd\n",
    "import numpy as np\n",
    "frame = DataFrame({'b' : [4, 7, -3, -2], 'a' : [0, 1, 0, 1]}, index=[0,1,2,3])\n",
    "print(\"frame =\", frame)\n",
    "frame = frame.sort_index(axis = 1)\n",
    "print(\"frame.sort_values(by=['a', 'b'])\", frame.sort_values(by=['a', 'b']))\n",
    "frame['rank_a'] = frame['a'].rank()\n",
    "frame['rank_b'] = frame['b'].rank(method='max')\n",
    "print(frame)\n"
   ]
  },
  {
   "cell_type": "markdown",
   "metadata": {},
   "source": [
    "### DataFrame Merge\n",
    "DataFrame Merge is a database style join operation. It can happen on some key columns or on index."
   ]
  },
  {
   "cell_type": "markdown",
   "metadata": {},
   "source": [
    "#### Merge Function"
   ]
  },
  {
   "cell_type": "markdown",
   "metadata": {},
   "source": [
    "Merge Function Argument\n",
    "| Argument | Description |\n",
    "| --- | --- |\n",
    "| left | DataFrame to be merged on the left side |\n",
    "| right | DataFrame to be merged on the right side |\n",
    "| how | One of 'inner', 'outer', 'left', or 'right'. 'inner' by default |\n",
    "| on | Column names to join on. Must be found in both DataFrame objects. If not specified and no other join keys given, will use the intersection of the column names in left and right as the join keys |\n",
    "| left_on | Columns in left DataFrame to use as join keys |\n",
    "| right_on | Analogous to left_on for left DataFrame |\n",
    "| left_index | Use row index in left as its join key (or keys, if a MultiIndex)\n",
    "| right_index | Analogous to left_index\n",
    "| Sort | Sort merged data lexicographically by join keys; True bu default. Disable to get better performance in some cases on large datasets. |\n",
    "| suffixes | Tuple of string values to append to column names in case of overlap; default to ('_x', '_y'. For example if 'data' in both DataFrame objects, would appear as 'data_x' and 'data_y' in result. |\n",
    "| copy | If False, avoid copying data into resulting data structure in some exceptional cases. By default always copies. |\n",
    "\n"
   ]
  },
  {
   "cell_type": "code",
   "execution_count": 12,
   "metadata": {},
   "outputs": [
    {
     "name": "stdout",
     "output_type": "stream",
     "text": [
      "df1 =    lkey  data\n",
      "0    b     0\n",
      "1    b     1\n",
      "2    a     2\n",
      "3    c     3\n",
      "4    a     4\n",
      "5    a     5\n",
      "6    b     6\n",
      "df2 =    rkey  data\n",
      "0    a     0\n",
      "1    b     1\n",
      "2    c     2\n",
      "3    d     3\n",
      "df3 =    lkey  data_x rkey  data_y\n",
      "0    b     0.0    b       1\n",
      "1    b     1.0    b       1\n",
      "2    b     6.0    b       1\n",
      "3    a     2.0    a       0\n",
      "4    a     4.0    a       0\n",
      "5    a     5.0    a       0\n",
      "6    c     3.0    c       2\n",
      "7  NaN     NaN    d       3\n"
     ]
    }
   ],
   "source": [
    "from pandas import Series, DataFrame\n",
    "import pandas as pd\n",
    "import numpy as np\n",
    "from numpy import NaN\n",
    "df1 = DataFrame({'lkey': ['b', 'b', 'a', 'c', 'a', 'a', 'b'], 'data':range(7)})\n",
    "df2 = DataFrame({'rkey': ['a', 'b', 'c', 'd'], 'data':range(4)})\n",
    "df3 = pd.merge(df1, df2, left_on = 'lkey', right_on = 'rkey', how='outer');\n",
    "print(\"df1 = \", df1)\n",
    "print(\"df2 = \", df2)\n",
    "print(\"df3 = \", df3)"
   ]
  },
  {
   "cell_type": "markdown",
   "metadata": {},
   "source": [
    "#### Join on index"
   ]
  },
  {
   "cell_type": "code",
   "execution_count": 13,
   "metadata": {},
   "outputs": [
    {
     "name": "stdout",
     "output_type": "stream",
     "text": [
      "left = \n",
      "    Ohio  Nevada\n",
      "a     1       2\n",
      "c     3       4\n",
      "e     5       6\n",
      "right = \n",
      "    Missouri  Alabama\n",
      "b         7        8\n",
      "c         9       10\n",
      "d        11       12\n",
      "e        13       14\n"
     ]
    },
    {
     "data": {
      "text/html": [
       "<div>\n",
       "<style scoped>\n",
       "    .dataframe tbody tr th:only-of-type {\n",
       "        vertical-align: middle;\n",
       "    }\n",
       "\n",
       "    .dataframe tbody tr th {\n",
       "        vertical-align: top;\n",
       "    }\n",
       "\n",
       "    .dataframe thead th {\n",
       "        text-align: right;\n",
       "    }\n",
       "</style>\n",
       "<table border=\"1\" class=\"dataframe\">\n",
       "  <thead>\n",
       "    <tr style=\"text-align: right;\">\n",
       "      <th></th>\n",
       "      <th>Ohio</th>\n",
       "      <th>Nevada</th>\n",
       "      <th>Missouri</th>\n",
       "      <th>Alabama</th>\n",
       "    </tr>\n",
       "  </thead>\n",
       "  <tbody>\n",
       "    <tr>\n",
       "      <th>a</th>\n",
       "      <td>1.0</td>\n",
       "      <td>2.0</td>\n",
       "      <td>NaN</td>\n",
       "      <td>NaN</td>\n",
       "    </tr>\n",
       "    <tr>\n",
       "      <th>b</th>\n",
       "      <td>NaN</td>\n",
       "      <td>NaN</td>\n",
       "      <td>7.0</td>\n",
       "      <td>8.0</td>\n",
       "    </tr>\n",
       "    <tr>\n",
       "      <th>c</th>\n",
       "      <td>3.0</td>\n",
       "      <td>4.0</td>\n",
       "      <td>9.0</td>\n",
       "      <td>10.0</td>\n",
       "    </tr>\n",
       "    <tr>\n",
       "      <th>d</th>\n",
       "      <td>NaN</td>\n",
       "      <td>NaN</td>\n",
       "      <td>11.0</td>\n",
       "      <td>12.0</td>\n",
       "    </tr>\n",
       "    <tr>\n",
       "      <th>e</th>\n",
       "      <td>5.0</td>\n",
       "      <td>6.0</td>\n",
       "      <td>13.0</td>\n",
       "      <td>14.0</td>\n",
       "    </tr>\n",
       "  </tbody>\n",
       "</table>\n",
       "</div>"
      ],
      "text/plain": [
       "   Ohio  Nevada  Missouri  Alabama\n",
       "a   1.0     2.0       NaN      NaN\n",
       "b   NaN     NaN       7.0      8.0\n",
       "c   3.0     4.0       9.0     10.0\n",
       "d   NaN     NaN      11.0     12.0\n",
       "e   5.0     6.0      13.0     14.0"
      ]
     },
     "execution_count": 13,
     "metadata": {},
     "output_type": "execute_result"
    }
   ],
   "source": [
    "from pandas import Series, DataFrame\n",
    "import pandas as pd\n",
    "import numpy as np\n",
    "from numpy import NaN\n",
    "left = DataFrame([[1,2],[3,4],[5,6]], index=['a', 'c', 'e'], columns=['Ohio', 'Nevada'])\n",
    "right = DataFrame([[7,8],[9,10],[11,12],[13,14]], index=['b', 'c', 'd', 'e'], columns=['Missouri', 'Alabama'])\n",
    "print(\"left = \\n\", left)\n",
    "print(\"right = \\n\", right)\n",
    "left.join(right, how='outer')"
   ]
  },
  {
   "cell_type": "markdown",
   "metadata": {},
   "source": [
    "#### Concatenating Along and Axis"
   ]
  },
  {
   "cell_type": "markdown",
   "metadata": {},
   "source": [
    "#### concat function argument\n",
    "| Argument | Description |\n",
    "| --- | --- |\n",
    "| objs | List or dict of pandas objects to be concatenated. The only required argument. |\n",
    "| axis | Axis to concatenate along; default to 0 |\n",
    "| join | One of 'inner', 'outer', defaulting to 'outer'; whether to intersection (inner) or union (outer) together indexes along the other axes |\n",
    "| join_axes | Specific indexes to use for the other n - 1 axes instead of performing union / intersection logic. |\n",
    "| keys | Values to associate with objects being concatenated, forming a hierachical index along the concatenation axis. Can either be a list or arrat of arbitrary values, an array of tuples. or a list of arrays (if multiple level arrays passed in levels) |\n",
    "| levels | Specific indexes to use as hierarchical index level or levels if keys passed. |\n",
    "| names | Names for created hierarchical levels if keys and / or levels passed. |\n",
    "| verify_integrity | Check new axis in concatenated object for duplicates and raise exception if so. By default (False) allows duplicates. |\n",
    "| ignore_index | Do not preserve indexes along concatenation axis, instead producing a new range (total_length) index |"
   ]
  },
  {
   "cell_type": "code",
   "execution_count": 23,
   "metadata": {},
   "outputs": [
    {
     "name": "stdout",
     "output_type": "stream",
     "text": [
      "pd.concat([s1, s2, s3], ignore_index=True)\n",
      "0    0\n",
      "1    1\n",
      "2    2\n",
      "3    3\n",
      "4    4\n",
      "5    5\n",
      "6    6\n",
      "dtype: int64\n",
      "pd.concat([s1, s2, s3], axis=1)\n",
      "     0    1    2\n",
      "a  0.0  NaN  NaN\n",
      "b  1.0  NaN  NaN\n",
      "c  NaN  2.0  NaN\n",
      "d  NaN  3.0  NaN\n",
      "e  NaN  4.0  NaN\n",
      "g  NaN  NaN  5.0\n",
      "f  NaN  NaN  6.0\n",
      "pd.concat([s1, s2, s3], axis=1, keys=['one', 'two', 'three'])\n",
      "   one  two  three\n",
      "a  0.0  NaN    NaN\n",
      "b  1.0  NaN    NaN\n",
      "c  NaN  2.0    NaN\n",
      "d  NaN  3.0    NaN\n",
      "e  NaN  4.0    NaN\n",
      "g  NaN  NaN    5.0\n",
      "f  NaN  NaN    6.0\n"
     ]
    }
   ],
   "source": [
    "from pandas import Series, DataFrame\n",
    "import pandas as pd\n",
    "import numpy as np\n",
    "from numpy import NaN\n",
    "s1 = Series([0, 1], index=['a', 'b'])\n",
    "s2 = Series([2, 3, 4], index=['c', 'd', 'e'])\n",
    "s3 = Series([5, 6], index=['g', 'f'])\n",
    "print(\"pd.concat([s1, s2, s3], ignore_index=True)\")\n",
    "s4 = pd.concat([s1, s2, s3], ignore_index=True)\n",
    "print(s4)\n",
    "print(\"pd.concat([s1, s2, s3], axis=1)\")\n",
    "s5 = pd.concat([s1, s2, s3], axis=1)\n",
    "print(s5)\n",
    "print(\"pd.concat([s1, s2, s3], axis=1, keys=['one', 'two', 'three'])\")\n",
    "s6 = pd.concat([s1, s2, s3], axis=1, keys=['one', 'two', 'three'])\n",
    "print(s6)"
   ]
  },
  {
   "cell_type": "markdown",
   "metadata": {},
   "source": [
    "#### Combination Data with Overlap"
   ]
  },
  {
   "cell_type": "code",
   "execution_count": 24,
   "metadata": {},
   "outputs": [
    {
     "name": "stdout",
     "output_type": "stream",
     "text": [
      "np.where(pd.notnull(a), a, b)\n",
      "[0.  2.5 2.  3.5 4.5 5. ]\n"
     ]
    }
   ],
   "source": [
    "from pandas import Series, DataFrame\n",
    "import pandas as pd\n",
    "import numpy as np\n",
    "a = Series([np.nan, 2.5, np.nan, 3.5, 4.5, np.nan], index=['a', 'b', 'c', 'd', 'e', 'f'])\n",
    "b = Series(np.arange(len(a), dtype=np.float64))\n",
    "c = np.where(pd.notnull(a), a, b)\n",
    "print(\"np.where(pd.notnull(a), a, b)\")\n",
    "print(c)"
   ]
  },
  {
   "cell_type": "markdown",
   "metadata": {},
   "source": [
    "### Reshaping and Pivoting\n",
    "\n",
    "#### stack() and unstack()"
   ]
  },
  {
   "cell_type": "code",
   "execution_count": 30,
   "metadata": {},
   "outputs": [
    {
     "name": "stdout",
     "output_type": "stream",
     "text": [
      "number    one  two  three\n",
      "state                    \n",
      "Ohio        0    1      2\n",
      "Colorado    3    4      5\n",
      "data.stack()\n",
      "state     number\n",
      "Ohio      one       0\n",
      "          two       1\n",
      "          three     2\n",
      "Colorado  one       3\n",
      "          two       4\n",
      "          three     5\n",
      "dtype: int32\n",
      "df1.unstack()\n",
      "number    one  two  three\n",
      "state                    \n",
      "Ohio        0    1      2\n",
      "Colorado    3    4      5\n",
      "df1.unstack(0)\n",
      "state   Ohio  Colorado\n",
      "number                \n",
      "one        0         3\n",
      "two        1         4\n",
      "three      2         5\n"
     ]
    }
   ],
   "source": [
    "from pandas import Series, DataFrame\n",
    "import pandas as pd\n",
    "import numpy as np\n",
    "data = DataFrame(np.arange(6).reshape((2,3)), \n",
    "                index=pd.Index(['Ohio', 'Colorado'], name='state'), \n",
    "                columns=pd.Index(['one', 'two', 'three'], name='number'))\n",
    "print(data)\n",
    "print(\"data.stack()\")\n",
    "df1 = data.stack()\n",
    "print(df1)\n",
    "# unstack inner level\n",
    "print(\"df1.unstack()\")\n",
    "df2 = df1.unstack()\n",
    "print(df2)\n",
    "# unstack outer level\n",
    "print(\"df1.unstack(0)\")\n",
    "df3 = df1.unstack(0)\n",
    "print(df3)"
   ]
  },
  {
   "cell_type": "markdown",
   "metadata": {},
   "source": [
    "#### Pivoting \"long\" to \"wide\" format"
   ]
  },
  {
   "cell_type": "code",
   "execution_count": 35,
   "metadata": {},
   "outputs": [
    {
     "name": "stdout",
     "output_type": "stream",
     "text": [
      "   sequence   item   values\n",
      "0         1    gdp  2710.00\n",
      "1         1   infl     0.00\n",
      "2         1  unemp     5.80\n",
      "3         2    gdp  2778.00\n",
      "4         2   infl     2.34\n",
      "5         2  unemp     5.10\n",
      "6         3    gdp  2775.00\n",
      "7         3   infl     2.74\n",
      "8         3  unemp     5.30\n",
      "item         gdp  infl  unemp\n",
      "sequence                     \n",
      "1         2710.0  0.00    5.8\n",
      "2         2778.0  2.34    5.1\n",
      "3         2775.0  2.74    5.3\n"
     ]
    }
   ],
   "source": [
    "from pandas import Series, DataFrame\n",
    "import pandas as pd\n",
    "data = {'sequence' : [1, 1, 1, 2, 2, 2, 3, 3, 3],\n",
    "        'item' : ['gdp', 'infl', 'unemp', 'gdp', 'infl', 'unemp', 'gdp', 'infl', 'unemp'],\n",
    "        'values' : [2710, 0.0, 5.8, 2778, 2.34, 5.10, 2775, 2.74, 5.3]\n",
    "        }\n",
    "df = DataFrame(data)\n",
    "print(df)\n",
    "pivoted = df.pivot(index='sequence', columns='item', values='values')\n",
    "print(pivoted)"
   ]
  },
  {
   "cell_type": "markdown",
   "metadata": {},
   "source": [
    "### Data Transformation"
   ]
  },
  {
   "cell_type": "markdown",
   "metadata": {},
   "source": [
    "#### Mapping data"
   ]
  },
  {
   "cell_type": "code",
   "execution_count": 53,
   "metadata": {},
   "outputs": [
    {
     "name": "stdout",
     "output_type": "stream",
     "text": [
      "          food  ounces  animal animal1\n",
      "0        bacon     4.0     pig     pig\n",
      "1  pulled pork     3.0     pig     pig\n",
      "2        bacon    12.0     pig     pig\n",
      "3     Pastrami     6.0     cow     cow\n",
      "4  corned beef     7.5     cow     cow\n",
      "5        Bacon     8.0     pig     pig\n",
      "6     pastrami     3.0     cow     cow\n",
      "7    honey ham     5.0     pig     pig\n",
      "8    noval lox     6.0  salmon  salmon\n"
     ]
    }
   ],
   "source": [
    "from pandas import Series, DataFrame\n",
    "import pandas as pd\n",
    "import numpy as np\n",
    "data = DataFrame({'food' : ['bacon', 'pulled pork', 'bacon', 'Pastrami', 'corned beef', \n",
    "                            'Bacon', 'pastrami', 'honey ham', 'noval lox'], \n",
    "                  'ounces' : [4, 3, 12, 6, 7.5, 8, 3, 5, 6]})\n",
    "\n",
    "meat_to_animal = {\n",
    "    'bacon': 'pig',\n",
    "    'pulled pork' : 'pig',\n",
    "    'pastrami' : 'cow',\n",
    "    'corned beef' : 'cow',\n",
    "    'honey ham' : 'pig',\n",
    "    'noval lox' : 'salmon'\n",
    "    }\n",
    "data['animal'] = data['food'].map(lambda x : meat_to_animal[x.lower()])\n",
    "data['animal1'] = data['food'].map(str.lower).map(meat_to_animal)\n",
    "print(data)"
   ]
  },
  {
   "cell_type": "markdown",
   "metadata": {},
   "source": [
    "#### Replacing values"
   ]
  },
  {
   "cell_type": "code",
   "execution_count": 59,
   "metadata": {},
   "outputs": [
    {
     "name": "stdout",
     "output_type": "stream",
     "text": [
      "0       1.0\n",
      "1    -999.0\n",
      "2       2.0\n",
      "3    -999.0\n",
      "4   -1000.0\n",
      "5       3.0\n",
      "dtype: float64\n",
      "data.replace([-999, -1000], [0, 0])\n",
      "0    1.0\n",
      "1    0.0\n",
      "2    2.0\n",
      "3    0.0\n",
      "4    0.0\n",
      "5    3.0\n",
      "dtype: float64\n",
      "np.where(data < 0, 0, data)\n",
      "0    1.0\n",
      "1    0.0\n",
      "2    2.0\n",
      "3    0.0\n",
      "4    0.0\n",
      "5    3.0\n",
      "dtype: float64\n"
     ]
    }
   ],
   "source": [
    "from pandas import Series\n",
    "import numpy as np\n",
    "data = Series([1., -999., 2, -999., -1000, 3])\n",
    "print(data)\n",
    "print(\"data.replace([-999, -1000], [0, 0])\")\n",
    "df1 = data.replace([-999, -1000], [0, 0])\n",
    "print(df1)\n",
    "print(\"np.where(data < 0, 0, data)\")\n",
    "df2 = Series(np.where(data < 0, 0, data))\n",
    "print(df2)"
   ]
  },
  {
   "cell_type": "markdown",
   "metadata": {},
   "source": [
    "#### Rename Axis Indexes"
   ]
  },
  {
   "cell_type": "code",
   "execution_count": 64,
   "metadata": {},
   "outputs": [
    {
     "name": "stdout",
     "output_type": "stream",
     "text": [
      "          One  Two  Three  Four\n",
      "OHIO        0    1      2     3\n",
      "COLORADO    4    5      6     7\n",
      "NEW YORK    8    9     10    11\n"
     ]
    }
   ],
   "source": [
    "from pandas import Series, DataFrame\n",
    "import pandas as pd\n",
    "import numpy as np\n",
    "data = DataFrame(np.arange(12).reshape((3,4)), \n",
    "                 index=['Ohio', 'Colorado', 'New York'],\n",
    "                 columns=['one', 'two', 'three', 'four'])\n",
    "data.index = data.index.map(str.upper)\n",
    "data.columns = data.columns.map(str.title)\n",
    "print(data) "
   ]
  },
  {
   "cell_type": "markdown",
   "metadata": {},
   "source": [
    "#### Discretization and Binning"
   ]
  },
  {
   "cell_type": "code",
   "execution_count": 66,
   "metadata": {},
   "outputs": [
    {
     "name": "stdout",
     "output_type": "stream",
     "text": [
      "['Youth', 'Youth', 'YoungAdult', 'YoungAdult', 'Youth', ..., 'YoungAdult', 'Senior', 'MiddleAged', 'MiddleAged', 'YoungAdult']\n",
      "Length: 12\n",
      "Categories (4, object): ['Youth' < 'YoungAdult' < 'MiddleAged' < 'Senior']\n"
     ]
    }
   ],
   "source": [
    "from pandas import Series, DataFrame\n",
    "import pandas as pd\n",
    "import numpy as np\n",
    "ages = [20, 22, 25, 27, 21, 23, 37, 31, 61, 45, 41, 32]\n",
    "bins = [18, 25, 35, 60, 100]\n",
    "groups = [\"Youth\", \"YoungAdult\", \"MiddleAged\", \"Senior\"]\n",
    "df1 = pd.cut(ages, bins, labels=groups, right=False) \n",
    "print(df1)"
   ]
  },
  {
   "cell_type": "markdown",
   "metadata": {},
   "source": [
    "#### Detect and Filter"
   ]
  },
  {
   "cell_type": "code",
   "execution_count": 96,
   "metadata": {},
   "outputs": [
    {
     "name": "stdout",
     "output_type": "stream",
     "text": [
      "    0   1   2\n",
      "3   9  10  11\n",
      "4  12  13  14\n",
      "5  15  16  17\n"
     ]
    }
   ],
   "source": [
    "from pandas import Series, DataFrame\n",
    "import pandas as pd\n",
    "import numpy as np\n",
    "data = DataFrame(np.arange(18).reshape((6,3)))\n",
    "print(data[data[2]>10])"
   ]
  },
  {
   "cell_type": "markdown",
   "metadata": {},
   "source": [
    "#### Computing Indicator / Dummy Variables"
   ]
  },
  {
   "cell_type": "code",
   "execution_count": 98,
   "metadata": {},
   "outputs": [
    {
     "data": {
      "text/html": [
       "<div>\n",
       "<style scoped>\n",
       "    .dataframe tbody tr th:only-of-type {\n",
       "        vertical-align: middle;\n",
       "    }\n",
       "\n",
       "    .dataframe tbody tr th {\n",
       "        vertical-align: top;\n",
       "    }\n",
       "\n",
       "    .dataframe thead th {\n",
       "        text-align: right;\n",
       "    }\n",
       "</style>\n",
       "<table border=\"1\" class=\"dataframe\">\n",
       "  <thead>\n",
       "    <tr style=\"text-align: right;\">\n",
       "      <th></th>\n",
       "      <th>a</th>\n",
       "      <th>b</th>\n",
       "      <th>c</th>\n",
       "    </tr>\n",
       "  </thead>\n",
       "  <tbody>\n",
       "    <tr>\n",
       "      <th>0</th>\n",
       "      <td>False</td>\n",
       "      <td>True</td>\n",
       "      <td>False</td>\n",
       "    </tr>\n",
       "    <tr>\n",
       "      <th>1</th>\n",
       "      <td>False</td>\n",
       "      <td>True</td>\n",
       "      <td>False</td>\n",
       "    </tr>\n",
       "    <tr>\n",
       "      <th>2</th>\n",
       "      <td>True</td>\n",
       "      <td>False</td>\n",
       "      <td>False</td>\n",
       "    </tr>\n",
       "    <tr>\n",
       "      <th>3</th>\n",
       "      <td>False</td>\n",
       "      <td>False</td>\n",
       "      <td>True</td>\n",
       "    </tr>\n",
       "    <tr>\n",
       "      <th>4</th>\n",
       "      <td>True</td>\n",
       "      <td>False</td>\n",
       "      <td>False</td>\n",
       "    </tr>\n",
       "    <tr>\n",
       "      <th>5</th>\n",
       "      <td>False</td>\n",
       "      <td>True</td>\n",
       "      <td>False</td>\n",
       "    </tr>\n",
       "  </tbody>\n",
       "</table>\n",
       "</div>"
      ],
      "text/plain": [
       "       a      b      c\n",
       "0  False   True  False\n",
       "1  False   True  False\n",
       "2   True  False  False\n",
       "3  False  False   True\n",
       "4   True  False  False\n",
       "5  False   True  False"
      ]
     },
     "execution_count": 98,
     "metadata": {},
     "output_type": "execute_result"
    }
   ],
   "source": [
    "from pandas import Series, DataFrame\n",
    "import pandas as pd\n",
    "import numpy as np\n",
    "df = DataFrame({'key' : ['b', 'b', 'a', 'c', 'a', 'b'],\n",
    "                  'data1' :range(6)})\n",
    "pd.get_dummies(df['key'])"
   ]
  }
 ],
 "metadata": {
  "kernelspec": {
   "display_name": "venv",
   "language": "python",
   "name": "python3"
  },
  "language_info": {
   "codemirror_mode": {
    "name": "ipython",
    "version": 3
   },
   "file_extension": ".py",
   "mimetype": "text/x-python",
   "name": "python",
   "nbconvert_exporter": "python",
   "pygments_lexer": "ipython3",
   "version": "3.11.7"
  },
  "orig_nbformat": 4
 },
 "nbformat": 4,
 "nbformat_minor": 2
}
