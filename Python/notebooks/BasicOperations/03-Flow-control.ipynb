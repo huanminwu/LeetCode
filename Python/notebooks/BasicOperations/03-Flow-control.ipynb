{
 "cells": [
  {
   "attachments": {},
   "cell_type": "markdown",
   "metadata": {},
   "source": [
    "# Flow Control\n",
    "In this notebook we will learn for, if-else, while, break and continue."
   ]
  },
  {
   "attachments": {},
   "cell_type": "markdown",
   "metadata": {},
   "source": [
    "## For loop\n",
    "Let's use for statement to generate a list of integers."
   ]
  },
  {
   "cell_type": "code",
   "execution_count": 5,
   "metadata": {},
   "outputs": [
    {
     "name": "stdout",
     "output_type": "stream",
     "text": [
      "print numbers from 1 to 6\n",
      "1\n",
      "2\n",
      "3\n",
      "4\n",
      "5\n"
     ]
    }
   ],
   "source": [
    "# print(\"print numbers from 1 to 5\")\n",
    "print(\"print numbers from 1 to 5\")\n",
    "for value in range(1, 6):\n",
    "    print(value)"
   ]
  },
  {
   "cell_type": "code",
   "execution_count": 6,
   "metadata": {},
   "outputs": [
    {
     "name": "stdout",
     "output_type": "stream",
     "text": [
      "\n",
      "\n",
      "print odd numbers from 1 to 6\n",
      "1\n",
      "3\n",
      "5\n"
     ]
    }
   ],
   "source": [
    "# print(\"print odd numbers from 1 to 5\")\n",
    "print(\"\\n\")\n",
    "print(\"print odd numbers from 1 to 5\")\n",
    "for value in range(1, 6, 2):\n",
    "    print(value)"
   ]
  },
  {
   "cell_type": "code",
   "execution_count": 9,
   "metadata": {},
   "outputs": [
    {
     "name": "stdout",
     "output_type": "stream",
     "text": [
      "\n",
      "\n",
      "print numbers from 6 to 1\n",
      "6\n",
      "5\n",
      "4\n",
      "3\n",
      "2\n",
      "1\n"
     ]
    }
   ],
   "source": [
    "# print(\"print numbers from 6 to 1\")\n",
    "print(\"\\n\")\n",
    "print(\"print numbers from 6 to 1\")\n",
    "for value in range(6, 0, -1):\n",
    "    print(value)"
   ]
  },
  {
   "cell_type": "code",
   "execution_count": 8,
   "metadata": {},
   "outputs": [
    {
     "name": "stdout",
     "output_type": "stream",
     "text": [
      "[1, 4, 9, 16, 25, 36, 49, 64, 81, 100]\n"
     ]
    }
   ],
   "source": [
    "# generate a square values for 1 to 10\n",
    "squares = []\n",
    "for value in range(1,11,1):\n",
    "    squares.append(value ** 2)\n",
    "print(squares)"
   ]
  },
  {
   "cell_type": "code",
   "execution_count": 11,
   "metadata": {},
   "outputs": [
    {
     "name": "stdout",
     "output_type": "stream",
     "text": [
      "[1, 4, 9, 16, 25, 36, 49, 64, 81, 100]\n"
     ]
    }
   ],
   "source": [
    "# generate a square values for 1 to 10\n",
    "squares = [value ** 2 for value in range(1, 11)]\n",
    "print(squares)"
   ]
  },
  {
   "attachments": {},
   "cell_type": "markdown",
   "metadata": {},
   "source": [
    "#### Observation\n",
    "1. The range can have start, end and step value, step value if not given by default it is 1.\n",
    "2. end value will not be reachable, so from the math point of view, we can see the range as [start, end).\n",
    "3. step value can be positive or negative."
   ]
  },
  {
   "attachments": {},
   "cell_type": "markdown",
   "metadata": {},
   "source": [
    "## If Else\n",
    "The if-else statement will control the logic flow ."
   ]
  },
  {
   "cell_type": "code",
   "execution_count": 17,
   "metadata": {},
   "outputs": [
    {
     "name": "stdout",
     "output_type": "stream",
     "text": [
      "Audi\n",
      "BMW\n",
      "Subaru\n",
      "Toyota\n"
     ]
    }
   ],
   "source": [
    "# make the car brand correct\n",
    "cars = ['audi', 'bmw', 'subaru', 'toyota']\n",
    "for car in cars:\n",
    "    if car == 'bmw':\n",
    "        print(car.upper())\n",
    "    else:\n",
    "        print(car.title())\n"
   ]
  },
  {
   "cell_type": "code",
   "execution_count": null,
   "metadata": {},
   "outputs": [],
   "source": [
    "# check not equal\n",
    "car = 'toyota'\n",
    "if car != 'bmw':\n",
    "    print('This is not my favorite car')\n"
   ]
  },
  {
   "cell_type": "code",
   "execution_count": 16,
   "metadata": {},
   "outputs": [
    {
     "name": "stdout",
     "output_type": "stream",
     "text": [
      "True\n",
      "False\n"
     ]
    }
   ],
   "source": [
    "# print a boolean vale\n",
    "car = 'toyota'\n",
    "print(car != 'bmw')\n",
    "print(car == 'bmw')\n",
    "\n"
   ]
  },
  {
   "cell_type": "code",
   "execution_count": 18,
   "metadata": {},
   "outputs": [
    {
     "name": "stdout",
     "output_type": "stream",
     "text": [
      "False\n",
      "True\n"
     ]
    }
   ],
   "source": [
    "# Check if  a value in the collection or not\n",
    "requested_toppings = ['mushrooms', 'onions', 'pineapple']\n",
    "print('mushroom' in requested_toppings)\n",
    "print('mushroom' not in requested_toppings)\n"
   ]
  },
  {
   "cell_type": "code",
   "execution_count": 22,
   "metadata": {},
   "outputs": [
    {
     "name": "stdout",
     "output_type": "stream",
     "text": [
      "Your admission cost is 25\n"
     ]
    }
   ],
   "source": [
    "# if-elif-else\n",
    "age = 12\n",
    "if age < 4 :\n",
    "    cost = 0\n",
    "elif age < 18:\n",
    "    cost = 25\n",
    "elif age > 65:\n",
    "    cost = 20\n",
    "else:\n",
    "    cost = 40\n",
    "print('Your admission cost is ' + str(cost))"
   ]
  },
  {
   "attachments": {},
   "cell_type": "markdown",
   "metadata": {},
   "source": [
    "#### Observation\n",
    "1. To determine if two values are equal, we use ==, if not equal we use !=.\n",
    "2. For if-else, we end each part by ':' and put the block of logic below with indent, this is same as for statement.\n",
    "3. if-else can be multi-levels with elif\n",
    "4. The boolean value is True and False, please watch the upper case in the front.\n"
   ]
  },
  {
   "attachments": {},
   "cell_type": "markdown",
   "metadata": {},
   "source": [
    "## While loop\n",
    "While loop will run until condition fails or get break."
   ]
  },
  {
   "cell_type": "code",
   "execution_count": 10,
   "metadata": {},
   "outputs": [
    {
     "name": "stdout",
     "output_type": "stream",
     "text": [
      "sum = 16\n"
     ]
    }
   ],
   "source": [
    "# sum = 1 + 3 + 5 + 7\n",
    "number = 0\n",
    "sum = 0\n",
    "while number < 11 :\n",
    "    number = number + 1\n",
    "    if number % 9 == 0 :\n",
    "        break\n",
    "    if number % 2 == 0 :\n",
    "        continue\n",
    "    sum += number\n",
    "print('sum = ' + str(sum))"
   ]
  },
  {
   "cell_type": "code",
   "execution_count": 11,
   "metadata": {},
   "outputs": [
    {
     "name": "stdout",
     "output_type": "stream",
     "text": [
      "['dog', 'cat', 'dog', 'goldfish', 'cat', 'rabbit', 'cat']\n",
      "['dog', 'dog', 'goldfish', 'rabbit']\n"
     ]
    }
   ],
   "source": [
    "# remove specific value in an array\n",
    "pets = ['dog', 'cat', 'dog', 'goldfish', 'cat', 'rabbit', 'cat']\n",
    "print(pets)\n",
    "while 'cat' in pets :\n",
    "    pets.remove('cat')\n",
    "print(pets)"
   ]
  },
  {
   "attachments": {},
   "cell_type": "markdown",
   "metadata": {},
   "source": [
    "#### Observation\n",
    "1. break will break from the loop and continue will skip all the statement remaining in the loop.\n"
   ]
  }
 ],
 "metadata": {
  "kernelspec": {
   "display_name": "venv",
   "language": "python",
   "name": "python3"
  },
  "language_info": {
   "codemirror_mode": {
    "name": "ipython",
    "version": 3
   },
   "file_extension": ".py",
   "mimetype": "text/x-python",
   "name": "python",
   "nbconvert_exporter": "python",
   "pygments_lexer": "ipython3",
   "version": "3.11.4"
  },
  "orig_nbformat": 4
 },
 "nbformat": 4,
 "nbformat_minor": 2
}
