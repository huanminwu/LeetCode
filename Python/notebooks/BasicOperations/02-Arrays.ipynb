{
 "cells": [
  {
   "attachments": {},
   "cell_type": "markdown",
   "metadata": {},
   "source": [
    "# Array\n",
    "In this notebook we will study arrays."
   ]
  },
  {
   "attachments": {},
   "cell_type": "markdown",
   "metadata": {},
   "source": [
    "### Create an array\n",
    "Let's look at some bicycle types."
   ]
  },
  {
   "cell_type": "code",
   "execution_count": 19,
   "metadata": {},
   "outputs": [
    {
     "name": "stdout",
     "output_type": "stream",
     "text": [
      "['trek', 'cannondale', 'redline', 'specialized']\n",
      "cannondale\n",
      "trek\n",
      "specialized\n",
      "My first bicycle was a Trek\n"
     ]
    }
   ],
   "source": [
    "# get a list of bicycle types. \n",
    "bicycles = ['trek', 'cannondale', 'redline', 'specialized']\n",
    "print(bicycles)\n",
    "\n",
    "# Get one bicycle.\n",
    "print(bicycles[1])\n",
    "print(bicycles[0])\n",
    "print(bicycles[-1])\n",
    "\n",
    "print(\"My first bicycle was a \" + bicycles[0].title())"
   ]
  },
  {
   "attachments": {},
   "cell_type": "markdown",
   "metadata": {},
   "source": [
    "#### Observation\n",
    "1. The array is within '[' and ']' and the elements are delimited by ','. \n",
    "2. The index of array starts with 0, instead of 1.\n",
    "3. We can use -k to indicate the last several elements in the array, -1 is the last one. \n",
    "4. You can not refer to an element with the index beyond the range, for example if the array is empty, then you cannot say arr[-1]."
   ]
  },
  {
   "attachments": {},
   "cell_type": "markdown",
   "metadata": {},
   "source": [
    "### Update array\n",
    "In this section we will learn how to add, remove or replace an element in an array."
   ]
  },
  {
   "cell_type": "code",
   "execution_count": 20,
   "metadata": {},
   "outputs": [
    {
     "name": "stdout",
     "output_type": "stream",
     "text": [
      "['BMW', 'Mercedes-Benz', 'Ford', 'Lincoln', 'Honda', 'Toyota']\n",
      "['BMW', 'Mercedes-Benz', 'Ford', 'Lincoln', 'Honda', 'Toyota', 'Tesla']\n",
      "['BYD', 'BMW', 'Mercedes-Benz', 'Ford', 'Lincoln', 'Honda', 'Toyota', 'Tesla']\n",
      "['BMW', 'Mercedes-Benz', 'Ford', 'Lincoln', 'Honda', 'Toyota', 'Tesla']\n",
      "['BMW', 'Mercedes-Benz', 'Ford', 'Lincoln', 'Honda', 'Toyota']\n",
      "My car is Tesla\n",
      "['BMW', 'Mercedes-Benz', 'Lincoln', 'Honda', 'Toyota']\n",
      "My car is Ford\n",
      "Total cars is 6\n",
      "['BMW', 'Mercedes-Benz', 'Maserati', 'Lincoln', 'Honda', 'Toyota']\n",
      "Remaining cars is 5\n"
     ]
    }
   ],
   "source": [
    "# initialize array\n",
    "cars = ['BMW', 'Mercedes-Benz', 'Ford', 'Cadillac', 'Honda', 'Toyota']\n",
    "\n",
    "# replace cars\n",
    "cars[3] = 'Lincoln'\n",
    "print(cars)\n",
    "\n",
    "# Append a new car.\n",
    "cars.append('Tesla')\n",
    "print(cars)\n",
    "\n",
    "# Insert a new car.\n",
    "cars.insert(0, 'BYD')\n",
    "print(cars)\n",
    "\n",
    "# Remove a car by name\n",
    "cars.remove('BYD')\n",
    "print(cars)\n",
    "\n",
    "# Remove a car in the end\n",
    "my_car = cars.pop()\n",
    "print(cars)\n",
    "print('My car is {car}'.format(car=my_car))\n",
    "\n",
    "# Remove a car by index\n",
    "my_car = cars.pop(2)\n",
    "print(cars)\n",
    "print('My car is {car}'.format(car=my_car))\n",
    "\n",
    "# Remove a car by index\n",
    "my_car = cars.insert(2, 'Maserati')\n",
    "too_expensive = 'Maserati'\n",
    "print(\"Total cars is {count}\".format(count=len(cars)))\n",
    "print(cars)\n",
    "cars.remove(too_expensive)\n",
    "print('Remaining cars is {count}'.format(count=len(cars)))"
   ]
  },
  {
   "attachments": {},
   "cell_type": "markdown",
   "metadata": {},
   "source": [
    "#### Observation \n",
    "1. You can assign a element by index.\n",
    "2. You can append an element in the end or insert an element before any position.\n",
    "3. You can remove an element by index using pop() or remove an element by value using remove()\n",
    "4. You can get the count of elements in an array by using len()"
   ]
  },
  {
   "attachments": {},
   "cell_type": "markdown",
   "metadata": {},
   "source": [
    "### Operate on Array\n",
    "In this section, we will learn how to sort and reverse the array."
   ]
  },
  {
   "cell_type": "code",
   "execution_count": 21,
   "metadata": {},
   "outputs": [
    {
     "name": "stdout",
     "output_type": "stream",
     "text": [
      "['BMW', 'Cadillac', 'Ford', 'Honda', 'Mercedes-Benz', 'Toyota']\n",
      "['BMW', 'Mercedes-Benz', 'Ford', 'Cadillac', 'Honda', 'Toyota']\n",
      "['BMW', 'Cadillac', 'Ford', 'Honda', 'Mercedes-Benz', 'Toyota']\n",
      "['Toyota', 'Mercedes-Benz', 'Honda', 'Ford', 'Cadillac', 'BMW']\n",
      "['BMW', 'Mercedes-Benz', 'Ford', 'Cadillac', 'Honda', 'Toyota']\n",
      "['Toyota', 'Honda', 'Cadillac', 'Ford', 'Mercedes-Benz', 'BMW']\n",
      "Total cars is 6\n"
     ]
    }
   ],
   "source": [
    "# initialize array\n",
    "cars = ['BMW', 'Mercedes-Benz', 'Ford', 'Cadillac', 'Honda', 'Toyota']\n",
    "# print it in order\n",
    "print(sorted(cars))\n",
    "print(cars)\n",
    "\n",
    "# sort it\n",
    "cars.sort()\n",
    "print(cars)\n",
    "# sort it in reverse order\n",
    "cars.sort(reverse=True)\n",
    "print(cars)\n",
    "\n",
    "# reverse array\n",
    "cars = ['BMW', 'Mercedes-Benz', 'Ford', 'Cadillac', 'Honda', 'Toyota']\n",
    "print(cars)\n",
    "cars.reverse()\n",
    "print(cars)\n",
    "print(\"Total cars is {count}\".format(count=len(cars)))\n"
   ]
  },
  {
   "attachments": {},
   "cell_type": "markdown",
   "metadata": {},
   "source": [
    "#### Observation \n",
    "1. sorted() function will not change the order of elements in the original array.\n",
    "2. sort() and reverse() will change the order of element in array.\n",
    "3. len() will return the count of elements in the array."
   ]
  },
  {
   "attachments": {},
   "cell_type": "markdown",
   "metadata": {},
   "source": [
    "### Iterate on Array\n",
    "We can use \"for\" statement to iterate on an array."
   ]
  },
  {
   "cell_type": "code",
   "execution_count": 22,
   "metadata": {},
   "outputs": [
    {
     "name": "stdout",
     "output_type": "stream",
     "text": [
      "Iterate by elements !!!\n",
      "BMW\n",
      "I llike BMW\n",
      "Mercedes-Benz\n",
      "I llike MERCEDES-BENZ\n",
      "Ford\n",
      "I llike FORD\n",
      "Cadillac\n",
      "I llike CADILLAC\n",
      "Honda\n",
      "I llike HONDA\n",
      "Toyota\n",
      "I llike TOYOTA\n"
     ]
    }
   ],
   "source": [
    "# initialize array\n",
    "print('Iterate by elements !!!')\n",
    "cars = ['BMW', 'Mercedes-Benz', 'Ford', 'Cadillac', 'Honda', 'Toyota']\n",
    "for car in cars:\n",
    "    print(car)\n",
    "    print('I llike ' + car.upper())"
   ]
  },
  {
   "cell_type": "code",
   "execution_count": 23,
   "metadata": {},
   "outputs": [
    {
     "name": "stdout",
     "output_type": "stream",
     "text": [
      "Iterate by index !!!\n",
      "BMW\n",
      "I llike BMW\n",
      "Mercedes-Benz\n",
      "I llike MERCEDES-BENZ\n",
      "Ford\n",
      "I llike FORD\n",
      "Cadillac\n",
      "I llike CADILLAC\n",
      "Honda\n",
      "I llike HONDA\n",
      "Toyota\n",
      "I llike TOYOTA\n"
     ]
    }
   ],
   "source": [
    "print('Iterate by index !!!')\n",
    "cars = ['BMW', 'Mercedes-Benz', 'Ford', 'Cadillac', 'Honda', 'Toyota']\n",
    "for index in range(0, len(cars)):\n",
    "    print(cars[index])\n",
    "    print('I llike ' + cars[index].upper())\n"
   ]
  },
  {
   "attachments": {},
   "cell_type": "markdown",
   "metadata": {},
   "source": [
    "#### Observation \n",
    "1. for and in are keywords.\n",
    "2. we need a ':' at the end of for statement. It means the statement does not finish in this line.\n",
    "3. we have an indent below the for line, here we can have one or multiple lines of statement, each perform one action.\n",
    "4. We can also iterate the array by index, but remember the range starts with 0 and ends with length (largest index + 1)."
   ]
  },
  {
   "attachments": {},
   "cell_type": "markdown",
   "metadata": {},
   "source": [
    "### Calculate on numeric array\n",
    "We can do min, max and sum from a numeric array."
   ]
  },
  {
   "cell_type": "code",
   "execution_count": 24,
   "metadata": {},
   "outputs": [
    {
     "name": "stdout",
     "output_type": "stream",
     "text": [
      "[1, 2, 3, 4, 5, 6, 7, 8, 9, 10]\n",
      "1\n",
      "10\n",
      "55\n"
     ]
    }
   ],
   "source": [
    "digits = [1,2,3,4,5,6,7,8,9,10]\n",
    "print(digits)\n",
    "print(min(digits))\n",
    "print(max(digits))\n",
    "print(sum(digits))"
   ]
  },
  {
   "attachments": {},
   "cell_type": "markdown",
   "metadata": {},
   "source": [
    "### Get slice of array\n",
    "We can do min, max and sum from a numeric array."
   ]
  },
  {
   "cell_type": "code",
   "execution_count": 25,
   "metadata": {},
   "outputs": [
    {
     "name": "stdout",
     "output_type": "stream",
     "text": [
      "['BMW', 'Mercedes-Benz', 'Ford', 'Cadillac', 'Honda', 'Toyota']\n",
      "['Ford', 'Cadillac']\n",
      "['BMW', 'Mercedes-Benz']\n",
      "['Honda', 'Toyota']\n"
     ]
    }
   ],
   "source": [
    "# initialize array\n",
    "cars = ['BMW', 'Mercedes-Benz', 'Ford', 'Cadillac', 'Honda', 'Toyota']\n",
    "print(cars)\n",
    "\n",
    "# get slice of array\n",
    "a, b = 2, 4\n",
    "american_cars = cars[a:b]\n",
    "print(american_cars)\n",
    "\n",
    "german_cars = cars[:2]\n",
    "print(german_cars)\n",
    "\n",
    "japanese_cars = cars[-2:]\n",
    "print(japanese_cars)\n"
   ]
  },
  {
   "attachments": {},
   "cell_type": "markdown",
   "metadata": {},
   "source": [
    "### Copy array\n",
    "If we assign an array to another variable, we clone the reference, so one get changed, another also get changed.\n",
    "But if we copy array by slice, the whole array is cloned."
   ]
  },
  {
   "cell_type": "code",
   "execution_count": 26,
   "metadata": {},
   "outputs": [
    {
     "name": "stdout",
     "output_type": "stream",
     "text": [
      "['BMW', 'Mercedes-Benz', 'Ford', 'Cadillac', 'Honda', 'Toyota']\n",
      "['BMW', 'Mercedes-Benz', 'Ford', 'Cadillac', 'Honda', 'Toyota', 'Audi']\n",
      "['BMW', 'Mercedes-Benz', 'Ford', 'Cadillac', 'Honda', 'Toyota', 'Audi', 'buick']\n"
     ]
    }
   ],
   "source": [
    "# initialize array\n",
    "my_cars = ['BMW', 'Mercedes-Benz', 'Ford', 'Cadillac', 'Honda', 'Toyota']\n",
    "\n",
    "# we clone the reference of array\n",
    "friend_cars = my_cars\n",
    "print(friend_cars)\n",
    "my_cars.append('Audi')\n",
    "print(friend_cars)\n",
    "friend_cars.append('buick')\n",
    "print(my_cars)"
   ]
  },
  {
   "cell_type": "code",
   "execution_count": 27,
   "metadata": {},
   "outputs": [
    {
     "name": "stdout",
     "output_type": "stream",
     "text": [
      "['BMW', 'Mercedes-Benz', 'Ford', 'Cadillac', 'Honda', 'Toyota']\n",
      "['BMW', 'Mercedes-Benz', 'Ford', 'Cadillac', 'Honda', 'Toyota']\n",
      "['BMW', 'Mercedes-Benz', 'Ford', 'Cadillac', 'Honda', 'Toyota', 'Audi']\n"
     ]
    }
   ],
   "source": [
    "# initialize array\n",
    "my_cars = ['BMW', 'Mercedes-Benz', 'Ford', 'Cadillac', 'Honda', 'Toyota']\n",
    "\n",
    "# we clone the instance of array\n",
    "friend_cars = my_cars[:]\n",
    "print(friend_cars)\n",
    "my_cars.append('Audi')\n",
    "print(friend_cars)\n",
    "friend_cars.append('buick')\n",
    "print(my_cars)"
   ]
  }
 ],
 "metadata": {
  "kernelspec": {
   "display_name": "venv",
   "language": "python",
   "name": "python3"
  },
  "language_info": {
   "codemirror_mode": {
    "name": "ipython",
    "version": 3
   },
   "file_extension": ".py",
   "mimetype": "text/x-python",
   "name": "python",
   "nbconvert_exporter": "python",
   "pygments_lexer": "ipython3",
   "version": "3.11.4"
  },
  "orig_nbformat": 4
 },
 "nbformat": 4,
 "nbformat_minor": 2
}
