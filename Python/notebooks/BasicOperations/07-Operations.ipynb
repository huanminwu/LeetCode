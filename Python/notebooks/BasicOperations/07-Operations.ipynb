{
 "cells": [
  {
   "attachments": {},
   "cell_type": "markdown",
   "metadata": {},
   "source": [
    "# Operations\n",
    "In this notebook we will study different type of operations."
   ]
  },
  {
   "attachments": {},
   "cell_type": "markdown",
   "metadata": {},
   "source": [
    "### Math Operations\n",
    "\n",
    "\n",
    "| Operation | Result | Notes | \n",
    "| --- | --- | --- |\n",
    "| x + y | sum of x and y |  |\n",
    "| x - y | difference of x and y | |\n",
    "| x * y | product of x and y | |\n",
    "| x / y | quotient (商) of x and y | |\n",
    "| x // y | floored quotient of x and y | (1) |\n",
    "| x % y | remainder of x / y | (2) |\n",
    "| -x | x negated | | \n",
    "| +x | x unchanged | |\n",
    "| abs(x) | absolute value or magnitude of x | |\n",
    "| int(x) | x converted to integer | (3)(6) | \n",
    "| float(x) | x converted to floating point | (4)(6) |\n",
    "| complex(re, im) | a complex number with real part re, imaginary part im. im defaults to zero. | (6) |\n",
    "| c.conjugate() | conjugate of the complex number c | |\n",
    "| divmod(x, y) | the pair (x // y, x % y) | (2) |\n",
    "| pow(x, y) | x to the power y | (5) |\n",
    "| x ** y | x to the power y | (5) |\n",
    "\n",
    "Notes:\n",
    "\n",
    "1. Also referred to as integer division. The resultant value is a whole integer, though the result’s type is not necessarily int. The result is always rounded towards minus infinity: 1//2 is 0, (-1)//2 is -1, 1//(-2) is -1, and (-1)//(-2) is 0.\n",
    "\n",
    "2. Not for complex numbers. Instead convert to floats using abs() if appropriate.\n",
    "\n",
    "3. Conversion from float to int truncates, discarding the fractional part. See functions math.floor() and math.ceil() for alternative conversions.\n",
    "\n",
    "4. float also accepts the strings “nan” and “inf” with an optional prefix “+” or “-” for Not a Number (NaN) and positive or negative infinity.\n",
    "\n",
    "5. Python defines pow(0, 0) and 0 ** 0 to be 1, as is common for programming languages.\n",
    "\n",
    "6. The numeric literals accepted include the digits 0 to 9 or any Unicode equivalent (code points with the Nd property).\n",
    "\n",
    "See https://www.unicode.org/Public/14.0.0/ucd/extracted/DerivedNumericType.txt for a complete list of code points with the Nd property.\n",
    "\n",
    "All numbers.Real types (int and float) also include the following operations:\n",
    "\n",
    "| Operation | Result |\n",
    "| --- | --- |\n",
    "|  math.trunc(x)  |  x truncated to Integral  |\n",
    "|  round(x[, n])  |  x rounded to n digits, rounding half to even. If n is omitted, it defaults to 0. |\n",
    "|  math.floor(x)  |  the greatest Integral <= x  |\n",
    "|  math.ceil(x)  |  the least Integral >= x  |\n",
    "\n",
    "For additional numeric operations see the math and cmath modules."
   ]
  },
  {
   "cell_type": "code",
   "execution_count": 9,
   "metadata": {},
   "outputs": [
    {
     "name": "stdout",
     "output_type": "stream",
     "text": [
      "7/2 = 3.5\n",
      "7 // 2 = 3\n",
      "100 % 3 = 1\n",
      "divmod(100, 3) = 33,1\n"
     ]
    }
   ],
   "source": [
    "# division to get float result\n",
    "print('7 / 2 = ' + str(7/2))\n",
    "\n",
    "# division to get integer result only\n",
    "print('7 // 2 = ' + str(7 // 2))\n",
    "\n",
    "# get mod value\n",
    "print('100 % 3 = ' + str(100 % 3))\n",
    "\n",
    "# get quotient and remainder\n",
    "(a, b) = divmod(100, 3)\n",
    "print('divmod(100, 3) = ' + str(a) + ',' + str(b))\n",
    "\n"
   ]
  },
  {
   "attachments": {},
   "cell_type": "markdown",
   "metadata": {},
   "source": [
    "### Bitwise Operations on Integer Types\n",
    "\n",
    "Bitwise operations only make sense for integers. The result of bitwise operations is calculated as though carried out in two’s complement with an infinite number of sign bits.\n",
    "\n",
    "The priorities of the binary bitwise operations are all lower than the numeric operations and higher than the comparisons; the unary operation ~ has the same priority as the other unary numeric operations (+ and -).\n",
    "\n",
    "This table lists the bitwise operations sorted in ascending priority:\n",
    "\n",
    "| Operation | Result | Notes |\n",
    "| --- | --- | --- |\n",
    "| x \\| y | bitwise or of x and y | (4) |\n",
    "| x ^ y | bitwise exclusive or of x and y | (4) |\n",
    "| x & y | bitwise and of x and y | (4) |\n",
    "| x << n | x shifted left by n bits | (1)(2) |\n",
    "| x >> n | x shifted right by n bits | (1)(3) |\n",
    "| ~x | the bits of x inverted |  |\n",
    "\n",
    "Notes:\n",
    "1. Negative shift counts are illegal and cause a ValueError to be raised.\n",
    "2. A left shift by n bits is equivalent to multiplication by pow(2, n).\n",
    "3. A right shift by n bits is equivalent to floor division by pow(2, n).\n",
    "4. Performing these calculations with at least one extra sign extension bit in a finite two’s complement representation (a working bit-width of 1 + max(x.bit_length(), y.bit_length()) or more) is sufficient to get the same result as if there were an infinite number of sign bits."
   ]
  },
  {
   "cell_type": "code",
   "execution_count": 11,
   "metadata": {},
   "outputs": [
    {
     "name": "stdout",
     "output_type": "stream",
     "text": [
      "9 >> 1 = 4\n",
      "9 << 1 = 18\n",
      "9 |  4 = 13\n",
      "9 &  4 = 0\n",
      "9 ^  4 = 13\n",
      " ~7 = -8\n"
     ]
    }
   ],
   "source": [
    "# shift bits right\n",
    "print('9 >> 1 = ' + str(9 >> 1))\n",
    "print('9 << 1 = ' + str(9 << 1))\n",
    "\n",
    "# bit wise or\n",
    "print('9 | 4 = ' + str(9 | 4))\n",
    "\n",
    "# bit wise and\n",
    "print('9 & 4 = ' + str(9 & 4))\n",
    "\n",
    "# bit wise xor\n",
    "print('9 ^ 4 = ' + str(9 ^ 4))\n"
   ]
  },
  {
   "attachments": {},
   "cell_type": "markdown",
   "metadata": {},
   "source": [
    "#### Observation \n",
    "1. For 9, bit wise it is 1001 and for 4 bit wise it is 0100.\n",
    "2. We do not have bit flip ~x, this is because we need to specify unsigned integer."
   ]
  },
  {
   "attachments": {},
   "cell_type": "markdown",
   "metadata": {},
   "source": [
    "### Boolean Operations - and, or, not\n",
    "\n",
    "| Operation | Result | Priority | \n",
    "| --- | --- | --- |\n",
    "| x or y | if x is true, then x, else y | (1) |\n",
    "| x and y | if x is false, then x, else y | (2) |\n",
    "| not x | if x is false, then True, else False | (3) |\n",
    "\n",
    "- \"or\" is a short-circuit operator, so it only evaluates the second argument if the first one is false.\n",
    "- \"and\" is a short-circuit operator, so it only evaluates the second argument if the first one is true.\n",
    "- not has a lower priority than non-Boolean operators, so not a == b is interpreted as not (a == b), and a == not b is a syntax error."
   ]
  },
  {
   "attachments": {},
   "cell_type": "markdown",
   "metadata": {},
   "source": [
    "### Comparison Operations\n",
    "There are eight comparison operations in Python. They all have the same priority (which is higher than that of the Boolean operations). Comparisons can be chained arbitrarily; for example, x < y <= z is equivalent to x < y and y <= z, except that y is evaluated only once (but in both cases z is not evaluated at all when x < y is found to be false).\n",
    "\n",
    "This table summarizes the comparison operations:\n",
    "| Operation | Meaning |\n",
    "| --- | --- |\n",
    "| < | strictly less than |\n",
    "| <= | less than or equal |\n",
    "| > | strictly greater than |\n",
    "| >= | greater than or equal |\n",
    "| == | equal |\n",
    "| != | not equal |\n",
    "| is | object identity |\n",
    "| is not | negated object identity |\n",
    "\n",
    "Objects of different types, except different numeric types, never compare equal. The == operator is always defined but for some object types (for example, class objects) is equivalent to is. The <, <=, > and >= operators are only defined where they make sense; for example, they raise a TypeError exception when one of the arguments is a complex number."
   ]
  },
  {
   "attachments": {},
   "cell_type": "markdown",
   "metadata": {},
   "source": [
    "### Sequence Operations\n",
    "\n",
    "| Operation | Result |\n",
    "| --- | --- |\n",
    "| x in s | True if an item of s is equal to x, else False |\n",
    "| x not in s | False if an item of s is equal to x, else True |\n",
    "| s + t | the concatenation of s and t | (6)(7) |\n",
    "| s * n or n * s | equivalent to adding s to itself n times |\n",
    "| s[i] | ith item of s, origin 0 |\n",
    "| s[i:j] | slice of s from i to j | \n",
    "| s[i:j:k] | slice of s from i to j with step k |\n",
    "| len(s) | length of s |\n",
    "| min(s) | smallest item of s |\n",
    "| max(s) | largest item of s |\n",
    "| s.index(x[, i[, j]]) | index of the first occurrence of x in s (at or after index i and before index j) |\n",
    "| s.count(x) | total number of occurrences of x in s |\n",
    "| sorted(s) | return sorted(s) |\n",
    "| s.sort() | return sorted(s) |\n",
    "| s.reverse() | return reversed(s) |\n",
    "| s.insert(i,x) | insert x at position of i |\n",
    "| s.append(x) | append x at the end of s |\n",
    "| s.pop() | remove last element of s |\n",
    "| s.pop(i) | remove element at position of i |\n",
    "| s.remove(x) | remove x from s |\n",
    "| s[i:j] = [] | remove slice of s |\n",
    "| s.clear() | clear all elements of s |\n",
    "| s.copy() | return copt of s | "
   ]
  },
  {
   "cell_type": "code",
   "execution_count": 17,
   "metadata": {},
   "outputs": [
    {
     "name": "stdout",
     "output_type": "stream",
     "text": [
      "7 in s ? True\n",
      "7 not in s ? False\n",
      "s[3] = 4\n",
      "s[1 : 3] = [2, 3]\n",
      "len(s)10\n",
      "s1 = [1, 2, 3]\n",
      "s2 = [4, 5, 6]\n",
      "s1 + s2 = [1, 2, 3, 4, 5, 6]\n",
      "s.count(7) = 1\n",
      "min(s) = 1\n",
      "max(s) = 10\n",
      "s1 = [1, 2]\n",
      "s1 * 2 = [1, 2, 1, 2]\n",
      "s1 = [2, 1, 3]\n",
      "sorted(s1) = [1, 2, 3]\n",
      "s1 = [2, 1, 3]\n",
      "reversed(s1) = [3, 1, 2]\n",
      "s = [1, 2, 3, 4, 5, 6, 7, 8, 9, 10]\n",
      "remove s[2:3]\n",
      "s = [1, 2, 5, 6, 7, 8, 9, 10]\n"
     ]
    }
   ],
   "source": [
    "# Initialize a array \n",
    "s = [1, 2, 3, 4, 5, 6, 7, 8, 9, 10]\n",
    "# check if a element in array\n",
    "print('7 in s ? ' + str(7 in s))\n",
    "print('7 not in s ? ' + str(7 not in s))\n",
    "\n",
    "# get a element by index\n",
    "print('s[3] = ' + str(s[3]))\n",
    "\n",
    "# get slice of array\n",
    "print('s[1 : 3] = ' + str(s[1:3]))\n",
    "\n",
    "# get the length of array\n",
    "print('len(s)' + str(len(s)))\n",
    "\n",
    "# concatenat two arrays\n",
    "s1 = [1,2,3]\n",
    "s2 = [4,5,6]\n",
    "print('s1 = ' + str(s1))\n",
    "print('s2 = ' + str(s2))\n",
    "print('s1 + s2 = ' + str(s1 + s2))\n",
    "\n",
    "# count the number\n",
    "print('s.count(7) = ' + str(s.count(7)))\n",
    "\n",
    "# get min and max the number\n",
    "print('min(s) = ' + str(min(s)))\n",
    "print('max(s) = ' + str(max(s)))\n",
    "\n",
    "# repeat array\n",
    "s1 = [1,2]\n",
    "print('s1 = ' + str(s1))\n",
    "print('s1 * 2 = ' + str(s1 * 2))\n",
    "\n",
    "# sortrepeat array\n",
    "s1 = [2, 1,3]\n",
    "print('s1 = ' + str(s1))\n",
    "print('sorted(s1) = ' + str(sorted(s1)))\n",
    "\n",
    "# sortrepeat array\n",
    "s1 = [2, 1,3]\n",
    "print('s1 = ' + str(s1))\n",
    "s1.reverse()\n",
    "print('reversed(s1) = ' + str(s1))\n",
    "\n",
    "# remove a slice\n",
    "s = [1, 2, 3, 4, 5, 6, 7, 8, 9, 10]\n",
    "print('s = ' + str(s))\n",
    "print('remove s[2:4]')\n",
    "s[2:4] = []\n",
    "print('s = ' + str(s))\n"
   ]
  }
 ],
 "metadata": {
  "kernelspec": {
   "display_name": "venv",
   "language": "python",
   "name": "python3"
  },
  "language_info": {
   "codemirror_mode": {
    "name": "ipython",
    "version": 3
   },
   "file_extension": ".py",
   "mimetype": "text/x-python",
   "name": "python",
   "nbconvert_exporter": "python",
   "pygments_lexer": "ipython3",
   "version": "3.11.4"
  },
  "orig_nbformat": 4
 },
 "nbformat": 4,
 "nbformat_minor": 2
}
