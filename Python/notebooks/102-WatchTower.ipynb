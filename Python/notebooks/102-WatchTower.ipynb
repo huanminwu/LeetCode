{
 "cells": [
  {
   "attachments": {},
   "cell_type": "markdown",
   "metadata": {},
   "source": [
    "# WatchTower\n",
    "In this notebook we will pull entities from watch tower."
   ]
  },
  {
   "cell_type": "code",
   "execution_count": 10,
   "metadata": {},
   "outputs": [
    {
     "name": "stdout",
     "output_type": "stream",
     "text": [
      "Requirement already satisfied: azure.identity in c:\\leetcode\\python\\.venv\\lib\\site-packages (1.13.0)\n",
      "Requirement already satisfied: azure-core<2.0.0,>=1.11.0 in c:\\leetcode\\python\\.venv\\lib\\site-packages (from azure.identity) (1.30.1)\n",
      "Requirement already satisfied: cryptography>=2.5 in c:\\leetcode\\python\\.venv\\lib\\site-packages (from azure.identity) (41.0.1)\n",
      "Requirement already satisfied: msal<2.0.0,>=1.20.0 in c:\\leetcode\\python\\.venv\\lib\\site-packages (from azure.identity) (1.22.0)\n",
      "Requirement already satisfied: msal-extensions<2.0.0,>=0.3.0 in c:\\leetcode\\python\\.venv\\lib\\site-packages (from azure.identity) (1.0.0)\n",
      "Requirement already satisfied: six>=1.12.0 in c:\\leetcode\\python\\.venv\\lib\\site-packages (from azure.identity) (1.16.0)\n",
      "Requirement already satisfied: requests>=2.21.0 in c:\\leetcode\\python\\.venv\\lib\\site-packages (from azure-core<2.0.0,>=1.11.0->azure.identity) (2.31.0)\n",
      "Requirement already satisfied: typing-extensions>=4.6.0 in c:\\leetcode\\python\\.venv\\lib\\site-packages (from azure-core<2.0.0,>=1.11.0->azure.identity) (4.7.1)\n",
      "Requirement already satisfied: cffi>=1.12 in c:\\leetcode\\python\\.venv\\lib\\site-packages (from cryptography>=2.5->azure.identity) (1.15.1)\n",
      "Requirement already satisfied: PyJWT[crypto]<3,>=1.0.0 in c:\\leetcode\\python\\.venv\\lib\\site-packages (from msal<2.0.0,>=1.20.0->azure.identity) (2.7.0)\n",
      "Requirement already satisfied: portalocker<3,>=1.6 in c:\\leetcode\\python\\.venv\\lib\\site-packages (from msal-extensions<2.0.0,>=0.3.0->azure.identity) (2.7.0)\n",
      "Requirement already satisfied: pycparser in c:\\leetcode\\python\\.venv\\lib\\site-packages (from cffi>=1.12->cryptography>=2.5->azure.identity) (2.21)\n",
      "Requirement already satisfied: pywin32>=226 in c:\\leetcode\\python\\.venv\\lib\\site-packages (from portalocker<3,>=1.6->msal-extensions<2.0.0,>=0.3.0->azure.identity) (306)\n",
      "Requirement already satisfied: charset-normalizer<4,>=2 in c:\\leetcode\\python\\.venv\\lib\\site-packages (from requests>=2.21.0->azure-core<2.0.0,>=1.11.0->azure.identity) (3.1.0)\n",
      "Requirement already satisfied: idna<4,>=2.5 in c:\\leetcode\\python\\.venv\\lib\\site-packages (from requests>=2.21.0->azure-core<2.0.0,>=1.11.0->azure.identity) (3.4)\n",
      "Requirement already satisfied: urllib3<3,>=1.21.1 in c:\\leetcode\\python\\.venv\\lib\\site-packages (from requests>=2.21.0->azure-core<2.0.0,>=1.11.0->azure.identity) (2.0.3)\n",
      "Requirement already satisfied: certifi>=2017.4.17 in c:\\leetcode\\python\\.venv\\lib\\site-packages (from requests>=2.21.0->azure-core<2.0.0,>=1.11.0->azure.identity) (2023.5.7)\n",
      "Note: you may need to restart the kernel to use updated packages.\n"
     ]
    },
    {
     "name": "stderr",
     "output_type": "stream",
     "text": [
      "\n",
      "[notice] A new release of pip is available: 23.1.2 -> 24.0\n",
      "[notice] To update, run: python.exe -m pip install --upgrade pip\n"
     ]
    },
    {
     "name": "stdout",
     "output_type": "stream",
     "text": [
      "Requirement already satisfied: azure-keyvault-secrets in c:\\leetcode\\python\\.venv\\lib\\site-packages (4.8.0)\n",
      "Requirement already satisfied: azure-core<2.0.0,>=1.29.5 in c:\\leetcode\\python\\.venv\\lib\\site-packages (from azure-keyvault-secrets) (1.30.1)\n",
      "Requirement already satisfied: isodate>=0.6.1 in c:\\leetcode\\python\\.venv\\lib\\site-packages (from azure-keyvault-secrets) (0.6.1)\n",
      "Requirement already satisfied: typing-extensions>=4.0.1 in c:\\leetcode\\python\\.venv\\lib\\site-packages (from azure-keyvault-secrets) (4.7.1)\n",
      "Requirement already satisfied: requests>=2.21.0 in c:\\leetcode\\python\\.venv\\lib\\site-packages (from azure-core<2.0.0,>=1.29.5->azure-keyvault-secrets) (2.31.0)\n",
      "Requirement already satisfied: six>=1.11.0 in c:\\leetcode\\python\\.venv\\lib\\site-packages (from azure-core<2.0.0,>=1.29.5->azure-keyvault-secrets) (1.16.0)\n",
      "Requirement already satisfied: charset-normalizer<4,>=2 in c:\\leetcode\\python\\.venv\\lib\\site-packages (from requests>=2.21.0->azure-core<2.0.0,>=1.29.5->azure-keyvault-secrets) (3.1.0)\n",
      "Requirement already satisfied: idna<4,>=2.5 in c:\\leetcode\\python\\.venv\\lib\\site-packages (from requests>=2.21.0->azure-core<2.0.0,>=1.29.5->azure-keyvault-secrets) (3.4)\n",
      "Requirement already satisfied: urllib3<3,>=1.21.1 in c:\\leetcode\\python\\.venv\\lib\\site-packages (from requests>=2.21.0->azure-core<2.0.0,>=1.29.5->azure-keyvault-secrets) (2.0.3)\n",
      "Requirement already satisfied: certifi>=2017.4.17 in c:\\leetcode\\python\\.venv\\lib\\site-packages (from requests>=2.21.0->azure-core<2.0.0,>=1.29.5->azure-keyvault-secrets) (2023.5.7)\n",
      "Note: you may need to restart the kernel to use updated packages.\n"
     ]
    },
    {
     "name": "stderr",
     "output_type": "stream",
     "text": [
      "\n",
      "[notice] A new release of pip is available: 23.1.2 -> 24.0\n",
      "[notice] To update, run: python.exe -m pip install --upgrade pip\n"
     ]
    },
    {
     "name": "stdout",
     "output_type": "stream",
     "text": [
      "Requirement already satisfied: pandas in c:\\leetcode\\python\\.venv\\lib\\site-packages (2.0.3)Note: you may need to restart the kernel to use updated packages.\n",
      "\n",
      "Requirement already satisfied: python-dateutil>=2.8.2 in c:\\leetcode\\python\\.venv\\lib\\site-packages (from pandas) (2.8.2)\n",
      "Requirement already satisfied: pytz>=2020.1 in c:\\leetcode\\python\\.venv\\lib\\site-packages (from pandas) (2023.3)\n",
      "Requirement already satisfied: tzdata>=2022.1 in c:\\leetcode\\python\\.venv\\lib\\site-packages (from pandas) (2023.3)\n",
      "Requirement already satisfied: numpy>=1.21.0 in c:\\leetcode\\python\\.venv\\lib\\site-packages (from pandas) (1.25.0)\n",
      "Requirement already satisfied: six>=1.5 in c:\\leetcode\\python\\.venv\\lib\\site-packages (from python-dateutil>=2.8.2->pandas) (1.16.0)\n"
     ]
    },
    {
     "name": "stderr",
     "output_type": "stream",
     "text": [
      "\n",
      "[notice] A new release of pip is available: 23.1.2 -> 24.0\n",
      "[notice] To update, run: python.exe -m pip install --upgrade pip\n"
     ]
    },
    {
     "name": "stdout",
     "output_type": "stream",
     "text": [
      "Requirement already satisfied: pyodbc in c:\\leetcode\\python\\.venv\\lib\\site-packages (5.1.0)\n",
      "Note: you may need to restart the kernel to use updated packages.\n"
     ]
    },
    {
     "name": "stderr",
     "output_type": "stream",
     "text": [
      "\n",
      "[notice] A new release of pip is available: 23.1.2 -> 24.0\n",
      "[notice] To update, run: python.exe -m pip install --upgrade pip\n"
     ]
    }
   ],
   "source": [
    "# install all the azure identity modules\n",
    "%pip install azure.identity\n",
    "# install all the azure keyvault modules\n",
    "%pip install azure-keyvault-secrets\n",
    "# install pandas modules\n",
    "%pip install pandas\n",
    "# install all the azure sql database modules\n",
    "%pip install pyodbc"
   ]
  },
  {
   "cell_type": "code",
   "execution_count": 26,
   "metadata": {},
   "outputs": [
    {
     "name": "stdout",
     "output_type": "stream",
     "text": [
      "AccessToken(token='eyJ0eXAiOiJKV1QiLCJhbGciOiJSUzI1NiIsIng1dCI6IkwxS2ZLRklfam5YYndXYzIyeFp4dzFzVUhIMCIsImtpZCI6IkwxS2ZLRklfam5YYndXYzIyeFp4dzFzVUhIMCJ9.eyJhdWQiOiJodHRwczovL2RhdGFiYXNlLndpbmRvd3MubmV0LyIsImlzcyI6Imh0dHBzOi8vc3RzLndpbmRvd3MubmV0LzcyZjk4OGJmLTg2ZjEtNDFhZi05MWFiLTJkN2NkMDExZGI0Ny8iLCJpYXQiOjE3MTUxMzg2NTEsIm5iZiI6MTcxNTEzODY1MSwiZXhwIjoxNzE1MTQ0MDkyLCJfY2xhaW1fbmFtZXMiOnsiZ3JvdXBzIjoic3JjMSJ9LCJfY2xhaW1fc291cmNlcyI6eyJzcmMxIjp7ImVuZHBvaW50IjoiaHR0cHM6Ly9ncmFwaC53aW5kb3dzLm5ldC83MmY5ODhiZi04NmYxLTQxYWYtOTFhYi0yZDdjZDAxMWRiNDcvdXNlcnMvOTJlYzgxNWYtZGM0Yy00ZWZmLWFmNGYtMzRjMjc5ZGI4YmIzL2dldE1lbWJlck9iamVjdHMifX0sImFjciI6IjEiLCJhaW8iOiJBZVFBRy84V0FBQUFVYWc1bVpCRnFXazZlRlg3a3BXZXpwTkJwZ0FMN0Z1a3BDdTEwVndzenpsblc2NG12ZFlkaTE0Z2hMMFUxUUU3RFYxaHZ4aWVPaTZDWTFvbFlnVTFWUFdqVmx4TTVqaUJVdDMyQVFVTUxoZ0ZOcVhHZmNCRkpwZmIvdk1HT29UeE54V3hiS0s1MmlwdTVKalhHa1RjczRXcGFXbTlCWTB1T3lKRXFMdjUxanNsZFdnNGExekY3a0NRRnJpVXRrdWxQd2pxM25nRkxnVWM3S0ZiZ0IrOEU3UFJ1Vk1LYkg4NlhUbDNLeGlYenVpZmdaUnZaVjhGaWQ3d0U1V3Rub3BVNDBkcEFORFA0R2RJNUxaM2dXNzV4UVdOTm1oaklsU1lCTlBTbzIvalVtZz0iLCJhbXIiOlsicnNhIiwibWZhIl0sImFwcGlkIjoiMDRiMDc3OTUtOGRkYi00NjFhLWJiZWUtMDJmOWUxYmY3YjQ2IiwiYXBwaWRhY3IiOiIwIiwiZGV2aWNlaWQiOiIzY2E3MmU3OC03YTM5LTQ2MjctOGQzZi1mYzkxYzM3ZDg0MTQiLCJmYW1pbHlfbmFtZSI6Ild1IiwiZ2l2ZW5fbmFtZSI6Ikh1YW5taW4iLCJpZHR5cCI6InVzZXIiLCJpcGFkZHIiOiIyMDAxOjU2OTo1MjE2OjM1MDA6YzRhOTpjNmZkOjQ5NTU6YTRhNCIsIm5hbWUiOiJIdWFubWluIFd1Iiwib2lkIjoiOTJlYzgxNWYtZGM0Yy00ZWZmLWFmNGYtMzRjMjc5ZGI4YmIzIiwib25wcmVtX3NpZCI6IlMtMS01LTIxLTIxMjc1MjExODQtMTYwNDAxMjkyMC0xODg3OTI3NTI3LTQ5MjIxODQiLCJwdWlkIjoiMTAwMzAwMDA4MDFDM0NFRiIsInJoIjoiMC5BUm9BdjRqNWN2R0dyMEdScXkxODBCSGJSOU1IS1FJYkRfZEl1dHdicHF1cmJXWWFBTUkuIiwic2NwIjoidXNlcl9pbXBlcnNvbmF0aW9uIiwic3ViIjoiRjdWOVowSkNLSi0wSWh5eGRBeUF1QUZqeHVaRE5qX2pubzJ2OXVRV0xqSSIsInRpZCI6IjcyZjk4OGJmLTg2ZjEtNDFhZi05MWFiLTJkN2NkMDExZGI0NyIsInVuaXF1ZV9uYW1lIjoiaHVhbm1pbndAbWljcm9zb2Z0LmNvbSIsInVwbiI6Imh1YW5taW53QG1pY3Jvc29mdC5jb20iLCJ1dGkiOiJIVEFNM2hXZXNFS3VEenUtZEZlM0FBIiwidmVyIjoiMS4wIn0.mPdjc-Kea-s7Hy_aRvwgwou_xaNDfkAY9kjYUVbTQ5KxNlR-MrnT2UtuWO60kYgyHmuEOmdZtFX-NB564N1agZCMu1bpb8KRSxHR3750l_mfK3dtu0mkanlSNVFBbypK7gVy1of9pSyuQxMh6ZIkRzIs-3_xX2WHOpgFhZqXM3MxMoJLxZs7t-k-la-jPnrsoMRnv1Q0kDHsRmyOKI0mdVZpTmElgxIr7z-kBM7kJIqxFY7PO1JxIkTsQTusDOx7eBHvB_BJFw2F2pnEG7fbGwaNKuyOFESJkloINtGzOJ4BEp4iwCoaIatIGRGptRXsIjx8aoR6C4KjZSrPYTYygA', expires_on=1715144091)\n"
     ]
    },
    {
     "ename": "ProgrammingError",
     "evalue": "('42S02', \"[42S02] [Microsoft][ODBC Driver 17 for SQL Server][SQL Server]Invalid object name 'STG_WatchTower.ProjectColoTranches'. (208) (SQLExecDirectW)\")",
     "output_type": "error",
     "traceback": [
      "\u001b[1;31m---------------------------------------------------------------------------\u001b[0m",
      "\u001b[1;31mProgrammingError\u001b[0m                          Traceback (most recent call last)",
      "Cell \u001b[1;32mIn[26], line 156\u001b[0m\n\u001b[0;32m    154\u001b[0m df \u001b[38;5;241m=\u001b[39m pd\u001b[38;5;241m.\u001b[39mDataFrame(table, columns\u001b[38;5;241m=\u001b[39m[\u001b[38;5;124m'\u001b[39m\u001b[38;5;124mprojectOid\u001b[39m\u001b[38;5;124m'\u001b[39m, \u001b[38;5;124m'\u001b[39m\u001b[38;5;124msnapshotDateId\u001b[39m\u001b[38;5;124m'\u001b[39m, \u001b[38;5;124m'\u001b[39m\u001b[38;5;124mcoPlusIProjectId\u001b[39m\u001b[38;5;124m'\u001b[39m, \u001b[38;5;124m'\u001b[39m\u001b[38;5;124mfmColoId\u001b[39m\u001b[38;5;124m'\u001b[39m, \u001b[38;5;124m'\u001b[39m\u001b[38;5;124mcoloTrancheId\u001b[39m\u001b[38;5;124m'\u001b[39m]);\n\u001b[0;32m    155\u001b[0m databaseConn \u001b[38;5;241m=\u001b[39m DatabaseConnection({\u001b[38;5;124m'\u001b[39m\u001b[38;5;124mserver\u001b[39m\u001b[38;5;124m'\u001b[39m : \u001b[38;5;124m'\u001b[39m\u001b[38;5;124mcapacityreporting.database.windows.net\u001b[39m\u001b[38;5;124m'\u001b[39m, \u001b[38;5;124m'\u001b[39m\u001b[38;5;124mdatabase\u001b[39m\u001b[38;5;124m'\u001b[39m :\u001b[38;5;124m'\u001b[39m\u001b[38;5;124mbireporting\u001b[39m\u001b[38;5;124m'\u001b[39m});\n\u001b[1;32m--> 156\u001b[0m \u001b[43mdatabaseConn\u001b[49m\u001b[38;5;241;43m.\u001b[39;49m\u001b[43mexecute\u001b[49m\u001b[43m(\u001b[49m\u001b[38;5;124;43m'\u001b[39;49m\u001b[38;5;124;43mDELETE FROM [STG_WatchTower].[ProjectColoTranches]\u001b[39;49m\u001b[38;5;124;43m'\u001b[39;49m\u001b[43m)\u001b[49m\n\u001b[0;32m    157\u001b[0m databaseConn\u001b[38;5;241m.\u001b[39minsert(df, table \u001b[38;5;241m=\u001b[39m \u001b[38;5;124m'\u001b[39m\u001b[38;5;124m[STG_WatchTower].[ProjectColoTranches]\u001b[39m\u001b[38;5;124m'\u001b[39m);\n\u001b[0;32m    158\u001b[0m databaseConn\u001b[38;5;241m.\u001b[39mclose();\n",
      "Cell \u001b[1;32mIn[26], line 69\u001b[0m, in \u001b[0;36mDatabaseConnection.execute\u001b[1;34m(self, statement)\u001b[0m\n\u001b[0;32m     67\u001b[0m \u001b[38;5;66;03m# Create a Pandas dataframe from the results\u001b[39;00m\n\u001b[0;32m     68\u001b[0m cursor \u001b[38;5;241m=\u001b[39m \u001b[38;5;28mself\u001b[39m\u001b[38;5;241m.\u001b[39mconnection\u001b[38;5;241m.\u001b[39mcursor();\n\u001b[1;32m---> 69\u001b[0m \u001b[43mcursor\u001b[49m\u001b[38;5;241;43m.\u001b[39;49m\u001b[43mexecute\u001b[49m\u001b[43m(\u001b[49m\u001b[43mstatement\u001b[49m\u001b[43m)\u001b[49m;\n\u001b[0;32m     70\u001b[0m cursor\u001b[38;5;241m.\u001b[39mcommit();\n\u001b[0;32m     71\u001b[0m cursor\u001b[38;5;241m.\u001b[39mclose()\n",
      "\u001b[1;31mProgrammingError\u001b[0m: ('42S02', \"[42S02] [Microsoft][ODBC Driver 17 for SQL Server][SQL Server]Invalid object name 'STG_WatchTower.ProjectColoTranches'. (208) (SQLExecDirectW)\")"
     ]
    }
   ],
   "source": [
    "from azure.identity import AzureCliCredential, ChainedTokenCredential, DefaultAzureCredential, ManagedIdentityCredential\n",
    "from azure.keyvault.secrets import SecretClient\n",
    "from azure.identity import ClientSecretCredential\n",
    "import struct\n",
    "import pyodbc\n",
    "import pandas as pd \n",
    "import requests;\n",
    "\n",
    "class DatabaseConnection():\n",
    "    def __init__(self, configuration : dict):\n",
    "        server = configuration.get('server')\n",
    "        if (not str(server).endswith('.database.windows.net')) :\n",
    "            server = server + '.database.windows.net';\n",
    "        self.sever = server;\n",
    "        self.database = configuration.get('database');\n",
    "        credential = ChainedTokenCredential(ManagedIdentityCredential(), \n",
    "                                            AzureCliCredential(), \n",
    "                                            DefaultAzureCredential());\n",
    "        databaseToken = credential.get_token('https://database.windows.net/');\n",
    "        print(databaseToken);\n",
    "        tokenb = bytes(databaseToken[0], \"UTF-8\");\n",
    "        exptoken = b'';\n",
    "        for i in tokenb:\n",
    "            exptoken += bytes({i});\n",
    "            exptoken += bytes(1);\n",
    "        tokenstruct = struct.pack(\"=i\", len(exptoken)) + exptoken;\n",
    "        connString = \"Driver={ODBC Driver 17 for SQL Server};SERVER=\"+self.sever+\";DATABASE=\"+self.database+\"\";\n",
    "        SQL_COPT_SS_ACCESS_TOKEN = 1256; \n",
    "        self.connection = pyodbc.connect(connString, attrs_before = {SQL_COPT_SS_ACCESS_TOKEN:tokenstruct});\n",
    "\n",
    "\n",
    "    # write a database to database, mode = append or replace\n",
    "    def insert(self, df : pd.DataFrame, table :str):\n",
    "        \"\"\"\n",
    "        Execute a SQL write.\n",
    "        @param df: Data Frame.        \n",
    "        @param table: Table Name.\n",
    "        \"\"\"\n",
    "        statement = '''\n",
    "        INSERT INTO {table}\n",
    "        (\n",
    "            {columns}\n",
    "        )\n",
    "        VALUES({place_holders})\n",
    "        '''\n",
    "        # add protection on column name\n",
    "        columns = df.columns.tolist();\n",
    "        for i in range(len(columns)):\n",
    "            columns[i] = '[' + columns[i] + ']';\n",
    "        statement = statement.format(table = table, \n",
    "                                     columns = (',').join(columns), \n",
    "                                     place_holders = (',').join(['?'] * len(df.columns)));\n",
    "        print(statement);\n",
    "        # Create a Pandas dataframe from the results\n",
    "        cursor = self.connection.cursor();\n",
    "        cursor.fast_executemany = True;\n",
    "        cursor.executemany(statement, df.values.tolist());\n",
    "        cursor.commit();\n",
    "        cursor.close();\n",
    "\n",
    "    # execute sql command\n",
    "    def execute(self, statement : str):\n",
    "        \"\"\"\n",
    "        Execute a SQL command.\n",
    "        @param query: query.        \n",
    "        \"\"\"\n",
    "        # Create a Pandas dataframe from the results\n",
    "        cursor = self.connection.cursor();\n",
    "        cursor.execute(statement);\n",
    "        cursor.commit();\n",
    "        cursor.close();\n",
    "\n",
    "\n",
    "    def query(self, query: str) -> pd.DataFrame:\n",
    "        \"\"\"\n",
    "        Execute a SQL query.\n",
    "        @param query: The query.\n",
    "        @returns: A Pandas DataFrame.\n",
    "        \"\"\"\n",
    "        # Create a Pandas dataframe from the results\n",
    "        \n",
    "        df = pd.read_sql(query, self.connection);\n",
    "\n",
    "        # Print the dataframe\n",
    "        print(df);\n",
    "        return df\n",
    "\n",
    "    def close(self):\n",
    "        \"\"\"\n",
    "        Close the Database client.\n",
    "        \"\"\"\n",
    "        self.connection.close();\n",
    "\n",
    "class KeyVault():\n",
    "    def __init__(self, configuration : dict):\n",
    "        key_vault = configuration.get('keyvault');\n",
    "        credential = ChainedTokenCredential(ManagedIdentityCredential(), \n",
    "                                            AzureCliCredential(), \n",
    "                                            DefaultAzureCredential());\n",
    "        kv_url = \"https://{key_vault}.vault.azure.net\";\n",
    "        kv_url = kv_url.format(key_vault = key_vault);\n",
    "        self.client = SecretClient(vault_url=kv_url, credential=credential)\n",
    "\n",
    "    # write a database to database, mode = append or replace\n",
    "    def get(self, secret_name : str) -> str:\n",
    "        secret_value = self.client.get_secret(secret_name);\n",
    "        return secret_value.value;\n",
    "\n",
    "\n",
    "class RestAPI():\n",
    "    def __init__(self, configuration : dict):\n",
    "        app_id = configuration.get('app_id');\n",
    "        app_secret = configuration.get('app_secret');\n",
    "        tenant_id = '72f988bf-86f1-41af-91ab-2d7cd011db47';\n",
    "        credential = ClientSecretCredential(tenant_id, app_id, app_secret);\n",
    "        self.token = credential.get_token(\"280b00f4-2c5a-44d8-bab9-6acbbaaa7c78/.default\").token;\n",
    "    \n",
    "    def call_data_api(self, uri : str) -> dict:\n",
    "        result = [];\n",
    "        try:\n",
    "            headers = {\n",
    "                \"Authorization\": \"Bearer \" + self.token,\n",
    "                \"Content-Type\": \"application/json\"  # Adjust content type as per your API\n",
    "            }\n",
    "            response = requests.get(uri, headers=headers);\n",
    "            if response.status_code == 200:\n",
    "                result = response.json();\n",
    "            else:\n",
    "                print(\"Error:\", response.status_code)\n",
    "        except requests.exceptions.RequestException as e:\n",
    "            print(\"Error:\", e);\n",
    "        return result;\n",
    "\n",
    "key_vault = KeyVault({'keyvault' : 'etlframeworkkeyvaults'});\n",
    "app_id = key_vault.get('sec-CoiDpxeETLClientId');\n",
    "app_secret = key_vault.get('sec-CoiDpxeETLClientKey');\n",
    "api_client = RestAPI({'app_id' : app_id, 'app_secret': app_secret});\n",
    "result = api_client.call_data_api(\"https://api.infra.global.azure.com/pantheon/api/v2/entities/AGI_ProjectColos\")\n",
    "projects = result['result'];\n",
    "\n",
    "# Create an empty DataFrame\n",
    "\n",
    "df = pd.DataFrame(columns=['projectOid', 'snapshotDateId', 'coPlusIProjectId', 'fmColoId', 'coloTrancheId']);\n",
    "table = [];\n",
    "for p in projects:\n",
    "    for t in p['tranches'] :\n",
    "        record = [];\n",
    "        record.append(p['projectOid']);\n",
    "        record.append(t['snapshotDateId']);\n",
    "        record.append(t['coPlusIProjectId']);\n",
    "        record.append(t['fmColoId']);\n",
    "        record.append(t['coloTrancheId']);\n",
    "        table.append(record);\n",
    "df = pd.DataFrame(table, columns=['projectOid', 'snapshotDateId', 'coPlusIProjectId', 'fmColoId', 'coloTrancheId']);\n",
    "databaseConn = DatabaseConnection({'server' : 'capacityreporting.database.windows.net', 'database' :'bireporting'});\n",
    "databaseConn.execute('DELETE FROM [STG_WatchTower].[ProjectColoTranches]')\n",
    "databaseConn.insert(df, table = '[STG_WatchTower].[ProjectColoTranches]');\n",
    "databaseConn.close();\n",
    "print(df);\n"
   ]
  }
 ],
 "metadata": {
  "kernelspec": {
   "display_name": "venv",
   "language": "python",
   "name": "python3"
  },
  "language_info": {
   "codemirror_mode": {
    "name": "ipython",
    "version": 3
   },
   "file_extension": ".py",
   "mimetype": "text/x-python",
   "name": "python",
   "nbconvert_exporter": "python",
   "pygments_lexer": "ipython3",
   "version": "3.11.9"
  },
  "orig_nbformat": 4
 },
 "nbformat": 4,
 "nbformat_minor": 2
}
