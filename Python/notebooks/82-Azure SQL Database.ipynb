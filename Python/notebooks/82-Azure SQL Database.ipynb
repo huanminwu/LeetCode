{
 "cells": [
  {
   "attachments": {},
   "cell_type": "markdown",
   "metadata": {},
   "source": [
    "# Azure SQL Database\n",
    "In this notebook we will access Azure SQL database"
   ]
  },
  {
   "cell_type": "code",
   "execution_count": 1,
   "metadata": {},
   "outputs": [
    {
     "name": "stdout",
     "output_type": "stream",
     "text": [
      "Requirement already satisfied: azure.identity in c:\\leetcode\\python\\.venv\\lib\\site-packages (1.13.0)\n",
      "Requirement already satisfied: azure-core<2.0.0,>=1.11.0 in c:\\leetcode\\python\\.venv\\lib\\site-packages (from azure.identity) (1.30.1)\n",
      "Requirement already satisfied: cryptography>=2.5 in c:\\leetcode\\python\\.venv\\lib\\site-packages (from azure.identity) (41.0.1)\n",
      "Requirement already satisfied: msal<2.0.0,>=1.20.0 in c:\\leetcode\\python\\.venv\\lib\\site-packages (from azure.identity) (1.22.0)\n",
      "Requirement already satisfied: msal-extensions<2.0.0,>=0.3.0 in c:\\leetcode\\python\\.venv\\lib\\site-packages (from azure.identity) (1.0.0)\n",
      "Requirement already satisfied: six>=1.12.0 in c:\\leetcode\\python\\.venv\\lib\\site-packages (from azure.identity) (1.16.0)\n",
      "Requirement already satisfied: requests>=2.21.0 in c:\\leetcode\\python\\.venv\\lib\\site-packages (from azure-core<2.0.0,>=1.11.0->azure.identity) (2.31.0)\n",
      "Requirement already satisfied: typing-extensions>=4.6.0 in c:\\leetcode\\python\\.venv\\lib\\site-packages (from azure-core<2.0.0,>=1.11.0->azure.identity) (4.7.1)\n",
      "Requirement already satisfied: cffi>=1.12 in c:\\leetcode\\python\\.venv\\lib\\site-packages (from cryptography>=2.5->azure.identity) (1.15.1)\n",
      "Requirement already satisfied: PyJWT[crypto]<3,>=1.0.0 in c:\\leetcode\\python\\.venv\\lib\\site-packages (from msal<2.0.0,>=1.20.0->azure.identity) (2.7.0)\n",
      "Requirement already satisfied: portalocker<3,>=1.6 in c:\\leetcode\\python\\.venv\\lib\\site-packages (from msal-extensions<2.0.0,>=0.3.0->azure.identity) (2.7.0)\n",
      "Requirement already satisfied: pycparser in c:\\leetcode\\python\\.venv\\lib\\site-packages (from cffi>=1.12->cryptography>=2.5->azure.identity) (2.21)\n",
      "Requirement already satisfied: pywin32>=226 in c:\\leetcode\\python\\.venv\\lib\\site-packages (from portalocker<3,>=1.6->msal-extensions<2.0.0,>=0.3.0->azure.identity) (306)\n",
      "Requirement already satisfied: charset-normalizer<4,>=2 in c:\\leetcode\\python\\.venv\\lib\\site-packages (from requests>=2.21.0->azure-core<2.0.0,>=1.11.0->azure.identity) (3.1.0)\n",
      "Requirement already satisfied: idna<4,>=2.5 in c:\\leetcode\\python\\.venv\\lib\\site-packages (from requests>=2.21.0->azure-core<2.0.0,>=1.11.0->azure.identity) (3.4)\n",
      "Requirement already satisfied: urllib3<3,>=1.21.1 in c:\\leetcode\\python\\.venv\\lib\\site-packages (from requests>=2.21.0->azure-core<2.0.0,>=1.11.0->azure.identity) (2.0.3)\n",
      "Requirement already satisfied: certifi>=2017.4.17 in c:\\leetcode\\python\\.venv\\lib\\site-packages (from requests>=2.21.0->azure-core<2.0.0,>=1.11.0->azure.identity) (2023.5.7)\n",
      "Note: you may need to restart the kernel to use updated packages.\n"
     ]
    },
    {
     "name": "stderr",
     "output_type": "stream",
     "text": [
      "\n",
      "[notice] A new release of pip is available: 23.1.2 -> 24.0\n",
      "[notice] To update, run: python.exe -m pip install --upgrade pip\n"
     ]
    },
    {
     "name": "stdout",
     "output_type": "stream",
     "text": [
      "Requirement already satisfied: pandas in c:\\leetcode\\python\\.venv\\lib\\site-packages (2.0.3)\n",
      "Requirement already satisfied: python-dateutil>=2.8.2 in c:\\leetcode\\python\\.venv\\lib\\site-packages (from pandas) (2.8.2)\n",
      "Requirement already satisfied: pytz>=2020.1 in c:\\leetcode\\python\\.venv\\lib\\site-packages (from pandas) (2023.3)\n",
      "Requirement already satisfied: tzdata>=2022.1 in c:\\leetcode\\python\\.venv\\lib\\site-packages (from pandas) (2023.3)\n",
      "Requirement already satisfied: numpy>=1.21.0 in c:\\leetcode\\python\\.venv\\lib\\site-packages (from pandas) (1.25.0)\n",
      "Requirement already satisfied: six>=1.5 in c:\\leetcode\\python\\.venv\\lib\\site-packages (from python-dateutil>=2.8.2->pandas) (1.16.0)\n",
      "Note: you may need to restart the kernel to use updated packages.\n"
     ]
    },
    {
     "name": "stderr",
     "output_type": "stream",
     "text": [
      "\n",
      "[notice] A new release of pip is available: 23.1.2 -> 24.0\n",
      "[notice] To update, run: python.exe -m pip install --upgrade pip\n"
     ]
    },
    {
     "name": "stdout",
     "output_type": "stream",
     "text": [
      "Note: you may need to restart the kernel to use updated packages.Requirement already satisfied: pyodbc in c:\\leetcode\\python\\.venv\\lib\\site-packages (5.1.0)\n",
      "\n"
     ]
    },
    {
     "name": "stderr",
     "output_type": "stream",
     "text": [
      "\n",
      "[notice] A new release of pip is available: 23.1.2 -> 24.0\n",
      "[notice] To update, run: python.exe -m pip install --upgrade pip\n"
     ]
    }
   ],
   "source": [
    "# install all the azure identity modules\n",
    "%pip install azure.identity\n",
    "%pip install pandas\n",
    "# install all the azure sql database modules\n",
    "%pip install pyodbc"
   ]
  },
  {
   "cell_type": "code",
   "execution_count": 3,
   "metadata": {},
   "outputs": [
    {
     "name": "stdout",
     "output_type": "stream",
     "text": [
      "AccessToken(token='eyJ0eXAiOiJKV1QiLCJhbGciOiJSUzI1NiIsIng1dCI6IkwxS2ZLRklfam5YYndXYzIyeFp4dzFzVUhIMCIsImtpZCI6IkwxS2ZLRklfam5YYndXYzIyeFp4dzFzVUhIMCJ9.eyJhdWQiOiJodHRwczovL2RhdGFiYXNlLndpbmRvd3MubmV0LyIsImlzcyI6Imh0dHBzOi8vc3RzLndpbmRvd3MubmV0LzcyZjk4OGJmLTg2ZjEtNDFhZi05MWFiLTJkN2NkMDExZGI0Ny8iLCJpYXQiOjE3MTUxMTE1MDEsIm5iZiI6MTcxNTExMTUwMSwiZXhwIjoxNzE1MTE2NDAyLCJfY2xhaW1fbmFtZXMiOnsiZ3JvdXBzIjoic3JjMSJ9LCJfY2xhaW1fc291cmNlcyI6eyJzcmMxIjp7ImVuZHBvaW50IjoiaHR0cHM6Ly9ncmFwaC53aW5kb3dzLm5ldC83MmY5ODhiZi04NmYxLTQxYWYtOTFhYi0yZDdjZDAxMWRiNDcvdXNlcnMvOTJlYzgxNWYtZGM0Yy00ZWZmLWFmNGYtMzRjMjc5ZGI4YmIzL2dldE1lbWJlck9iamVjdHMifX0sImFjciI6IjEiLCJhaW8iOiJBZVFBRy84V0FBQUFORVovVXhqQXVUUllLSllObXJMMWFwa2VZSit4QU1yMmUvRkVzWjl5NWJIWXdhRFFCY0Q3WE9La3puako3OFkxRlZ2Y0NPSkFmQmtYbE5lbjAyTXVrUjFzdHhBa0RyWFd2VWhSSmhMaHdtY1Q1Vy9wUVloS1lnS3ZPdlp5d2RlQ21kRDZhVWxaK2FHYlM4bFhYUVlLNXh4eVZGOGd1RU0zRUk1dU9WbnM5eVpIMmV3VmhKM2d6dUpmN0pUb3hmR3VLY0x2TnZkOFRpMHVYMjJvaW5rK2M5TWFhYVB4aTV3YlFUVzkyZmk1ZHBTN0JrMnYvcVFwckhrZGxYT2U2bUpCL1RLRXdJUXE1MGdkQUVqUTQ3dy9VeURLZi9KNlRJeUUxQTlBTjR6dDlDTT0iLCJhbXIiOlsicnNhIiwibWZhIl0sImFwcGlkIjoiMDRiMDc3OTUtOGRkYi00NjFhLWJiZWUtMDJmOWUxYmY3YjQ2IiwiYXBwaWRhY3IiOiIwIiwiZGV2aWNlaWQiOiIzY2E3MmU3OC03YTM5LTQ2MjctOGQzZi1mYzkxYzM3ZDg0MTQiLCJmYW1pbHlfbmFtZSI6Ild1IiwiZ2l2ZW5fbmFtZSI6Ikh1YW5taW4iLCJpZHR5cCI6InVzZXIiLCJpcGFkZHIiOiIyMDAxOjU2OTo1MjE2OjM1MDA6YzRhOTpjNmZkOjQ5NTU6YTRhNCIsIm5hbWUiOiJIdWFubWluIFd1Iiwib2lkIjoiOTJlYzgxNWYtZGM0Yy00ZWZmLWFmNGYtMzRjMjc5ZGI4YmIzIiwib25wcmVtX3NpZCI6IlMtMS01LTIxLTIxMjc1MjExODQtMTYwNDAxMjkyMC0xODg3OTI3NTI3LTQ5MjIxODQiLCJwdWlkIjoiMTAwMzAwMDA4MDFDM0NFRiIsInJoIjoiMC5BUm9BdjRqNWN2R0dyMEdScXkxODBCSGJSOU1IS1FJYkRfZEl1dHdicHF1cmJXWWFBTUkuIiwic2NwIjoidXNlcl9pbXBlcnNvbmF0aW9uIiwic3ViIjoiRjdWOVowSkNLSi0wSWh5eGRBeUF1QUZqeHVaRE5qX2pubzJ2OXVRV0xqSSIsInRpZCI6IjcyZjk4OGJmLTg2ZjEtNDFhZi05MWFiLTJkN2NkMDExZGI0NyIsInVuaXF1ZV9uYW1lIjoiaHVhbm1pbndAbWljcm9zb2Z0LmNvbSIsInVwbiI6Imh1YW5taW53QG1pY3Jvc29mdC5jb20iLCJ1dGkiOiJIVEFNM2hXZXNFS3VEenUtRURlbkFBIiwidmVyIjoiMS4wIn0.EHjAKp_B2NyVR99X1alm1hM15545Ci-figAm-kS8oqmVeTQ0bKFvX5pDq3o5lWRRw9qLCoKgPsV1uU-PDSe6K-VQavFm0RZJ3M7EXiOEHpcHuYisvgNjRJVKkvcXfRJ65y_DiBFk_AAxLB25kCsLd_TnbJBNuKHwH0dzqZ5flmGPIGOtbThqTFsQeB5cPTxpwG6HqL243fFtqmpBxC8RhtcrnF_BjYPNQE6D0jV9t5XWu4gSFSsn6BA-b1w-Xk3UkRSKx8IgrnU_Grq2iDwDsgdwvDo_8Q3Fnq6BkW8b9xzel7bHAM5Ku1JEGSsAlhT1DVdve9WG-rbCOpgnIUucrg', expires_on=1715116401)\n",
      "      PORVersion PublishedDate  OrderType Region    Metro     AzureRegion  \\\n",
      "0       20231219    2023-11-16  Execution   AMER  Phoenix       West US 3   \n",
      "1       20231219    2023-11-16  Execution   APAC   Sydney  Australia East   \n",
      "2       20231219    2023-11-15  Execution   AMER  Boydton       East US 2   \n",
      "3       20231219    2023-11-13  Execution   AMER  Boydton       East US 2   \n",
      "4       20231219    2023-11-13  Execution   AMER  Boydton       East US 2   \n",
      "...          ...           ...        ...    ...      ...             ...   \n",
      "1461    20231219    2023-02-21  Execution   APAC   Sydney  Australia East   \n",
      "1462    20231219    2023-02-21  Execution   APAC   Sydney  Australia East   \n",
      "1463    20231219    2023-02-21  Execution   EMEA   Warsaw  Poland Central   \n",
      "1464    20231219    2023-02-21  Execution   EMEA   Warsaw  Poland Central   \n",
      "1465    20231219    2023-02-21  Execution   EMEA   Warsaw  Poland Central   \n",
      "\n",
      "        AZ     DC    COLO  Type      Racks  GPU MWs Build/Lease  Colo MWs  \\\n",
      "0     AZ01  PHX61  F01C01  H100         80    3.760       Lease     4.162   \n",
      "1     AZ02  SYD24  F01C03  A100         60    1.620       Lease     2.312   \n",
      "2     AZ04  AVC09  F01C01  H100  Full colo    9.024       Build     7.770   \n",
      "3     AZ02  LVL01  F01C05  A100       2x10    0.540       Build     7.585   \n",
      "4     AZ02  LVL03  F01C02  A100       2x10    0.540       Build     8.880   \n",
      "...    ...    ...     ...   ...        ...      ...         ...       ...   \n",
      "1461  AZ02  SYD24  F01C02  A100         80    2.160       Lease     3.514   \n",
      "1462  AZ03  SYD27  F02C08  A100         80    2.160       Lease     3.500   \n",
      "1463  AZ01  WAW03  F01C02  H100        192    9.024       Build     8.880   \n",
      "1464  AZ02  WAW20  F01C02  A100         80    2.160       Lease     3.330   \n",
      "1465  AZ03  WAW21  F01C02  A100         80    2.160       Lease     2.405   \n",
      "\n",
      "         CR Date   IST Month   RFS Month      Lessor  \n",
      "0     2023-12-29        None  2023-09-01         QTS  \n",
      "1     2023-12-19        None  2023-10-01    AirTrunk  \n",
      "2     2024-05-09  2023-06-14  2023-06-01        None  \n",
      "3     2022-06-29  2022-06-20  2022-06-01        None  \n",
      "4     2022-12-20  2022-10-03  2022-10-01        None  \n",
      "...          ...         ...         ...         ...  \n",
      "1461  2023-06-28        None  2021-11-01        None  \n",
      "1462  2023-04-26        None  2022-07-01         CDC  \n",
      "1463  2024-03-26  2024-04-03  2024-04-01        None  \n",
      "1464  2023-06-22        None  2023-02-01  EdgeConneX  \n",
      "1465  2023-05-31        None  2023-01-01  EdgeConneX  \n",
      "\n",
      "[1466 rows x 18 columns]\n"
     ]
    },
    {
     "name": "stderr",
     "output_type": "stream",
     "text": [
      "C:\\Users\\huanminw\\AppData\\Local\\Temp\\ipykernel_1032\\1079825882.py:79: UserWarning: pandas only supports SQLAlchemy connectable (engine/connection) or database string URI or sqlite3 DBAPI2 connection. Other DBAPI2 objects are not tested. Please consider using SQLAlchemy.\n",
      "  df = pd.read_sql(query, self.connection);\n"
     ]
    },
    {
     "name": "stdout",
     "output_type": "stream",
     "text": [
      "      PORVersion PublishedDate  OrderType Region    Metro     AzureRegion  \\\n",
      "0       20231219    2023-11-16  Execution   AMER  Phoenix       West US 3   \n",
      "1       20231219    2023-11-16  Execution   APAC   Sydney  Australia East   \n",
      "2       20231219    2023-11-15  Execution   AMER  Boydton       East US 2   \n",
      "3       20231219    2023-11-13  Execution   AMER  Boydton       East US 2   \n",
      "4       20231219    2023-11-13  Execution   AMER  Boydton       East US 2   \n",
      "...          ...           ...        ...    ...      ...             ...   \n",
      "1461    20231219    2023-02-21  Execution   APAC   Sydney  Australia East   \n",
      "1462    20231219    2023-02-21  Execution   APAC   Sydney  Australia East   \n",
      "1463    20231219    2023-02-21  Execution   EMEA   Warsaw  Poland Central   \n",
      "1464    20231219    2023-02-21  Execution   EMEA   Warsaw  Poland Central   \n",
      "1465    20231219    2023-02-21  Execution   EMEA   Warsaw  Poland Central   \n",
      "\n",
      "        AZ     DC    COLO  Type      Racks  GPU MWs Build/Lease  Colo MWs  \\\n",
      "0     AZ01  PHX61  F01C01  H100         80    3.760       Lease     4.162   \n",
      "1     AZ02  SYD24  F01C03  A100         60    1.620       Lease     2.312   \n",
      "2     AZ04  AVC09  F01C01  H100  Full colo    9.024       Build     7.770   \n",
      "3     AZ02  LVL01  F01C05  A100       2x10    0.540       Build     7.585   \n",
      "4     AZ02  LVL03  F01C02  A100       2x10    0.540       Build     8.880   \n",
      "...    ...    ...     ...   ...        ...      ...         ...       ...   \n",
      "1461  AZ02  SYD24  F01C02  A100         80    2.160       Lease     3.514   \n",
      "1462  AZ03  SYD27  F02C08  A100         80    2.160       Lease     3.500   \n",
      "1463  AZ01  WAW03  F01C02  H100        192    9.024       Build     8.880   \n",
      "1464  AZ02  WAW20  F01C02  A100         80    2.160       Lease     3.330   \n",
      "1465  AZ03  WAW21  F01C02  A100         80    2.160       Lease     2.405   \n",
      "\n",
      "         CR Date   IST Month   RFS Month      Lessor  \n",
      "0     2023-12-29        None  2023-09-01         QTS  \n",
      "1     2023-12-19        None  2023-10-01    AirTrunk  \n",
      "2     2024-05-09  2023-06-14  2023-06-01        None  \n",
      "3     2022-06-29  2022-06-20  2022-06-01        None  \n",
      "4     2022-12-20  2022-10-03  2022-10-01        None  \n",
      "...          ...         ...         ...         ...  \n",
      "1461  2023-06-28        None  2021-11-01        None  \n",
      "1462  2023-04-26        None  2022-07-01         CDC  \n",
      "1463  2024-03-26  2024-04-03  2024-04-01        None  \n",
      "1464  2023-06-22        None  2023-02-01  EdgeConneX  \n",
      "1465  2023-05-31        None  2023-01-01  EdgeConneX  \n",
      "\n",
      "[1466 rows x 18 columns]\n"
     ]
    }
   ],
   "source": [
    "from azure.identity import AzureCliCredential, ChainedTokenCredential, DefaultAzureCredential, ManagedIdentityCredential\n",
    "import struct\n",
    "import pyodbc\n",
    "import pandas as pd \n",
    "\n",
    "class DatabaseConnection():\n",
    "    def __init__(self, configuration : dict):\n",
    "        server = configuration.get('server')\n",
    "        if (not str(server).endswith('.database.windows.net')) :\n",
    "            server = server + '.database.windows.net';\n",
    "        self.sever = server;\n",
    "        self.database = configuration.get('database');\n",
    "        credential = ChainedTokenCredential(ManagedIdentityCredential(), \n",
    "                                            AzureCliCredential(), \n",
    "                                            DefaultAzureCredential());\n",
    "        databaseToken = credential.get_token('https://database.windows.net/');\n",
    "        print(databaseToken);\n",
    "        tokenb = bytes(databaseToken[0], \"UTF-8\");\n",
    "        exptoken = b'';\n",
    "        for i in tokenb:\n",
    "            exptoken += bytes({i});\n",
    "            exptoken += bytes(1);\n",
    "        tokenstruct = struct.pack(\"=i\", len(exptoken)) + exptoken;\n",
    "        connString = \"Driver={ODBC Driver 17 for SQL Server};SERVER=\"+self.sever+\";DATABASE=\"+self.database+\"\";\n",
    "        SQL_COPT_SS_ACCESS_TOKEN = 1256; \n",
    "        self.connection = pyodbc.connect(connString, attrs_before = {SQL_COPT_SS_ACCESS_TOKEN:tokenstruct});\n",
    "\n",
    "\n",
    "    # write a database to database, mode = append or replace\n",
    "    def insert(self, df : pd.DataFrame, table :str):\n",
    "        \"\"\"\n",
    "        Execute a SQL write.\n",
    "        @param df: Data Frame.        \n",
    "        @param table: Table Name.\n",
    "        \"\"\"\n",
    "        statement = '''\n",
    "        INSERT INTO {table}\n",
    "        (\n",
    "            {columns}\n",
    "        )\n",
    "        VALUES({place_holders})\n",
    "        '''\n",
    "        # add protection on column name\n",
    "        columns = df.columns.tolist();\n",
    "        for i in range(len(columns)):\n",
    "            columns[i] = '[' + columns[i] + ']';\n",
    "        statement = statement.format(table = table, \n",
    "                                     columns = (',').join(columns), \n",
    "                                     place_holders = (',').join(['?'] * len(df.columns)));\n",
    "        print(statement);\n",
    "        # Create a Pandas dataframe from the results\n",
    "        cursor = self.connection.cursor();\n",
    "        cursor.fast_executemany = True;\n",
    "        cursor.executemany(statement, df.values.tolist());\n",
    "        cursor.commit();\n",
    "        cursor.close();\n",
    "\n",
    "    # execute sql command\n",
    "    def execute(self, statement : str):\n",
    "        \"\"\"\n",
    "        Execute a SQL command.\n",
    "        @param query: query.        \n",
    "        \"\"\"\n",
    "        # Create a Pandas dataframe from the results\n",
    "        cursor = self.connection.cursor();\n",
    "        cursor.execute(statement);\n",
    "        cursor.commit();\n",
    "        cursor.close();\n",
    "\n",
    "\n",
    "    def query(self, query: str) -> pd.DataFrame:\n",
    "        \"\"\"\n",
    "        Execute a SQL query.\n",
    "        @param query: The query.\n",
    "        @returns: A Pandas DataFrame.\n",
    "        \"\"\"\n",
    "        # Create a Pandas dataframe from the results\n",
    "        \n",
    "        df = pd.read_sql(query, self.connection);\n",
    "\n",
    "        # Print the dataframe\n",
    "        print(df);\n",
    "        return df\n",
    "\n",
    "    def close(self):\n",
    "        \"\"\"\n",
    "        Close the Database client.\n",
    "        \"\"\"\n",
    "        self.connection.close();\n",
    "\n",
    "\n",
    "databaseConn = DatabaseConnection({'server' : 'eppmreportingdev.database.windows.net', 'database' :'DCEPDev'});\n",
    "df = databaseConn.query('SELECT * FROM [CSPW].[GPURetrofit_Signal_Fact]');\n",
    "databaseConn.close();\n",
    "print(df);\n",
    "    \n"
   ]
  }
 ],
 "metadata": {
  "kernelspec": {
   "display_name": "venv",
   "language": "python",
   "name": "python3"
  },
  "language_info": {
   "codemirror_mode": {
    "name": "ipython",
    "version": 3
   },
   "file_extension": ".py",
   "mimetype": "text/x-python",
   "name": "python",
   "nbconvert_exporter": "python",
   "pygments_lexer": "ipython3",
   "version": "3.11.9"
  },
  "orig_nbformat": 4
 },
 "nbformat": 4,
 "nbformat_minor": 2
}
