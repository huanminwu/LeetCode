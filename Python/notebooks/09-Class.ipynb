{
 "cells": [
  {
   "attachments": {},
   "cell_type": "markdown",
   "metadata": {},
   "source": [
    "# Class\n",
    "In this notebook we will learn Class."
   ]
  },
  {
   "attachments": {},
   "cell_type": "markdown",
   "metadata": {},
   "source": [
    "### Construct a Class\n",
    "Class will have its member variables and method. The constructor of a class is defined in function __init__()"
   ]
  },
  {
   "cell_type": "code",
   "execution_count": 23,
   "metadata": {},
   "outputs": [
    {
     "name": "stdout",
     "output_type": "stream",
     "text": [
      "2019 Audit A4\n",
      "This car has 100 miles on it.\n"
     ]
    }
   ],
   "source": [
    "# define a class Car. \n",
    "class Car:\n",
    "    def __init__(self, maker, model, year):\n",
    "        self.maker = maker\n",
    "        self.model = model\n",
    "        self.year = year\n",
    "        self.tank = 0\n",
    "        self.meter_reading  = 0\n",
    "    \n",
    "    def get_description(self) :\n",
    "        description = str(self.year) + \" \" + str(self.maker.title()) + \" \" + str(self.model.title())\n",
    "        return description\n",
    "\n",
    "    def get_meter_reading(self) :\n",
    "        return self.meter_reading\n",
    "    \n",
    "    def set_meter_reading(self, meters) :\n",
    "        if self.meter_reading > meters :\n",
    "            print(\"Error, you can not roll back meter\")\n",
    "        else:\n",
    "            self.meter_reading = meters\n",
    "\n",
    "\n",
    "my_car = Car('audit', 'a4', '2019')\n",
    "print(my_car.get_description())\n",
    "my_car.set_meter_reading(100)\n",
    "print(\"This car has {miles} miles on it.\".format(miles = my_car.get_meter_reading()))\n",
    "\n",
    "\n"
   ]
  },
  {
   "attachments": {},
   "cell_type": "markdown",
   "metadata": {},
   "source": [
    "#### Observation\n",
    "1. The constructor of class is defined in the function of __init__(), please notice it is double under score.\n",
    "2. Every member function should be declared with parameters starting with self, which is the current instance of the class. (like this in C++).\n",
    "3. When call a member function you should ignore the self."
   ]
  },
  {
   "cell_type": "markdown",
   "metadata": {},
   "source": [
    "#### Factory as Constructor\n",
    "We can use a class method to generate an instance of a class. This is called factory pattern."
   ]
  },
  {
   "cell_type": "code",
   "execution_count": null,
   "metadata": {},
   "outputs": [],
   "source": [
    "import time\n",
    "class Date:\n",
    "    def __init__(self, year, month, day) :\n",
    "        self.year = year\n",
    "        self.month = month\n",
    "        self.day = day\n",
    "\n",
    "    @classmethod\n",
    "    def today(cls) :\n",
    "        t = time.localtime()\n",
    "        return cls(t.tm_year, t.tm_mon, t.tm_mday)\n",
    "\n",
    "b = Date.today()\n",
    "print(type(b).__name__)    "
   ]
  },
  {
   "attachments": {},
   "cell_type": "markdown",
   "metadata": {},
   "source": [
    "### Encapsulation\n",
    "In general, Python does not provide private members or functions, but if you add a double underscore prefix, it will not be directly callable from external code. "
   ]
  },
  {
   "attachments": {},
   "cell_type": "markdown",
   "metadata": {},
   "source": [
    "Please look at the following example:"
   ]
  },
  {
   "cell_type": "code",
   "execution_count": 4,
   "metadata": {},
   "outputs": [
    {
     "name": "stdout",
     "output_type": "stream",
     "text": [
      "Balance =  2000\n",
      "2000 RMB = 271.23 USD\n"
     ]
    }
   ],
   "source": [
    "# define a Bank Account\n",
    "class BankAccount():\n",
    "    ''' define the bank account '''\n",
    "    def __init__(self, user_name) :\n",
    "        self.__user_name = user_name\n",
    "        self.__balance = 0\n",
    "        self.__bank_name = 'Chase'\n",
    "        self.__service_charge = 0.01\n",
    "\n",
    "    def save_money(self, money) :\n",
    "        self.__balance += money\n",
    "    \n",
    "    def withdraw_money(self, money) :\n",
    "        if (money <= self.__balance) :\n",
    "            self.__balance -= money\n",
    "    \n",
    "    def get_balance(self) :\n",
    "        return self.__balance\n",
    "    \n",
    "    def rmb_to_usd(self, rmb) :\n",
    "        result = self.__convert_rmb_to_usd(rmb)\n",
    "        return result\n",
    "    \n",
    "    def __convert_rmb_to_usd(self, rmb) :\n",
    "        __rate = 7.3\n",
    "        result = rmb / __rate * (1 - self.__service_charge)\n",
    "        return result\n",
    "\n",
    "account = BankAccount('James')\n",
    "account.save_money(10000)\n",
    "account.withdraw_money(8000)\n",
    "print(\"Balance = \", account.get_balance())\n",
    "print(\"2000 RMB = {usd} USD\".format(usd = round(account.rmb_to_usd(2000),2)))\n",
    "\n"
   ]
  },
  {
   "attachments": {},
   "cell_type": "markdown",
   "metadata": {},
   "source": [
    "#### Property\n",
    "We can assign class member functions to property."
   ]
  },
  {
   "cell_type": "code",
   "execution_count": 145,
   "metadata": {},
   "outputs": [
    {
     "name": "stdout",
     "output_type": "stream",
     "text": [
      "score =  80\n"
     ]
    }
   ],
   "source": [
    "class Score():\n",
    "    def __init__(self, score) :\n",
    "        self.__score = score\n",
    "\n",
    "    def get_score(self) :\n",
    "        return self.__score\n",
    "    \n",
    "    def set_score(self, score) :\n",
    "        self.__score = score\n",
    "\n",
    "    def del_score(self) :\n",
    "        self.__score = None\n",
    "\n",
    "    score = property(get_score, set_score, del_score) \n",
    "s = Score(100)\n",
    "s.score = 80\n",
    "print('score = ', s.score)  "
   ]
  },
  {
   "cell_type": "markdown",
   "metadata": {},
   "source": [
    "#### Typed property"
   ]
  },
  {
   "cell_type": "code",
   "execution_count": 2,
   "metadata": {},
   "outputs": [
    {
     "name": "stdout",
     "output_type": "stream",
     "text": [
      "Person (name, age) =  ('David', 30)\n",
      "<__main__.Person object at 0x000001BEC8627090>\n"
     ]
    }
   ],
   "source": [
    "# define a typed property\n",
    "def typed_property(name, expected_type):\n",
    "    storage_name = '_' + name\n",
    "\n",
    "    @property\n",
    "    def prop(self):\n",
    "        return getattr(self, storage_name)\n",
    "    \n",
    "    @prop.setter\n",
    "    def prop(self, value):\n",
    "        if not isinstance(value, expected_type) :\n",
    "            raise TypeError('{} must be a {}'.format(name, expected_type))\n",
    "        setattr(self, storage_name, value)\n",
    "    return prop\n",
    "    \n",
    "# Example use\n",
    "class Person:\n",
    "    name = typed_property('name', str)\n",
    "    age = typed_property('age', int)\n",
    "    def __init__(self, name, age):\n",
    "        self.name = name\n",
    "        self.age = age\n",
    "\n",
    "person = Person(name = 'David', age=30)\n",
    "print(\"Person (name, age) = \", (person.name, person.age))"
   ]
  },
  {
   "attachments": {},
   "cell_type": "markdown",
   "metadata": {},
   "source": [
    "### Class method and static method\n",
    "Class method and static method do not depend on any instance "
   ]
  },
  {
   "cell_type": "code",
   "execution_count": 12,
   "metadata": {},
   "outputs": [
    {
     "name": "stdout",
     "output_type": "stream",
     "text": [
      "3\n",
      "I love counter\n"
     ]
    }
   ],
   "source": [
    "# A class method\n",
    "class Counter():\n",
    "    counter = 0\n",
    "    def __init__(self) :\n",
    "        Counter.counter += 1\n",
    "    \n",
    "    @classmethod\n",
    "    def show_counter(cls) :\n",
    "        return Counter.counter\n",
    "    \n",
    "    @staticmethod\n",
    "    def demo() :\n",
    "        print(\"I love counter\")\n",
    "        \n",
    "\n",
    "one = Counter()\n",
    "two = Counter()\n",
    "three = Counter()\n",
    "print(Counter.show_counter())\n",
    "Counter.demo()\n"
   ]
  },
  {
   "attachments": {},
   "cell_type": "markdown",
   "metadata": {},
   "source": [
    "### Inheritance\n",
    "A class can inherit from another class\n"
   ]
  },
  {
   "cell_type": "code",
   "execution_count": 16,
   "metadata": {},
   "outputs": [
    {
     "name": "stdout",
     "output_type": "stream",
     "text": [
      "2021 Tesla Model_S\n",
      "ElectricCar, Battery Size = 60\n",
      "This car has 100 miles on it.\n",
      "The car can run 300 miles.\n"
     ]
    }
   ],
   "source": [
    "# define a class Car. \n",
    "class Car:\n",
    "    def __init__(self, maker, model, year):\n",
    "        self.maker = maker\n",
    "        self.model = model\n",
    "        self.year = year\n",
    "        self.tank = 0\n",
    "        self.meter_reading  = 0\n",
    "    \n",
    "    def get_description(self) :\n",
    "        description = str(self.year) + \" \" + str(self.maker.title()) + \" \" + str(self.model.title())\n",
    "        return description\n",
    "\n",
    "    def get_meter_reading(self) :\n",
    "        return self.meter_reading\n",
    "    \n",
    "    def set_meter_reading(self, meters) :\n",
    "        if self.meter_reading > meters :\n",
    "            print(\"Error, you can not roll back meter\")\n",
    "        else:\n",
    "            self.meter_reading = meters\n",
    "\n",
    "    def fill_tank(self, gas) :\n",
    "        self.tank += gas\n",
    "\n",
    "    # how many mile the car can run with current gas in tank\n",
    "    def get_range(self) :\n",
    "        return self.tank * 20\n",
    "\n",
    "# define a subclass Electric Car\n",
    "class ElectricCar(Car) :\n",
    "    def __init__(self, maker, model, year, battery_size) :\n",
    "        super().__init__(maker, model, year)\n",
    "        self.battery_size = battery_size\n",
    "    \n",
    "    def get_description(self) :\n",
    "        description = super().get_description()\n",
    "        description += \"\\n\"\n",
    "        description += \"ElectricCar, Battery Size = \" + str(self.battery_size)\n",
    "        return description\n",
    "\n",
    "    # how many mile the car can run with current gas in tank\n",
    "    def get_range(self) :\n",
    "        return self.battery_size * 5\n",
    "\n",
    "    \n",
    "my_car = ElectricCar('Tesla', 'model_s', '2021', 60)\n",
    "print(my_car.get_description())\n",
    "my_car.set_meter_reading(100)\n",
    "print(\"This car has {miles} miles on it.\".format(miles = my_car.get_meter_reading()))\n",
    "print(\"The car can run {miles} miles.\".format(miles = my_car.get_range()))"
   ]
  },
  {
   "attachments": {},
   "cell_type": "markdown",
   "metadata": {},
   "source": [
    "#### Observation\n",
    "1. A subclass object can get the parent object by calling super().\n",
    "2. The super().call() will call the function defined in the parent object.\n",
    "3. If the subclass and super calss happen to have the same method, then the subclass function will get called.\n",
    "4. Please remember Python is a weak type language, if you define many mentods with same name, it can be messy in the future.\n",
    "5. If two classes inherit from same parent class, they can access members in each other, but this is highly not recommended."
   ]
  },
  {
   "cell_type": "markdown",
   "metadata": {},
   "source": [
    "#### Polymorphism\n",
    "1. Python support polymorphism, which means a class can inherit from multiple classes\n",
    "2. If we call parent class functions, they are executed in order.\n",
    "3. We can use class.\\_\\_mro__ to determine the method resolution order (MRO)"
   ]
  },
  {
   "cell_type": "code",
   "execution_count": 24,
   "metadata": {},
   "outputs": [
    {
     "name": "stdout",
     "output_type": "stream",
     "text": [
      "Base.__init__\n",
      "B.__init__\n",
      "A.__init__\n",
      "C.__init__\n"
     ]
    },
    {
     "data": {
      "text/plain": [
       "(__main__.C, __main__.A, __main__.B, __main__.Base, object)"
      ]
     },
     "execution_count": 24,
     "metadata": {},
     "output_type": "execute_result"
    }
   ],
   "source": [
    "class Base:\n",
    "    def __init__(self):\n",
    "        print('Base.__init__')\n",
    "class A(Base):\n",
    "    def __init__(self):\n",
    "        super().__init__()\n",
    "        print('A.__init__')\n",
    "class B(Base):\n",
    "    def __init__(self):\n",
    "        super().__init__()\n",
    "        print('B.__init__')\n",
    "class C(A,B):\n",
    "    def __init__(self):\n",
    "        super().__init__()\n",
    "        print('C.__init__')\n",
    "\n",
    "c = C()\n",
    "\n",
    "\n",
    "C.__mro__\n"
   ]
  },
  {
   "attachments": {},
   "cell_type": "markdown",
   "metadata": {},
   "source": [
    "#### type() and isinstance()\n",
    "1. We can call type() to get the type of variable\n"
   ]
  },
  {
   "cell_type": "code",
   "execution_count": 18,
   "metadata": {},
   "outputs": [
    {
     "name": "stdout",
     "output_type": "stream",
     "text": [
      "type of my_car is  <class '__main__.ElectricCar'>\n",
      "my_car is instance of Car  True\n"
     ]
    }
   ],
   "source": [
    "my_car = ElectricCar('Tesla', 'model_s', '2021', 60)\n",
    "print(\"type of my_car is \", type(my_car))\n",
    "print(\"my_car is instance of Car \", isinstance(my_car, Car))"
   ]
  },
  {
   "attachments": {},
   "cell_type": "markdown",
   "metadata": {},
   "source": [
    "### Special members in a class\n",
    "| Member | Explanation |\n",
    "| --- | --- |\n",
    "| \\_\\_name__ | Program name |\n",
    "| \\_\\_str__() | return a string when convert to string |\n",
    "| \\_\\_repr__() | return a string when object is reference |\n",
    "| \\_\\_iter__() | return iterable for the object |\n",
    "| \\_\\_eq__(self, other ) | self == other |\n",
    "| \\_\\_ne__(self, other) | self != other |\n",
    "| \\_\\_lt__(self, other) | self < other |\n",
    "| \\_\\_gt__(self, other) | self > other |\n",
    "| \\_\\_le__(self, other) | self <= other |\n",
    "| \\_\\_add__(self, other) | self + other |\n",
    "| \\_\\_sub__(self, other) | self - other |\n",
    "| \\_\\_mul__(self, other) | self * other |\n",
    "| \\_\\_floordiv__(self, other) | self // other |\n",
    "| \\_\\_truediv__(self, other) | self / other |\n",
    "| \\_\\_mod__(self, other) | self % other |\n",
    "| \\_\\_pow__(self, other) | self ** other |"
   ]
  },
  {
   "cell_type": "markdown",
   "metadata": {},
   "source": [
    "#### String format Representation of an object.\n",
    "1. we use \\_\\_repr__() to represent an object intance in object reference.\n",
    "2. we use \\_\\_str__() to represent an object in print\n",
    "3. if \\_\\_str__() is not defined it falls back to \\_\\_repr__()"
   ]
  },
  {
   "cell_type": "code",
   "execution_count": 8,
   "metadata": {},
   "outputs": [
    {
     "name": "stdout",
     "output_type": "stream",
     "text": [
      "p =  Pair(3, 4)\n"
     ]
    }
   ],
   "source": [
    "# class Pair\n",
    "class Pair:\n",
    "    def __init__(self, x, y):\n",
    "        self.x = x\n",
    "        self.y = y\n",
    "    def __repr__(self):\n",
    "        return 'Pair({0.x}, {0.y})'.format(self)\n",
    "    def __str__(self):\n",
    "        return 'Pair({0.x}, {0.y})'.format(self)\n",
    "    \n",
    "p = Pair(3, 4)\n",
    "print(\"p = \", p)"
   ]
  },
  {
   "cell_type": "markdown",
   "metadata": {},
   "source": [
    "#### Class support Comparison Operations"
   ]
  },
  {
   "cell_type": "code",
   "execution_count": 135,
   "metadata": {},
   "outputs": [
    {
     "name": "stdout",
     "output_type": "stream",
     "text": [
      "Is h1 bigger than h2 True\n",
      "Is h2 smaller than h3 True\n",
      "Is h2 greater than or equal to h1 False\n",
      "which one is biggest? h1 : 1182 sqaure foot Cape\n",
      "which one is smallest? h2 : 846 sqaure foot Ranch\n"
     ]
    }
   ],
   "source": [
    "from functools import total_ordering\n",
    "class Room:\n",
    "    def __init__(self, name, length, width):\n",
    "        self.name = name\n",
    "        self.length = length\n",
    "        self.width = width\n",
    "        self.square_feet = self.length * self.width\n",
    "\n",
    "@total_ordering\n",
    "class House:\n",
    "    def __init__(self, name, style):\n",
    "        self.name = name\n",
    "        self.style = style\n",
    "        self.rooms = list()\n",
    "\n",
    "    @property\n",
    "    def living_space_footage(self):\n",
    "        return sum(r.square_feet for r in self.rooms)\n",
    "    \n",
    "    def add_room(self, room):\n",
    "        self.rooms.append(room)\n",
    "    \n",
    "    def __str__(self) :\n",
    "        return ('{} : {} sqaure foot {}'.format(self.name, self.living_space_footage, self.style))\n",
    "    \n",
    "    def __eq__(self, other) :\n",
    "        return self.living_space_footage == other.living_space_footage\n",
    "    \n",
    "    def __lt__(self, other) :\n",
    "        return self.living_space_footage < other.living_space_footage  \n",
    "\n",
    "# build a few houses\n",
    "h1 = House('h1', 'Cape')\n",
    "h1.add_room(Room('Master Bedroom', 14, 21))\n",
    "h1.add_room(Room('Living Room', 18, 20))\n",
    "h1.add_room(Room('Kitchen', 12, 16))\n",
    "h1.add_room(Room('Office', 12, 12))\n",
    "\n",
    "h2 = House('h2', 'Ranch')\n",
    "h2.add_room(Room('Master Bedroom', 14, 21))\n",
    "h2.add_room(Room('Living Room', 18, 20))\n",
    "h2.add_room(Room('Kitchen', 12, 16))\n",
    "\n",
    "h3 = House('h3', 'Split')\n",
    "h3.add_room(Room('Master Bedroom', 14, 21))\n",
    "h3.add_room(Room('Living Room', 18, 20))\n",
    "h1.add_room(Room('Office', 12, 16))\n",
    "h3.add_room(Room('Kitchen', 15, 17))\n",
    "\n",
    "houses = [h1, h2, h3]\n",
    "print('Is h1 bigger than h2', h1 > h2)\n",
    "print('Is h2 smaller than h3', h2 < h3)\n",
    "print('Is h2 greater than or equal to h1', h2 > h1)\n",
    "print('which one is biggest?', max(houses))\n",
    "print('which one is smallest?', min(houses))"
   ]
  },
  {
   "cell_type": "markdown",
   "metadata": {},
   "source": [
    "#### Observation\n",
    "1. @total_ordering will create the following methods \n",
    "- \\_\\_le__ = lambda self, other : self < other or self == other\n",
    "- \\_\\_gt__ = lambda self, other : not (self < other or self == other)\n",
    "- \\_\\_ge__ = lambda self, other : not (self < other)\n",
    "- \\_\\_ne__ = lambda self, other : not self == other "
   ]
  },
  {
   "cell_type": "markdown",
   "metadata": {},
   "source": [
    "#### Custimized string format of class instance\n",
    "We can implement \\_\\_format__() to customize the string format of an instance"
   ]
  },
  {
   "cell_type": "code",
   "execution_count": 89,
   "metadata": {},
   "outputs": [
    {
     "name": "stdout",
     "output_type": "stream",
     "text": [
      "2012-12-21\n"
     ]
    }
   ],
   "source": [
    "# class Date\n",
    "_formats = {\n",
    "        'ymd' : '{d.year}-{d.month}-{d.day}',\n",
    "        'mdy' : '{0.month}/{d.day}/{d.year}',\n",
    "        'dmy' : '{0.day}/{d.month}/{d.year}'\n",
    "}\n",
    "class Date:\n",
    "    _formats = {\n",
    "        'ymd' : '{d.year}-{d.month}-{d.day}',\n",
    "        'mdy' : '{0.month}/{d.day}/{d.year}',\n",
    "        'dmy' : '{0.day}/{d.month}/{d.year}'\n",
    "}\n",
    "    def __init__(self, year, month, day) :\n",
    "        self.year = year\n",
    "        self.month = month\n",
    "        self.day = day\n",
    "    def __format__(self, code) :\n",
    "        if code == '':\n",
    "            code = 'ymd'\n",
    "        fmt = code\n",
    "        if (fmt in _formats):\n",
    "            fmt = _formats[code]\n",
    "        return fmt.format(d=self)\n",
    "\n",
    "d = Date(2012, 12, 21)\n",
    "print(format(d, 'ymd'))\n",
    "        "
   ]
  },
  {
   "cell_type": "markdown",
   "metadata": {},
   "source": [
    "#### Lazy properties\n",
    "1. Lazy properties are only calculated first and cached in the memory\n",
    "2. In the following example we use native functions of getattr and setattr "
   ]
  },
  {
   "cell_type": "code",
   "execution_count": 30,
   "metadata": {},
   "outputs": [
    {
     "name": "stdout",
     "output_type": "stream",
     "text": [
      "Computting area\n",
      "area =  50.26548245743669\n",
      "Computting perimeter\n",
      "perimeter =  25.132741228718345\n",
      "perimeter =  25.132741228718345\n"
     ]
    }
   ],
   "source": [
    "import math\n",
    "def lazyproperty(func) :\n",
    "    name = '_lazy_'+func.__name__\n",
    "    @property\n",
    "    def lazy(self):\n",
    "        if (hasattr(self, name)):\n",
    "            return getattr(self, name)\n",
    "        else:\n",
    "            value = func(self)\n",
    "            setattr(self, name, value)\n",
    "            return value\n",
    "    return lazy\n",
    "    \n",
    "class Circle:\n",
    "    def __init__(self, radius):\n",
    "        self.radius = radius\n",
    "    \n",
    "    @lazyproperty\n",
    "    def area(self) :\n",
    "        print('Computting area')\n",
    "        return math.pi * self.radius ** 2\n",
    "\n",
    "    @lazyproperty\n",
    "    def perimeter(self) :\n",
    "        print('Computting perimeter')\n",
    "        return 2 * math.pi * self.radius\n",
    "    \n",
    "c = Circle(4.0)\n",
    "print('area = ', c.area)\n",
    "print('perimeter = ', c.perimeter)\n",
    "print('perimeter = ', c.perimeter)\n",
    "\n"
   ]
  },
  {
   "cell_type": "markdown",
   "metadata": {},
   "source": [
    "#### Use class variables to formalize members\n",
    "1. We can set a class variables in the base class.\n",
    "2. In each sub class we can define the members and their type"
   ]
  },
  {
   "cell_type": "code",
   "execution_count": 77,
   "metadata": {},
   "outputs": [
    {
     "name": "stdout",
     "output_type": "stream",
     "text": [
      "('name', <class 'str'>)\n",
      "('shares', <class 'int'>)\n",
      "('price', <class 'float'>)\n",
      "('x', <class 'int'>)\n",
      "('y', <class 'int'>)\n",
      "('radius', <class 'float'>)\n"
     ]
    }
   ],
   "source": [
    "# define a Structure base class\n",
    "class Structure:\n",
    "    _fields = {}\n",
    "    def __init__(self, *args):\n",
    "        if (len(args) != len(self._fields.keys())) :\n",
    "            raise TypeError('Expected {0} arguments'.format(len(self._fields.keys())))\n",
    "        for item, value in zip(self._fields.items(), args) :\n",
    "            print(item)\n",
    "            if isinstance(value, item[1]) :\n",
    "                setattr(self, item[0], value)\n",
    "            else:\n",
    "                msg = 'Expected ' + item[1].__name__\n",
    "                raise TypeError(msg)\n",
    "         \n",
    "class Stock(Structure) :\n",
    "    _fields = {'name' : str, 'shares' : int, 'price' : float}\n",
    "\n",
    "class Point(Structure) :\n",
    "    _fields = {'x' : int, 'y' : int}\n",
    "\n",
    "class Circle(Structure) :\n",
    "    _fields = {'radius' : float}\n",
    "    def area(self): \n",
    "        return math.pi * self.radius ** 2\n",
    "\n",
    "s = Stock('ACME', 50, 91.1)\n",
    "p = Point(2,3)\n",
    "c = Circle(4.5)\n"
   ]
  },
  {
   "cell_type": "markdown",
   "metadata": {},
   "source": [
    "#### Abstract Base Class and Interface"
   ]
  },
  {
   "cell_type": "code",
   "execution_count": 78,
   "metadata": {},
   "outputs": [],
   "source": [
    "from abc import ABCMeta, abstractmethod, abstractclassmethod\n",
    "class Interface(metaclass=ABCMeta):\n",
    "    @property\n",
    "    @abstractmethod\n",
    "    def name(self):\n",
    "        pass\n",
    "\n",
    "    @name.setter\n",
    "    @abstractmethod\n",
    "    def name(self, value):\n",
    "        pass\n",
    "\n",
    "    @classmethod\n",
    "    @abstractmethod\n",
    "    def method1(cls):\n",
    "        pass\n",
    "\n",
    "    @staticmethod\n",
    "    @abstractmethod\n",
    "    def method2(cls):\n",
    "        pass\n"
   ]
  },
  {
   "cell_type": "markdown",
   "metadata": {},
   "source": [
    "#### Strong Typed Object from descriptor\n",
    "We can implement strong typed object from a descriptor"
   ]
  },
  {
   "cell_type": "code",
   "execution_count": 144,
   "metadata": {},
   "outputs": [
    {
     "name": "stdout",
     "output_type": "stream",
     "text": [
      "ACME 50 91.1\n",
      "ACME 50 91.1\n"
     ]
    }
   ],
   "source": [
    "# Base class. Use a descriptor to set a value\n",
    "class Descriptor:\n",
    "    def __init__(self, name=None, **opts):\n",
    "        self.name = name\n",
    "        for key, value in opts.items():\n",
    "            setattr(self, key, value)\n",
    "\n",
    "    def __set__(self, instance, value) :\n",
    "        instance.__dict__[self.name] = value\n",
    "    \n",
    "# Descriptor for enforcing types\n",
    "class Typed(Descriptor):\n",
    "    expected_type = type(None)\n",
    "    def __set__(self, instance, value) :\n",
    "        if not isinstance(value, self.expected_type) :\n",
    "            raise TypeError('expected ' + str(self.expected_type))\n",
    "        super().__set__(instance, value)\n",
    "\n",
    "# Descriptor for enforcing values\n",
    "class Unsigned(Descriptor):\n",
    "    def __set__(self, instance, value) :\n",
    "        if (value < 0) :\n",
    "            raise ValueError('Expected >= 0')\n",
    "        super().__set__(instance, value)\n",
    "\n",
    "class MaxSized(Descriptor) :\n",
    "    def __init__(self, name=None, **opts):\n",
    "        if('size' not in opts):\n",
    "            raise TypeError('missing size option')\n",
    "        super().__init__(name, **opts)\n",
    "\n",
    "    def __set__(self, instance, value):\n",
    "        if len(value) >= self.size:\n",
    "            raise ValueError('size must be < ' + str(self.size))\n",
    "        super().__set__(instance, value)\n",
    "\n",
    "class Integer(Typed):\n",
    "    expected_type = int\n",
    "\n",
    "class UnsignedInteger(Integer, Unsigned):\n",
    "    pass\n",
    "\n",
    "class Float(Typed):\n",
    "    expected_type = float\n",
    "\n",
    "class UnsignedFloat(Float, Unsigned):\n",
    "    pass\n",
    "\n",
    "class String(Typed) :\n",
    "    expected_type = str\n",
    "\n",
    "class SizedString(String, MaxSized):\n",
    "    pass\n",
    "\n",
    "\n",
    "class Stock :\n",
    "    # specify constraints:\n",
    "    name = SizedString('name', size = 8)\n",
    "    shares = UnsignedInteger('shares')\n",
    "    price = UnsignedFloat('price')\n",
    "    def __init__(self, name, shares, price):\n",
    "        self.name = name\n",
    "        self.shares = shares\n",
    "        self.price = price\n",
    "\n",
    "s = Stock('ACME', 50, 91.1)\n",
    "print(s.name, s.shares, s.price)\n",
    "\n",
    "# Use meta class to check type\n",
    "class StockMeta(type) :\n",
    "    def __new__(cls, name, bases, attrs) :\n",
    "        for key, value in attrs.items() :\n",
    "            if (isinstance(value, Descriptor)) :\n",
    "                value.name = key\n",
    "        return super().__new__(cls, name, bases, attrs)\n",
    "\n",
    "\n",
    "class Stock(metaclass = StockMeta) :\n",
    "    name = SizedString(size = 8)\n",
    "    shares = UnsignedInteger()\n",
    "    price = UnsignedFloat()\n",
    "    def __init__(self, name, shares, price):\n",
    "        self.name = name\n",
    "        self.shares = shares\n",
    "        self.price = price\n",
    "\n",
    "s = Stock('ACME', 50, 91.1)\n",
    "print(s.name, s.shares, s.price)\n"
   ]
  },
  {
   "cell_type": "markdown",
   "metadata": {},
   "source": [
    "#### Extending Class with Mixins\n",
    "1. Mixins is type of polymorphism, which allow you to extend your current class to add new functionalities.\n",
    "2. Mixins are not abstract class, but we should not create instance on it, \\_\\_slots__() also indicates this fact. "
   ]
  },
  {
   "cell_type": "code",
   "execution_count": 125,
   "metadata": {},
   "outputs": [
    {
     "name": "stdout",
     "output_type": "stream",
     "text": [
      "Setting x = 23\n",
      "Getting x\n",
      "23\n",
      "d = SetOnceDefaultDict(<class 'list'>, {'x': [2, 3]})\n",
      "d = StringOrderedDict([('x', 23), ('y', 30)])\n"
     ]
    }
   ],
   "source": [
    "class LoggedMappingMixin:\n",
    "    '''\n",
    "    Add logging functionality\n",
    "    '''\n",
    "    __slots__ = ()\n",
    "    def __getitem__(self, key) :\n",
    "        print('Getting ' + str(key))\n",
    "        return super().__getitem__(key)\n",
    "    def __setitem__(self, key, value) :\n",
    "        print('Setting {} = {}'.format(key, value))\n",
    "        return super().__setitem__(key, value)\n",
    "    def __delitem__(self, key) :\n",
    "        print('Deleting {}'.format(key))\n",
    "        return super().__delitem__(key)\n",
    "    \n",
    "\n",
    "class SetOnceMappingMixin:\n",
    "    '''\n",
    "    Only allow a key to be set once\n",
    "    '''\n",
    "    __slots__ = ()\n",
    "    def __setitem__(self, key, value) :\n",
    "        if key in self:\n",
    "            raise KeyError(str(key) + ' already set')\n",
    "        return super().__setitem__(key, value)\n",
    "\n",
    "class StringKeysMappingMixin:\n",
    "    '''\n",
    "    Restrict keys to strings only\n",
    "    '''\n",
    "    __slots__ = ()\n",
    "    def __setitem__(self, key, value) :\n",
    "        if not isinstance(key, str):\n",
    "            raise TypeError('keys musr be string')\n",
    "        return super().__setitem__(key, value)\n",
    "    \n",
    "class LoggedDict(LoggedMappingMixin, dict):\n",
    "    pass\n",
    "\n",
    "d = LoggedDict()\n",
    "d['x'] = 23\n",
    "print(d['x'])\n",
    "\n",
    "from collections import defaultdict\n",
    "class SetOnceDefaultDict(SetOnceMappingMixin, defaultdict):\n",
    "    pass\n",
    "d = SetOnceDefaultDict(list)\n",
    "d['x'].append(2)\n",
    "d['x'].append(3)\n",
    "print(\"d =\", d)\n",
    "\n",
    "from collections import OrderedDict\n",
    "class StringOrderedDict(StringKeysMappingMixin, SetOnceMappingMixin, OrderedDict):\n",
    "    pass\n",
    "d = StringOrderedDict()\n",
    "d['x'] = 23\n",
    "d['y'] = 30\n",
    "print(\"d =\", d)  \n"
   ]
  },
  {
   "cell_type": "markdown",
   "metadata": {},
   "source": [
    "#### Observation\n",
    "1. In python one class can inherit from multiple parent classes, the inherit sequence is in Class.\\_\\_mro__\n",
    "2. We can leverage multiple inheritances to add constraints to a typed member\n",
    "3. We need to define the constraint in the material class."
   ]
  },
  {
   "cell_type": "markdown",
   "metadata": {},
   "source": [
    "#### Calling an instance method by a string name"
   ]
  },
  {
   "cell_type": "code",
   "execution_count": 131,
   "metadata": {},
   "outputs": [
    {
     "name": "stdout",
     "output_type": "stream",
     "text": [
      "p =  Point(2, 3)\n",
      "distance =  3.605551275463989\n",
      "distance =  3.605551275463989\n",
      "Before points: [Point(1, 2), Point(3, 0), Point(10, -3), Point(-5, -7), Point(-1, 8), Point(3, 2)]\n",
      "After points: [Point(1, 2), Point(3, 0), Point(3, 2), Point(-1, 8), Point(-5, -7), Point(10, -3)]\n"
     ]
    }
   ],
   "source": [
    "import math\n",
    "class Point:\n",
    "    def __init__(self, x, y):\n",
    "        self.x = x\n",
    "        self.y = y\n",
    "    def __repr__(self):\n",
    "        return 'Point({}, {})'.format(self.x, self.y)\n",
    "    def distance(self, x, y):\n",
    "        return math.hypot(self.x - x, self.y - y)\n",
    "\n",
    "p = Point(2,3)\n",
    "print(\"p = \", p)\n",
    "\n",
    "d = getattr(p, 'distance')(0, 0)\n",
    "print('distance = ', d)\n",
    "\n",
    "import operator\n",
    "d = operator.methodcaller('distance', 0, 0)(p)\n",
    "print('distance = ', d)\n",
    "\n",
    "points = [\n",
    "    Point(1, 2),\n",
    "    Point(3, 0),\n",
    "    Point(10, -3),\n",
    "    Point(-5, -7),\n",
    "    Point(-1, 8),\n",
    "    Point(3, 2),\n",
    "]\n",
    "print('Before points:', points)\n",
    "points.sort(key=operator.methodcaller('distance', 0, 0))\n",
    "print('After points:', points)\n"
   ]
  },
  {
   "cell_type": "markdown",
   "metadata": {},
   "source": [
    "#### Cached Instances"
   ]
  },
  {
   "cell_type": "code",
   "execution_count": 141,
   "metadata": {},
   "outputs": [
    {
     "name": "stdout",
     "output_type": "stream",
     "text": [
      "a is c? True\n",
      "a is c? False\n"
     ]
    }
   ],
   "source": [
    "import weakref\n",
    "\n",
    "# The class in question\n",
    "class Spam:\n",
    "    # Caching support\n",
    "    _spam_cache = weakref.WeakValueDictionary()\n",
    "\n",
    "    def __init__(self, name):\n",
    "        self.name = name\n",
    "    \n",
    "    @classmethod\n",
    "    def get_spam(cls, name) :\n",
    "        if name not in cls._spam_cache :\n",
    "            s = Spam(name)\n",
    "            cls._spam_cache[name] = s\n",
    "        else :\n",
    "            s = cls._spam_cache[name]\n",
    "        return s\n",
    "\n",
    "a = Spam.get_spam('foo')\n",
    "b = Spam.get_spam('bar')\n",
    "c = Spam.get_spam('foo')\n",
    "print(\"a is c?\", a is c)\n",
    "\n",
    "a = Spam('foo')\n",
    "c = Spam('foo')\n",
    "\n",
    "\n",
    "print(\"a is c?\", a is c)"
   ]
  },
  {
   "cell_type": "markdown",
   "metadata": {},
   "source": [
    "#### Decoratorr\n",
    "1. We can put a wrapper on a function.\n",
    "2. We can put the wrapper as a decorator above the function."
   ]
  },
  {
   "cell_type": "code",
   "execution_count": 142,
   "metadata": {},
   "outputs": [
    {
     "name": "stdout",
     "output_type": "stream",
     "text": [
      "<__main__.Spam object at 0x0000022857DA03D0> 100000\n",
      "instance_method 0.014757633209228516\n",
      "<class '__main__.Spam'> 100000\n",
      "class_method 0.01155400276184082\n",
      "100000\n",
      "static_method 0.013373613357543945\n"
     ]
    }
   ],
   "source": [
    "from time import time\n",
    "from functools import wraps\n",
    "\n",
    "def timethis(func):\n",
    "    '''\n",
    "    Decorator that reports the execution time\n",
    "    '''\n",
    "    @wraps(func)\n",
    "    def wrapper(*args, **kwargs):\n",
    "        start = time()\n",
    "        result = func(*args, **kwargs)\n",
    "        end = time()\n",
    "        print(func.__name__, end-start)\n",
    "        return result\n",
    "    return wrapper\n",
    "\n",
    "class Spam:\n",
    "    @timethis\n",
    "    def instance_method(self, n):\n",
    "        print(self, n)\n",
    "        while (n > 0):\n",
    "            n -= 1\n",
    "    \n",
    "    @classmethod\n",
    "    @timethis\n",
    "    def class_method(cls, n):\n",
    "        print(cls, n)\n",
    "        while(n > 0):\n",
    "            n -= 1\n",
    "    \n",
    "    @staticmethod\n",
    "    @timethis\n",
    "    def static_method(n):\n",
    "        print(n)\n",
    "        while(n > 0):\n",
    "            n -= 1\n",
    "\n",
    "s = Spam()\n",
    "s.instance_method(100000)\n",
    "Spam.class_method(100000)\n",
    "Spam.static_method(100000)"
   ]
  },
  {
   "attachments": {},
   "cell_type": "markdown",
   "metadata": {},
   "source": [
    "### Import Class Library\n",
    "We can define class in module, and package it. When we use it, we will import module and select class to the code.\n",
    "\n",
    "In the following example, we import some random class"
   ]
  },
  {
   "cell_type": "code",
   "execution_count": 14,
   "metadata": {},
   "outputs": [
    {
     "name": "stdout",
     "output_type": "stream",
     "text": [
      "7\n",
      "florence\n"
     ]
    }
   ],
   "source": [
    "# get a random integer\n",
    "from random import randint\n",
    "print(randint(1, 10))\n",
    "\n",
    "# get a random choice from an array\n",
    "from random import choice\n",
    "players = ['charles', 'martina', 'michael', 'florence', 'evil']\n",
    "print(choice(players))"
   ]
  }
 ],
 "metadata": {
  "kernelspec": {
   "display_name": "venv",
   "language": "python",
   "name": "python3"
  },
  "language_info": {
   "codemirror_mode": {
    "name": "ipython",
    "version": 3
   },
   "file_extension": ".py",
   "mimetype": "text/x-python",
   "name": "python",
   "nbconvert_exporter": "python",
   "pygments_lexer": "ipython3",
   "version": "3.11.7"
  },
  "orig_nbformat": 4
 },
 "nbformat": 4,
 "nbformat_minor": 2
}
