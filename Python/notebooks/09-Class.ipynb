{
 "cells": [
  {
   "attachments": {},
   "cell_type": "markdown",
   "metadata": {},
   "source": [
    "# Class\n",
    "In this notebook we will learn Class."
   ]
  },
  {
   "attachments": {},
   "cell_type": "markdown",
   "metadata": {},
   "source": [
    "### Construct a Class\n",
    "Class will have its member variables and method. The constructor of a class is defined in function __init__()"
   ]
  },
  {
   "cell_type": "code",
   "execution_count": 23,
   "metadata": {},
   "outputs": [
    {
     "name": "stdout",
     "output_type": "stream",
     "text": [
      "2019 Audit A4\n",
      "This car has 100 miles on it.\n"
     ]
    }
   ],
   "source": [
    "# define a class Car. \n",
    "class Car:\n",
    "    def __init__(self, maker, model, year):\n",
    "        self.maker = maker\n",
    "        self.model = model\n",
    "        self.year = year\n",
    "        self.tank = 0\n",
    "        self.meter_reading  = 0\n",
    "    \n",
    "    def get_description(self) :\n",
    "        description = str(self.year) + \" \" + str(self.maker.title()) + \" \" + str(self.model.title())\n",
    "        return description\n",
    "\n",
    "    def get_meter_reading(self) :\n",
    "        return self.meter_reading\n",
    "    \n",
    "    def set_meter_reading(self, meters) :\n",
    "        if self.meter_reading > meters :\n",
    "            print(\"Error, you can not roll back meter\")\n",
    "        else:\n",
    "            self.meter_reading = meters\n",
    "\n",
    "\n",
    "my_car = Car('audit', 'a4', '2019')\n",
    "print(my_car.get_description())\n",
    "my_car.set_meter_reading(100)\n",
    "print(\"This car has {miles} miles on it.\".format(miles = my_car.get_meter_reading()))\n",
    "\n",
    "\n"
   ]
  },
  {
   "attachments": {},
   "cell_type": "markdown",
   "metadata": {},
   "source": [
    "#### Observation\n",
    "1. The constructor of class is defined in the function of __init__(), please notice it is double under score.\n",
    "2. Every member function should be declared with parameters starting with self, which is the current instance of the class. (like this in C++).\n",
    "3. When call a member function you should ignore the self."
   ]
  },
  {
   "attachments": {},
   "cell_type": "markdown",
   "metadata": {},
   "source": [
    "### Encapsulation\n",
    "In general, Python does not provide private members or functions, but if you add a double underscore prefix, it will not be directly callable from external code. "
   ]
  },
  {
   "attachments": {},
   "cell_type": "markdown",
   "metadata": {},
   "source": [
    "Please look at the following example:"
   ]
  },
  {
   "cell_type": "code",
   "execution_count": 4,
   "metadata": {},
   "outputs": [
    {
     "name": "stdout",
     "output_type": "stream",
     "text": [
      "Balance =  2000\n",
      "2000 RMB = 271.23 USD\n"
     ]
    }
   ],
   "source": [
    "# define a Bank Account\n",
    "class BankAccount():\n",
    "    ''' define the bank account '''\n",
    "    def __init__(self, user_name) :\n",
    "        self.__user_name = user_name\n",
    "        self.__balance = 0\n",
    "        self.__bank_name = 'Chase'\n",
    "        self.__service_charge = 0.01\n",
    "\n",
    "    def save_money(self, money) :\n",
    "        self.__balance += money\n",
    "    \n",
    "    def withdraw_money(self, money) :\n",
    "        if (money <= self.__balance) :\n",
    "            self.__balance -= money\n",
    "    \n",
    "    def get_balance(self) :\n",
    "        return self.__balance\n",
    "    \n",
    "    def rmb_to_usd(self, rmb) :\n",
    "        result = self.__convert_rmb_to_usd(rmb)\n",
    "        return result\n",
    "    \n",
    "    def __convert_rmb_to_usd(self, rmb) :\n",
    "        __rate = 7.3\n",
    "        result = rmb / __rate * (1 - self.__service_charge)\n",
    "        return result\n",
    "\n",
    "account = BankAccount('James')\n",
    "account.save_money(10000)\n",
    "account.withdraw_money(8000)\n",
    "print(\"Balance = \", account.get_balance())\n",
    "print(\"2000 RMB = {usd} USD\".format(usd = round(account.rmb_to_usd(2000),2)))\n",
    "\n"
   ]
  },
  {
   "attachments": {},
   "cell_type": "markdown",
   "metadata": {},
   "source": [
    "#### Property\n",
    "We can assign class member functions to property."
   ]
  },
  {
   "cell_type": "code",
   "execution_count": 7,
   "metadata": {},
   "outputs": [
    {
     "name": "stdout",
     "output_type": "stream",
     "text": [
      "80\n"
     ]
    }
   ],
   "source": [
    "class Score():\n",
    "    def __init__(self, score) :\n",
    "        self.__score = score\n",
    "\n",
    "    def get_score(self) :\n",
    "        return self.__score\n",
    "    \n",
    "    def set_score(self, score) :\n",
    "        self.__score = score\n",
    "    \n",
    "    score = property(get_score, set_score)\n",
    "\n",
    "stu = Score(100)\n",
    "stu.score = 80\n",
    "print(stu.score)\n",
    "        "
   ]
  },
  {
   "attachments": {},
   "cell_type": "markdown",
   "metadata": {},
   "source": [
    "### Class method and static method\n",
    "Class method and static method do not depend on any instance "
   ]
  },
  {
   "cell_type": "code",
   "execution_count": 12,
   "metadata": {},
   "outputs": [
    {
     "name": "stdout",
     "output_type": "stream",
     "text": [
      "3\n",
      "I love counter\n"
     ]
    }
   ],
   "source": [
    "# A class method\n",
    "class Counter():\n",
    "    counter = 0\n",
    "    def __init__(self) :\n",
    "        Counter.counter += 1\n",
    "    \n",
    "    @classmethod\n",
    "    def show_counter(cls) :\n",
    "        return Counter.counter\n",
    "    \n",
    "    @staticmethod\n",
    "    def demo() :\n",
    "        print(\"I love counter\")\n",
    "        \n",
    "\n",
    "one = Counter()\n",
    "two = Counter()\n",
    "three = Counter()\n",
    "print(Counter.show_counter())\n",
    "Counter.demo()\n"
   ]
  },
  {
   "attachments": {},
   "cell_type": "markdown",
   "metadata": {},
   "source": [
    "### Inheritance\n",
    "A class can inherit from another class\n"
   ]
  },
  {
   "cell_type": "code",
   "execution_count": 16,
   "metadata": {},
   "outputs": [
    {
     "name": "stdout",
     "output_type": "stream",
     "text": [
      "2021 Tesla Model_S\n",
      "ElectricCar, Battery Size = 60\n",
      "This car has 100 miles on it.\n",
      "The car can run 300 miles.\n"
     ]
    }
   ],
   "source": [
    "# define a class Car. \n",
    "class Car:\n",
    "    def __init__(self, maker, model, year):\n",
    "        self.maker = maker\n",
    "        self.model = model\n",
    "        self.year = year\n",
    "        self.tank = 0\n",
    "        self.meter_reading  = 0\n",
    "    \n",
    "    def get_description(self) :\n",
    "        description = str(self.year) + \" \" + str(self.maker.title()) + \" \" + str(self.model.title())\n",
    "        return description\n",
    "\n",
    "    def get_meter_reading(self) :\n",
    "        return self.meter_reading\n",
    "    \n",
    "    def set_meter_reading(self, meters) :\n",
    "        if self.meter_reading > meters :\n",
    "            print(\"Error, you can not roll back meter\")\n",
    "        else:\n",
    "            self.meter_reading = meters\n",
    "\n",
    "    def fill_tank(self, gas) :\n",
    "        self.tank += gas\n",
    "\n",
    "    # how many mile the car can run with current gas in tank\n",
    "    def get_range(self) :\n",
    "        return self.tank * 20\n",
    "\n",
    "# define a subclass Electric Car\n",
    "class ElectricCar(Car) :\n",
    "    def __init__(self, maker, model, year, battery_size) :\n",
    "        super().__init__(maker, model, year)\n",
    "        self.battery_size = battery_size\n",
    "    \n",
    "    def get_description(self) :\n",
    "        description = super().get_description()\n",
    "        description += \"\\n\"\n",
    "        description += \"ElectricCar, Battery Size = \" + str(self.battery_size)\n",
    "        return description\n",
    "\n",
    "    # how many mile the car can run with current gas in tank\n",
    "    def get_range(self) :\n",
    "        return self.battery_size * 5\n",
    "\n",
    "    \n",
    "my_car = ElectricCar('Tesla', 'model_s', '2021', 60)\n",
    "print(my_car.get_description())\n",
    "my_car.set_meter_reading(100)\n",
    "print(\"This car has {miles} miles on it.\".format(miles = my_car.get_meter_reading()))\n",
    "print(\"The car can run {miles} miles.\".format(miles = my_car.get_range()))\n",
    "\n"
   ]
  },
  {
   "attachments": {},
   "cell_type": "markdown",
   "metadata": {},
   "source": [
    "#### Observation\n",
    "1. A subclass object can get the parent object by calling super().\n",
    "2. The super().call() will call the function defined in the parent object.\n",
    "3. If the subclass and super calss happen to have the same method, then the subclass function will get called.\n",
    "4. Please remember Python is a weak type language, if you define many mentods with same name, it can be messy in the future.\n",
    "5. If two classes inherit from same parent class, they can access members in each other, but this is highly not recommended.\n",
    "6. Python support polymorphism, which means we have one class inheriting from multipe classes, but this is also highly not recommended."
   ]
  },
  {
   "attachments": {},
   "cell_type": "markdown",
   "metadata": {},
   "source": [
    "#### type() and isinstance()\n",
    "1. We can call type() to get the type of variable\n"
   ]
  },
  {
   "cell_type": "code",
   "execution_count": 18,
   "metadata": {},
   "outputs": [
    {
     "name": "stdout",
     "output_type": "stream",
     "text": [
      "type of my_car is  <class '__main__.ElectricCar'>\n",
      "my_car is instance of Car  True\n"
     ]
    }
   ],
   "source": [
    "my_car = ElectricCar('Tesla', 'model_s', '2021', 60)\n",
    "print(\"type of my_car is \", type(my_car))\n",
    "print(\"my_car is instance of Car \", isinstance(my_car, Car))"
   ]
  },
  {
   "attachments": {},
   "cell_type": "markdown",
   "metadata": {},
   "source": [
    "### Special members in a class\n",
    "| Member | Explanation |\n",
    "| --- | --- |\n",
    "| \\_\\_name__ | Program name |\n",
    "| \\_\\_str__() | return a string when convert to string |\n",
    "| \\_\\_repr__() | return a string when object is reference |\n",
    "| \\_\\_iter__() | return iterable for the object |\n",
    "| \\_\\_eq__(self, other ) | self == other |\n",
    "| \\_\\_ne__(self, other) | self != other |\n",
    "| \\_\\_lt__(self, other) | self < other |\n",
    "| \\_\\_gt__(self, other) | self > other |\n",
    "| \\_\\_le__(self, other) | self <= other |\n",
    "| \\_\\_add__(self, other) | self + other |\n",
    "| \\_\\_sub__(self, other) | self - other |\n",
    "| \\_\\_mul__(self, other) | self * other |\n",
    "| \\_\\_floordiv__(self, other) | self // other |\n",
    "| \\_\\_truediv__(self, other) | self / other |\n",
    "| \\_\\_mod__(self, other) | self % other |\n",
    "| \\_\\_pow__(self, other) | self ** other |"
   ]
  },
  {
   "cell_type": "code",
   "execution_count": 32,
   "metadata": {},
   "outputs": [
    {
     "name": "stdout",
     "output_type": "stream",
     "text": [
      "point =  x = 1, y = 2, z = 3\n",
      "point eq (1,2,3) ? True\n"
     ]
    }
   ],
   "source": [
    "# define a point with 3 dimensions\n",
    "class Point() :\n",
    "    def __init__(self, x, y, z) :\n",
    "        self.x = x \n",
    "        self.y = y\n",
    "        self.z = z\n",
    "    \n",
    "    def __str__(self) :\n",
    "        name = \"x = {x}, y = {y}, z = {z}\"\n",
    "        return name.format(x = self.x, y = self.y, z = self.z)\n",
    "\n",
    "    def __repr__(self) :\n",
    "        name = \"x : {x}, y : {y}, z : {z}\"\n",
    "        return name.format(x = self.x, y = self.y, z = self.z)\n",
    "    \n",
    "    def __eq__(self, tuple) :\n",
    "        if (self.x == tuple[0] and self.y == tuple[1] and self.z == tuple[2]) :\n",
    "            return True\n",
    "        else:\n",
    "            return False\n",
    "\n",
    "point = Point(1,2,3)  \n",
    "print(\"point = \", point) \n",
    "point\n",
    "print(\"point eq (1,2,3) ?\", point==(1,2,3))"
   ]
  },
  {
   "attachments": {},
   "cell_type": "markdown",
   "metadata": {},
   "source": [
    "### Import Class Library\n",
    "We can define class in module, and package it. When we use it, we will import module and select class to the code.\n",
    "\n",
    "In the following example, we import some random class"
   ]
  },
  {
   "cell_type": "code",
   "execution_count": 14,
   "metadata": {},
   "outputs": [
    {
     "name": "stdout",
     "output_type": "stream",
     "text": [
      "7\n",
      "florence\n"
     ]
    }
   ],
   "source": [
    "# get a random integer\n",
    "from random import randint\n",
    "print(randint(1, 10))\n",
    "\n",
    "# get a random choice from an array\n",
    "from random import choice\n",
    "players = ['charles', 'martina', 'michael', 'florence', 'evil']\n",
    "print(choice(players))"
   ]
  }
 ],
 "metadata": {
  "kernelspec": {
   "display_name": "venv",
   "language": "python",
   "name": "python3"
  },
  "language_info": {
   "codemirror_mode": {
    "name": "ipython",
    "version": 3
   },
   "file_extension": ".py",
   "mimetype": "text/x-python",
   "name": "python",
   "nbconvert_exporter": "python",
   "pygments_lexer": "ipython3",
   "version": "3.11.4"
  },
  "orig_nbformat": 4
 },
 "nbformat": 4,
 "nbformat_minor": 2
}
