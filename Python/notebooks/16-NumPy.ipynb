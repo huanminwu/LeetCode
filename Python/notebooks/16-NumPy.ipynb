{
 "cells": [
  {
   "attachments": {},
   "cell_type": "markdown",
   "metadata": {},
   "source": [
    "# NumPy\n",
    "In this notebook we will study NumPy module. NumPy is high efficient multidimensional array providing vectorized arithmetic operations and sophisticated broadcasting capabilities."
   ]
  },
  {
   "cell_type": "markdown",
   "metadata": {},
   "source": [
    "## Numpy arrays\n",
    "Numpy arrays are used to calculate array and liner algebra"
   ]
  },
  {
   "cell_type": "markdown",
   "metadata": {},
   "source": [
    "### Initalize array"
   ]
  },
  {
   "cell_type": "code",
   "execution_count": 35,
   "metadata": {},
   "outputs": [
    {
     "name": "stdout",
     "output_type": "stream",
     "text": [
      "ax =  [1 2 3 4 5]\n",
      "ay =  [5 6 7 8 9]\n",
      "array =  [[1.  2.  3. ]\n",
      " [4.1 5.2 6.3]]\n",
      "array.ndim =  2\n",
      "array.shape =  (2, 3)\n",
      "array.dtype =  float64\n",
      "array =  [4 5 6]\n",
      "array =  [[0. 0. 0.]\n",
      " [0. 0. 0.]]\n",
      "array =  [1 2 3 4 5 6 7 8 9]\n"
     ]
    }
   ],
   "source": [
    "# Load array from list\n",
    "import numpy as np\n",
    "ax = np.array([1,2,3,4,5])\n",
    "data = list([5,6,7,8,9])\n",
    "ay = np.array(data)\n",
    "print(\"ax = \", ax)\n",
    "print(\"ay = \", ay)"
   ]
  },
  {
   "cell_type": "code",
   "execution_count": 38,
   "metadata": {},
   "outputs": [
    {
     "name": "stdout",
     "output_type": "stream",
     "text": [
      "array =  [[1.  2.  3. ]\n",
      " [4.1 5.2 6.3]]\n",
      "array.ndim =  2\n",
      "array.shape =  (2, 3)\n",
      "array.dtype =  float64\n"
     ]
    }
   ],
   "source": [
    "# 2D np.array\n",
    "array = np.array([[1,2,3], [4.1, 5.2, 6.3]])\n",
    "print(\"array = \", array)\n",
    "print(\"array.ndim = \", array.ndim)\n",
    "print(\"array.shape = \", array.shape)\n",
    "print(\"array.dtype = \", array.dtype)"
   ]
  },
  {
   "cell_type": "code",
   "execution_count": 37,
   "metadata": {},
   "outputs": [
    {
     "name": "stdout",
     "output_type": "stream",
     "text": [
      "array int =  [4 5 6]\n"
     ]
    }
   ],
   "source": [
    "# Convert string to float, then to integter\n",
    "array = np.array([\"4.1\", \"5.2\", \"6.3\"], np.float64)\n",
    "array = array.astype(np.int32)\n",
    "print(\"array int = \", array)"
   ]
  },
  {
   "cell_type": "code",
   "execution_count": 73,
   "metadata": {},
   "outputs": [
    {
     "name": "stdout",
     "output_type": "stream",
     "text": [
      "array zeros =  [[0. 0. 0.]\n",
      " [0. 0. 0.]]\n"
     ]
    }
   ],
   "source": [
    "# Initialize np.array with zero\n",
    "array = np.zeros((2,3))\n",
    "print(\"array zeros = \", array)"
   ]
  },
  {
   "cell_type": "code",
   "execution_count": 40,
   "metadata": {},
   "outputs": [
    {
     "name": "stdout",
     "output_type": "stream",
     "text": [
      "array =  [1 2 3 4 5 6 7 8 9]\n"
     ]
    }
   ],
   "source": [
    "# Initialize np.array with range\n",
    "array = np.arange(1, 10)\n",
    "print(\"array = \", array)"
   ]
  },
  {
   "cell_type": "markdown",
   "metadata": {},
   "source": [
    "### Calculate Arrays and Scalars"
   ]
  },
  {
   "cell_type": "code",
   "execution_count": 43,
   "metadata": {},
   "outputs": [
    {
     "name": "stdout",
     "output_type": "stream",
     "text": [
      "ax =  [1 2 3 4] ; ay =  [5 6 7 8]\n",
      "ax + ay =  [ 6  8 10 12]\n",
      "ax * ay =  [ 5 12 21 32]\n",
      "np.sqrt(ax) =  [1.         1.41421356 1.73205081 2.        ]\n",
      "1 / ax =  [1.         0.5        0.33333333 0.25      ]\n",
      "ax ** 0.5 =  [1.         1.41421356 1.73205081 2.        ]\n",
      "a[1] [5 6 7 8]\n",
      "a[:,1] [ 2  6 10]\n",
      "c =  [[ 1  2  3  4]\n",
      " [ 5  6  7  8]\n",
      " [ 9 10 10 10]]\n"
     ]
    }
   ],
   "source": [
    "# calculate matrix\n",
    "import numpy as np\n",
    "ax = np.array([1,2,3,4])\n",
    "ay = np.array([5,6,7,8])\n",
    "print(\"ax = \", ax, \"; ay = \", ay)\n",
    "print(\"ax + ay = \", ax + ay)\n",
    "print(\"ax * ay = \", ax * ay)\n",
    "print(\"1 / ax = \", 1 / ax)\n",
    "print(\"ax ** 0.5 = \", ax ** 0.5)"
   ]
  },
  {
   "cell_type": "code",
   "execution_count": 137,
   "metadata": {},
   "outputs": [
    {
     "name": "stdout",
     "output_type": "stream",
     "text": [
      "m =  [[ 1 -2  3]\n",
      " [ 0  4  5]\n",
      " [ 7  8 -9]]\n",
      "m.T =  [[ 1  0  7]\n",
      " [-2  4  8]\n",
      " [ 3  5 -9]]\n",
      "m.T =  [[ 1  0  7]\n",
      " [-2  4  8]\n",
      " [ 3  5 -9]]\n",
      "v =  [[2]\n",
      " [3]\n",
      " [4]]\n",
      "m * v =  [[ 8]\n",
      " [32]\n",
      " [ 2]]\n"
     ]
    }
   ],
   "source": [
    "import numpy as np\n",
    "m = np.matrix([[1, -2, 3], [0, 4, 5], [7, 8, -9]])\n",
    "print(\"m = \", m)\n",
    "\n",
    "# return transpose\n",
    "print(\"m.T = \", m.T)\n",
    "\n",
    "# return inverse\n",
    "print(\"m.T = \", m.T)\n",
    "\n",
    "# vector mltiply\n",
    "v = np.matrix([[2], [3], [4]])\n",
    "print(\"v = \", v)\n",
    "print(\"m * v = \", m * v)"
   ]
  },
  {
   "cell_type": "markdown",
   "metadata": {},
   "source": [
    "### Arrays Indexing and Slicing"
   ]
  },
  {
   "cell_type": "markdown",
   "metadata": {},
   "source": [
    "#### Select a cell"
   ]
  },
  {
   "cell_type": "code",
   "execution_count": 56,
   "metadata": {},
   "outputs": [
    {
     "name": "stdout",
     "output_type": "stream",
     "text": [
      "a[2][2] =  11\n",
      "a[2, 1] 10\n",
      "a[1] [5 6 7 8]\n"
     ]
    }
   ],
   "source": [
    "# select rows and columns\n",
    "import numpy as np\n",
    "a = np.array([[1, 2, 3, 4], [5, 6, 7, 8], [9, 10, 11, 12]])\n",
    "# select a cell\n",
    "print(\"a[2][2] = \",  a[2][2])\n",
    "print(\"a[2, 1]\", a[2, 1])\n",
    "\n",
    "\n",
    "# select row 1 \n",
    "print(\"a[1]\", a[1])"
   ]
  },
  {
   "cell_type": "markdown",
   "metadata": {},
   "source": [
    "#### Select a slice"
   ]
  },
  {
   "cell_type": "code",
   "execution_count": 59,
   "metadata": {},
   "outputs": [
    {
     "name": "stdout",
     "output_type": "stream",
     "text": [
      "a[:2, 1:] [[2 3]\n",
      " [5 6]]\n",
      "a[2] [7 8 9]\n",
      "a[2, :] [7 8 9]\n",
      "a[2:, :] [[7 8 9]]\n",
      "a[:, :2] [[1 2]\n",
      " [4 5]\n",
      " [7 8]]\n",
      "a[1, :2] [4 5]\n",
      "a[1:2, :2] [[4 5]]\n",
      "a[1, 1:3] [5 6]\n",
      "a =  [[ 1  2  3]\n",
      " [ 4 88 88]\n",
      " [ 7  8  9]]\n",
      "a =  [[ 1  2  3]\n",
      " [ 4 88 88]\n",
      " [ 7  8  9]]\n",
      "a[:,1] [ 2 88  8]\n",
      "c =  [[ 1  2  3]\n",
      " [ 4 10 10]\n",
      " [ 7  8  9]]\n"
     ]
    }
   ],
   "source": [
    "import numpy as np\n",
    "a = np.array([[1, 2, 3], [4, 5, 6], [7, 8, 9]])\n",
    "\n",
    "# print a sub slice\n",
    "print(\"a[:2, 1:]\", a[:2, 1:])\n",
    "print(\"a[2]\", a[2])\n",
    "print(\"a[2, :]\", a[2, :])\n",
    "print(\"a[2:, :]\", a[2:, :])\n",
    "print(\"a[:, :2]\", a[:, :2])\n",
    "print(\"a[1, :2]\", a[1, :2])\n",
    "print(\"a[1:2, :2]\", a[1:2, :2])\n",
    "\n",
    "\n",
    "# select a slice in row \n",
    "print(\"a[1, 1:3]\", a[1, 1:3])\n",
    "# set a slice in row to a value\n",
    "a_slice = a[1, 1:3]\n",
    "a_slice[:] = 88\n",
    "print(\"a = \", a)\n",
    "\n",
    "# The following statement does not assign value to slice.\n",
    "a_slice = 99\n",
    "print(\"a = \", a)\n",
    "\n",
    "# select col 1 \n",
    "print(\"a[:,1]\", a[:,1])\n",
    "\n",
    "# set values greater than 10 to 10\n",
    "c = np.where(a < 10, a, 10)\n",
    "print(\"c = \", c)"
   ]
  },
  {
   "cell_type": "markdown",
   "metadata": {},
   "source": [
    "#### Auto fill an array"
   ]
  },
  {
   "cell_type": "code",
   "execution_count": 85,
   "metadata": {},
   "outputs": [
    {
     "name": "stdout",
     "output_type": "stream",
     "text": [
      "array =  [[0. 0. 0. 0.]\n",
      " [1. 1. 1. 1.]\n",
      " [2. 2. 2. 2.]\n",
      " [3. 3. 3. 3.]\n",
      " [4. 4. 4. 4.]\n",
      " [5. 5. 5. 5.]\n",
      " [6. 6. 6. 6.]\n",
      " [7. 7. 7. 7.]]\n",
      "array[[4, 3, 0, 6]] =  [[4. 4. 4. 4.]\n",
      " [3. 3. 3. 3.]\n",
      " [0. 0. 0. 0.]\n",
      " [6. 6. 6. 6.]]\n",
      "array[[-3, -1]] =  [[5. 5. 5. 5.]\n",
      " [7. 7. 7. 7.]]\n"
     ]
    }
   ],
   "source": [
    "import numpy as np\n",
    "# Set value by rows\n",
    "array = np.empty((8, 4))\n",
    "for i in range(0, 8) :\n",
    "    array[i] = i\n",
    "print(\"array = \", array)\n",
    "print(\"array[[4, 3, 0, 6]] = \", array[[4, 3, 0, 6]])\n",
    "print(\"array[[-3, -1]] = \", array[[-3, -1]])"
   ]
  },
  {
   "cell_type": "markdown",
   "metadata": {},
   "source": [
    "#### Generate 2D array"
   ]
  },
  {
   "cell_type": "code",
   "execution_count": 88,
   "metadata": {},
   "outputs": [
    {
     "name": "stdout",
     "output_type": "stream",
     "text": [
      "array =  [[ 0  1  2]\n",
      " [ 3  4  5]\n",
      " [ 6  7  8]\n",
      " [ 9 10 11]]\n",
      "arr_selected =  [[ 3  5]\n",
      " [ 9 11]\n",
      " [ 6  8]]\n"
     ]
    }
   ],
   "source": [
    "import numpy as np\n",
    "# Generate 2D array\n",
    "array = np.arange(12).reshape(4, 3)\n",
    "print(\"array = \", array)\n",
    "\n",
    "# select a combination of selected rows and columns\n",
    "arr_selected = array[np.ix_([1, 3, 2], [0, 2])]\n",
    "print(\"arr_selected = \", arr_selected)\n"
   ]
  },
  {
   "cell_type": "markdown",
   "metadata": {},
   "source": [
    "#### Select by condition"
   ]
  },
  {
   "cell_type": "code",
   "execution_count": 71,
   "metadata": {},
   "outputs": [
    {
     "name": "stdout",
     "output_type": "stream",
     "text": [
      "data =  [1 2 3 4 5 6 7]\n",
      "data[names == 'Bob'] =  [1 4]\n",
      "data[~(names == 'Bob')] =  [2 3 5 6 7]\n",
      "data[ data > 5] =  [6 7]\n"
     ]
    }
   ],
   "source": [
    "import numpy as np\n",
    "names = np.array(['Bob', 'Joe', 'Will', 'Bob', 'Will', 'Joe', 'Joe'])\n",
    "data = np.arange(1, 8)\n",
    "print(\"data = \", data)\n",
    "print(\"data[names == 'Bob'] = \", data[names == 'Bob'])\n",
    "print(\"data[~(names == 'Bob')] = \", data[~(names == 'Bob')])\n",
    "print(\"data[ data > 5] = \", data[ data > 5])\n",
    "\n"
   ]
  },
  {
   "cell_type": "markdown",
   "metadata": {},
   "source": [
    "#### Transpose array"
   ]
  },
  {
   "cell_type": "code",
   "execution_count": 103,
   "metadata": {},
   "outputs": [
    {
     "name": "stdout",
     "output_type": "stream",
     "text": [
      "array =  [[ 0  1  2  3  4]\n",
      " [ 5  6  7  8  9]\n",
      " [10 11 12 13 14]]\n",
      "array.T =  [[ 0  5 10]\n",
      " [ 1  6 11]\n",
      " [ 2  7 12]\n",
      " [ 3  8 13]\n",
      " [ 4  9 14]]\n",
      "np.transpose(array) =  [[ 0  5 10]\n",
      " [ 1  6 11]\n",
      " [ 2  7 12]\n",
      " [ 3  8 13]\n",
      " [ 4  9 14]]\n",
      "a = [1 2 3 4]\n",
      "np.transpose(a) = [1 2 3 4]\n"
     ]
    }
   ],
   "source": [
    "import numpy as np\n",
    "# generate array\n",
    "array = np.arange(15).reshape((3, 5))\n",
    "print(\"array = \", array)\n",
    "\n",
    "print(\"array.T = \", array.T)\n",
    "print(\"np.transpose(array) = \", np.transpose(array))\n",
    "\n",
    "a = np.array([1, 2, 3, 4])\n",
    "print(\"a =\", a)\n",
    "np.transpose(a)\n",
    "print(\"np.transpose(a) =\", np.transpose(a))"
   ]
  },
  {
   "cell_type": "code",
   "execution_count": 104,
   "metadata": {},
   "outputs": [
    {
     "name": "stdout",
     "output_type": "stream",
     "text": [
      "arr = [[[ 0  1  2  3]\n",
      "  [ 4  5  6  7]]\n",
      "\n",
      " [[ 8  9 10 11]\n",
      "  [12 13 14 15]]]\n",
      "arr.transpose(1,0, 2) =  [[[ 0  1  2  3]\n",
      "  [ 8  9 10 11]]\n",
      "\n",
      " [[ 4  5  6  7]\n",
      "  [12 13 14 15]]]\n",
      "a =  [[[0 1 2]\n",
      "  [3 4 5]]]\n",
      "np.transpose(a, (1, 0, 2)) =  [[[0 1 2]]\n",
      "\n",
      " [[3 4 5]]]\n"
     ]
    }
   ],
   "source": [
    "arr = np.arange(16).reshape(2, 2, 4)\n",
    "print(\"arr =\", arr)\n",
    "print(\"arr.transpose(1,0, 2) = \", arr.transpose(1, 0, 2))\n",
    "\n",
    "a = np.arange(6).reshape((1, 2, 3))\n",
    "print(\"a = \", a)\n",
    "print(\"np.transpose(a, (1, 0, 2)) = \", np.transpose(a, (1, 0, 2)))\n"
   ]
  },
  {
   "cell_type": "markdown",
   "metadata": {},
   "source": [
    "### Array function"
   ]
  },
  {
   "cell_type": "markdown",
   "metadata": {},
   "source": [
    "#### Unary functions\n",
    "| Function | Description |\n",
    "| --- | --- |\n",
    "| abs | Compute the absolute value element-wise for integer and float or complex values.|\n",
    "| fabs | Compute fast absolute value without complex value. |\n",
    "| sqrt | Compute the square root of each element. |\n",
    "| sqaure | Compute Square of each element. |\n",
    "| exp | Compute exponent e^x of each element. |\n",
    "| log, log10, log2 | Compute logarithm (base e, 10, 2). |\n",
    "| sign | Compute the sign of each element: 1: +, 0: 0, -1: - |\n",
    "| ceil | Compute the ceiling of each element. smallest integer >= x. |\n",
    "| floor | Compute the floor of each element. greatest integer <= x. |\n",
    "| rint | Round elements to the nearest integer. |\n",
    "| modf | Return fractional and integral parts of array as separate array. |\n",
    "| isnan | Whether each element is NaN or not. |\n",
    "| isinf | Whether each element is finite or not. |\n",
    "| cos, cosh, sin, sinh, tan, tanh | Regular and hyperbolic trigonometric functions. |\n",
    "| arccos, arccosh, arcsin, arcsinh, arctan, arctanh | Inverse trigonometric functions. |\n",
    "| logical_not | Compute truth value of not x element-wise. Equivalent to -x |  \n"
   ]
  },
  {
   "cell_type": "markdown",
   "metadata": {},
   "source": [
    "#### Binary functions\n",
    "| Function | Description |\n",
    "| --- | --- |\n",
    "| add | Add corresponding elements in array.|\n",
    "| subtract | Subtract elements in second array from first array. |\n",
    "| multiply | Multiply array elements. |\n",
    "| divide, floor_divide | Divide or floor divide (truncating the remainder). |\n",
    "| power | Raise elements in first array to powers indicated in second array. |\n",
    "| maximum, fmax | Element-wise maximum. fmax ignores NaN. |\n",
    "| minimum, fmin | Element-wise minimum. fmin ignores NaN. |\n",
    "| mod | Element-wise modulus (remainder of division) |\n",
    "| copysign | Compute sign of values in second argument to values in first argument. |\n",
    "| greater, greater_equal, less, less_equal, equal, not_equal | Perform element-wise comparison, yielding boolean array. >, >=, <, <=, ==, !=. |\n",
    "| logical_and, logical_or, logical_xor | Compute element-wise truth value of logical operation. Equivalent to inflix operators &, \\|, ^ |\n"
   ]
  },
  {
   "cell_type": "code",
   "execution_count": 109,
   "metadata": {},
   "outputs": [
    {
     "name": "stdout",
     "output_type": "stream",
     "text": [
      "x_arr [ 0.31415251 -1.52644964  0.05911827  0.86386507 -2.10193892 -0.25287658\n",
      "  1.93367805  1.24702356]\n",
      "y_arr [ 0.12414042 -1.68420596 -0.67228853 -1.54199383 -0.99074767  1.49219249\n",
      " -0.74940807 -1.84641181]\n",
      "np.maximum(x_arr, y_arr) =  [ 0.31415251 -1.52644964  0.05911827  0.86386507 -0.99074767  1.49219249\n",
      "  1.93367805  1.24702356]\n"
     ]
    }
   ],
   "source": [
    "# calculate fractional for random numbers\n",
    "from numpy.random import randn\n",
    "import numpy as np\n",
    "x_arr = randn(8)\n",
    "y_arr = randn(8)\n",
    "print(\"x_arr\", x_arr)\n",
    "print(\"y_arr\", y_arr)\n",
    "print(\"np.maximum(x_arr, y_arr) = \", np.maximum(x_arr, y_arr))"
   ]
  },
  {
   "cell_type": "markdown",
   "metadata": {},
   "source": [
    "#### Expressing Conditional Logic as Array Operations"
   ]
  },
  {
   "cell_type": "code",
   "execution_count": 110,
   "metadata": {},
   "outputs": [
    {
     "name": "stdout",
     "output_type": "stream",
     "text": [
      "x_arr =  [1 3 5 7 9]\n",
      "y_arr =  [ 2  4  6  8 10]\n",
      "cond =  [ True False  True  True False]\n",
      "result =  [ 1  4  5  7 10]\n"
     ]
    }
   ],
   "source": [
    "import numpy as np\n",
    "x_arr = np.array([1, 3, 5, 7, 9])\n",
    "y_arr = np.array([2, 4, 6, 8, 10])\n",
    "cond = np.array([True, False, True, True, False])\n",
    "result = np.where(cond, x_arr, y_arr)\n",
    "print(\"x_arr = \", x_arr)\n",
    "print(\"y_arr = \", y_arr)\n",
    "print(\"cond = \", cond)\n",
    "print(\"result = \", result)"
   ]
  },
  {
   "cell_type": "markdown",
   "metadata": {},
   "source": [
    "#### Mathematical and Statistical Methods"
   ]
  },
  {
   "cell_type": "markdown",
   "metadata": {},
   "source": [
    "| Method | Description |\n",
    "| --- | --- |\n",
    "| sum | Sum of all the elements in the array ot along an axis. Zero-length arrays have sum 0 |\n",
    "| mean | Arithmetric mean. Zero-length arrays have NaN mean |\n",
    "| std, var | Standard deviation and variance, respectively, with optional degrees of freedom adjustment (default denominator n) |\n",
    "| min, max | Minimum and maximum |\n",
    "| argmin, argmax | Indices of minimum and maximum elements, respectively |\n",
    "| cumsum | Cumulative sum of elements starting from 0 |\n",
    "| cumprod | Cumulative product of elements starting from 1 |\n"
   ]
  },
  {
   "cell_type": "code",
   "execution_count": 123,
   "metadata": {},
   "outputs": [
    {
     "name": "stdout",
     "output_type": "stream",
     "text": [
      "array =  [ 1 -2  3 -4  5]\n",
      "sum positive numbers in array:  9\n",
      "count positive numbers in array:  3\n"
     ]
    }
   ],
   "source": [
    "import numpy as np\n",
    "# sum all positive values\n",
    "array = np.array([1, -2, 3, -4, 5])\n",
    "print(\"array = \", array)\n",
    "print(\"sum positive numbers in array: \", np.sum(array[array > 0]))\n",
    "print(\"count positive numbers in array: \", (array > 0).sum())\n"
   ]
  },
  {
   "cell_type": "code",
   "execution_count": 121,
   "metadata": {},
   "outputs": [
    {
     "name": "stdout",
     "output_type": "stream",
     "text": [
      "array =  [[0 1 2]\n",
      " [3 4 5]\n",
      " [6 7 8]]\n",
      "array.cumsum(0) =  [[ 0  1  2]\n",
      " [ 3  5  7]\n",
      " [ 9 12 15]]\n"
     ]
    }
   ],
   "source": [
    "import numpy as np\n",
    "array = np.array([[0, 1, 2], [3, 4, 5], [6,7,8]])\n",
    "print(\"array = \", array)\n",
    "print(\"array.cumsum(0) = \", array.cumsum(0))\n"
   ]
  },
  {
   "cell_type": "markdown",
   "metadata": {},
   "source": [
    "#### Sorting"
   ]
  },
  {
   "cell_type": "code",
   "execution_count": 128,
   "metadata": {},
   "outputs": [
    {
     "name": "stdout",
     "output_type": "stream",
     "text": [
      "array =  [-0.07831877  0.07237183 -1.82919913  0.59768969 -0.00700295 -0.03829277\n",
      "  0.7351326  -2.04956399]\n",
      "array.sort() =  [-2.04956399 -1.82919913 -0.07831877 -0.03829277 -0.00700295  0.07237183\n",
      "  0.59768969  0.7351326 ]\n"
     ]
    }
   ],
   "source": [
    "import numpy as np\n",
    "# random (8)\n",
    "array = randn(8)\n",
    "print(\"array = \", array)\n",
    "print(\"array.sort() = \", np.sort(array))\n"
   ]
  },
  {
   "cell_type": "markdown",
   "metadata": {},
   "source": [
    "#### Boolean Array"
   ]
  },
  {
   "cell_type": "code",
   "execution_count": 131,
   "metadata": {},
   "outputs": [
    {
     "name": "stdout",
     "output_type": "stream",
     "text": [
      "bools =  [False False  True False]\n",
      "bools.any() =  True\n"
     ]
    }
   ],
   "source": [
    "import numpy as np\n",
    "bools = np.array([False, False, True, False])\n",
    "print(\"bools = \", bools)\n",
    "print(\"bools.any() = \", bools.any())\n",
    "print(\"bools.all() = \", bools.all())\n"
   ]
  },
  {
   "cell_type": "markdown",
   "metadata": {},
   "source": [
    "#### Unique and Other Set Logic"
   ]
  },
  {
   "cell_type": "code",
   "execution_count": 148,
   "metadata": {},
   "outputs": [
    {
     "name": "stdout",
     "output_type": "stream",
     "text": [
      "names =  ['Bob' 'Joe' 'Will' 'Bob' 'Will' 'Joe' 'Joe']\n",
      "np.unique(names) =  ['Bob' 'Joe' 'Will']\n",
      "values =  [6 0 0 3 2 5 6]\n",
      "np.in1d(values, [2, 3, 6]) [ True False False  True  True False  True]\n"
     ]
    }
   ],
   "source": [
    "# unique names\n",
    "names = np.array(['Bob', 'Joe', 'Will', 'Bob', 'Will', 'Joe', 'Joe'])\n",
    "print(\"names = \", names)\n",
    "print(\"np.unique(names) = \", np.unique(names))\n",
    "\n",
    "# check values in another array\n",
    "values = np.array([6, 0, 0, 3, 2, 5, 6])\n",
    "print(\"values = \", values)\n",
    "print(\"np.in1d(values, [2, 3, 6])\", np.in1d(values, [2, 3, 6]))"
   ]
  },
  {
   "cell_type": "markdown",
   "metadata": {},
   "source": [
    "### Linear Algebra"
   ]
  },
  {
   "cell_type": "markdown",
   "metadata": {},
   "source": [
    "#### numpy.linalg functions\n",
    "| Function | Description |\n",
    "| --- | --- |\n",
    "| diag | Return the diagnoal elements of a square matrix as a 1D array, or convert a 1D array into a square matrix with zero on the off-diagonal |\n",
    "| dot | Matrix multiplication |\n",
    "| trace | Compute the sum of the diagonal elements |\n",
    "| det | Compute the matrix determinant |\n",
    "| eig | Compute the eigenvalues and eigenvectors of a square matrix |\n",
    "| inv | Compute the inverse of a square matrix |\n",
    "| pinv | Compute the Moore-Penrose pseudo-inverse inverse of a square matrix |\n",
    "| qr | Compute the OR decomposition |\n",
    "| svd | Compute the singular value decomposition (SVD) |\n",
    "| solve | Solve the linear system Ax = b for x, where A is a square matrix |\n",
    "| lstsq | Compute the least-squares solution to y = Xb |"
   ]
  },
  {
   "cell_type": "code",
   "execution_count": 139,
   "metadata": {},
   "outputs": [
    {
     "name": "stdout",
     "output_type": "stream",
     "text": [
      "x =  [[1. 2. 3.]\n",
      " [4. 5. 6.]]\n",
      "y =  [[ 6. 23.]\n",
      " [-1.  7.]\n",
      " [ 8.  9.]]\n",
      "x.dot(y) =  [[ 28.  64.]\n",
      " [ 67. 181.]]\n",
      "np.dot(x, y) =  [[ 28.  64.]\n",
      " [ 67. 181.]]\n"
     ]
    }
   ],
   "source": [
    "import numpy as np\n",
    "x = np.array([[1.0, 2.0, 3.0], [4.0, 5.0, 6.0]])\n",
    "print(\"x = \", x)\n",
    "y = np.array([[6.0, 23.0], [-1.0, 7.0], [8.0, 9.0]])\n",
    "print(\"y = \", y)\n",
    "\n",
    "print(\"x.dot(y) = \", x.dot(y))\n",
    "print(\"np.dot(x, y) = \", np.dot(x, y))"
   ]
  },
  {
   "cell_type": "code",
   "execution_count": 146,
   "metadata": {},
   "outputs": [
    {
     "name": "stdout",
     "output_type": "stream",
     "text": [
      "x =  [[-2.03053155 -0.7914032 ]\n",
      " [ 0.60199104  0.61903602]]\n",
      "mat =  [[4.48545161 1.97962331]\n",
      " [1.97962331 1.00952462]]\n",
      "inv(mat) =  [[ 1.65695387 -3.24919714]\n",
      " [-3.24919714  7.36206553]]\n",
      "mat.dot(inv(mat)) =  [[ 1.00000000e+00  1.45514978e-15]\n",
      " [-7.58319252e-17  1.00000000e+00]]\n",
      "r =  [[-4.90287513 -2.21869469]\n",
      " [ 0.          0.12426696]]\n"
     ]
    }
   ],
   "source": [
    "from numpy.linalg import inv, qr\n",
    "from numpy.random import randn\n",
    "x = randn(2, 2)\n",
    "print(\"x = \", x)\n",
    "mat = x.T.dot(x)\n",
    "print(\"mat = \", mat)\n",
    "print(\"inv(mat) = \", inv(mat))\n",
    "print(\"mat.dot(inv(mat)) = \", mat.dot(inv(mat)))\n",
    "\n",
    "q, r = qr(mat)\n",
    "print(\"r = \", r)\n"
   ]
  },
  {
   "cell_type": "markdown",
   "metadata": {},
   "source": [
    "### Random number generation"
   ]
  },
  {
   "cell_type": "markdown",
   "metadata": {},
   "source": [
    "#### Random function\n",
    "| Function | Description |\n",
    "| --- | --- |\n",
    "| seed | Seed the random number generator |\n",
    "| permutation | Return a random permutation of a sequence, or return a permutation range |\n",
    "| shuffle | Randomly permute a sequence in place |\n",
    "| rand | Draw samples from a uniform distribution |\n",
    "| randint | Draw random integers from a given low-to-high range |\n",
    "| randn | Draw samples from a normal distribution with mean 0 and standard deviation 1 |\n",
    "| binomial | Draw samples from a binomial distribution |\n",
    "| normal | Draw samples from a normal (Gaussian) distribution |\n",
    "| beta | Draw samples from a beta distribution |\n",
    "| chisquare | Draw samples from a chi-square distribution |\n",
    "| gamma | Draw samples from a gamma distribution |\n",
    "| uniform | Draw samples from a uniform[0, 1] distribution |\n",
    " "
   ]
  },
  {
   "cell_type": "code",
   "execution_count": 161,
   "metadata": {},
   "outputs": [
    {
     "name": "stdout",
     "output_type": "stream",
     "text": [
      "normal distribution:  [ 0.17814289 -1.32051171  0.08526446 -0.65755889  1.13056385 -0.95317881\n",
      " -0.71073439 -0.52251288 -0.38566095 -0.87389717]\n",
      "uniform distribution:  [0.70221657 0.42621046 0.25699654 0.02930941 0.72313448 0.20745598\n",
      " 0.9274611  0.98497382 0.07428828 0.62339257]\n",
      "randint distribution:  [3 6 7 7 3 2 0 3 0 7]\n",
      "2 way distribution:  [[1 2 4 5 2]\n",
      " [5 4 6 0 9]]\n"
     ]
    }
   ],
   "source": [
    "# draw random samples\n",
    "import numpy as np\n",
    "samples = np.random.normal(size = 10)\n",
    "print (\"normal distribution: \", samples)\n",
    "samples = np.random.uniform(size = 10)\n",
    "print (\"uniform distribution: \", samples)\n",
    "samples = np.random.randint(0, 10, size = 10)\n",
    "print (\"randint distribution: \", samples)\n",
    "\n",
    "# simulate random in multiple ways\n",
    "samples = np.random.randint(0, 10, size=(2, 5))\n",
    "print (\"2 way distribution: \", samples)\n"
   ]
  }
 ],
 "metadata": {
  "kernelspec": {
   "display_name": "venv",
   "language": "python",
   "name": "python3"
  },
  "language_info": {
   "codemirror_mode": {
    "name": "ipython",
    "version": 3
   },
   "file_extension": ".py",
   "mimetype": "text/x-python",
   "name": "python",
   "nbconvert_exporter": "python",
   "pygments_lexer": "ipython3",
   "version": "3.11.7"
  },
  "orig_nbformat": 4
 },
 "nbformat": 4,
 "nbformat_minor": 2
}
