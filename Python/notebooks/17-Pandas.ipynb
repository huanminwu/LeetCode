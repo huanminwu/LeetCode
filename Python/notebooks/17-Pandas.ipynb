{
 "cells": [
  {
   "attachments": {},
   "cell_type": "markdown",
   "metadata": {},
   "source": [
    "# Pandas\n",
    "Pandas is a high level data structure built on Numpy, and make it easy to use in NumPy centric applications."
   ]
  },
  {
   "cell_type": "markdown",
   "metadata": {},
   "source": [
    "## Series\n",
    "A Series is a one-dimensional array-like object with associated array of data labels. "
   ]
  },
  {
   "cell_type": "code",
   "execution_count": 8,
   "metadata": {},
   "outputs": [
    {
     "name": "stdout",
     "output_type": "stream",
     "text": [
      "series =  0    4\n",
      "1    7\n",
      "2   -5\n",
      "3    3\n",
      "dtype: int64\n",
      "series.index =  [0, 1, 2, 3]\n",
      "series.values =  [ 4  7 -5  3]\n",
      "series with new indexes =  a    4\n",
      "b    7\n",
      "c   -5\n",
      "d    3\n",
      "dtype: int64\n",
      "series[[a , c]] =  a    4\n",
      "c   -5\n",
      "dtype: int64\n"
     ]
    }
   ],
   "source": [
    "# Load array from list\n",
    "from pandas import Series, DataFrame\n",
    "import pandas as pd\n",
    "series = Series([4, 7, -5, 3])\n",
    "print(\"series = \", series)\n",
    "print(\"series.index = \", list(series.index))\n",
    "print(\"series.values = \", series.values)\n",
    "\n",
    "series = Series([4, 7, -5, 3], index= ['a', 'b', 'c', 'd'])\n",
    "print(\"series with new indexes = \", series)\n",
    "print(\"series[[a , c]] = \", series[['a' , 'c']])"
   ]
  },
  {
   "cell_type": "markdown",
   "metadata": {},
   "source": [
    "#### Convert dictionary to series"
   ]
  },
  {
   "cell_type": "code",
   "execution_count": 14,
   "metadata": {},
   "outputs": [
    {
     "name": "stdout",
     "output_type": "stream",
     "text": [
      "series =  Ohio      35000\n",
      "Texas     71000\n",
      "Oregon    16000\n",
      "Utah       5000\n",
      "dtype: int64\n",
      "slices =  California        NaN\n",
      "Ohio          35000.0\n",
      "Oregon        16000.0\n",
      "Texas         71000.0\n",
      "dtype: float64\n",
      "pd.isnull(slices): California     True\n",
      "Ohio          False\n",
      "Oregon        False\n",
      "Texas         False\n",
      "dtype: bool\n",
      "pd.notnull(slices): California    False\n",
      "Ohio           True\n",
      "Oregon         True\n",
      "Texas          True\n",
      "dtype: bool\n",
      "series + slices =  California         NaN\n",
      "Ohio           70000.0\n",
      "Oregon         32000.0\n",
      "Texas         142000.0\n",
      "Utah               NaN\n",
      "dtype: float64\n"
     ]
    }
   ],
   "source": [
    "from pandas import Series, DataFrame\n",
    "import pandas as pd\n",
    "data = {'Ohio':35000, 'Texas': 71000, 'Oregon': 16000, 'Utah' : 5000}\n",
    "series = Series(data)\n",
    "print(\"series = \", series)\n",
    "states = ['California', 'Ohio', 'Oregon', 'Texas']\n",
    "slices = Series(data, index = states)\n",
    "print(\"slices = \", slices)\n",
    "print(\"pd.isnull(slices):\", pd.isnull(slices))\n",
    "print(\"pd.notnull(slices):\", pd.notnull(slices))\n",
    "print(\"series + slices = \", series + slices)\n"
   ]
  },
  {
   "cell_type": "code",
   "execution_count": 2,
   "metadata": {},
   "outputs": [
    {
     "name": "stdout",
     "output_type": "stream",
     "text": [
      "series =  state\n",
      "Ohio      35000\n",
      "Texas     71000\n",
      "Oregon    16000\n",
      "Utah       5000\n",
      "Name: population, dtype: int64\n"
     ]
    }
   ],
   "source": [
    "from pandas import Series, DataFrame\n",
    "import pandas as pd\n",
    "data = {'Ohio':35000, 'Texas': 71000, 'Oregon': 16000, 'Utah' : 5000}\n",
    "series = Series(data)\n",
    "series.name = 'population'\n",
    "series.index.name = 'state'\n",
    "print(\"series = \", series)"
   ]
  },
  {
   "cell_type": "markdown",
   "metadata": {},
   "source": [
    "## DataFrame \n",
    "A DataFrame is a tabular, row-column data structure. It contains a collection of columns and a list of rows. The DataFrame support both row and column wise index."
   ]
  },
  {
   "cell_type": "markdown",
   "metadata": {},
   "source": [
    "#### DataFrame Constructor\n",
    "| Type | Notes |\n",
    "| --- | --- |\n",
    "| 2D ndarray | A matrix of data, passing optional row and column labels |\n",
    "| dict of arrays, list, or tuples | Each sequence becomes a column in the DataFrame. All Sequences must be the same length. |\n",
    "| NumPy structured array | Treated as the 'dict of arrays' case |\n",
    "| dict of Series | Each value becomes a column. Indexes from each Series are unioned together to from the result's row index if no explicit index is passed. |\n",
    "| list of dicts or Series | Each item becomes a row in the DataFrame. Union of dict keys or Series indexes become the DataFrame's column labels |\n",
    "| List of lists or tuples | Treated as the '2D ndarray' case\n",
    "| Another DataFrame | The DataFrame's indexes are used unless different ones are passed |\n",
    "| NumPy MaskedArray | Like the '2D ndarray' case except masked values become NA in the DataFrame result | "
   ]
  },
  {
   "cell_type": "code",
   "execution_count": 23,
   "metadata": {},
   "outputs": [
    {
     "name": "stdout",
     "output_type": "stream",
     "text": [
      "frame =      state  year  pop\n",
      "0    Ohio  2000  1.5\n",
      "1    Ohio  2001  1.7\n",
      "2    Ohio  2002  3.6\n",
      "3  Nevada  2001  2.4\n",
      "4  Nevada  2002  2.9\n",
      "frame1 =         year   state  pop\n",
      "one    2000    Ohio  1.5\n",
      "two    2001    Ohio  1.7\n",
      "three  2002    Ohio  3.6\n",
      "four   2001  Nevada  2.4\n",
      "five   2002  Nevada  2.9\n",
      "frame1.loc['three'] =  year     2002\n",
      "state    Ohio\n",
      "pop       3.6\n",
      "Name: three, dtype: object\n"
     ]
    }
   ],
   "source": [
    "from pandas import Series, DataFrame\n",
    "import pandas as pd\n",
    "data = {'state' : ['Ohio', 'Ohio', 'Ohio', 'Nevada', 'Nevada'],\n",
    "        'year' : [2000, 2001, 2002, 2001, 2002],\n",
    "        'pop' : [1.5, 1.7, 3.6, 2.4, 2.9]\n",
    "        }\n",
    "frame = DataFrame(data)\n",
    "print(\"frame = \", frame)\n",
    "\n",
    "# reorder columns\n",
    "frame1 = DataFrame(data, columns = ['year', 'state', 'pop'])\n",
    "frame1.index = ['one', 'two', 'three', 'four', 'five']\n",
    "print(\"frame1 = \", frame1)\n",
    "print(\"frame1.loc['three'] = \", frame1.loc['three'])"
   ]
  },
  {
   "cell_type": "code",
   "execution_count": 158,
   "metadata": {},
   "outputs": [
    {
     "name": "stdout",
     "output_type": "stream",
     "text": [
      "frame =        Nevada  Ohio\n",
      "2001     2.4   1.7\n",
      "2002     2.9   3.6\n",
      "2000     NaN   1.5\n",
      "frame.T =          2001  2002  2000\n",
      "Nevada   2.4   2.9   NaN\n",
      "Ohio     1.7   3.6   1.5\n",
      "frame1 =  state  Nevada  Ohio\n",
      "year               \n",
      "2001      2.4   1.7\n",
      "2002      2.9   3.6\n",
      "2003      NaN   NaN\n",
      "frame2 =        Ohio  Nevada\n",
      "2001   1.7     2.4\n",
      "2002   NaN     2.9\n"
     ]
    }
   ],
   "source": [
    "from pandas import Series, DataFrame\n",
    "import pandas as pd\n",
    "data = {\n",
    "    'Nevada' : {2001 : 2.4, 2002 : 2.9},\n",
    "    'Ohio' : {2000 : 1.5, 2001 : 1.7, 2002 : 3.6}\n",
    "    }\n",
    "frame = DataFrame(data)\n",
    "print(\"frame = \", frame)\n",
    "print(\"frame.T = \", frame.T)\n",
    "\n",
    "frame1 = DataFrame(data, index=[2001, 2002, 2003])\n",
    "frame1.index.name = 'year'\n",
    "frame1.columns.name = 'state'\n",
    "print(\"frame1 = \", frame1)\n",
    "\n",
    "frame2 = DataFrame({'Ohio' : frame['Ohio'][:1],\n",
    "                    'Nevada' : frame['Nevada'][:2]})\n",
    "print(\"frame2 = \", frame2)\n"
   ]
  },
  {
   "cell_type": "markdown",
   "metadata": {},
   "source": [
    "#### Index Objects in pandas\n",
    "| Class | Description |\n",
    "| --- | --- |\n",
    "| Index | The most general index object, representing axis labels in a NumPy array of Python Objects. |\n",
    "| Int64Index | Specialize Index for integer values |\n",
    "| MultiIndex | 'Hierachical' index object representing multiple levels of indexing on a single axis. Can be thought of as similar to an array of tuples |\n",
    "| DatetimeIndex | Stores nanosecond timestamps (NumPy's datetime64 dtype). |\n",
    "| PeriodIndex | Specialized Index for Period data (timespans) |"
   ]
  },
  {
   "cell_type": "markdown",
   "metadata": {},
   "source": [
    "#### Index methods and properties\n",
    "| Method | Description |\n",
    "| --- | --- |\n",
    "| append | Concatenate with additional Index object, producing a new Index |\n",
    "| diff | Compute set difference as an Index |\n",
    "| intersection | Compute set intersection |\n",
    "| union | Compute set union |\n",
    "| isin | Compute boolean array indicating whether each value is contained in the passed collection |\n",
    "| delete | Compute new Index with element at index i deleted |\n",
    "| drop | Compute new Index by deleting passed values |\n",
    "| insert | Compute new Index by inserting element at index i |\n",
    "| is_monotonic | Return True if each element is greater than or equal to the previous element. |\n",
    "| is_unique | Return True if the Index has no duplicate values |\n",
    "| unique | Compute the array of unique values in the Index |\n",
    "| reindex | Reindex series by expanding or truncating the index |"
   ]
  },
  {
   "cell_type": "markdown",
   "metadata": {},
   "source": [
    "#### Reindexing"
   ]
  },
  {
   "cell_type": "code",
   "execution_count": 50,
   "metadata": {},
   "outputs": [
    {
     "name": "stdout",
     "output_type": "stream",
     "text": [
      "Before reindex\n",
      "series.index =  ['d', 'b', 'a', 'c']\n",
      "series.values =  [ 4.5  7.2 -5.3  3.6]\n",
      "After reindex\n",
      "series.index =  ['a', 'b', 'c', 'd', 'e']\n",
      "series.values =  [-5.3  7.2  3.6  4.5  nan]\n",
      "series.drop('c')\n",
      "series.index =  ['a', 'b', 'c', 'd']\n",
      "series.values =  [-5.3  7.2  3.6  4.5]\n"
     ]
    }
   ],
   "source": [
    "# reindex series\n",
    "from pandas import Series, DataFrame\n",
    "import pandas as pd\n",
    "series = Series([4.5, 7.2, -5.3, 3.6], index=['d','b', 'a', 'c'])\n",
    "print(\"Before reindex\")\n",
    "print(\"series.index = \", list(series.index))\n",
    "print(\"series.values = \", series.values)\n",
    "series = series.reindex(['a', 'b', 'c', 'd', 'e'])\n",
    "print(\"After reindex\")\n",
    "print(\"series.index = \", list(series.index))\n",
    "print(\"series.values = \", series.values)\n",
    "print(\"series.drop('c')\")\n",
    "series = series.drop('e')\n",
    "print(\"series.index = \", list(series.index))\n",
    "print(\"series.values = \", series.values)"
   ]
  },
  {
   "cell_type": "code",
   "execution_count": 77,
   "metadata": {},
   "outputs": [
    {
     "name": "stdout",
     "output_type": "stream",
     "text": [
      "data =            one  two  three  four\n",
      "Ohio        0    1      2     3\n",
      "Colorado    4    5      6     7\n",
      "Utah        8    9     10    11\n",
      "New York   12   13     14    15\n",
      "data.drop(['Colorado','Ohio']) =            one  two  three  four\n",
      "Utah        8    9     10    11\n",
      "New York   12   13     14    15\n",
      "data.drop(['two','four'], axis = 1) =            one  three\n",
      "Ohio        0      2\n",
      "Colorado    4      6\n",
      "Utah        8     10\n",
      "New York   12     14\n"
     ]
    }
   ],
   "source": [
    "from pandas import Series, DataFrame\n",
    "import pandas as pd\n",
    "import numpy as np\n",
    "data = DataFrame(np.arange(16).reshape((4, 4)), index = ['Ohio', 'Colorado', 'Utah', 'New York'], columns = (['one', 'two', 'three', 'four']))\n",
    "print(\"data = \", data)\n",
    "#drop rows\n",
    "print(\"data.drop(['Colorado','Ohio']) = \", data.drop(['Colorado','Ohio']))\n",
    "#drop columns\n",
    "print(\"data.drop(['two','four'], axis = 1) = \", data.drop(['two','four'], axis = 1))"
   ]
  },
  {
   "cell_type": "code",
   "execution_count": 98,
   "metadata": {},
   "outputs": [
    {
     "name": "stdout",
     "output_type": "stream",
     "text": [
      "df =            one  two  three  four\n",
      "Ohio        0    1      2     3\n",
      "Colorado    4    5      6     7\n",
      "Utah        8    9     10    11\n",
      "New York   12   13     14    15\n",
      "df.loc['Colorado'] one      4\n",
      "two      5\n",
      "three    6\n",
      "four     7\n",
      "Name: Colorado, dtype: int32\n",
      "df.loc[['Ohio', 'Colorado']]           one  three\n",
      "Ohio        0      2\n",
      "Colorado    4      6\n",
      "df['three'] Ohio         2\n",
      "Colorado     6\n",
      "Utah        10\n",
      "New York    14\n",
      "Name: three, dtype: int32\n"
     ]
    }
   ],
   "source": [
    "from pandas import Series, DataFrame\n",
    "import pandas as pd\n",
    "import numpy as np\n",
    "df = DataFrame(np.arange(16).reshape((4, 4)), index = ['Ohio', 'Colorado', 'Utah', 'New York'], columns = (['one', 'two', 'three', 'four']))\n",
    "print(\"df = \", df)\n",
    "\n",
    "print(\"df.loc['Colorado']\", df.loc['Colorado']) \n",
    "print(\"df.loc[['Ohio', 'Colorado']][['one', 'three']]\", df.loc[['Ohio', 'Colorado']][['one', 'three']]) \n",
    "print(\"df['three']\", df['three']) "
   ]
  },
  {
   "cell_type": "markdown",
   "metadata": {},
   "source": [
    "#### Observation \n",
    "1. select a list of rows we should use loc method with a list of row id.\n",
    "2. if we only select one row it return a distionary with column : value\n"
   ]
  },
  {
   "cell_type": "markdown",
   "metadata": {},
   "source": [
    "#### Arithmetic and data alignment"
   ]
  },
  {
   "cell_type": "markdown",
   "metadata": {},
   "source": [
    "arithmetic methods\n",
    "| Method | Description |\n",
    "| --- | --- |\n",
    "| add | Method for addition(+) |\n",
    "| sub | Method for substraction(-) |\n",
    "| div | Method for division(/) |\n",
    "| mul | Method for multiplication(*) |"
   ]
  },
  {
   "cell_type": "code",
   "execution_count": 101,
   "metadata": {},
   "outputs": [
    {
     "name": "stdout",
     "output_type": "stream",
     "text": [
      "df1 =            b  c  d\n",
      "Ohio      0  1  2\n",
      "Texas     3  4  5\n",
      "Colorado  6  7  8\n",
      "df2 =          b   d   e\n",
      "Utah    0   1   2\n",
      "Ohio    3   4   5\n",
      "Texas   6   7   8\n",
      "Oregon  9  10  11\n",
      "df1 + df2 =              b   c     d   e\n",
      "Colorado  NaN NaN   NaN NaN\n",
      "Ohio      3.0 NaN   6.0 NaN\n",
      "Oregon    NaN NaN   NaN NaN\n",
      "Texas     9.0 NaN  12.0 NaN\n",
      "Utah      NaN NaN   NaN NaN\n",
      "df1.add(df2, fill_value=0)             b    c     d     e\n",
      "Colorado  6.0  7.0   8.0   NaN\n",
      "Ohio      3.0  1.0   6.0   5.0\n",
      "Oregon    9.0  NaN  10.0  11.0\n",
      "Texas     9.0  4.0  12.0   8.0\n",
      "Utah      0.0  NaN   1.0   2.0\n"
     ]
    }
   ],
   "source": [
    "from pandas import Series, DataFrame\n",
    "import pandas as pd\n",
    "import numpy as np\n",
    "\n",
    "# add two data frames\n",
    "df1 = DataFrame(np.arange(9).reshape(3,3), columns=list(\"bcd\"), index=['Ohio', 'Texas', 'Colorado'])\n",
    "df2 = DataFrame(np.arange(12).reshape(4,3), columns=list(\"bde\"), index=['Utah', 'Ohio', 'Texas', 'Oregon'])\n",
    "print('df1 = ', df1)\n",
    "print('df2 = ', df2)\n",
    "print('df1 + df2 = ', df1 + df2)\n",
    "print(\"df1.add(df2, fill_value=0)\", df1.add(df2, fill_value=0))\n"
   ]
  },
  {
   "cell_type": "markdown",
   "metadata": {},
   "source": [
    "#### Observation \n",
    "1. If we want to do arithemtic operations on two data frame, we should use fill_value"
   ]
  },
  {
   "cell_type": "markdown",
   "metadata": {},
   "source": [
    "#### Function application and mapping"
   ]
  },
  {
   "cell_type": "code",
   "execution_count": 115,
   "metadata": {},
   "outputs": [
    {
     "name": "stdout",
     "output_type": "stream",
     "text": [
      "Before function\n",
      "        b   d   e\n",
      "Utah    0   1   2\n",
      "Ohio    3   4   5\n",
      "Texas   6   7   8\n",
      "Oregon  9  10  11\n",
      "\n",
      "After function\n",
      "     b   d   e\n",
      "min  0   1   2\n",
      "max  9  10  11\n",
      "f = lambda x : x.max() - x.min()\n",
      "df.apply(f)\n",
      "     b   d   e\n",
      "min  0   1   2\n",
      "max  9  10  11\n"
     ]
    }
   ],
   "source": [
    "from pandas import Series, DataFrame\n",
    "import pandas as pd\n",
    "import numpy as np\n",
    "def f(x) :\n",
    "    return Series([x.min(), x.max()], index=['min', 'max'])\n",
    "df = DataFrame(np.arange(12).reshape(4,3), columns=list(\"bde\"), index=['Utah', 'Ohio', 'Texas', 'Oregon'])\n",
    "print(\"Before function\")\n",
    "print(df)\n",
    "df2 = df.apply(f)\n",
    "print(\"\")\n",
    "print(\"After function\")\n",
    "print(df2)\n",
    "print(\"f = lambda x : x.max() - x.min()\")\n",
    "print(\"df.apply(f)\")\n",
    "df3 = df.apply(f)\n",
    "print(df3)"
   ]
  },
  {
   "cell_type": "markdown",
   "metadata": {},
   "source": [
    "#### Sort and Ranking"
   ]
  },
  {
   "cell_type": "code",
   "execution_count": 136,
   "metadata": {},
   "outputs": [
    {
     "name": "stdout",
     "output_type": "stream",
     "text": [
      "frame =    b  a\n",
      "0  4  0\n",
      "1  7  1\n",
      "2 -3  0\n",
      "3 -2  1\n",
      "frame.sort_values(by=['a', 'b'])    a  b\n",
      "2  0 -3\n",
      "0  0  4\n",
      "3  1 -2\n",
      "1  1  7\n",
      "   a  b  rank_a  rank_b\n",
      "0  0  4     1.5     3.0\n",
      "1  1  7     3.5     4.0\n",
      "2  0 -3     1.5     1.0\n",
      "3  1 -2     3.5     2.0\n"
     ]
    }
   ],
   "source": [
    "from pandas import Series, DataFrame\n",
    "import pandas as pd\n",
    "import numpy as np\n",
    "frame = DataFrame({'b' : [4, 7, -3, -2], 'a' : [0, 1, 0, 1]}, index=[0,1,2,3])\n",
    "print(\"frame =\", frame)\n",
    "frame = frame.sort_index(axis = 1)\n",
    "print(\"frame.sort_values(by=['a', 'b'])\", frame.sort_values(by=['a', 'b']))\n",
    "frame['rank_a'] = frame['a'].rank()\n",
    "frame['rank_b'] = frame['b'].rank(method='max')\n",
    "print(frame)\n"
   ]
  },
  {
   "cell_type": "markdown",
   "metadata": {},
   "source": [
    "#### handle NaN data\n",
    "| Method | Description |\n",
    "| --- | --- |\n",
    "| dropna | Filter axis labels based on whether values for each label having missing data, with varying thresholds for how much missing data to tolerate. |\n",
    "| fillna | Fill in missing data with some value or using an interpolation method such as 'ffill' or 'bfill'. |\n",
    "| isnull | return boolean values indicating which values are missing N/A. |\n",
    "| notnull | Negation of isnull |"
   ]
  },
  {
   "cell_type": "code",
   "execution_count": 159,
   "metadata": {},
   "outputs": [
    {
     "name": "stdout",
     "output_type": "stream",
     "text": [
      "data =       0    1    2\n",
      "0  1.0  6.5  3.0\n",
      "1  1.0  NaN  NaN\n",
      "2  NaN  NaN  NaN\n",
      "3  NaN  6.2  3.0\n",
      "data.dropna():\n",
      "      0    1    2\n",
      "0  1.0  6.5  3.0\n",
      "data.dropna(how='all'):\n",
      "      0    1    2\n",
      "0  1.0  6.5  3.0\n",
      "1  1.0  NaN  NaN\n",
      "3  NaN  6.2  3.0\n",
      "data.dropna(thresh=2):\n",
      "      0    1    2\n",
      "0  1.0  6.5  3.0\n",
      "3  NaN  6.2  3.0\n",
      "data.fillna(0):\n",
      "      0    1    2\n",
      "0  1.0  6.5  3.0\n",
      "1  1.0  0.0  0.0\n",
      "2  0.0  0.0  0.0\n",
      "3  0.0  6.2  3.0\n"
     ]
    }
   ],
   "source": [
    "from pandas import Series, DataFrame\n",
    "import pandas as pd\n",
    "import numpy as np\n",
    "from numpy import NaN\n",
    "data = DataFrame([[1.0, 6.5, 3.0], [1.0, NaN, NaN], [NaN, NaN, NaN], [NaN, 6.2, 3.0]])\n",
    "print(\"data = \", data)\n",
    "print(\"data.dropna():\\n\", data.dropna())\n",
    "print(\"data.dropna(how='all'):\\n\", data.dropna(how='all'))\n",
    "print(\"data.dropna(thresh=2):\\n\", data.dropna(thresh=2))\n",
    "print(\"data.fillna(0):\\n\", data.fillna(0))"
   ]
  }
 ],
 "metadata": {
  "kernelspec": {
   "display_name": "venv",
   "language": "python",
   "name": "python3"
  },
  "language_info": {
   "codemirror_mode": {
    "name": "ipython",
    "version": 3
   },
   "file_extension": ".py",
   "mimetype": "text/x-python",
   "name": "python",
   "nbconvert_exporter": "python",
   "pygments_lexer": "ipython3",
   "version": "3.11.4"
  },
  "orig_nbformat": 4
 },
 "nbformat": 4,
 "nbformat_minor": 2
}
