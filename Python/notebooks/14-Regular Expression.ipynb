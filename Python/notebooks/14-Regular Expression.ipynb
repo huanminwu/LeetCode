{
 "cells": [
  {
   "attachments": {},
   "cell_type": "markdown",
   "metadata": {},
   "source": [
    "# Regular Expression\n",
    "In this notebook we will learn regular expresison. Regular Expression is a special string expression which is used for pattern match."
   ]
  },
  {
   "attachments": {},
   "cell_type": "markdown",
   "metadata": {},
   "source": [
    "## Search"
   ]
  },
  {
   "attachments": {},
   "cell_type": "markdown",
   "metadata": {},
   "source": [
    "#### Regular Expression \n",
    "| Pattern | Explanation |\n",
    "| --- | --- |\n",
    "| \\\\d | digits, 0 -9 | \n",
    "| \\\\ D | Non-digits |\n",
    "| \\\\s | spaces |\n",
    "| \\\\S | non-spaces |\n",
    "| \\\\w | word characters |\n",
    "| \\\\W | non-word characters |\n",
    "| * | match 0 or more occurences |\n",
    "| + | match 1 or more occurences |\n",
    "| ? | march 0 or 1 occurence |\n",
    "| { } | specify how many occurences |\n",
    "| ( ) | group pattern |\n",
    "| . | any single character |\n"
   ]
  },
  {
   "attachments": {},
   "cell_type": "markdown",
   "metadata": {},
   "source": [
    "#### Match in groups"
   ]
  },
  {
   "cell_type": "code",
   "execution_count": 1,
   "metadata": {},
   "outputs": [
    {
     "name": "stdout",
     "output_type": "stream",
     "text": [
      "text =  My phone number is 425-241-1234 or 260-112-2345. The code is 1231234567 or 123-1111-1234 ; pattern = \\d{3}-\\d{3}-\\d{4}\n",
      "result =  ['425-241-1234', '260-112-2345']\n"
     ]
    }
   ],
   "source": [
    "# import regular expression module.\n",
    "import re\n",
    "\n",
    "# match telephone numbers\n",
    "pattern = \"\\d{3}-\\d{3}-\\d{4}\"\n",
    "text = \"My phone number is 425-241-1234 or 260-112-2345. The code is 1231234567 or 123-1111-1234\"\n",
    "result = re.findall(pattern, text)\n",
    "print(\"text = \", text, \"; pattern =\", pattern)\n",
    "print(\"result = \", result)"
   ]
  },
  {
   "cell_type": "code",
   "execution_count": 2,
   "metadata": {},
   "outputs": [
    {
     "name": "stdout",
     "output_type": "stream",
     "text": [
      "text =  My phone number is 425-2411234 ; pattern = (\\d{3})-(\\d{7})\n",
      "area =  425 local number =  2411234\n"
     ]
    }
   ],
   "source": [
    "# match telephone numbers in groups\n",
    "pattern = r'(\\d{3})-(\\d{7})'\n",
    "text = \"My phone number is 425-2411234\"\n",
    "result = re.search(pattern, text)\n",
    "print(\"text = \", text, \"; pattern =\", pattern)\n",
    "print(\"area = \", result.groups()[0], \"local number = \", result.groups()[1])"
   ]
  },
  {
   "attachments": {},
   "cell_type": "markdown",
   "metadata": {},
   "source": [
    "#### Multiple choices"
   ]
  },
  {
   "cell_type": "code",
   "execution_count": 3,
   "metadata": {},
   "outputs": [
    {
     "name": "stdout",
     "output_type": "stream",
     "text": [
      "text =  The president of club is Tom ; pattern = Tom|Jerry\n",
      "result =  Tom\n",
      "msg = Johnson, Johnnason and Johnnathan will attend my party tonight\n",
      "pattern = John(son|nason|nathan)\n",
      "Johnson\n",
      "pattern = John(na)?son\n",
      "Johnson\n",
      "pattern = John(na)*son\n",
      "Johnson\n",
      "pattern = John(na)+son\n",
      "Johnnason\n",
      "pattern = john(na)+son\n",
      "None\n",
      "Johnnason\n"
     ]
    }
   ],
   "source": [
    "import re\n",
    "# match multiple choices\n",
    "pattern = 'Tom|Jerry'\n",
    "text = \"The president of club is Tom\"\n",
    "result = re.search(pattern, text)\n",
    "print(\"text = \", text, \"; pattern =\", pattern)\n",
    "print(\"result = \", result.group() if result != None else None)\n",
    "\n",
    "# match multiple choices as similar names\n",
    "msg = 'Johnson, Johnnason and Johnnathan will attend my party tonight'\n",
    "print(\"msg =\", msg)\n",
    "pattern = 'John(son|nason|nathan)'\n",
    "print(\"pattern =\", pattern)\n",
    "result = re.search(pattern, msg)\n",
    "print(result.group())\n",
    "\n",
    "pattern = 'John(na)?son'\n",
    "print(\"pattern =\", pattern)\n",
    "result = re.search(pattern, msg)\n",
    "print(result.group())\n",
    "\n",
    "pattern = 'John(na)*son'\n",
    "print(\"pattern =\", pattern)\n",
    "result = re.search(pattern, msg)\n",
    "print(result.group())\n",
    "\n",
    "pattern = 'John(na)+son'\n",
    "print(\"pattern =\", pattern)\n",
    "result = re.search(pattern, msg)\n",
    "print(result.group())\n",
    "\n",
    "pattern = 'john(na)+son'\n",
    "print(\"pattern =\", pattern)\n",
    "result = re.search(pattern, msg)\n",
    "print(result.group() if result != None else None)\n",
    "result = re.search(pattern, msg, re.IGNORECASE)\n",
    "print(result.group() if result != None else None)"
   ]
  },
  {
   "attachments": {},
   "cell_type": "markdown",
   "metadata": {},
   "source": [
    "#### Greedy Search\n",
    "Greedy search will match multiple occurence"
   ]
  },
  {
   "cell_type": "code",
   "execution_count": 4,
   "metadata": {},
   "outputs": [
    {
     "name": "stdout",
     "output_type": "stream",
     "text": [
      "msg =  sonsonsonsonson\n",
      "pattern =  (son){1,3}\n",
      "sonsonson\n"
     ]
    }
   ],
   "source": [
    "import re\n",
    "msg = 'sonsonsonsonson'\n",
    "pattern = '(son){1,3}'\n",
    "print('msg = ', msg)\n",
    "print('pattern = ', pattern)\n",
    "result = re.search(pattern, msg, re.IGNORECASE)\n",
    "print(result.group() if result != None else None)"
   ]
  },
  {
   "attachments": {},
   "cell_type": "markdown",
   "metadata": {},
   "source": [
    "#### Shortest Match"
   ]
  },
  {
   "cell_type": "code",
   "execution_count": 5,
   "metadata": {},
   "outputs": [
    {
     "name": "stdout",
     "output_type": "stream",
     "text": [
      "text= Computer says \"no\". Phone says \"yes\".\n",
      "re.findall(r'\"(.*)\"', text) ['no\". Phone says \"yes']\n",
      "re.findall(r'\"(.*?)\"', text) ['no', 'yes']\n"
     ]
    }
   ],
   "source": [
    "import re\n",
    "text = 'Computer says \"no\". Phone says \"yes\".'\n",
    "print(\"text=\", text)\n",
    "print(\"re.findall(r'\\\"(.*)\\\"', text)\", re.findall(r'\\\"(.*)\\\"', text))\n",
    "print(\"re.findall(r'\\\"(.*?)\\\"', text)\", re.findall(r'\\\"(.*?)\\\"', text))\n",
    "\n"
   ]
  },
  {
   "attachments": {},
   "cell_type": "markdown",
   "metadata": {},
   "source": [
    "#### Specify range\n",
    "1. In the regular expression pattern we can specify a range in '[x-y]', both x and y must be character.\n",
    "2. We can also use [^x-y] to exclusive search specific range."
   ]
  },
  {
   "cell_type": "code",
   "execution_count": 6,
   "metadata": {},
   "outputs": [
    {
     "name": "stdout",
     "output_type": "stream",
     "text": [
      "text =  Computer says \"no\". Phone says \"yes\". ; pattern = [1-5]\n",
      "result =  ['1', '2', '3', '4']\n",
      "text =  Computer says \"no\". Phone says \"yes\". ; pattern = [^0-9., ]+\n",
      "result =  ['cat', 'dog', 'pig', 'swan']\n"
     ]
    }
   ],
   "source": [
    "import re\n",
    "# match multiple choices\n",
    "pattern = '[1-5]'\n",
    "msg = '1. cat, 2. dog, 3. pig, 4. swan'\n",
    "result = re.findall(pattern, msg)\n",
    "print(\"text = \", text, \"; pattern =\", pattern)\n",
    "print(\"result = \", result)\n",
    "pattern = '[^0-9., ]+'\n",
    "result = re.findall(pattern, msg)\n",
    "print(\"text = \", text, \"; pattern =\", pattern)\n",
    "print(\"result = \", result)"
   ]
  },
  {
   "attachments": {},
   "cell_type": "markdown",
   "metadata": {},
   "source": [
    "#### Start and end\n",
    "1. We can use ^ to specify the pattern should match at the start of string.\n",
    "2. We can use $ to specify the pattern should match at the end of string."
   ]
  },
  {
   "cell_type": "code",
   "execution_count": 7,
   "metadata": {},
   "outputs": [
    {
     "name": "stdout",
     "output_type": "stream",
     "text": [
      "text =  John will attend my party 28 tonight. ; pattern = \\w+.?$\n",
      "result =  ['tonight.']\n",
      "pattern = ^\\w+\n",
      "result =  ['John']\n"
     ]
    }
   ],
   "source": [
    "import re\n",
    "# match start and end of sentence\n",
    "msg = 'John will attend my party 28 tonight.'\n",
    "pattern = '\\w+.?$'\n",
    "result = re.findall(pattern, msg)\n",
    "print(\"text = \", msg, \"; pattern =\", pattern)\n",
    "print(\"result = \", result)\n",
    "pattern = '^\\w+'\n",
    "result = re.findall(pattern, msg)\n",
    "print(\"pattern =\", pattern)\n",
    "print(\"result = \", result)\n"
   ]
  },
  {
   "attachments": {},
   "cell_type": "markdown",
   "metadata": {},
   "source": [
    "## Match\n",
    "The match method will return MatchObject which will have the following methods\n",
    "| Function | Explanation |\n",
    "| --- | --- |\n",
    "| group() | return matched object |\n",
    "| end() | end position of match object |\n",
    "| start() | start position of match object |\n",
    "| span() | (start, end) of match object |\n"
   ]
  },
  {
   "cell_type": "code",
   "execution_count": 8,
   "metadata": {},
   "outputs": [
    {
     "name": "stdout",
     "output_type": "stream",
     "text": [
      "msg = Johnson, Johnnason and Johnnathan will attend my party tonight\n",
      "pattern = John(son|nason|nathan)\n",
      "group =  Johnson start =  0 end =  7 span =  (0, 7)\n"
     ]
    }
   ],
   "source": [
    "import re\n",
    "msg = 'Johnson, Johnnason and Johnnathan will attend my party tonight'\n",
    "print(\"msg =\", msg)\n",
    "pattern = 'John(son|nason|nathan)'\n",
    "print(\"pattern =\", pattern)\n",
    "result = re.match(pattern, msg)\n",
    "print(\"group = \", result.group(), \"start = \", result.start(), \"end = \", result.end(), \"span = \", result.span())"
   ]
  },
  {
   "attachments": {},
   "cell_type": "markdown",
   "metadata": {},
   "source": [
    "## Substitution\n",
    "We can call sub to replace regular expression matches."
   ]
  },
  {
   "cell_type": "code",
   "execution_count": 9,
   "metadata": {},
   "outputs": [
    {
     "name": "stdout",
     "output_type": "stream",
     "text": [
      "Message: CIA Mark told CIA Linda that secret USB had been given to CIA Peter.\n",
      "Pattern: CIA (\\w)\\w*\n",
      "New String: CIA \\1***\n",
      "After substitution: CIA M*** told CIA L*** that secret USB had been given to CIA P***.\n"
     ]
    }
   ],
   "source": [
    "# The following example will replace CIA name as mask\n",
    "import re\n",
    "\n",
    "msg = 'CIA Mark told CIA Linda that secret USB had been given to CIA Peter.'\n",
    "print('Message:', msg)\n",
    "pattern = r'CIA (\\w)\\w*'\n",
    "print('Pattern:', pattern)\n",
    "newstr = r'CIA \\1***'\n",
    "print('New String:', newstr)\n",
    "txt = re.sub(pattern, newstr, msg)\n",
    "print('After substitution:', txt)\n"
   ]
  },
  {
   "attachments": {},
   "cell_type": "markdown",
   "metadata": {},
   "source": [
    "### Split String on any of multiple delimiters"
   ]
  },
  {
   "cell_type": "code",
   "execution_count": 10,
   "metadata": {},
   "outputs": [
    {
     "name": "stdout",
     "output_type": "stream",
     "text": [
      "['abc', 'efg', 'afrd', 'fjek', 'asdf', 'foo']\n"
     ]
    }
   ],
   "source": [
    "line = 'abc efg; afrd, fjek, asdf,     foo'\n",
    "import re\n",
    "print(re.split(r'[;,\\s]\\s*', line))"
   ]
  },
  {
   "attachments": {},
   "cell_type": "markdown",
   "metadata": {},
   "source": [
    "## Shell Wildcard Patterns"
   ]
  },
  {
   "cell_type": "code",
   "execution_count": 11,
   "metadata": {},
   "outputs": [
    {
     "name": "stdout",
     "output_type": "stream",
     "text": [
      "fnmatch('foo.txt', '*.txt')  True\n",
      "fnmatch('foo.txt', '?oo.txt') :  True\n",
      "fnmatch('Dat45.csv', 'dat[0-9]*') :  True\n"
     ]
    }
   ],
   "source": [
    "from fnmatch import fnmatch, fnmatchcase\n",
    "print(\"fnmatch('foo.txt', '*.txt') \", fnmatch('foo.txt', '*.txt'))\n",
    "print(\"fnmatch('foo.txt', '?oo.txt') : \", fnmatch('foo.txt', '?oo.txt'))\n",
    "print(\"fnmatch('Dat45.csv', 'dat[0-9]*') : \", fnmatch('Dat45.csv', 'dat[0-9]*'))\n"
   ]
  },
  {
   "attachments": {},
   "cell_type": "markdown",
   "metadata": {},
   "source": [
    "### HTML and XML escape"
   ]
  },
  {
   "cell_type": "code",
   "execution_count": 12,
   "metadata": {},
   "outputs": [
    {
     "name": "stdout",
     "output_type": "stream",
     "text": [
      "s =  Elements are written as \"<tag>text</tag>\".\n",
      "html.escape(s) =  Elements are written as &quot;&lt;tag&gt;text&lt;/tag&gt;&quot;.\n",
      "unescape(s) =  The prompt is >>>\n"
     ]
    }
   ],
   "source": [
    "s = 'Elements are written as \"<tag>text</tag>\".'\n",
    "import html\n",
    "print(\"s = \", s)\n",
    "print(\"html.escape(s) = \", html.escape(s))\n",
    "\n",
    "s = 'The prompt is &gt;&gt;&gt;'\n",
    "from xml.sax.saxutils import unescape\n",
    "print(\"unescape(s) = \", unescape(s))"
   ]
  },
  {
   "attachments": {},
   "cell_type": "markdown",
   "metadata": {},
   "source": [
    "## Exercise\n",
    "12.1 Please write a regular expression to match IP address v4. IP address V4 is in the format of a.b.c.d, (a, b, c, d is between 1 and 255)\n",
    "\n",
    "12.2 Please write an regular expression to match email address. email is something like billgates@microsoft.com, bill123@gmail.com"
   ]
  }
 ],
 "metadata": {
  "kernelspec": {
   "display_name": "venv",
   "language": "python",
   "name": "python3"
  },
  "language_info": {
   "codemirror_mode": {
    "name": "ipython",
    "version": 3
   },
   "file_extension": ".py",
   "mimetype": "text/x-python",
   "name": "python",
   "nbconvert_exporter": "python",
   "pygments_lexer": "ipython3",
   "version": "3.11.4"
  },
  "orig_nbformat": 4
 },
 "nbformat": 4,
 "nbformat_minor": 2
}
