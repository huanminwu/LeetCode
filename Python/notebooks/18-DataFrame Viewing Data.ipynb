{
 "cells": [
  {
   "cell_type": "markdown",
   "metadata": {},
   "source": [
    "# Panda DataFrame \n",
    "Pandas DataFrame is a two-dimensional size-mutable, potentially heterogeneous tabular data structure with labeled axes (rows and columns). A Data frame is a two-dimensional data structure, i.e., data is aligned in a tabular fashion in rows and columns. Pandas DataFrame consists of three principal components, the data, rows, and columns."
   ]
  },
  {
   "cell_type": "markdown",
   "metadata": {},
   "source": [
    "![Alt text](image.png)"
   ]
  },
  {
   "cell_type": "markdown",
   "metadata": {},
   "source": [
    "#### Creating Data Frame\n",
    "In the real world, a Pandas DataFrame will be created by loading the datasets from existing storage, storage can be SQL Database, CSV file, or an Excel file. Pandas DataFrame can be created from lists, dictionaries, and from a list of dictionaries, etc."
   ]
  },
  {
   "cell_type": "markdown",
   "metadata": {},
   "source": [
    "#### DataFrame Constructor\n",
    "| Type | Notes |\n",
    "| --- | --- |\n",
    "| 2D ndarray | A matrix of data, passing optional row and column labels |\n",
    "| dict of arrays, list, or tuples | Each sequence becomes a column in the DataFrame. All Sequences must be the same length. |\n",
    "| NumPy structured array | Treated as the 'dict of arrays' case |\n",
    "| dict of Series | Each value becomes a column. Indexes from each Series are unioned together to from the result's row index if no explicit index is passed. |\n",
    "| list of dicts or Series | Each item becomes a row in the DataFrame. Union of dict keys or Series indexes become the DataFrame's column labels |\n",
    "| List of lists or tuples | Treated as the '2D ndarray' case\n",
    "| Another DataFrame | The DataFrame's indexes are used unless different ones are passed |\n",
    "| NumPy MaskedArray | Like the '2D ndarray' case except masked values become NA in the DataFrame result | "
   ]
  },
  {
   "cell_type": "code",
   "execution_count": 8,
   "metadata": {},
   "outputs": [
    {
     "name": "stdout",
     "output_type": "stream",
     "text": [
      "     name  degree  score\n",
      "0  aparna     MBA     90\n",
      "1  pankaj     BCA     40\n",
      "2  sudhir  M.Tech     80\n",
      "3   Geeku     MBA     98\n"
     ]
    }
   ],
   "source": [
    "import pandas as pd\n",
    " \n",
    "# dictionary of lists\n",
    "dict = {'name':[\"aparna\", \"pankaj\", \"sudhir\", \"Geeku\"],\n",
    "        'degree': [\"MBA\", \"BCA\", \"M.Tech\", \"MBA\"],\n",
    "        'score':[90, 40, 80, 98]}\n",
    " \n",
    "df = pd.DataFrame(dict)\n",
    " \n",
    "print(df)"
   ]
  },
  {
   "cell_type": "markdown",
   "metadata": {},
   "source": [
    "#### Dealing with Rows and Columns in Pandas DataFrame\n",
    "A Data frame is a two-dimensional data structure, i.e., data is aligned in a tabular fashion in rows and columns. We can perform basic operations on rows/columns like selecting, deleting, adding, and renaming."
   ]
  },
  {
   "cell_type": "code",
   "execution_count": 26,
   "metadata": {},
   "outputs": [
    {
     "name": "stdout",
     "output_type": "stream",
     "text": [
      "     Name Qualification\n",
      "0     Jai           Msc\n",
      "1  Princi            MA\n",
      "2  Gaurav           MCA\n",
      "3    Anuj           Phd\n"
     ]
    }
   ],
   "source": [
    "# Column Selection\n",
    "# Import pandas package\n",
    "import pandas as pd\n",
    "  \n",
    "# Define a dictionary containing employee data\n",
    "data = {'Name':['Jai', 'Princi', 'Gaurav', 'Anuj'],\n",
    "        'Age':[27, 24, 22, 32],\n",
    "        'Address':['Delhi', 'Kanpur', 'Allahabad', 'Kannauj'],\n",
    "        'Qualification':['Msc', 'MA', 'MCA', 'Phd']}\n",
    "  \n",
    "# Convert the dictionary into DataFrame \n",
    "df = pd.DataFrame(data)\n",
    "  \n",
    "# select two columns\n",
    "print(df[['Name', 'Qualification']])"
   ]
  },
  {
   "cell_type": "markdown",
   "metadata": {},
   "source": [
    "#### Column Addition:\n",
    "In Order to add a column in Pandas DataFrame, we can declare a new list as a column and add to a existing Dataframe."
   ]
  },
  {
   "cell_type": "code",
   "execution_count": 27,
   "metadata": {},
   "outputs": [
    {
     "name": "stdout",
     "output_type": "stream",
     "text": [
      "     Name  Height Qualification    Address\n",
      "0     Jai     5.1           Msc      Delhi\n",
      "1  Princi     6.2            MA  Bangalore\n",
      "2  Gaurav     5.1           Msc    Chennai\n",
      "3    Anuj     5.2           Msc      Patna\n"
     ]
    }
   ],
   "source": [
    "# Import pandas package \n",
    "import pandas as pd\n",
    "  \n",
    "# Define a dictionary containing Students data\n",
    "data = {'Name': ['Jai', 'Princi', 'Gaurav', 'Anuj'],\n",
    "        'Height': [5.1, 6.2, 5.1, 5.2],\n",
    "        'Qualification': ['Msc', 'MA', 'Msc', 'Msc']}\n",
    "  \n",
    "# Convert the dictionary into DataFrame\n",
    "df = pd.DataFrame(data)\n",
    "  \n",
    "# Declare a list that is to be converted into a column\n",
    "address = ['Delhi', 'Bangalore', 'Chennai', 'Patna']\n",
    "  \n",
    "# Using 'Address' as the column name\n",
    "# and equating it to the list\n",
    "df['Address'] = address\n",
    "  \n",
    "# Observe the result\n",
    "print(df)"
   ]
  },
  {
   "cell_type": "markdown",
   "metadata": {},
   "source": [
    "#### Column Deletion:\n",
    "In Order to delete a column in Pandas DataFrame, we can use the drop() method. Columns is deleted by dropping columns with column names."
   ]
  },
  {
   "cell_type": "code",
   "execution_count": 32,
   "metadata": {},
   "outputs": [
    {
     "name": "stdout",
     "output_type": "stream",
     "text": [
      "     Name  Height\n",
      "0     Jai     5.1\n",
      "1  Princi     6.2\n",
      "2  Gaurav     5.1\n",
      "3    Anuj     5.2\n"
     ]
    }
   ],
   "source": [
    "# importing pandas module\n",
    "import pandas as pd\n",
    "  \n",
    "# making data frame from csv file\n",
    "data = {'Name': ['Jai', 'Princi', 'Gaurav', 'Anuj'],\n",
    "        'Height': [5.1, 6.2, 5.1, 5.2],\n",
    "        'Qualification': ['Msc', 'MA', 'Msc', 'Msc']}\n",
    "  \n",
    " # Convert the dictionary into DataFrame\n",
    "df = pd.DataFrame(data)\n",
    "\n",
    "# dropping passed columns\n",
    "df.drop(['Qualification'], axis = 1, inplace = True)\n",
    "  \n",
    "# display\n",
    "print(df)"
   ]
  },
  {
   "cell_type": "markdown",
   "metadata": {},
   "source": [
    "### Dealing with Rows:\n",
    "In order to deal with rows, we can perform basic operations on rows like selecting, deleting, adding and renaming.\n",
    "\n",
    "#### Row Selection:\n",
    "Pandas provide a unique method to retrieve rows from a Data frame.DataFrame.loc[] method is used to retrieve rows from Pandas DataFrame. Rows can also be selected by passing integer location to an iloc[] function."
   ]
  },
  {
   "cell_type": "markdown",
   "metadata": {},
   "source": [
    "#### Index Objects in pandas\n",
    "| Class | Description |\n",
    "| --- | --- |\n",
    "| Index | The most general index object, representing axis labels in a NumPy array of Python Objects. |\n",
    "| Int64Index | Specialize Index for integer values |\n",
    "| MultiIndex | 'Hierachical' index object representing multiple levels of indexing on a single axis. Can be thought of as similar to an array of tuples |\n",
    "| DatetimeIndex | Stores nanosecond timestamps (NumPy's datetime64 dtype). |\n",
    "| PeriodIndex | Specialized Index for Period data (timespans) |"
   ]
  },
  {
   "cell_type": "markdown",
   "metadata": {},
   "source": [
    "#### Index methods and properties\n",
    "| Method | Description |\n",
    "| --- | --- |\n",
    "| append | Concatenate with additional Index object, producing a new Index |\n",
    "| diff | Compute set difference as an Index |\n",
    "| intersection | Compute set intersection |\n",
    "| union | Compute set union |\n",
    "| isin | Compute boolean array indicating whether each value is contained in the passed collection |\n",
    "| delete | Compute new Index with element at index i deleted |\n",
    "| drop | Compute new Index by deleting passed values |\n",
    "| insert | Compute new Index by inserting element at index i |\n",
    "| is_monotonic | Return True if each element is greater than or equal to the previous element. |\n",
    "| is_unique | Return True if the Index has no duplicate values |\n",
    "| unique | Compute the array of unique values in the Index |\n",
    "| reindex | Reindex series by expanding or truncating the index |\n",
    "| head() | Return top n rows of a data frame. |\n",
    "| tail() | Return bottom n rows of a data frame. |\n",
    "| at[] | Access a single value for a row/column label pair. |\n",
    "| iat[] |\tAccess a single value for a row/column pair by integer position. |\n",
    "| tail() | Purely integer-location based indexing for selection by position. |\n",
    "| lookup() | Label-based “fancy indexing” function for DataFrame. |\n",
    "| pop() | Return item and drop from frame. |\n",
    "| xs() | Returns a cross-section (row(s) or column(s)) from the DataFrame. |\n",
    "| get() | Get item from object for given key (DataFrame column, Panel slice, etc.). |\n",
    "| isin() | Return boolean DataFrame showing whether each element in the DataFrame is contained in values. |\n",
    "| where() | Return an object of same shape as self and whose corresponding entries are from self where cond is True and otherwise are from other. |\n",
    "| mask() | Return an object of same shape as self and whose corresponding entries are from self where cond is False and otherwise are from other. |\n",
    "| query() | Query the columns of a frame with a boolean expression. |"
   ]
  },
  {
   "cell_type": "code",
   "execution_count": 22,
   "metadata": {},
   "outputs": [
    {
     "name": "stdout",
     "output_type": "stream",
     "text": [
      "first = \n",
      "Name               Jai\n",
      "Height             5.1\n",
      "Qualification      Msc\n",
      "Address          Delhi\n",
      "Name: Jai, dtype: object\n",
      "\n",
      "\n",
      "team = \n",
      "        Height    Address\n",
      "Jai        5.1      Delhi\n",
      "Princi     6.2  Bangalore\n"
     ]
    }
   ],
   "source": [
    "# Import pandas package \n",
    "import pandas as pd\n",
    "  \n",
    "# Define a dictionary containing Students data\n",
    "data = {'Name': ['Jai', 'Princi', 'Gaurav', 'Anuj'],\n",
    "        'Height': [5.1, 6.2, 5.1, 5.2],\n",
    "        'Qualification': ['Msc', 'MA', 'Msc', 'Msc'],\n",
    "        'Address' : ['Delhi', 'Bangalore', 'Chennai', 'Patna']}\n",
    "  \n",
    "# Convert the dictionary into DataFrame\n",
    "df = pd.DataFrame(data)\n",
    "df.index = data['Name']\n",
    "first = df.iloc[0] \n",
    "team = df.loc[['Jai', 'Princi']][['Height', 'Address']] \n",
    "\n",
    "# Observe the result\n",
    "print('first = ')\n",
    "print(first)\n",
    "\n",
    "print('\\n')\n",
    "print('team = ')\n",
    "print(team)\n"
   ]
  },
  {
   "cell_type": "code",
   "execution_count": null,
   "metadata": {},
   "outputs": [
    {
     "name": "stdout",
     "output_type": "stream",
     "text": [
      "df =            one  two  three  four\n",
      "Ohio        0    1      2     3\n",
      "Colorado    4    5      6     7\n",
      "Utah        8    9     10    11\n",
      "New York   12   13     14    15\n",
      "df.loc['Colorado'] one      4\n",
      "two      5\n",
      "three    6\n",
      "four     7\n",
      "Name: Colorado, dtype: int32\n",
      "df.loc[['Ohio', 'Colorado']]           one  three\n",
      "Ohio        0      2\n",
      "Colorado    4      6\n",
      "df['three'] Ohio         2\n",
      "Colorado     6\n",
      "Utah        10\n",
      "New York    14\n",
      "Name: three, dtype: int32\n"
     ]
    }
   ],
   "source": [
    "from pandas import Series, DataFrame\n",
    "import pandas as pd\n",
    "import numpy as np\n",
    "df = DataFrame(np.arange(16).reshape((4, 4)), index = ['Ohio', 'Colorado', 'Utah', 'New York'], columns = (['one', 'two', 'three', 'four']))\n",
    "print(\"df = \", df)\n",
    "\n",
    "print(\"df.loc['Colorado']\", df.loc['Colorado']) \n",
    "print(\"df.loc[['Ohio', 'Colorado']][['one', 'three']]\", df.loc[['Ohio', 'Colorado']][['one', 'three']]) \n",
    "print(\"df['three']\", df['three']) "
   ]
  },
  {
   "cell_type": "markdown",
   "metadata": {},
   "source": [
    "#### Observation \n",
    "1. select a list of rows we should use loc method with a list of row id.\n",
    "2. if we only select one row it return a distionary with column : value\n"
   ]
  },
  {
   "cell_type": "markdown",
   "metadata": {},
   "source": [
    "#### Row Addition:\n",
    "In Order to add a Row in Pandas DataFrame, we can concat the old dataframe with new one."
   ]
  },
  {
   "cell_type": "code",
   "execution_count": null,
   "metadata": {},
   "outputs": [
    {
     "name": "stdout",
     "output_type": "stream",
     "text": [
      "     Name  Height Qualification    Address\n",
      "0     Jai     5.1           Msc      Delhi\n",
      "1  Princi     6.2            MA  Bangalore\n",
      "2  Gaurav     5.1           Msc    Chennai\n",
      "3    Anuj     5.2           Msc      Patna\n",
      "4   Curry     6.5            MA    Seattle\n"
     ]
    }
   ],
   "source": [
    "# Import pandas package \n",
    "import pandas as pd\n",
    "  \n",
    "# Define a dictionary containing Students data\n",
    "data = {'Name': ['Jai', 'Princi', 'Gaurav', 'Anuj'],\n",
    "        'Height': [5.1, 6.2, 5.1, 5.2],\n",
    "        'Qualification': ['Msc', 'MA', 'Msc', 'Msc'],\n",
    "        'Address' : ['Delhi', 'Bangalore', 'Chennai', 'Patna']}\n",
    "  \n",
    "# Convert the dictionary into DataFrame\n",
    "df = pd.DataFrame(data)\n",
    "  \n",
    "new_row = pd.DataFrame({'Name': 'Curry',  'Height': 6.5, 'Qualification': 'MA', 'Address' : 'Seattle'}, \n",
    "                       index =[0])\n",
    "df = pd.concat([df, new_row]).reset_index(drop = True)\n",
    "  \n",
    "# Observe the result\n",
    "print(df)"
   ]
  },
  {
   "cell_type": "markdown",
   "metadata": {},
   "source": [
    "#### Row Deletion:\n",
    "In Order to delete a row in Pandas DataFrame, we can use the drop() method. Rows is deleted by dropping Rows by index label."
   ]
  },
  {
   "cell_type": "code",
   "execution_count": 54,
   "metadata": {},
   "outputs": [
    {
     "name": "stdout",
     "output_type": "stream",
     "text": [
      "          Name  Height Qualification    Address\n",
      "Jai        Jai     5.1           Msc      Delhi\n",
      "Princi  Princi     6.2            MA  Bangalore\n",
      "Gaurav  Gaurav     5.1           Msc    Chennai\n"
     ]
    }
   ],
   "source": [
    "# Import pandas package \n",
    "import pandas as pd\n",
    "  \n",
    "# Define a dictionary containing Students data\n",
    "data = {'Name': ['Jai', 'Princi', 'Gaurav', 'Anuj'],\n",
    "        'Height': [5.1, 6.2, 5.1, 5.2],\n",
    "        'Qualification': ['Msc', 'MA', 'Msc', 'Msc'],\n",
    "        'Address' : ['Delhi', 'Bangalore', 'Chennai', 'Patna']}\n",
    "  \n",
    "# Convert the dictionary into DataFrame\n",
    "df = pd.DataFrame(data)\n",
    "df.index = data['Name']\n",
    "  \n",
    "df.drop(['Anuj'],inplace = True)  \n",
    "# Observe the result\n",
    "print(df)"
   ]
  },
  {
   "cell_type": "markdown",
   "metadata": {},
   "source": [
    "#### Boolean Indexing in Pandas\n",
    "In boolean indexing, we will select subsets of data based on the actual values of the data in the DataFrame and not on their row/column labels or integer locations. In boolean indexing, we use a boolean vector to filter the data."
   ]
  },
  {
   "cell_type": "markdown",
   "metadata": {},
   "source": [
    "Boolean indexing is a type of indexing that uses actual values of the data in the DataFrame. In boolean indexing, we can filter a data in four ways:\n",
    "- Accessing a DataFrame with a boolean index\n",
    "- Applying a boolean mask to a dataframe\n",
    "- Masking data based on column value\n",
    "- Masking data based on an index value"
   ]
  },
  {
   "cell_type": "code",
   "execution_count": 6,
   "metadata": {},
   "outputs": [
    {
     "name": "stdout",
     "output_type": "stream",
     "text": [
      "         name  degree  score\n",
      "True   aparna     MBA     90\n",
      "False  pankaj     BCA     40\n",
      "True   sudhir  M.Tech     80\n",
      "False   Geeku     MBA     98\n"
     ]
    }
   ],
   "source": [
    "# importing pandas as pd\n",
    "import pandas as pd\n",
    "  \n",
    "# dictionary of lists\n",
    "dict = {'name':[\"aparna\", \"pankaj\", \"sudhir\", \"Geeku\"],\n",
    "        'degree': [\"MBA\", \"BCA\", \"M.Tech\", \"MBA\"],\n",
    "        'score':[90, 40, 80, 98]}\n",
    "  \n",
    "df = pd.DataFrame(dict, index = [True, False, True, False])\n",
    "  \n",
    "print(df)"
   ]
  },
  {
   "cell_type": "markdown",
   "metadata": {},
   "source": [
    "## Select Data \n",
    "In a dataframe we can filter a data based on a column value.  In order to filter data, we can apply certain conditions on the dataframe using different operators like ==, >, <, <=, >=. When we apply these operators to the dataframe then it produces a Series of True and False."
   ]
  },
  {
   "cell_type": "code",
   "execution_count": 1,
   "metadata": {},
   "outputs": [
    {
     "name": "stdout",
     "output_type": "stream",
     "text": [
      "     name degree  score\n",
      "0  aparna    BCA     90\n",
      "1  pankaj    BCA     40\n",
      "3   Geeku    BCA     98\n"
     ]
    }
   ],
   "source": [
    "# importing pandas as pd\n",
    "import pandas as pd\n",
    "  \n",
    "# dictionary of lists\n",
    "dict = {'name':[\"aparna\", \"pankaj\", \"sudhir\", \"Geeku\"],\n",
    "        'degree': [\"BCA\", \"BCA\", \"M.Tech\", \"BCA\"],\n",
    "        'score':[90, 40, 80, 98]} \n",
    "# creating a dataframe\n",
    "df = pd.DataFrame(dict)\n",
    "  \n",
    "# using a comparison operator for filtering of data\n",
    "result =  df[df['degree'] == 'BCA']\n",
    "print(result)"
   ]
  }
 ],
 "metadata": {
  "kernelspec": {
   "display_name": "venv",
   "language": "python",
   "name": "python3"
  },
  "language_info": {
   "codemirror_mode": {
    "name": "ipython",
    "version": 3
   },
   "file_extension": ".py",
   "mimetype": "text/x-python",
   "name": "python",
   "nbconvert_exporter": "python",
   "pygments_lexer": "ipython3",
   "version": "3.11.6"
  },
  "orig_nbformat": 4
 },
 "nbformat": 4,
 "nbformat_minor": 2
}
