{
 "cells": [
  {
   "attachments": {},
   "cell_type": "markdown",
   "metadata": {},
   "source": [
    "# Set\n",
    "In this notebook we will learn Set. Set is to store unique value."
   ]
  },
  {
   "attachments": {},
   "cell_type": "markdown",
   "metadata": {},
   "source": [
    "### Initialize a Set"
   ]
  },
  {
   "cell_type": "code",
   "execution_count": 1,
   "metadata": {},
   "outputs": [
    {
     "name": "stdout",
     "output_type": "stream",
     "text": [
      "{'Python', 'C', 'Java'}\n",
      "{1, 2, 3, 4, 5, 6}\n",
      "{'p', 'd', 'm', 'D', 'n', 'e', 'i'}\n",
      "{5, 10, 15, 20, 25, 30, 35, 40, 45, 50, 55, 60, 65, 70, 75, 80, 85, 90, 95}\n"
     ]
    }
   ],
   "source": [
    "# Initialize a set from a list. \n",
    "languages = {'Python', 'C', 'Java'}\n",
    "print(languages)\n",
    "\n",
    "# Initialize A with duplicates\n",
    "A = {1,1,2,2,3,3,4,5,6}\n",
    "print(A)\n",
    "\n",
    "# Initialize A from a string\n",
    "A = set('Deepmind')\n",
    "print(A)\n",
    "\n",
    "# Generated list\n",
    "a = {n for n in range(1,100) if n % 5 == 0}\n",
    "print(a)\n",
    "\n"
   ]
  },
  {
   "attachments": {},
   "cell_type": "markdown",
   "metadata": {},
   "source": [
    "### Empty Set"
   ]
  },
  {
   "cell_type": "code",
   "execution_count": 3,
   "metadata": {},
   "outputs": [
    {
     "name": "stdout",
     "output_type": "stream",
     "text": [
      "<class 'dict'>\n",
      "<class 'set'>\n"
     ]
    }
   ],
   "source": [
    "# empty dictionary\n",
    "dict = {}\n",
    "print(type(dict))\n",
    "\n",
    "set = set()\n",
    "print(type(set))"
   ]
  },
  {
   "attachments": {},
   "cell_type": "markdown",
   "metadata": {},
   "source": [
    "### Set Operations\n",
    "\n",
    "We have set operations as below:\n",
    "\n",
    "| Operation | Result |\n",
    "| --- | --- |\n",
    "| & | intersection |\n",
    "| \\| | union |\n",
    "| - | difference |\n",
    "| ^ | symmetric difference |\n",
    "| == | equal |\n",
    "| != | not equal | \n",
    "| in | element in the set |\n",
    "| not in | element not in the set |"
   ]
  },
  {
   "cell_type": "code",
   "execution_count": 4,
   "metadata": {},
   "outputs": [
    {
     "name": "stdout",
     "output_type": "stream",
     "text": [
      "a =  {1, 2, 3, 4, 5}\n",
      "b =  {4, 5, 6, 7, 8}\n",
      "a & b =  {4, 5}\n",
      "a | b =  {1, 2, 3, 4, 5, 6, 7, 8}\n",
      "a - b =  {1, 2, 3}\n",
      "a ^ b =  {1, 2, 3, 6, 7, 8}\n",
      "a == b =  False\n",
      "a != b =  True\n",
      "3 in b =  False\n",
      "3 not in b =  True\n"
     ]
    }
   ],
   "source": [
    "# initialize two sets\n",
    "a = {1, 2, 3, 4, 5}\n",
    "b = {4, 5, 6, 7, 8}\n",
    "print('a = ', a)\n",
    "print('b = ', b)\n",
    "print('a & b = ', a & b)\n",
    "print('a | b = ', a | b)\n",
    "print('a - b = ', a - b)\n",
    "print('a ^ b = ', a ^ b)\n",
    "print('a == b = ', a == b)\n",
    "print('a != b = ', a != b)\n",
    "print('3 in b = ', 3 in b)\n",
    "print('3 not in b = ', 3 not in b)"
   ]
  },
  {
   "attachments": {},
   "cell_type": "markdown",
   "metadata": {},
   "source": [
    "### Set Methods\n",
    "\n",
    "We have set methods for Set:\n",
    "\n",
    "| Method | Explanation |\n",
    "| --- | --- |\n",
    "| add() | add an element to set |\n",
    "| clear() | delete all the elements in the set |\n",
    "| copy() | copy the set to another | \n",
    "| difference_update() | delete common elements in set |\n",
    "| intersection_update() | keep common elements in two sets |\n",
    "| symmetric_difference_update | merge difference in two sets |\n",
    "| isdisjoint() | if two sets do not have common elements, return True |\n",
    "| issubset() | if one set is subset of another one, return True |\n",
    "| issuperset() | if one set is super set of another one, return True | \n",
    "| discard() | discard specific element in the set |\n",
    "| update() | merge two sets |\n",
    "| enumerate() | return enumerate tuples |\n",
    "| len() | return length of set |\n",
    "| max() | return maximum element |\n",
    "| min() | return minumum element |\n",
    "| sum() | return sum() of the numeric elements |\n",
    "| sorted() | return sorted set |"
   ]
  },
  {
   "cell_type": "code",
   "execution_count": 5,
   "metadata": {},
   "outputs": [
    {
     "name": "stdout",
     "output_type": "stream",
     "text": [
      "{'dog', 'bird'}\n",
      "{'dog', 'bird', 'cat'}\n",
      "{'dog', 'bird', 'cat'}\n",
      "{'bird', 'cat'}\n"
     ]
    }
   ],
   "source": [
    "# create an animal set\n",
    "animals = {'bird', 'dog'}\n",
    "print(animals)\n",
    "animals.add('cat')\n",
    "print(animals)\n",
    "animals.discard('pig')\n",
    "print(animals)\n",
    "animals.discard('dog')\n",
    "print(animals)"
   ]
  },
  {
   "cell_type": "code",
   "execution_count": 7,
   "metadata": {},
   "outputs": [
    {
     "name": "stdout",
     "output_type": "stream",
     "text": [
      "a =  {1, 2, 3}\n",
      "b =  {1, 4, 5}\n",
      "a.update(b)\n",
      "a =  {1, 2, 3, 4, 5}\n",
      "a =  {1, 2, 3}\n",
      "b =  {1, 4, 5}\n",
      "a.intersection_update(b)\n",
      "a =  {1}\n",
      "a =  {1, 2, 3}\n",
      "b =  {1, 4, 5}\n",
      "a.difference_update(b)\n",
      "a =  {2, 3}\n"
     ]
    }
   ],
   "source": [
    "a = {1, 2, 3}\n",
    "b = {1, 4, 5}\n",
    "print(\"a = \", a)\n",
    "print(\"b = \", b)\n",
    "a.update(b)\n",
    "print(\"a.update(b)\")\n",
    "print(\"a = \", a)"
   ]
  },
  {
   "cell_type": "code",
   "execution_count": 8,
   "metadata": {},
   "outputs": [
    {
     "name": "stdout",
     "output_type": "stream",
     "text": [
      "a =  {1, 2, 3}\n",
      "b =  {1, 4, 5}\n",
      "a.intersection_update(b)\n",
      "a =  {1}\n"
     ]
    }
   ],
   "source": [
    "a = {1, 2, 3}\n",
    "b = {1, 4, 5}\n",
    "print(\"a = \", a)\n",
    "print(\"b = \", b)\n",
    "a.intersection_update(b)\n",
    "print(\"a.intersection_update(b)\")\n",
    "print(\"a = \", a)"
   ]
  },
  {
   "cell_type": "code",
   "execution_count": 9,
   "metadata": {},
   "outputs": [
    {
     "name": "stdout",
     "output_type": "stream",
     "text": [
      "a =  {1, 2, 3}\n",
      "b =  {1, 4, 5}\n",
      "a.difference_update(b)\n",
      "a =  {2, 3}\n"
     ]
    }
   ],
   "source": [
    "a = {1, 2, 3}\n",
    "b = {1, 4, 5}\n",
    "print(\"a = \", a)\n",
    "print(\"b = \", b)\n",
    "a.difference_update(b)\n",
    "print(\"a.difference_update(b)\")\n",
    "print(\"a = \", a)"
   ]
  },
  {
   "cell_type": "code",
   "execution_count": 10,
   "metadata": {},
   "outputs": [
    {
     "name": "stdout",
     "output_type": "stream",
     "text": [
      "a =  {1, 2, 3}\n",
      "b =  {1, 4, 5}\n",
      "a.symmetric_difference_update(b)\n",
      "a =  {2, 3, 4, 5}\n"
     ]
    }
   ],
   "source": [
    "a = {1, 2, 3}\n",
    "b = {1, 4, 5}\n",
    "print(\"a = \", a)\n",
    "print(\"b = \", b)\n",
    "a.symmetric_difference_update(b)\n",
    "print(\"a.symmetric_difference_update(b)\")\n",
    "print(\"a = \", a)"
   ]
  }
 ],
 "metadata": {
  "kernelspec": {
   "display_name": "venv",
   "language": "python",
   "name": "python3"
  },
  "language_info": {
   "codemirror_mode": {
    "name": "ipython",
    "version": 3
   },
   "file_extension": ".py",
   "mimetype": "text/x-python",
   "name": "python",
   "nbconvert_exporter": "python",
   "pygments_lexer": "ipython3",
   "version": "3.11.7"
  },
  "orig_nbformat": 4
 },
 "nbformat": 4,
 "nbformat_minor": 2
}
