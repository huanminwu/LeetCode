{
 "cells": [
  {
   "attachments": {},
   "cell_type": "markdown",
   "metadata": {},
   "source": [
    "# Tuple\n",
    "In this notebook we will learn tuple."
   ]
  },
  {
   "attachments": {},
   "cell_type": "markdown",
   "metadata": {},
   "source": [
    "## Tuple\n",
    "Tuple is a readonly multiple attributes object. The attribute can be accessed by index.\n",
    "By saying readonly which means we can not modify the attribute in the tuple, but we can create a new tuple with different values."
   ]
  },
  {
   "attachments": {},
   "cell_type": "markdown",
   "metadata": {},
   "source": [
    "### Create a Tuple"
   ]
  },
  {
   "cell_type": "code",
   "execution_count": null,
   "metadata": {},
   "outputs": [],
   "source": [
    "# create a tuple element. \n",
    "card = ('heart', 'A')\n",
    "print(card)\n",
    "print(card[0] + '-' + card[1])\n",
    "\n",
    "card = ('club', 'K')\n",
    "print(card)\n"
   ]
  },
  {
   "attachments": {},
   "cell_type": "markdown",
   "metadata": {},
   "source": [
    "#### Observation\n",
    "1. The dictionary is initialized within '{' and '}'. There is a ':' between key and value. Multiple key-value pair is delimited by a comma ','.\n",
    "2. We can get the attribute by \"[]\" or by get(). For non-existing attribute, \"[]\" operator will cause error and get() will return None.\n",
    "3. We can add attribute on demand."
   ]
  },
  {
   "attachments": {},
   "cell_type": "markdown",
   "metadata": {},
   "source": [
    "### Unpack Tuple"
   ]
  },
  {
   "cell_type": "code",
   "execution_count": 2,
   "metadata": {},
   "outputs": [
    {
     "name": "stdout",
     "output_type": "stream",
     "text": [
      "x, y, z = 1 2 3\n"
     ]
    }
   ],
   "source": [
    "# unpack a tuple\n",
    "x, y, z = (1, 2, 3)\n",
    "print(\"x, y, z =\", x, y, z) "
   ]
  },
  {
   "attachments": {},
   "cell_type": "markdown",
   "metadata": {},
   "source": [
    "### Enumerate list to Tuple"
   ]
  },
  {
   "cell_type": "code",
   "execution_count": 5,
   "metadata": {},
   "outputs": [
    {
     "name": "stdout",
     "output_type": "stream",
     "text": [
      "[(1, 'coffee'), (2, 'tea'), (3, 'wine')]\n"
     ]
    }
   ],
   "source": [
    "drinks = [\"coffee\", \"tea\", \"wine\"]\n",
    "enumerate_drinks = enumerate(drinks, 1)\n",
    "print(list(enumerate_drinks))"
   ]
  },
  {
   "attachments": {},
   "cell_type": "markdown",
   "metadata": {},
   "source": [
    "#### Observation\n",
    "1. eumerate a list will return a iterator, each item is a tuple, by adding the order in the front."
   ]
  },
  {
   "attachments": {},
   "cell_type": "markdown",
   "metadata": {},
   "source": [
    "### Zip package into Tuple"
   ]
  },
  {
   "cell_type": "code",
   "execution_count": 12,
   "metadata": {},
   "outputs": [
    {
     "name": "stdout",
     "output_type": "stream",
     "text": [
      "[]\n",
      "[('Name', 'Peter'), ('Age', '30'), ('Hometown', 'Chicago')]\n",
      "fields =  ('Name', 'Age', 'Hometown')\n",
      "info =  ('Peter', '30', 'Chicago')\n"
     ]
    }
   ],
   "source": [
    "# Zip package arrays\n",
    "fields = ['Name', 'Age', 'Hometown']\n",
    "info = ['Peter', '30', 'Chicago']\n",
    "zip_data = zip(fields, info)\n",
    "players = list(zip_data)\n",
    "print(list(zip_data))\n",
    "print(players)\n",
    "\n",
    "#unzip data\n",
    "f, i = zip(*players)\n",
    "print(\"fields = \", f)\n",
    "print(\"info = \", i)"
   ]
  },
  {
   "attachments": {},
   "cell_type": "markdown",
   "metadata": {},
   "source": [
    "#### Observation\n",
    "1. Zip will pack multiple array into a array of tuple, it is a iterator. After convert to list, it become empty.\n",
    "2. You can unpack zip tuple by reference *variable."
   ]
  }
 ],
 "metadata": {
  "kernelspec": {
   "display_name": "venv",
   "language": "python",
   "name": "python3"
  },
  "language_info": {
   "codemirror_mode": {
    "name": "ipython",
    "version": 3
   },
   "file_extension": ".py",
   "mimetype": "text/x-python",
   "name": "python",
   "nbconvert_exporter": "python",
   "pygments_lexer": "ipython3",
   "version": "3.11.4"
  },
  "orig_nbformat": 4
 },
 "nbformat": 4,
 "nbformat_minor": 2
}
