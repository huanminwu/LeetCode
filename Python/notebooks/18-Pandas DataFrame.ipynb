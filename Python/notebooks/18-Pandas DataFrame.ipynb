{
 "cells": [
  {
   "cell_type": "markdown",
   "metadata": {},
   "source": [
    "# Panda DataFrame \n",
    "Pandas DataFrame is a two-dimensional size-mutable, potentially heterogeneous tabular data structure with labeled axes (rows and columns). A Data frame is a two-dimensional data structure, i.e., data is aligned in a tabular fashion in rows and columns. Pandas DataFrame consists of three principal components, the data, rows, and columns."
   ]
  },
  {
   "cell_type": "markdown",
   "metadata": {},
   "source": [
    "![Alt text](image.png)"
   ]
  },
  {
   "cell_type": "markdown",
   "metadata": {},
   "source": [
    "#### Creating Data Frame\n",
    "In the real world, a Pandas DataFrame will be created by loading the datasets from existing storage, storage can be SQL Database, CSV file, or an Excel file. Pandas DataFrame can be created from lists, dictionaries, and from a list of dictionaries, etc."
   ]
  },
  {
   "cell_type": "markdown",
   "metadata": {},
   "source": [
    "#### DataFrame Constructor\n",
    "| Type | Notes |\n",
    "| --- | --- |\n",
    "| 2D ndarray | A matrix of data, passing optional row and column labels |\n",
    "| dict of arrays, list, or tuples | Each sequence becomes a column in the DataFrame. All Sequences must be the same length. |\n",
    "| NumPy structured array | Treated as the 'dict of arrays' case |\n",
    "| dict of Series | Each value becomes a column. Indexes from each Series are unioned together to from the result's row index if no explicit index is passed. |\n",
    "| list of dicts or Series | Each item becomes a row in the DataFrame. Union of dict keys or Series indexes become the DataFrame's column labels |\n",
    "| List of lists or tuples | Treated as the '2D ndarray' case\n",
    "| Another DataFrame | The DataFrame's indexes are used unless different ones are passed |\n",
    "| NumPy MaskedArray | Like the '2D ndarray' case except masked values become NA in the DataFrame result | "
   ]
  },
  {
   "cell_type": "code",
   "execution_count": 8,
   "metadata": {},
   "outputs": [
    {
     "name": "stdout",
     "output_type": "stream",
     "text": [
      "     name  degree  score\n",
      "0  aparna     MBA     90\n",
      "1  pankaj     BCA     40\n",
      "2  sudhir  M.Tech     80\n",
      "3   Geeku     MBA     98\n"
     ]
    }
   ],
   "source": [
    "import pandas as pd\n",
    " \n",
    "# dictionary of lists\n",
    "dict = {'name':[\"aparna\", \"pankaj\", \"sudhir\", \"Geeku\"],\n",
    "        'degree': [\"MBA\", \"BCA\", \"M.Tech\", \"MBA\"],\n",
    "        'score':[90, 40, 80, 98]}\n",
    " \n",
    "df = pd.DataFrame(dict)\n",
    " \n",
    "print(df)"
   ]
  },
  {
   "cell_type": "markdown",
   "metadata": {},
   "source": [
    "#### Dealing with Rows and Columns in Pandas DataFrame\n",
    "A Data frame is a two-dimensional data structure, i.e., data is aligned in a tabular fashion in rows and columns. We can perform basic operations on rows/columns like selecting, deleting, adding, and renaming."
   ]
  },
  {
   "cell_type": "code",
   "execution_count": 26,
   "metadata": {},
   "outputs": [
    {
     "name": "stdout",
     "output_type": "stream",
     "text": [
      "     Name Qualification\n",
      "0     Jai           Msc\n",
      "1  Princi            MA\n",
      "2  Gaurav           MCA\n",
      "3    Anuj           Phd\n"
     ]
    }
   ],
   "source": [
    "# Column Selection\n",
    "# Import pandas package\n",
    "import pandas as pd\n",
    "  \n",
    "# Define a dictionary containing employee data\n",
    "data = {'Name':['Jai', 'Princi', 'Gaurav', 'Anuj'],\n",
    "        'Age':[27, 24, 22, 32],\n",
    "        'Address':['Delhi', 'Kanpur', 'Allahabad', 'Kannauj'],\n",
    "        'Qualification':['Msc', 'MA', 'MCA', 'Phd']}\n",
    "  \n",
    "# Convert the dictionary into DataFrame \n",
    "df = pd.DataFrame(data)\n",
    "  \n",
    "# select two columns\n",
    "print(df[['Name', 'Qualification']])"
   ]
  },
  {
   "cell_type": "markdown",
   "metadata": {},
   "source": [
    "#### Column Addition:\n",
    "In Order to add a column in Pandas DataFrame, we can declare a new list as a column and add to a existing Dataframe."
   ]
  },
  {
   "cell_type": "code",
   "execution_count": 27,
   "metadata": {},
   "outputs": [
    {
     "name": "stdout",
     "output_type": "stream",
     "text": [
      "     Name  Height Qualification    Address\n",
      "0     Jai     5.1           Msc      Delhi\n",
      "1  Princi     6.2            MA  Bangalore\n",
      "2  Gaurav     5.1           Msc    Chennai\n",
      "3    Anuj     5.2           Msc      Patna\n"
     ]
    }
   ],
   "source": [
    "# Import pandas package \n",
    "import pandas as pd\n",
    "  \n",
    "# Define a dictionary containing Students data\n",
    "data = {'Name': ['Jai', 'Princi', 'Gaurav', 'Anuj'],\n",
    "        'Height': [5.1, 6.2, 5.1, 5.2],\n",
    "        'Qualification': ['Msc', 'MA', 'Msc', 'Msc']}\n",
    "  \n",
    "# Convert the dictionary into DataFrame\n",
    "df = pd.DataFrame(data)\n",
    "  \n",
    "# Declare a list that is to be converted into a column\n",
    "address = ['Delhi', 'Bangalore', 'Chennai', 'Patna']\n",
    "  \n",
    "# Using 'Address' as the column name\n",
    "# and equating it to the list\n",
    "df['Address'] = address\n",
    "  \n",
    "# Observe the result\n",
    "print(df)"
   ]
  },
  {
   "cell_type": "markdown",
   "metadata": {},
   "source": [
    "#### Column Deletion:\n",
    "In Order to delete a column in Pandas DataFrame, we can use the drop() method. Columns is deleted by dropping columns with column names."
   ]
  },
  {
   "cell_type": "code",
   "execution_count": 32,
   "metadata": {},
   "outputs": [
    {
     "name": "stdout",
     "output_type": "stream",
     "text": [
      "     Name  Height\n",
      "0     Jai     5.1\n",
      "1  Princi     6.2\n",
      "2  Gaurav     5.1\n",
      "3    Anuj     5.2\n"
     ]
    }
   ],
   "source": [
    "# importing pandas module\n",
    "import pandas as pd\n",
    "  \n",
    "# making data frame from csv file\n",
    "data = {'Name': ['Jai', 'Princi', 'Gaurav', 'Anuj'],\n",
    "        'Height': [5.1, 6.2, 5.1, 5.2],\n",
    "        'Qualification': ['Msc', 'MA', 'Msc', 'Msc']}\n",
    "  \n",
    " # Convert the dictionary into DataFrame\n",
    "df = pd.DataFrame(data)\n",
    "\n",
    "# dropping passed columns\n",
    "df.drop(['Qualification'], axis = 1, inplace = True)\n",
    "  \n",
    "# display\n",
    "print(df)"
   ]
  },
  {
   "cell_type": "markdown",
   "metadata": {},
   "source": [
    "### Dealing with Rows:\n",
    "In order to deal with rows, we can perform basic operations on rows like selecting, deleting, adding and renaming.\n",
    "\n",
    "#### Row Selection:\n",
    "Pandas provide a unique method to retrieve rows from a Data frame.DataFrame.loc[] method is used to retrieve rows from Pandas DataFrame. Rows can also be selected by passing integer location to an iloc[] function."
   ]
  },
  {
   "cell_type": "code",
   "execution_count": 71,
   "metadata": {},
   "outputs": [
    {
     "name": "stdout",
     "output_type": "stream",
     "text": [
      "frame.loc['three'] =  state    Ohio\n",
      "year     2002\n",
      "pop       3.6\n",
      "Name: three, dtype: object\n",
      "frame.iloc[2] =  state    Ohio\n",
      "year     2002\n",
      "pop       3.6\n",
      "Name: three, dtype: object\n",
      "frame.loc[['one', 'two']][['state', 'year']]\n",
      "    state  year\n",
      "one  Ohio  2000\n",
      "two  Ohio  2001\n"
     ]
    }
   ],
   "source": [
    "from pandas import Series, DataFrame\n",
    "import pandas as pd\n",
    "data = {'state' : ['Ohio', 'Ohio', 'Ohio', 'Nevada', 'Nevada'],\n",
    "        'year' : [2000, 2001, 2002, 2001, 2002],\n",
    "        'pop' : [1.5, 1.7, 3.6, 2.4, 2.9]\n",
    "        }\n",
    "frame = DataFrame(data)\n",
    "frame.index = ['one', 'two', 'three', 'four', 'five']\n",
    "print(\"frame.loc['three'] = \", frame.loc['three'])\n",
    "print(\"frame.iloc[2] = \", frame.iloc[2])\n",
    "\n",
    "print(\"frame.loc[['one', 'two']][['state', 'year']]\")\n",
    "print(frame.loc[['one', 'two']][['state', 'year']])\n"
   ]
  },
  {
   "cell_type": "code",
   "execution_count": 46,
   "metadata": {},
   "outputs": [
    {
     "name": "stdout",
     "output_type": "stream",
     "text": [
      "     Name  Height Qualification    Address\n",
      "0     Jai     5.1           Msc      Delhi\n",
      "1  Princi     6.2            MA  Bangalore\n",
      "2  Gaurav     5.1           Msc    Chennai\n",
      "3    Anuj     5.2           Msc      Patna\n",
      "4   Curry     6.5            MA    Seattle\n"
     ]
    }
   ],
   "source": [
    "# Import pandas package \n",
    "import pandas as pd\n",
    "  \n",
    "# Define a dictionary containing Students data\n",
    "data = {'Name': ['Jai', 'Princi', 'Gaurav', 'Anuj'],\n",
    "        'Height': [5.1, 6.2, 5.1, 5.2],\n",
    "        'Qualification': ['Msc', 'MA', 'Msc', 'Msc'],\n",
    "        'Address' : ['Delhi', 'Bangalore', 'Chennai', 'Patna']}\n",
    "  \n",
    "# Convert the dictionary into DataFrame\n",
    "df = pd.DataFrame(data)\n",
    "  \n",
    "new_row = pd.DataFrame({'Name': 'Curry',  'Height': 6.5, 'Qualification': 'MA', 'Address' : 'Seattle'}, \n",
    "                       index =[0])\n",
    "df = pd.concat([df, new_row]).reset_index(drop = True)\n",
    "  \n",
    "# Observe the result\n",
    "print(df)"
   ]
  },
  {
   "cell_type": "markdown",
   "metadata": {},
   "source": [
    "#### Row Addition:\n",
    "In Order to add a Row in Pandas DataFrame, we can concat the old dataframe with new one."
   ]
  },
  {
   "cell_type": "code",
   "execution_count": null,
   "metadata": {},
   "outputs": [
    {
     "name": "stdout",
     "output_type": "stream",
     "text": [
      "frame =        Nevada  Ohio\n",
      "2001     2.4   1.7\n",
      "2002     2.9   3.6\n",
      "2000     NaN   1.5\n",
      "frame.T =          2001  2002  2000\n",
      "Nevada   2.4   2.9   NaN\n",
      "Ohio     1.7   3.6   1.5\n",
      "frame1 =  state  Nevada  Ohio\n",
      "year               \n",
      "2001      2.4   1.7\n",
      "2002      2.9   3.6\n",
      "2003      NaN   NaN\n",
      "frame2 =        Ohio  Nevada\n",
      "2001   1.7     2.4\n",
      "2002   NaN     2.9\n"
     ]
    }
   ],
   "source": [
    "from pandas import Series, DataFrame\n",
    "import pandas as pd\n",
    "data = {\n",
    "    'Nevada' : {2001 : 2.4, 2002 : 2.9},\n",
    "    'Ohio' : {2000 : 1.5, 2001 : 1.7, 2002 : 3.6}\n",
    "    }\n",
    "frame = DataFrame(data)\n",
    "print(\"frame = \", frame)\n",
    "print(\"frame.T = \", frame.T)\n",
    "\n",
    "frame1 = DataFrame(data, index=[2001, 2002, 2003])\n",
    "frame1.index.name = 'year'\n",
    "frame1.columns.name = 'state'\n",
    "print(\"frame1 = \", frame1)\n",
    "\n",
    "frame2 = DataFrame({'Ohio' : frame['Ohio'][:1],\n",
    "                    'Nevada' : frame['Nevada'][:2]})\n",
    "print(\"frame2 = \", frame2)\n"
   ]
  },
  {
   "cell_type": "markdown",
   "metadata": {},
   "source": [
    "#### Row Deletion:\n",
    "In Order to delete a row in Pandas DataFrame, we can use the drop() method. Rows is deleted by dropping Rows by index label."
   ]
  },
  {
   "cell_type": "code",
   "execution_count": 54,
   "metadata": {},
   "outputs": [
    {
     "name": "stdout",
     "output_type": "stream",
     "text": [
      "          Name  Height Qualification    Address\n",
      "Jai        Jai     5.1           Msc      Delhi\n",
      "Princi  Princi     6.2            MA  Bangalore\n",
      "Gaurav  Gaurav     5.1           Msc    Chennai\n"
     ]
    }
   ],
   "source": [
    "# Import pandas package \n",
    "import pandas as pd\n",
    "  \n",
    "# Define a dictionary containing Students data\n",
    "data = {'Name': ['Jai', 'Princi', 'Gaurav', 'Anuj'],\n",
    "        'Height': [5.1, 6.2, 5.1, 5.2],\n",
    "        'Qualification': ['Msc', 'MA', 'Msc', 'Msc'],\n",
    "        'Address' : ['Delhi', 'Bangalore', 'Chennai', 'Patna']}\n",
    "  \n",
    "# Convert the dictionary into DataFrame\n",
    "df = pd.DataFrame(data)\n",
    "df.index = data['Name']\n",
    "  \n",
    "df.drop(['Anuj'],inplace = True)  \n",
    "# Observe the result\n",
    "print(df)"
   ]
  },
  {
   "cell_type": "markdown",
   "metadata": {},
   "source": [
    "#### Index Objects in pandas\n",
    "| Class | Description |\n",
    "| --- | --- |\n",
    "| Index | The most general index object, representing axis labels in a NumPy array of Python Objects. |\n",
    "| Int64Index | Specialize Index for integer values |\n",
    "| MultiIndex | 'Hierachical' index object representing multiple levels of indexing on a single axis. Can be thought of as similar to an array of tuples |\n",
    "| DatetimeIndex | Stores nanosecond timestamps (NumPy's datetime64 dtype). |\n",
    "| PeriodIndex | Specialized Index for Period data (timespans) |"
   ]
  },
  {
   "cell_type": "markdown",
   "metadata": {},
   "source": [
    "#### Index methods and properties\n",
    "| Method | Description |\n",
    "| --- | --- |\n",
    "| append | Concatenate with additional Index object, producing a new Index |\n",
    "| diff | Compute set difference as an Index |\n",
    "| intersection | Compute set intersection |\n",
    "| union | Compute set union |\n",
    "| isin | Compute boolean array indicating whether each value is contained in the passed collection |\n",
    "| delete | Compute new Index with element at index i deleted |\n",
    "| drop | Compute new Index by deleting passed values |\n",
    "| insert | Compute new Index by inserting element at index i |\n",
    "| is_monotonic | Return True if each element is greater than or equal to the previous element. |\n",
    "| is_unique | Return True if the Index has no duplicate values |\n",
    "| unique | Compute the array of unique values in the Index |\n",
    "| reindex | Reindex series by expanding or truncating the index |\n",
    "| head() | Return top n rows of a data frame. |\n",
    "| tail() | Return bottom n rows of a data frame. |\n",
    "| at[] | Access a single value for a row/column label pair. |\n",
    "| iat[] |\tAccess a single value for a row/column pair by integer position. |\n",
    "| tail() | Purely integer-location based indexing for selection by position. |\n",
    "| lookup() | Label-based “fancy indexing” function for DataFrame. |\n",
    "| pop() | Return item and drop from frame. |\n",
    "| xs() | Returns a cross-section (row(s) or column(s)) from the DataFrame. |\n",
    "| get() | Get item from object for given key (DataFrame column, Panel slice, etc.). |\n",
    "| isin() | Return boolean DataFrame showing whether each element in the DataFrame is contained in values. |\n",
    "| where() | Return an object of same shape as self and whose corresponding entries are from self where cond is True and otherwise are from other. |\n",
    "| mask() | Return an object of same shape as self and whose corresponding entries are from self where cond is False and otherwise are from other. |\n",
    "| query() | Query the columns of a frame with a boolean expression. |"
   ]
  },
  {
   "cell_type": "code",
   "execution_count": 98,
   "metadata": {},
   "outputs": [
    {
     "name": "stdout",
     "output_type": "stream",
     "text": [
      "df =            one  two  three  four\n",
      "Ohio        0    1      2     3\n",
      "Colorado    4    5      6     7\n",
      "Utah        8    9     10    11\n",
      "New York   12   13     14    15\n",
      "df.loc['Colorado'] one      4\n",
      "two      5\n",
      "three    6\n",
      "four     7\n",
      "Name: Colorado, dtype: int32\n",
      "df.loc[['Ohio', 'Colorado']]           one  three\n",
      "Ohio        0      2\n",
      "Colorado    4      6\n",
      "df['three'] Ohio         2\n",
      "Colorado     6\n",
      "Utah        10\n",
      "New York    14\n",
      "Name: three, dtype: int32\n"
     ]
    }
   ],
   "source": [
    "from pandas import Series, DataFrame\n",
    "import pandas as pd\n",
    "import numpy as np\n",
    "df = DataFrame(np.arange(16).reshape((4, 4)), index = ['Ohio', 'Colorado', 'Utah', 'New York'], columns = (['one', 'two', 'three', 'four']))\n",
    "print(\"df = \", df)\n",
    "\n",
    "print(\"df.loc['Colorado']\", df.loc['Colorado']) \n",
    "print(\"df.loc[['Ohio', 'Colorado']][['one', 'three']]\", df.loc[['Ohio', 'Colorado']][['one', 'three']]) \n",
    "print(\"df['three']\", df['three']) "
   ]
  },
  {
   "cell_type": "markdown",
   "metadata": {},
   "source": [
    "#### Observation \n",
    "1. select a list of rows we should use loc method with a list of row id.\n",
    "2. if we only select one row it return a distionary with column : value\n"
   ]
  },
  {
   "cell_type": "markdown",
   "metadata": {},
   "source": [
    "#### Boolean Indexing in Pandas\n",
    "In boolean indexing, we will select subsets of data based on the actual values of the data in the DataFrame and not on their row/column labels or integer locations. In boolean indexing, we use a boolean vector to filter the data."
   ]
  },
  {
   "cell_type": "markdown",
   "metadata": {},
   "source": [
    "Boolean indexing is a type of indexing that uses actual values of the data in the DataFrame. In boolean indexing, we can filter a data in four ways:\n",
    "- Accessing a DataFrame with a boolean index\n",
    "- Applying a boolean mask to a dataframe\n",
    "- Masking data based on column value\n",
    "- Masking data based on an index value"
   ]
  },
  {
   "cell_type": "code",
   "execution_count": 6,
   "metadata": {},
   "outputs": [
    {
     "name": "stdout",
     "output_type": "stream",
     "text": [
      "         name  degree  score\n",
      "True   aparna     MBA     90\n",
      "False  pankaj     BCA     40\n",
      "True   sudhir  M.Tech     80\n",
      "False   Geeku     MBA     98\n"
     ]
    }
   ],
   "source": [
    "# importing pandas as pd\n",
    "import pandas as pd\n",
    "  \n",
    "# dictionary of lists\n",
    "dict = {'name':[\"aparna\", \"pankaj\", \"sudhir\", \"Geeku\"],\n",
    "        'degree': [\"MBA\", \"BCA\", \"M.Tech\", \"MBA\"],\n",
    "        'score':[90, 40, 80, 98]}\n",
    "  \n",
    "df = pd.DataFrame(dict, index = [True, False, True, False])\n",
    "  \n",
    "print(df)"
   ]
  },
  {
   "cell_type": "markdown",
   "metadata": {},
   "source": [
    "#### Masking data based on column value: \n",
    "In a dataframe we can filter a data based on a column value.  In order to filter data, we can apply certain conditions on the dataframe using different operators like ==, >, <, <=, >=. When we apply these operators to the dataframe then it produces a Series of True and False."
   ]
  },
  {
   "cell_type": "code",
   "execution_count": 9,
   "metadata": {},
   "outputs": [
    {
     "name": "stdout",
     "output_type": "stream",
     "text": [
      "     name degree  score\n",
      "0  aparna    BCA     90\n",
      "1  pankaj    BCA     40\n",
      "3   Geeku    BCA     98\n"
     ]
    }
   ],
   "source": [
    "# importing pandas as pd\n",
    "import pandas as pd\n",
    "  \n",
    "# dictionary of lists\n",
    "dict = {'name':[\"aparna\", \"pankaj\", \"sudhir\", \"Geeku\"],\n",
    "        'degree': [\"BCA\", \"BCA\", \"M.Tech\", \"BCA\"],\n",
    "        'score':[90, 40, 80, 98]}\n",
    " \n",
    "# creating a dataframe\n",
    "df = pd.DataFrame(dict)\n",
    "  \n",
    "# using a comparison operator for filtering of data\n",
    "mask =  (df['degree'] == 'BCA')\n",
    "print(df[mask])"
   ]
  },
  {
   "cell_type": "markdown",
   "metadata": {},
   "source": [
    "#### Arithmetic and data alignment"
   ]
  },
  {
   "cell_type": "markdown",
   "metadata": {},
   "source": [
    "#### arithmetic methods\n",
    "| Method | Description |\n",
    "| --- | --- |\n",
    "| add | Method for addition(+) |\n",
    "| sub | Method for substraction(-) |\n",
    "| div | Method for division(/) |\n",
    "| mul | Method for multiplication(*) |"
   ]
  },
  {
   "cell_type": "code",
   "execution_count": 101,
   "metadata": {},
   "outputs": [
    {
     "name": "stdout",
     "output_type": "stream",
     "text": [
      "df1 =            b  c  d\n",
      "Ohio      0  1  2\n",
      "Texas     3  4  5\n",
      "Colorado  6  7  8\n",
      "df2 =          b   d   e\n",
      "Utah    0   1   2\n",
      "Ohio    3   4   5\n",
      "Texas   6   7   8\n",
      "Oregon  9  10  11\n",
      "df1 + df2 =              b   c     d   e\n",
      "Colorado  NaN NaN   NaN NaN\n",
      "Ohio      3.0 NaN   6.0 NaN\n",
      "Oregon    NaN NaN   NaN NaN\n",
      "Texas     9.0 NaN  12.0 NaN\n",
      "Utah      NaN NaN   NaN NaN\n",
      "df1.add(df2, fill_value=0)             b    c     d     e\n",
      "Colorado  6.0  7.0   8.0   NaN\n",
      "Ohio      3.0  1.0   6.0   5.0\n",
      "Oregon    9.0  NaN  10.0  11.0\n",
      "Texas     9.0  4.0  12.0   8.0\n",
      "Utah      0.0  NaN   1.0   2.0\n"
     ]
    }
   ],
   "source": [
    "from pandas import Series, DataFrame\n",
    "import pandas as pd\n",
    "import numpy as np\n",
    "\n",
    "# add two data frames\n",
    "df1 = DataFrame(np.arange(9).reshape(3,3), columns=list(\"bcd\"), index=['Ohio', 'Texas', 'Colorado'])\n",
    "df2 = DataFrame(np.arange(12).reshape(4,3), columns=list(\"bde\"), index=['Utah', 'Ohio', 'Texas', 'Oregon'])\n",
    "print('df1 = ', df1)\n",
    "print('df2 = ', df2)\n",
    "print('df1 + df2 = ', df1 + df2)\n",
    "print(\"df1.add(df2, fill_value=0)\", df1.add(df2, fill_value=0))\n"
   ]
  },
  {
   "cell_type": "markdown",
   "metadata": {},
   "source": [
    "#### Observation \n",
    "1. If we want to do arithemtic operations on two data frame, we should use fill_value"
   ]
  },
  {
   "cell_type": "markdown",
   "metadata": {},
   "source": [
    "#### Function application and mapping"
   ]
  },
  {
   "cell_type": "code",
   "execution_count": 115,
   "metadata": {},
   "outputs": [
    {
     "name": "stdout",
     "output_type": "stream",
     "text": [
      "Before function\n",
      "        b   d   e\n",
      "Utah    0   1   2\n",
      "Ohio    3   4   5\n",
      "Texas   6   7   8\n",
      "Oregon  9  10  11\n",
      "\n",
      "After function\n",
      "     b   d   e\n",
      "min  0   1   2\n",
      "max  9  10  11\n",
      "f = lambda x : x.max() - x.min()\n",
      "df.apply(f)\n",
      "     b   d   e\n",
      "min  0   1   2\n",
      "max  9  10  11\n"
     ]
    }
   ],
   "source": [
    "from pandas import Series, DataFrame\n",
    "import pandas as pd\n",
    "import numpy as np\n",
    "def f(x) :\n",
    "    return Series([x.min(), x.max()], index=['min', 'max'])\n",
    "df = DataFrame(np.arange(12).reshape(4,3), columns=list(\"bde\"), index=['Utah', 'Ohio', 'Texas', 'Oregon'])\n",
    "print(\"Before function\")\n",
    "print(df)\n",
    "df2 = df.apply(f)\n",
    "print(\"\")\n",
    "print(\"After function\")\n",
    "print(df2)\n",
    "print(\"f = lambda x : x.max() - x.min()\")\n",
    "print(\"df.apply(f)\")\n",
    "df3 = df.apply(f)\n",
    "print(df3)"
   ]
  },
  {
   "cell_type": "markdown",
   "metadata": {},
   "source": [
    "#### Sort and Ranking"
   ]
  },
  {
   "cell_type": "code",
   "execution_count": 136,
   "metadata": {},
   "outputs": [
    {
     "name": "stdout",
     "output_type": "stream",
     "text": [
      "frame =    b  a\n",
      "0  4  0\n",
      "1  7  1\n",
      "2 -3  0\n",
      "3 -2  1\n",
      "frame.sort_values(by=['a', 'b'])    a  b\n",
      "2  0 -3\n",
      "0  0  4\n",
      "3  1 -2\n",
      "1  1  7\n",
      "   a  b  rank_a  rank_b\n",
      "0  0  4     1.5     3.0\n",
      "1  1  7     3.5     4.0\n",
      "2  0 -3     1.5     1.0\n",
      "3  1 -2     3.5     2.0\n"
     ]
    }
   ],
   "source": [
    "from pandas import Series, DataFrame\n",
    "import pandas as pd\n",
    "import numpy as np\n",
    "frame = DataFrame({'b' : [4, 7, -3, -2], 'a' : [0, 1, 0, 1]}, index=[0,1,2,3])\n",
    "print(\"frame =\", frame)\n",
    "frame = frame.sort_index(axis = 1)\n",
    "print(\"frame.sort_values(by=['a', 'b'])\", frame.sort_values(by=['a', 'b']))\n",
    "frame['rank_a'] = frame['a'].rank()\n",
    "frame['rank_b'] = frame['b'].rank(method='max')\n",
    "print(frame)\n"
   ]
  },
  {
   "cell_type": "markdown",
   "metadata": {},
   "source": [
    "#### handle NaN data\n",
    "| Method | Description |\n",
    "| --- | --- |\n",
    "| dropna | Filter axis labels based on whether values for each label having missing data, with varying thresholds for how much missing data to tolerate. |\n",
    "| fillna | Fill in missing data with some value or using an interpolation method such as 'ffill' or 'bfill'. |\n",
    "| isnull | return boolean values indicating which values are missing N/A. |\n",
    "| notnull | Negation of isnull |"
   ]
  },
  {
   "cell_type": "code",
   "execution_count": 159,
   "metadata": {},
   "outputs": [
    {
     "name": "stdout",
     "output_type": "stream",
     "text": [
      "data =       0    1    2\n",
      "0  1.0  6.5  3.0\n",
      "1  1.0  NaN  NaN\n",
      "2  NaN  NaN  NaN\n",
      "3  NaN  6.2  3.0\n",
      "data.dropna():\n",
      "      0    1    2\n",
      "0  1.0  6.5  3.0\n",
      "data.dropna(how='all'):\n",
      "      0    1    2\n",
      "0  1.0  6.5  3.0\n",
      "1  1.0  NaN  NaN\n",
      "3  NaN  6.2  3.0\n",
      "data.dropna(thresh=2):\n",
      "      0    1    2\n",
      "0  1.0  6.5  3.0\n",
      "3  NaN  6.2  3.0\n",
      "data.fillna(0):\n",
      "      0    1    2\n",
      "0  1.0  6.5  3.0\n",
      "1  1.0  0.0  0.0\n",
      "2  0.0  0.0  0.0\n",
      "3  0.0  6.2  3.0\n"
     ]
    }
   ],
   "source": [
    "from pandas import Series, DataFrame\n",
    "import pandas as pd\n",
    "import numpy as np\n",
    "from numpy import NaN\n",
    "data = DataFrame([[1.0, 6.5, 3.0], [1.0, NaN, NaN], [NaN, NaN, NaN], [NaN, 6.2, 3.0]])\n",
    "print(\"data = \", data)\n",
    "print(\"data.dropna():\\n\", data.dropna())\n",
    "print(\"data.dropna(how='all'):\\n\", data.dropna(how='all'))\n",
    "print(\"data.dropna(thresh=2):\\n\", data.dropna(thresh=2))\n",
    "print(\"data.fillna(0):\\n\", data.fillna(0))"
   ]
  },
  {
   "cell_type": "markdown",
   "metadata": {},
   "source": [
    "### DataFrame Merge\n",
    "DataFrame Merge is a database style join operation. It can happen on some key columns or on index."
   ]
  },
  {
   "cell_type": "markdown",
   "metadata": {},
   "source": [
    "#### Merge Function"
   ]
  },
  {
   "cell_type": "markdown",
   "metadata": {},
   "source": [
    "Merge Function Argument\n",
    "| Argument | Description |\n",
    "| --- | --- |\n",
    "| left | DataFrame to be merged on the left side |\n",
    "| right | DataFrame to be merged on the right side |\n",
    "| how | One of 'inner', 'outer', 'left', or 'right'. 'inner' by default |\n",
    "| on | Column names to join on. Must be found in both DataFrame objects. If not specified and no other join keys given, will use the intersection of the column names in left and right as the join keys |\n",
    "| left_on | Columns in left DataFrame to use as join keys |\n",
    "| right_on | Analogous to left_on for left DataFrame |\n",
    "| left_index | Use row index in left as its join key (or keys, if a MultiIndex)\n",
    "| right_index | Analogous to left_index\n",
    "| Sort | Sort merged data lexicographically by join keys; True bu default. Disable to get better performance in some cases on large datasets. |\n",
    "| suffixes | Tuple of string values to append to column names in case of overlap; default to ('_x', '_y'. For example if 'data' in both DataFrame objects, would appear as 'data_x' and 'data_y' in result. |\n",
    "| copy | If False, avoid copying data into resulting data structure in some exceptional cases. By default always copies. |\n",
    "\n"
   ]
  },
  {
   "cell_type": "code",
   "execution_count": 12,
   "metadata": {},
   "outputs": [
    {
     "name": "stdout",
     "output_type": "stream",
     "text": [
      "df1 =    lkey  data\n",
      "0    b     0\n",
      "1    b     1\n",
      "2    a     2\n",
      "3    c     3\n",
      "4    a     4\n",
      "5    a     5\n",
      "6    b     6\n",
      "df2 =    rkey  data\n",
      "0    a     0\n",
      "1    b     1\n",
      "2    c     2\n",
      "3    d     3\n",
      "df3 =    lkey  data_x rkey  data_y\n",
      "0    b     0.0    b       1\n",
      "1    b     1.0    b       1\n",
      "2    b     6.0    b       1\n",
      "3    a     2.0    a       0\n",
      "4    a     4.0    a       0\n",
      "5    a     5.0    a       0\n",
      "6    c     3.0    c       2\n",
      "7  NaN     NaN    d       3\n"
     ]
    }
   ],
   "source": [
    "from pandas import Series, DataFrame\n",
    "import pandas as pd\n",
    "import numpy as np\n",
    "from numpy import NaN\n",
    "df1 = DataFrame({'lkey': ['b', 'b', 'a', 'c', 'a', 'a', 'b'], 'data':range(7)})\n",
    "df2 = DataFrame({'rkey': ['a', 'b', 'c', 'd'], 'data':range(4)})\n",
    "df3 = pd.merge(df1, df2, left_on = 'lkey', right_on = 'rkey', how='outer');\n",
    "print(\"df1 = \", df1)\n",
    "print(\"df2 = \", df2)\n",
    "print(\"df3 = \", df3)"
   ]
  },
  {
   "cell_type": "markdown",
   "metadata": {},
   "source": [
    "#### Join on index"
   ]
  },
  {
   "cell_type": "code",
   "execution_count": 13,
   "metadata": {},
   "outputs": [
    {
     "name": "stdout",
     "output_type": "stream",
     "text": [
      "left = \n",
      "    Ohio  Nevada\n",
      "a     1       2\n",
      "c     3       4\n",
      "e     5       6\n",
      "right = \n",
      "    Missouri  Alabama\n",
      "b         7        8\n",
      "c         9       10\n",
      "d        11       12\n",
      "e        13       14\n"
     ]
    },
    {
     "data": {
      "text/html": [
       "<div>\n",
       "<style scoped>\n",
       "    .dataframe tbody tr th:only-of-type {\n",
       "        vertical-align: middle;\n",
       "    }\n",
       "\n",
       "    .dataframe tbody tr th {\n",
       "        vertical-align: top;\n",
       "    }\n",
       "\n",
       "    .dataframe thead th {\n",
       "        text-align: right;\n",
       "    }\n",
       "</style>\n",
       "<table border=\"1\" class=\"dataframe\">\n",
       "  <thead>\n",
       "    <tr style=\"text-align: right;\">\n",
       "      <th></th>\n",
       "      <th>Ohio</th>\n",
       "      <th>Nevada</th>\n",
       "      <th>Missouri</th>\n",
       "      <th>Alabama</th>\n",
       "    </tr>\n",
       "  </thead>\n",
       "  <tbody>\n",
       "    <tr>\n",
       "      <th>a</th>\n",
       "      <td>1.0</td>\n",
       "      <td>2.0</td>\n",
       "      <td>NaN</td>\n",
       "      <td>NaN</td>\n",
       "    </tr>\n",
       "    <tr>\n",
       "      <th>b</th>\n",
       "      <td>NaN</td>\n",
       "      <td>NaN</td>\n",
       "      <td>7.0</td>\n",
       "      <td>8.0</td>\n",
       "    </tr>\n",
       "    <tr>\n",
       "      <th>c</th>\n",
       "      <td>3.0</td>\n",
       "      <td>4.0</td>\n",
       "      <td>9.0</td>\n",
       "      <td>10.0</td>\n",
       "    </tr>\n",
       "    <tr>\n",
       "      <th>d</th>\n",
       "      <td>NaN</td>\n",
       "      <td>NaN</td>\n",
       "      <td>11.0</td>\n",
       "      <td>12.0</td>\n",
       "    </tr>\n",
       "    <tr>\n",
       "      <th>e</th>\n",
       "      <td>5.0</td>\n",
       "      <td>6.0</td>\n",
       "      <td>13.0</td>\n",
       "      <td>14.0</td>\n",
       "    </tr>\n",
       "  </tbody>\n",
       "</table>\n",
       "</div>"
      ],
      "text/plain": [
       "   Ohio  Nevada  Missouri  Alabama\n",
       "a   1.0     2.0       NaN      NaN\n",
       "b   NaN     NaN       7.0      8.0\n",
       "c   3.0     4.0       9.0     10.0\n",
       "d   NaN     NaN      11.0     12.0\n",
       "e   5.0     6.0      13.0     14.0"
      ]
     },
     "execution_count": 13,
     "metadata": {},
     "output_type": "execute_result"
    }
   ],
   "source": [
    "from pandas import Series, DataFrame\n",
    "import pandas as pd\n",
    "import numpy as np\n",
    "from numpy import NaN\n",
    "left = DataFrame([[1,2],[3,4],[5,6]], index=['a', 'c', 'e'], columns=['Ohio', 'Nevada'])\n",
    "right = DataFrame([[7,8],[9,10],[11,12],[13,14]], index=['b', 'c', 'd', 'e'], columns=['Missouri', 'Alabama'])\n",
    "print(\"left = \\n\", left)\n",
    "print(\"right = \\n\", right)\n",
    "left.join(right, how='outer')"
   ]
  },
  {
   "cell_type": "markdown",
   "metadata": {},
   "source": [
    "#### Concatenating Along and Axis"
   ]
  },
  {
   "cell_type": "markdown",
   "metadata": {},
   "source": [
    "#### concat function argument\n",
    "| Argument | Description |\n",
    "| --- | --- |\n",
    "| objs | List or dict of pandas objects to be concatenated. The only required argument. |\n",
    "| axis | Axis to concatenate along; default to 0 |\n",
    "| join | One of 'inner', 'outer', defaulting to 'outer'; whether to intersection (inner) or union (outer) together indexes along the other axes |\n",
    "| join_axes | Specific indexes to use for the other n - 1 axes instead of performing union / intersection logic. |\n",
    "| keys | Values to associate with objects being concatenated, forming a hierachical index along the concatenation axis. Can either be a list or arrat of arbitrary values, an array of tuples. or a list of arrays (if multiple level arrays passed in levels) |\n",
    "| levels | Specific indexes to use as hierarchical index level or levels if keys passed. |\n",
    "| names | Names for created hierarchical levels if keys and / or levels passed. |\n",
    "| verify_integrity | Check new axis in concatenated object for duplicates and raise exception if so. By default (False) allows duplicates. |\n",
    "| ignore_index | Do not preserve indexes along concatenation axis, instead producing a new range (total_length) index |"
   ]
  },
  {
   "cell_type": "code",
   "execution_count": 23,
   "metadata": {},
   "outputs": [
    {
     "name": "stdout",
     "output_type": "stream",
     "text": [
      "pd.concat([s1, s2, s3], ignore_index=True)\n",
      "0    0\n",
      "1    1\n",
      "2    2\n",
      "3    3\n",
      "4    4\n",
      "5    5\n",
      "6    6\n",
      "dtype: int64\n",
      "pd.concat([s1, s2, s3], axis=1)\n",
      "     0    1    2\n",
      "a  0.0  NaN  NaN\n",
      "b  1.0  NaN  NaN\n",
      "c  NaN  2.0  NaN\n",
      "d  NaN  3.0  NaN\n",
      "e  NaN  4.0  NaN\n",
      "g  NaN  NaN  5.0\n",
      "f  NaN  NaN  6.0\n",
      "pd.concat([s1, s2, s3], axis=1, keys=['one', 'two', 'three'])\n",
      "   one  two  three\n",
      "a  0.0  NaN    NaN\n",
      "b  1.0  NaN    NaN\n",
      "c  NaN  2.0    NaN\n",
      "d  NaN  3.0    NaN\n",
      "e  NaN  4.0    NaN\n",
      "g  NaN  NaN    5.0\n",
      "f  NaN  NaN    6.0\n"
     ]
    }
   ],
   "source": [
    "from pandas import Series, DataFrame\n",
    "import pandas as pd\n",
    "import numpy as np\n",
    "from numpy import NaN\n",
    "s1 = Series([0, 1], index=['a', 'b'])\n",
    "s2 = Series([2, 3, 4], index=['c', 'd', 'e'])\n",
    "s3 = Series([5, 6], index=['g', 'f'])\n",
    "print(\"pd.concat([s1, s2, s3], ignore_index=True)\")\n",
    "s4 = pd.concat([s1, s2, s3], ignore_index=True)\n",
    "print(s4)\n",
    "print(\"pd.concat([s1, s2, s3], axis=1)\")\n",
    "s5 = pd.concat([s1, s2, s3], axis=1)\n",
    "print(s5)\n",
    "print(\"pd.concat([s1, s2, s3], axis=1, keys=['one', 'two', 'three'])\")\n",
    "s6 = pd.concat([s1, s2, s3], axis=1, keys=['one', 'two', 'three'])\n",
    "print(s6)"
   ]
  },
  {
   "cell_type": "markdown",
   "metadata": {},
   "source": [
    "#### Combination Data with Overlap"
   ]
  },
  {
   "cell_type": "code",
   "execution_count": 24,
   "metadata": {},
   "outputs": [
    {
     "name": "stdout",
     "output_type": "stream",
     "text": [
      "np.where(pd.notnull(a), a, b)\n",
      "[0.  2.5 2.  3.5 4.5 5. ]\n"
     ]
    }
   ],
   "source": [
    "from pandas import Series, DataFrame\n",
    "import pandas as pd\n",
    "import numpy as np\n",
    "a = Series([np.nan, 2.5, np.nan, 3.5, 4.5, np.nan], index=['a', 'b', 'c', 'd', 'e', 'f'])\n",
    "b = Series(np.arange(len(a), dtype=np.float64))\n",
    "c = np.where(pd.notnull(a), a, b)\n",
    "print(\"np.where(pd.notnull(a), a, b)\")\n",
    "print(c)"
   ]
  },
  {
   "cell_type": "markdown",
   "metadata": {},
   "source": [
    "### Reshaping and Pivoting\n",
    "\n",
    "#### stack() and unstack()"
   ]
  },
  {
   "cell_type": "code",
   "execution_count": 30,
   "metadata": {},
   "outputs": [
    {
     "name": "stdout",
     "output_type": "stream",
     "text": [
      "number    one  two  three\n",
      "state                    \n",
      "Ohio        0    1      2\n",
      "Colorado    3    4      5\n",
      "data.stack()\n",
      "state     number\n",
      "Ohio      one       0\n",
      "          two       1\n",
      "          three     2\n",
      "Colorado  one       3\n",
      "          two       4\n",
      "          three     5\n",
      "dtype: int32\n",
      "df1.unstack()\n",
      "number    one  two  three\n",
      "state                    \n",
      "Ohio        0    1      2\n",
      "Colorado    3    4      5\n",
      "df1.unstack(0)\n",
      "state   Ohio  Colorado\n",
      "number                \n",
      "one        0         3\n",
      "two        1         4\n",
      "three      2         5\n"
     ]
    }
   ],
   "source": [
    "from pandas import Series, DataFrame\n",
    "import pandas as pd\n",
    "import numpy as np\n",
    "data = DataFrame(np.arange(6).reshape((2,3)), \n",
    "                index=pd.Index(['Ohio', 'Colorado'], name='state'), \n",
    "                columns=pd.Index(['one', 'two', 'three'], name='number'))\n",
    "print(data)\n",
    "print(\"data.stack()\")\n",
    "df1 = data.stack()\n",
    "print(df1)\n",
    "# unstack inner level\n",
    "print(\"df1.unstack()\")\n",
    "df2 = df1.unstack()\n",
    "print(df2)\n",
    "# unstack outer level\n",
    "print(\"df1.unstack(0)\")\n",
    "df3 = df1.unstack(0)\n",
    "print(df3)"
   ]
  },
  {
   "cell_type": "markdown",
   "metadata": {},
   "source": [
    "#### Pivoting \"long\" to \"wide\" format"
   ]
  },
  {
   "cell_type": "code",
   "execution_count": 35,
   "metadata": {},
   "outputs": [
    {
     "name": "stdout",
     "output_type": "stream",
     "text": [
      "   sequence   item   values\n",
      "0         1    gdp  2710.00\n",
      "1         1   infl     0.00\n",
      "2         1  unemp     5.80\n",
      "3         2    gdp  2778.00\n",
      "4         2   infl     2.34\n",
      "5         2  unemp     5.10\n",
      "6         3    gdp  2775.00\n",
      "7         3   infl     2.74\n",
      "8         3  unemp     5.30\n",
      "item         gdp  infl  unemp\n",
      "sequence                     \n",
      "1         2710.0  0.00    5.8\n",
      "2         2778.0  2.34    5.1\n",
      "3         2775.0  2.74    5.3\n"
     ]
    }
   ],
   "source": [
    "from pandas import Series, DataFrame\n",
    "import pandas as pd\n",
    "data = {'sequence' : [1, 1, 1, 2, 2, 2, 3, 3, 3],\n",
    "        'item' : ['gdp', 'infl', 'unemp', 'gdp', 'infl', 'unemp', 'gdp', 'infl', 'unemp'],\n",
    "        'values' : [2710, 0.0, 5.8, 2778, 2.34, 5.10, 2775, 2.74, 5.3]\n",
    "        }\n",
    "df = DataFrame(data)\n",
    "print(df)\n",
    "pivoted = df.pivot(index='sequence', columns='item', values='values')\n",
    "print(pivoted)"
   ]
  },
  {
   "cell_type": "markdown",
   "metadata": {},
   "source": [
    "### Data Transformation"
   ]
  },
  {
   "cell_type": "markdown",
   "metadata": {},
   "source": [
    "#### Removing Duplicates"
   ]
  },
  {
   "cell_type": "code",
   "execution_count": 44,
   "metadata": {},
   "outputs": [
    {
     "name": "stdout",
     "output_type": "stream",
     "text": [
      "duplicated()\n",
      "    k1  k2\n",
      "1  one   1\n",
      "4  two   3\n",
      "6  two   4\n",
      "drop_duplicates()\n",
      "    k1  k2\n",
      "0  one   1\n",
      "2  one   2\n",
      "3  two   3\n",
      "5  two   4\n",
      "drop_duplicates(['k1'])\n",
      "    k1  k2\n",
      "0  one   1\n",
      "3  two   3\n"
     ]
    }
   ],
   "source": [
    "from pandas import Series, DataFrame\n",
    "import pandas as pd\n",
    "import numpy as np\n",
    "data = DataFrame({'k1' : ['one'] * 3 + ['two'] * 4, \n",
    "                  'k2' : [1, 1, 2, 3, 3, 4, 4]})\n",
    "df1 = data[data.duplicated()]\n",
    "print(\"duplicated()\")\n",
    "print(df1)\n",
    "print(\"drop_duplicates()\")\n",
    "df2 = data.drop_duplicates()\n",
    "print(df2)\n",
    "print(\"drop_duplicates(['k1'])\")\n",
    "df3 = data.drop_duplicates(['k1'])\n",
    "print(df3)"
   ]
  },
  {
   "cell_type": "markdown",
   "metadata": {},
   "source": [
    "#### Mapping data"
   ]
  },
  {
   "cell_type": "code",
   "execution_count": 53,
   "metadata": {},
   "outputs": [
    {
     "name": "stdout",
     "output_type": "stream",
     "text": [
      "          food  ounces  animal animal1\n",
      "0        bacon     4.0     pig     pig\n",
      "1  pulled pork     3.0     pig     pig\n",
      "2        bacon    12.0     pig     pig\n",
      "3     Pastrami     6.0     cow     cow\n",
      "4  corned beef     7.5     cow     cow\n",
      "5        Bacon     8.0     pig     pig\n",
      "6     pastrami     3.0     cow     cow\n",
      "7    honey ham     5.0     pig     pig\n",
      "8    noval lox     6.0  salmon  salmon\n"
     ]
    }
   ],
   "source": [
    "from pandas import Series, DataFrame\n",
    "import pandas as pd\n",
    "import numpy as np\n",
    "data = DataFrame({'food' : ['bacon', 'pulled pork', 'bacon', 'Pastrami', 'corned beef', \n",
    "                            'Bacon', 'pastrami', 'honey ham', 'noval lox'], \n",
    "                  'ounces' : [4, 3, 12, 6, 7.5, 8, 3, 5, 6]})\n",
    "\n",
    "meat_to_animal = {\n",
    "    'bacon': 'pig',\n",
    "    'pulled pork' : 'pig',\n",
    "    'pastrami' : 'cow',\n",
    "    'corned beef' : 'cow',\n",
    "    'honey ham' : 'pig',\n",
    "    'noval lox' : 'salmon'\n",
    "    }\n",
    "data['animal'] = data['food'].map(lambda x : meat_to_animal[x.lower()])\n",
    "data['animal1'] = data['food'].map(str.lower).map(meat_to_animal)\n",
    "print(data)"
   ]
  },
  {
   "cell_type": "markdown",
   "metadata": {},
   "source": [
    "#### Replacing values"
   ]
  },
  {
   "cell_type": "code",
   "execution_count": 59,
   "metadata": {},
   "outputs": [
    {
     "name": "stdout",
     "output_type": "stream",
     "text": [
      "0       1.0\n",
      "1    -999.0\n",
      "2       2.0\n",
      "3    -999.0\n",
      "4   -1000.0\n",
      "5       3.0\n",
      "dtype: float64\n",
      "data.replace([-999, -1000], [0, 0])\n",
      "0    1.0\n",
      "1    0.0\n",
      "2    2.0\n",
      "3    0.0\n",
      "4    0.0\n",
      "5    3.0\n",
      "dtype: float64\n",
      "np.where(data < 0, 0, data)\n",
      "0    1.0\n",
      "1    0.0\n",
      "2    2.0\n",
      "3    0.0\n",
      "4    0.0\n",
      "5    3.0\n",
      "dtype: float64\n"
     ]
    }
   ],
   "source": [
    "from pandas import Series\n",
    "import numpy as np\n",
    "data = Series([1., -999., 2, -999., -1000, 3])\n",
    "print(data)\n",
    "print(\"data.replace([-999, -1000], [0, 0])\")\n",
    "df1 = data.replace([-999, -1000], [0, 0])\n",
    "print(df1)\n",
    "print(\"np.where(data < 0, 0, data)\")\n",
    "df2 = Series(np.where(data < 0, 0, data))\n",
    "print(df2)"
   ]
  },
  {
   "cell_type": "markdown",
   "metadata": {},
   "source": [
    "#### Rename Axis Indexes"
   ]
  },
  {
   "cell_type": "code",
   "execution_count": 64,
   "metadata": {},
   "outputs": [
    {
     "name": "stdout",
     "output_type": "stream",
     "text": [
      "          One  Two  Three  Four\n",
      "OHIO        0    1      2     3\n",
      "COLORADO    4    5      6     7\n",
      "NEW YORK    8    9     10    11\n"
     ]
    }
   ],
   "source": [
    "from pandas import Series, DataFrame\n",
    "import pandas as pd\n",
    "import numpy as np\n",
    "data = DataFrame(np.arange(12).reshape((3,4)), \n",
    "                 index=['Ohio', 'Colorado', 'New York'],\n",
    "                 columns=['one', 'two', 'three', 'four'])\n",
    "data.index = data.index.map(str.upper)\n",
    "data.columns = data.columns.map(str.title)\n",
    "print(data) "
   ]
  },
  {
   "cell_type": "markdown",
   "metadata": {},
   "source": [
    "#### Discretization and Binning"
   ]
  },
  {
   "cell_type": "code",
   "execution_count": 66,
   "metadata": {},
   "outputs": [
    {
     "name": "stdout",
     "output_type": "stream",
     "text": [
      "['Youth', 'Youth', 'YoungAdult', 'YoungAdult', 'Youth', ..., 'YoungAdult', 'Senior', 'MiddleAged', 'MiddleAged', 'YoungAdult']\n",
      "Length: 12\n",
      "Categories (4, object): ['Youth' < 'YoungAdult' < 'MiddleAged' < 'Senior']\n"
     ]
    }
   ],
   "source": [
    "from pandas import Series, DataFrame\n",
    "import pandas as pd\n",
    "import numpy as np\n",
    "ages = [20, 22, 25, 27, 21, 23, 37, 31, 61, 45, 41, 32]\n",
    "bins = [18, 25, 35, 60, 100]\n",
    "groups = [\"Youth\", \"YoungAdult\", \"MiddleAged\", \"Senior\"]\n",
    "df1 = pd.cut(ages, bins, labels=groups, right=False) \n",
    "print(df1)"
   ]
  },
  {
   "cell_type": "markdown",
   "metadata": {},
   "source": [
    "#### Detect and Filter"
   ]
  },
  {
   "cell_type": "code",
   "execution_count": 96,
   "metadata": {},
   "outputs": [
    {
     "name": "stdout",
     "output_type": "stream",
     "text": [
      "    0   1   2\n",
      "3   9  10  11\n",
      "4  12  13  14\n",
      "5  15  16  17\n"
     ]
    }
   ],
   "source": [
    "from pandas import Series, DataFrame\n",
    "import pandas as pd\n",
    "import numpy as np\n",
    "data = DataFrame(np.arange(18).reshape((6,3)))\n",
    "print(data[data[2]>10])"
   ]
  },
  {
   "cell_type": "markdown",
   "metadata": {},
   "source": [
    "#### Computing Indicator / Dummy Variables"
   ]
  },
  {
   "cell_type": "code",
   "execution_count": 98,
   "metadata": {},
   "outputs": [
    {
     "data": {
      "text/html": [
       "<div>\n",
       "<style scoped>\n",
       "    .dataframe tbody tr th:only-of-type {\n",
       "        vertical-align: middle;\n",
       "    }\n",
       "\n",
       "    .dataframe tbody tr th {\n",
       "        vertical-align: top;\n",
       "    }\n",
       "\n",
       "    .dataframe thead th {\n",
       "        text-align: right;\n",
       "    }\n",
       "</style>\n",
       "<table border=\"1\" class=\"dataframe\">\n",
       "  <thead>\n",
       "    <tr style=\"text-align: right;\">\n",
       "      <th></th>\n",
       "      <th>a</th>\n",
       "      <th>b</th>\n",
       "      <th>c</th>\n",
       "    </tr>\n",
       "  </thead>\n",
       "  <tbody>\n",
       "    <tr>\n",
       "      <th>0</th>\n",
       "      <td>False</td>\n",
       "      <td>True</td>\n",
       "      <td>False</td>\n",
       "    </tr>\n",
       "    <tr>\n",
       "      <th>1</th>\n",
       "      <td>False</td>\n",
       "      <td>True</td>\n",
       "      <td>False</td>\n",
       "    </tr>\n",
       "    <tr>\n",
       "      <th>2</th>\n",
       "      <td>True</td>\n",
       "      <td>False</td>\n",
       "      <td>False</td>\n",
       "    </tr>\n",
       "    <tr>\n",
       "      <th>3</th>\n",
       "      <td>False</td>\n",
       "      <td>False</td>\n",
       "      <td>True</td>\n",
       "    </tr>\n",
       "    <tr>\n",
       "      <th>4</th>\n",
       "      <td>True</td>\n",
       "      <td>False</td>\n",
       "      <td>False</td>\n",
       "    </tr>\n",
       "    <tr>\n",
       "      <th>5</th>\n",
       "      <td>False</td>\n",
       "      <td>True</td>\n",
       "      <td>False</td>\n",
       "    </tr>\n",
       "  </tbody>\n",
       "</table>\n",
       "</div>"
      ],
      "text/plain": [
       "       a      b      c\n",
       "0  False   True  False\n",
       "1  False   True  False\n",
       "2   True  False  False\n",
       "3  False  False   True\n",
       "4   True  False  False\n",
       "5  False   True  False"
      ]
     },
     "execution_count": 98,
     "metadata": {},
     "output_type": "execute_result"
    }
   ],
   "source": [
    "from pandas import Series, DataFrame\n",
    "import pandas as pd\n",
    "import numpy as np\n",
    "df = DataFrame({'key' : ['b', 'b', 'a', 'c', 'a', 'b'],\n",
    "                  'data1' :range(6)})\n",
    "pd.get_dummies(df['key'])"
   ]
  }
 ],
 "metadata": {
  "kernelspec": {
   "display_name": "venv",
   "language": "python",
   "name": "python3"
  },
  "language_info": {
   "codemirror_mode": {
    "name": "ipython",
    "version": 3
   },
   "file_extension": ".py",
   "mimetype": "text/x-python",
   "name": "python",
   "nbconvert_exporter": "python",
   "pygments_lexer": "ipython3",
   "version": "3.11.5"
  },
  "orig_nbformat": 4
 },
 "nbformat": 4,
 "nbformat_minor": 2
}
