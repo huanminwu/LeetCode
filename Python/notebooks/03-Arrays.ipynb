{
 "cells": [
  {
   "attachments": {},
   "cell_type": "markdown",
   "metadata": {},
   "source": [
    "# Array\n",
    "In this notebook we will study arrays."
   ]
  },
  {
   "attachments": {},
   "cell_type": "markdown",
   "metadata": {},
   "source": [
    "### Create an array\n",
    "Let's look at some bicycle types."
   ]
  },
  {
   "cell_type": "code",
   "execution_count": 1,
   "metadata": {},
   "outputs": [
    {
     "name": "stdout",
     "output_type": "stream",
     "text": [
      "['trek', 'cannondale', 'redline', 'specialized']\n",
      "cannondale\n",
      "trek\n",
      "specialized\n",
      "My first bicycle was a Trek\n"
     ]
    }
   ],
   "source": [
    "# get a list of bicycle types. \n",
    "bicycles = ['trek', 'cannondale', 'redline', 'specialized']\n",
    "print(bicycles)\n",
    "\n",
    "# Get one bicycle.\n",
    "print(bicycles[1])\n",
    "print(bicycles[0])\n",
    "print(bicycles[-1])\n",
    "\n",
    "print(\"My first bicycle was a \" + bicycles[0].title())"
   ]
  },
  {
   "attachments": {},
   "cell_type": "markdown",
   "metadata": {},
   "source": [
    "#### Observation\n",
    "1. The array is within '[' and ']' and the elements are delimited by ','. \n",
    "2. The index of array starts with 0, instead of 1.\n",
    "3. We can use -k to indicate the last several elements in the array, -1 is the last one. \n",
    "4. You can not refer to an element with the index beyond the range, for example if the array is empty, then you cannot say arr[-1]."
   ]
  },
  {
   "attachments": {},
   "cell_type": "markdown",
   "metadata": {},
   "source": [
    "### Update array\n",
    "In this section we will learn how to add, remove or replace an element in an array."
   ]
  },
  {
   "cell_type": "code",
   "execution_count": 2,
   "metadata": {},
   "outputs": [
    {
     "name": "stdout",
     "output_type": "stream",
     "text": [
      "['BMW', 'Mercedes-Benz', 'Ford', 'Lincoln', 'Honda', 'Toyota']\n",
      "['BMW', 'Mercedes-Benz', 'Ford', 'Lincoln', 'Honda', 'Toyota', 'Tesla']\n",
      "['BYD', 'BMW', 'Mercedes-Benz', 'Ford', 'Lincoln', 'Honda', 'Toyota', 'Tesla']\n",
      "['BMW', 'Mercedes-Benz', 'Ford', 'Lincoln', 'Honda', 'Toyota', 'Tesla']\n",
      "['BMW', 'Mercedes-Benz', 'Ford', 'Lincoln', 'Honda', 'Toyota']\n",
      "My car is:  Tesla\n",
      "['BMW', 'Mercedes-Benz', 'Lincoln', 'Honda', 'Toyota']\n",
      "My car is Ford\n",
      "Total cars is 6\n",
      "['BMW', 'Mercedes-Benz', 'Maserati', 'Lincoln', 'Honda', 'Toyota']\n",
      "Remaining cars is 5\n",
      "arr1 + arr2 =  [1, 2, 3, 4, 5, 6]\n"
     ]
    }
   ],
   "source": [
    "# initialize array\n",
    "cars = ['BMW', 'Mercedes-Benz', 'Ford', 'Cadillac', 'Honda', 'Toyota']\n",
    "\n",
    "# replace cars\n",
    "cars[3] = 'Lincoln'\n",
    "print(cars)\n",
    "\n",
    "# Append a new car.\n",
    "cars.append('Tesla')\n",
    "print(cars)\n",
    "\n",
    "# Insert a new car.\n",
    "cars.insert(0, 'BYD')\n",
    "print(cars)\n",
    "\n",
    "# Remove a car by name\n",
    "cars.remove('BYD')\n",
    "print(cars)\n",
    "\n",
    "# Remove a car in the end\n",
    "my_car = cars.pop()\n",
    "print(cars)\n",
    "print('My car is: ', my_car)\n",
    "\n",
    "# Remove a car by index\n",
    "my_car = cars.pop(2)\n",
    "print(cars)\n",
    "print('My car is {car}'.format(car=my_car))\n",
    "\n",
    "# Remove a car by index\n",
    "my_car = cars.insert(2, 'Maserati')\n",
    "too_expensive = 'Maserati'\n",
    "print(\"Total cars is {count}\".format(count=len(cars)))\n",
    "print(cars)\n",
    "cars.remove(too_expensive)\n",
    "print('Remaining cars is {count}'.format(count=len(cars)))\n",
    "\n",
    "# Merge two arrays\n",
    "arr1 = [1, 2, 3]\n",
    "arr2 = [4, 5, 6]\n",
    "print(\"arr1 + arr2 = \", arr1 + arr2)"
   ]
  },
  {
   "attachments": {},
   "cell_type": "markdown",
   "metadata": {},
   "source": [
    "#### Observation \n",
    "1. You can assign a element by index.\n",
    "2. You can append an element in the end or insert an element before any position.\n",
    "3. You can remove an element by index using pop() or remove an element by value using remove()\n",
    "4. You can get the count of elements in an array by using len()"
   ]
  },
  {
   "attachments": {},
   "cell_type": "markdown",
   "metadata": {},
   "source": [
    "### Operate on Array\n",
    "In this section, we will learn how to sort and reverse the array."
   ]
  },
  {
   "cell_type": "code",
   "execution_count": 3,
   "metadata": {},
   "outputs": [
    {
     "name": "stdout",
     "output_type": "stream",
     "text": [
      "['BMW', 'Cadillac', 'Ford', 'Honda', 'Mercedes-Benz', 'Toyota']\n",
      "['BMW', 'Mercedes-Benz', 'Ford', 'Cadillac', 'Honda', 'Toyota']\n",
      "['BMW', 'Cadillac', 'Ford', 'Honda', 'Mercedes-Benz', 'Toyota']\n",
      "['Toyota', 'Mercedes-Benz', 'Honda', 'Ford', 'Cadillac', 'BMW']\n",
      "['BMW', 'Mercedes-Benz', 'Ford', 'Cadillac', 'Honda', 'Toyota']\n",
      "['Toyota', 'Honda', 'Cadillac', 'Ford', 'Mercedes-Benz', 'BMW']\n",
      "Total cars is 6\n"
     ]
    }
   ],
   "source": [
    "# initialize array\n",
    "cars = ['BMW', 'Mercedes-Benz', 'Ford', 'Cadillac', 'Honda', 'Toyota']\n",
    "# print it in order\n",
    "print(sorted(cars))\n",
    "print(cars)\n",
    "\n",
    "# sort it\n",
    "cars.sort()\n",
    "print(cars)\n",
    "# sort it in reverse order\n",
    "cars.sort(reverse=True)\n",
    "print(cars)\n",
    "\n",
    "# reverse array\n",
    "cars = ['BMW', 'Mercedes-Benz', 'Ford', 'Cadillac', 'Honda', 'Toyota']\n",
    "print(cars)\n",
    "cars.reverse()\n",
    "print(cars)\n",
    "print(\"Total cars is {count}\".format(count=len(cars)))\n"
   ]
  },
  {
   "attachments": {},
   "cell_type": "markdown",
   "metadata": {},
   "source": [
    "#### Observation \n",
    "1. sorted() function will not change the order of elements in the original array.\n",
    "2. sort() and reverse() will change the order of element in array.\n",
    "3. len() will return the count of elements in the array."
   ]
  },
  {
   "attachments": {},
   "cell_type": "markdown",
   "metadata": {},
   "source": [
    "### Iterate on Array\n",
    "We can use \"for\" statement to iterate on an array."
   ]
  },
  {
   "cell_type": "code",
   "execution_count": 4,
   "metadata": {},
   "outputs": [
    {
     "name": "stdout",
     "output_type": "stream",
     "text": [
      "Iterate by elements !!!\n",
      "BMW\n",
      "I llike BMW\n",
      "Mercedes-Benz\n",
      "I llike MERCEDES-BENZ\n",
      "Ford\n",
      "I llike FORD\n",
      "Cadillac\n",
      "I llike CADILLAC\n",
      "Honda\n",
      "I llike HONDA\n",
      "Toyota\n",
      "I llike TOYOTA\n"
     ]
    }
   ],
   "source": [
    "# initialize array\n",
    "print('Iterate by elements !!!')\n",
    "cars = ['BMW', 'Mercedes-Benz', 'Ford', 'Cadillac', 'Honda', 'Toyota']\n",
    "for car in cars:\n",
    "    print(car)\n",
    "    print('I llike ' + car.upper())"
   ]
  },
  {
   "cell_type": "code",
   "execution_count": 5,
   "metadata": {},
   "outputs": [
    {
     "name": "stdout",
     "output_type": "stream",
     "text": [
      "Iterate by index !!!\n",
      "BMW\n",
      "I llike BMW\n",
      "Mercedes-Benz\n",
      "I llike MERCEDES-BENZ\n",
      "Ford\n",
      "I llike FORD\n",
      "Cadillac\n",
      "I llike CADILLAC\n",
      "Honda\n",
      "I llike HONDA\n",
      "Toyota\n",
      "I llike TOYOTA\n"
     ]
    }
   ],
   "source": [
    "print('Iterate by index !!!')\n",
    "cars = ['BMW', 'Mercedes-Benz', 'Ford', 'Cadillac', 'Honda', 'Toyota']\n",
    "for index in range(0, len(cars)):\n",
    "    print(cars[index])\n",
    "    print('I llike ' + cars[index].upper())\n"
   ]
  },
  {
   "attachments": {},
   "cell_type": "markdown",
   "metadata": {},
   "source": [
    "#### Observation \n",
    "1. for and in are keywords.\n",
    "2. we need a ':' at the end of for statement. It means the statement does not finish in this line.\n",
    "3. we have an indent below the for line, here we can have one or multiple lines of statement, each perform one action.\n",
    "4. We can also iterate the array by index, but remember the range starts with 0 and ends with length (largest index + 1)."
   ]
  },
  {
   "attachments": {},
   "cell_type": "markdown",
   "metadata": {},
   "source": [
    "### Calculate on numeric array\n",
    "We can do min, max and sum from a numeric array."
   ]
  },
  {
   "cell_type": "code",
   "execution_count": 6,
   "metadata": {},
   "outputs": [
    {
     "name": "stdout",
     "output_type": "stream",
     "text": [
      "[1, 2, 3, 4, 5, 6, 7, 8, 9, 10]\n",
      "1\n",
      "10\n",
      "55\n"
     ]
    }
   ],
   "source": [
    "digits = [1,2,3,4,5,6,7,8,9,10]\n",
    "print(digits)\n",
    "print(min(digits))\n",
    "print(max(digits))\n",
    "print(sum(digits))"
   ]
  },
  {
   "attachments": {},
   "cell_type": "markdown",
   "metadata": {},
   "source": [
    "### Get slice of array\n",
    "We can do min, max and sum from a numeric array."
   ]
  },
  {
   "cell_type": "code",
   "execution_count": 7,
   "metadata": {},
   "outputs": [
    {
     "name": "stdout",
     "output_type": "stream",
     "text": [
      "['BMW', 'Mercedes-Benz', 'Ford', 'Cadillac', 'Honda', 'Toyota']\n",
      "['Ford', 'Cadillac']\n",
      "['BMW', 'Mercedes-Benz']\n",
      "['Honda', 'Toyota']\n",
      "length of array =  6\n",
      "del cars[2:4] =  ['BMW', 'Mercedes-Benz', 'Honda', 'Toyota']\n",
      "Cars is empty\n",
      "a,b,c =  1 2 3\n",
      "a,b,c =  1 [2, 3, 4, 5] 6\n"
     ]
    }
   ],
   "source": [
    "# initialize array\n",
    "cars = ['BMW', 'Mercedes-Benz', 'Ford', 'Cadillac', 'Honda', 'Toyota']\n",
    "print(cars)\n",
    "\n",
    "# get slice of array\n",
    "a, b = 2, 4\n",
    "american_cars = cars[a:b]\n",
    "print(american_cars)\n",
    "\n",
    "# Get a few of elements in the beginning.\n",
    "german_cars = cars[:2]\n",
    "print(german_cars)\n",
    "\n",
    "# Get a few of elements in the end.\n",
    "japanese_cars = cars[-2:]\n",
    "print(japanese_cars)\n",
    "\n",
    "# Get the length of the array\n",
    "print(\"length of array = \", len(cars))\n",
    "\n",
    "# delete a slice\n",
    "del cars[2:4]\n",
    "print(\"del cars[2:4] = \", cars)\n",
    "\n",
    "# determine if arry is empty\n",
    "cars = []\n",
    "if not (cars) :\n",
    "    print(\"Cars is empty\")\n",
    "\n",
    "# unpack array to variables.\n",
    "a,b,c = [1, 2, 3]\n",
    "print('a,b,c = ', a, b, c)\n",
    "\n",
    "# unpack array to variables.\n",
    "a,*b,c = [1, 2, 3, 4, 5, 6]\n",
    "print('a,b,c = ', a, b, c)\n"
   ]
  },
  {
   "attachments": {},
   "cell_type": "markdown",
   "metadata": {},
   "source": [
    "#### Naming slice"
   ]
  },
  {
   "cell_type": "code",
   "execution_count": 8,
   "metadata": {},
   "outputs": [
    {
     "name": "stdout",
     "output_type": "stream",
     "text": [
      "[2, 3]\n",
      "[0, 1, 10, 11, 4, 5, 6, 7, 8, 9, 10]\n"
     ]
    }
   ],
   "source": [
    "items = [0, 1, 2, 3, 4, 5, 6, 7, 8, 9, 10]\n",
    "a = slice(2,4)\n",
    "print(items[a])\n",
    "items[a] = [10, 11]\n",
    "print(items)"
   ]
  },
  {
   "attachments": {},
   "cell_type": "markdown",
   "metadata": {},
   "source": [
    "### Copy array\n",
    "If we assign an array to another variable, we clone the reference, so one get changed, another also get changed.\n",
    "But if we copy array by slice, the whole array is cloned."
   ]
  },
  {
   "cell_type": "code",
   "execution_count": 9,
   "metadata": {},
   "outputs": [
    {
     "name": "stdout",
     "output_type": "stream",
     "text": [
      "['BMW', 'Mercedes-Benz', 'Ford', 'Cadillac', 'Honda', 'Toyota']\n",
      "['BMW', 'Mercedes-Benz', 'Ford', 'Cadillac', 'Honda', 'Toyota', 'Audi']\n",
      "['BMW', 'Mercedes-Benz', 'Ford', 'Cadillac', 'Honda', 'Toyota', 'Audi', 'buick']\n"
     ]
    }
   ],
   "source": [
    "# initialize array\n",
    "my_cars = ['BMW', 'Mercedes-Benz', 'Ford', 'Cadillac', 'Honda', 'Toyota']\n",
    "\n",
    "# we clone the reference of array\n",
    "friend_cars = my_cars\n",
    "print(friend_cars)\n",
    "my_cars.append('Audi')\n",
    "print(friend_cars)\n",
    "friend_cars.append('buick')\n",
    "print(my_cars)"
   ]
  },
  {
   "cell_type": "code",
   "execution_count": 10,
   "metadata": {},
   "outputs": [
    {
     "name": "stdout",
     "output_type": "stream",
     "text": [
      "['BMW', 'Mercedes-Benz', 'Ford', 'Cadillac', 'Honda', 'Toyota']\n",
      "['BMW', 'Mercedes-Benz', 'Ford', 'Cadillac', 'Honda', 'Toyota']\n",
      "['BMW', 'Mercedes-Benz', 'Ford', 'Cadillac', 'Honda', 'Toyota', 'Audi']\n"
     ]
    }
   ],
   "source": [
    "# initialize array\n",
    "my_cars = ['BMW', 'Mercedes-Benz', 'Ford', 'Cadillac', 'Honda', 'Toyota']\n",
    "\n",
    "# we clone the instance of array\n",
    "friend_cars = my_cars[:]\n",
    "print(friend_cars)\n",
    "my_cars.append('Audi')\n",
    "print(friend_cars)\n",
    "friend_cars.append('buick')\n",
    "print(my_cars)"
   ]
  },
  {
   "attachments": {},
   "cell_type": "markdown",
   "metadata": {},
   "source": [
    "### Filter sequence elements\n",
    "We can use generator to filter the element in the list."
   ]
  },
  {
   "cell_type": "code",
   "execution_count": 11,
   "metadata": {},
   "outputs": [
    {
     "name": "stdout",
     "output_type": "stream",
     "text": [
      "[1.0, 2.0, 3.1622776601683795, 1.4142135623730951, 1.7320508075688772]\n"
     ]
    }
   ],
   "source": [
    "mylist = [1, 4, -5, 10, -7, 2, 3, -1]\n",
    "import math\n",
    "print([math.sqrt(n) for n in mylist if n > 0])"
   ]
  },
  {
   "attachments": {},
   "cell_type": "markdown",
   "metadata": {},
   "source": [
    "### Data Type in Array\n",
    "We can store different types data in an array."
   ]
  },
  {
   "cell_type": "code",
   "execution_count": 12,
   "metadata": {},
   "outputs": [
    {
     "name": "stdout",
     "output_type": "stream",
     "text": [
      "['James', 23, 19, 22, 31, 18]\n"
     ]
    }
   ],
   "source": [
    "# create a score card\n",
    "score_card = ['James', 23, 19, 22, 31, 18]\n",
    "print(score_card)"
   ]
  },
  {
   "attachments": {},
   "cell_type": "markdown",
   "metadata": {},
   "source": [
    "### Sequence Operations\n",
    "\n",
    "Array is a sequence, so all the sequence operation is applicable to array\n",
    "\n",
    "| Operation | Result |\n",
    "| --- | --- |\n",
    "| x in s | True if an item of s is equal to x, else False |\n",
    "| x not in s | False if an item of s is equal to x, else True |\n",
    "| s + t | the concatenation of s and t | (6)(7) |\n",
    "| s * n or n * s | equivalent to adding s to itself n times |\n",
    "| s[i] | ith item of s, origin 0 |\n",
    "| s[i:j] | slice of s from i to j | \n",
    "| s[i:j:k] | slice of s from i to j with step k |\n",
    "| len(s) | length of s |\n",
    "| min(s) | smallest item of s |\n",
    "| max(s) | largest item of s |\n",
    "| s.index(x[, i[, j]]) | index of the first occurrence of x in s (at or after index i and before index j) |\n",
    "| s.count(x) | total number of occurrences of x in s |\n",
    "| sorted(s) | return sorted(s) |\n",
    "| s.sort() | return sorted(s) |\n",
    "| s.reverse() | return reversed(s) |\n",
    "| s.insert(i,x) | insert x at position of i |\n",
    "| s.append(x) | append x at the end of s |\n",
    "| s.pop() | remove last element of s |\n",
    "| s.pop(i) | remove element at position of i |\n",
    "| s.remove(x) | remove x from s |\n",
    "| s[i:j] = [] | remove slice of s |\n",
    "| s.clear() | clear all elements of s |\n",
    "| s.copy() | return copt of s | "
   ]
  },
  {
   "cell_type": "code",
   "execution_count": 13,
   "metadata": {},
   "outputs": [
    {
     "name": "stdout",
     "output_type": "stream",
     "text": [
      "7 in s ? True\n",
      "7 not in s ? False\n",
      "s[3] = 4\n",
      "s[1 : 3] = [2, 3]\n",
      "len(s)10\n",
      "s1 =  [1, 2, 3]\n",
      "s2 =  [4, 5, 6]\n",
      "s1 + s2 =  [1, 2, 3, 4, 5, 6]\n",
      "s.count(7) =  1\n",
      "min(s) =  1\n",
      "max(s) =  10\n",
      "s1 =  [1, 2]\n",
      "s1 * 2 =  [1, 2, 1, 2]\n",
      "s1 = [2, 1, 3]\n",
      "sorted(s1) =  [1, 2, 3]\n",
      "s1 =  [2, 1, 3]\n",
      "reversed(s1) =  [3, 1, 2]\n",
      "s =  [1, 2, 3, 4, 5, 6, 7, 8, 9, 10]\n",
      "remove s[2:4]\n",
      "s =  [1, 2, 5, 6, 7, 8, 9, 10]\n"
     ]
    }
   ],
   "source": [
    "# Initialize a array \n",
    "s = [1, 2, 3, 4, 5, 6, 7, 8, 9, 10]\n",
    "# check if a element in array\n",
    "print('7 in s ? ' + str(7 in s))\n",
    "print('7 not in s ? ' + str(7 not in s))\n",
    "\n",
    "# get a element by index\n",
    "print('s[3] = ' + str(s[3]))\n",
    "\n",
    "# get slice of array\n",
    "print('s[1 : 3] = ' + str(s[1:3]))\n",
    "\n",
    "# get the length of array\n",
    "print('len(s)' + str(len(s)))\n",
    "\n",
    "# concatenat two arrays\n",
    "s1 = [1,2,3]\n",
    "s2 = [4,5,6]\n",
    "print('s1 = ', s1)\n",
    "print('s2 = ', s2)\n",
    "print('s1 + s2 = ', s1 + s2)\n",
    "\n",
    "# count the number\n",
    "print('s.count(7) = ',  s.count(7))\n",
    "\n",
    "# get min and max the number\n",
    "print('min(s) = ', min(s))\n",
    "print('max(s) = ', max(s))\n",
    "\n",
    "# repeat array\n",
    "s1 = [1,2]\n",
    "print('s1 = ',  s1)\n",
    "print('s1 * 2 = ', s1 * 2)\n",
    "\n",
    "# sortrepeat array\n",
    "s1 = [2, 1,3]\n",
    "print('s1 = ' + str(s1))\n",
    "print('sorted(s1) = ',  sorted(s1))\n",
    "\n",
    "# sortrepeat array\n",
    "s1 = [2, 1,3]\n",
    "print('s1 = ', s1)\n",
    "s1.reverse()\n",
    "print('reversed(s1) = ', s1)\n",
    "\n",
    "# remove a slice\n",
    "s = [1, 2, 3, 4, 5, 6, 7, 8, 9, 10]\n",
    "print('s = ', s)\n",
    "print('remove s[2:4]')\n",
    "s[2:4] = []\n",
    "print('s = ', s)"
   ]
  },
  {
   "attachments": {},
   "cell_type": "markdown",
   "metadata": {},
   "source": [
    "### Join array\n",
    "We can join multiple string elements in an array by a character or a string."
   ]
  },
  {
   "cell_type": "code",
   "execution_count": 14,
   "metadata": {},
   "outputs": [
    {
     "name": "stdout",
     "output_type": "stream",
     "text": [
      "Silicon-Stone-Education\n"
     ]
    }
   ],
   "source": [
    "### Join array\n",
    "char = '-'\n",
    "lst = ['Silicon', 'Stone', 'Education']\n",
    "print(char.join(lst))"
   ]
  },
  {
   "attachments": {},
   "cell_type": "markdown",
   "metadata": {},
   "source": [
    "### 2 D array\n",
    "Array can be multiple dimensions, but 2 D first."
   ]
  },
  {
   "cell_type": "code",
   "execution_count": 15,
   "metadata": {},
   "outputs": [
    {
     "name": "stdout",
     "output_type": "stream",
     "text": [
      "[['James', 80, 95, 88], ['Tim', 98, 97, 96], ['Susan', 91, 93, 95], ['Derick', 92, 94, 90], ['Tracy', 92, 97, 80]]\n",
      "After sorted on column 3\n",
      "[['Tim', 98, 97, 96], ['Susan', 91, 93, 95], ['Derick', 92, 94, 90], ['James', 80, 95, 88], ['Tracy', 92, 97, 80]]\n"
     ]
    }
   ],
   "source": [
    "# 2 D array\n",
    "scores = [\n",
    "    ['James', 80, 95, 88],\n",
    "    ['Tim', 98, 97, 96],\n",
    "    ['Susan', 91, 93, 95],\n",
    "    ['Derick', 92, 94, 90],\n",
    "    ['Tracy', 92, 97, 80]\n",
    "]\n",
    "print(scores)\n",
    "scores.sort(key = lambda x : x[3], reverse=True)\n",
    "print('After sorted on column 3')\n",
    "print(scores)"
   ]
  },
  {
   "attachments": {},
   "cell_type": "markdown",
   "metadata": {},
   "source": [
    "### Enumerate\n",
    "Enumerate array will give you a list of tuple"
   ]
  },
  {
   "cell_type": "code",
   "execution_count": 16,
   "metadata": {},
   "outputs": [
    {
     "name": "stdout",
     "output_type": "stream",
     "text": [
      "[(0, 'apple'), (1, 'banana'), (2, 'watermelon'), (3, 'orange')]\n"
     ]
    }
   ],
   "source": [
    "arr = ['apple', 'banana', 'watermelon', 'orange']\n",
    "enumerate_arr = enumerate(arr)\n",
    "print(list(enumerate_arr))"
   ]
  }
 ],
 "metadata": {
  "kernelspec": {
   "display_name": "venv",
   "language": "python",
   "name": "python3"
  },
  "language_info": {
   "codemirror_mode": {
    "name": "ipython",
    "version": 3
   },
   "file_extension": ".py",
   "mimetype": "text/x-python",
   "name": "python",
   "nbconvert_exporter": "python",
   "pygments_lexer": "ipython3",
   "version": "3.11.8"
  },
  "orig_nbformat": 4
 },
 "nbformat": 4,
 "nbformat_minor": 2
}
