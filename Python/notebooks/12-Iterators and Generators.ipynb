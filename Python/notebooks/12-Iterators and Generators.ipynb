{
 "cells": [
  {
   "attachments": {},
   "cell_type": "markdown",
   "metadata": {},
   "source": [
    "# Iterators and Generators\n",
    "In this notebook we will learn iterators and generators.\n"
   ]
  },
  {
   "cell_type": "markdown",
   "metadata": {},
   "source": [
    "Iterators and generators are very important concept in Python. Iterators can be generated from list, tuple or class. For class we need to implement the function of \\_\\_iter__()"
   ]
  },
  {
   "cell_type": "markdown",
   "metadata": {},
   "source": [
    "#### Iterator from list"
   ]
  },
  {
   "cell_type": "code",
   "execution_count": 1,
   "metadata": {},
   "outputs": [
    {
     "name": "stdout",
     "output_type": "stream",
     "text": [
      "items =  [1, 2, 3]\n",
      "iterating:  1 2 3\n"
     ]
    }
   ],
   "source": [
    "# iterate from list\n",
    "items = [1,2,3]\n",
    "it = iter(items)\n",
    "print(\"items = \", items)\n",
    "print(\"iterating: \", next(it), next(it), next(it))"
   ]
  },
  {
   "cell_type": "markdown",
   "metadata": {},
   "source": [
    "#### Iterator from class"
   ]
  },
  {
   "cell_type": "code",
   "execution_count": 3,
   "metadata": {},
   "outputs": [
    {
     "name": "stdout",
     "output_type": "stream",
     "text": [
      "Node(1)\n",
      "Node(2)\n"
     ]
    }
   ],
   "source": [
    "class Node:\n",
    "    def __init__(self, value):\n",
    "        self._value = value\n",
    "        self._children = []\n",
    "    def __repr__(self):\n",
    "        return 'Node({value})'.format(value = self._value)\n",
    "    def add_child(self, node):\n",
    "        self._children.append(node)\n",
    "    def __iter__(self):\n",
    "        return iter(self._children)\n",
    "\n",
    "root = Node(0)\n",
    "root.add_child(Node(1))\n",
    "root.add_child(Node(2))\n",
    "for ch in root:\n",
    "    print(ch)\n",
    "\n",
    "    "
   ]
  },
  {
   "cell_type": "markdown",
   "metadata": {},
   "source": [
    "#### Iterator from function\n",
    "Sometimes we do not want to return all the elements in a list. So, we return iterable. Iterable is to return the element one by one, and the caller can process the result elements one by one instead of wasting too much memory."
   ]
  },
  {
   "cell_type": "markdown",
   "metadata": {},
   "source": [
    "In the following example we will have our own range which returns iterable."
   ]
  },
  {
   "cell_type": "code",
   "execution_count": 5,
   "metadata": {},
   "outputs": [
    {
     "name": "stdout",
     "output_type": "stream",
     "text": [
      "[0, 7, 14, 21, 28, 35, 42, 49]\n"
     ]
    }
   ],
   "source": [
    "def myRange(start = 0, end= 100, step = 1):\n",
    "    n = start\n",
    "    while (n < end):\n",
    "        yield(n)\n",
    "        n += step\n",
    "\n",
    "print(list(myRange(0, 50, 7)))"
   ]
  },
  {
   "cell_type": "markdown",
   "metadata": {},
   "source": [
    "#### Iterator from recursive function"
   ]
  },
  {
   "cell_type": "code",
   "execution_count": 24,
   "metadata": {},
   "outputs": [
    {
     "name": "stdout",
     "output_type": "stream",
     "text": [
      "children only: [Node(1), Node(2)]\n",
      "depth_first: [Node(0), Node(1), Node(2)]\n"
     ]
    }
   ],
   "source": [
    "class Node:\n",
    "    def __init__(self, value):\n",
    "        self._value = value\n",
    "        self._children = []\n",
    "    def __repr__(self):\n",
    "        return 'Node({value})'.format(value = self._value)\n",
    "    def add_child(self, node):\n",
    "        self._children.append(node)\n",
    "    def __iter__(self):\n",
    "        return iter(self._children)\n",
    "    def depth_first(self):\n",
    "        yield self\n",
    "        for c in self:\n",
    "            yield from c.depth_first()\n",
    "    \n",
    "\n",
    "root = Node(0)\n",
    "root.add_child(Node(1))\n",
    "root.add_child(Node(2))\n",
    "print(\"children only:\", list(root))\n",
    "print(\"depth_first:\", list(root.depth_first()))    "
   ]
  },
  {
   "attachments": {},
   "cell_type": "markdown",
   "metadata": {},
   "source": [
    "## Itertools\n",
    "The Itertools module helps to build a list with specification."
   ]
  },
  {
   "cell_type": "code",
   "execution_count": 29,
   "metadata": {},
   "outputs": [
    {
     "name": "stdout",
     "output_type": "stream",
     "text": [
      "chain([1,2,3],('a', 'b')): [1, 2, 3, 'a', 'b']\n",
      "accumulate(1,2,3,4,5): [1, 3, 6, 10, 15]\n",
      "accumulate(1,2,3,4,5), mul: [1, 2, 6, 24, 120]\n"
     ]
    }
   ],
   "source": [
    "# print chain().\n",
    "import itertools\n",
    "\n",
    "# chain the list, it is more efficient than a + b\n",
    "print(\"chain([1,2,3],('a', 'b')):\", list(itertools.chain([1,2,3],('a', 'b'))))\n",
    "\n",
    "# accumulate list\n",
    "print(\"accumulate(1,2,3,4,5):\", list(itertools.accumulate([1,2,3,4,5])))\n",
    "print(\"accumulate(1,2,3,4,5), mul:\", list(itertools.accumulate([1,2,3,4,5], lambda x, y : x * y)))"
   ]
  },
  {
   "cell_type": "markdown",
   "metadata": {},
   "source": [
    "#### Slice in iterators"
   ]
  },
  {
   "cell_type": "code",
   "execution_count": null,
   "metadata": {},
   "outputs": [],
   "source": [
    "arr = [0, 1,2,3,4,5,6,7,8,9,10]\n",
    "print(\"arr = \", arr)\n",
    "print(\"iter(arr):\", iter(arr))\n",
    "print(\"iter(arr).slice(2,4):\", list(x for x in itertools.islice(iter(arr), 2, 4)))"
   ]
  },
  {
   "cell_type": "markdown",
   "metadata": {},
   "source": [
    "#### Iterating permutations"
   ]
  },
  {
   "cell_type": "code",
   "execution_count": 22,
   "metadata": {},
   "outputs": [
    {
     "name": "stdout",
     "output_type": "stream",
     "text": [
      "permutations ['a', 'b', 'c'] [('a', 'b', 'c'), ('a', 'c', 'b'), ('b', 'a', 'c'), ('b', 'c', 'a'), ('c', 'a', 'b'), ('c', 'b', 'a')]\n"
     ]
    }
   ],
   "source": [
    "items = ['a', 'b', 'c']\n",
    "from itertools import permutations\n",
    "print(\"permutations {items}\".format(items = items), list(permutations(items)))"
   ]
  },
  {
   "cell_type": "markdown",
   "metadata": {},
   "source": [
    "#### Iterating over index-value pairs in a sequence"
   ]
  },
  {
   "cell_type": "code",
   "execution_count": 26,
   "metadata": {},
   "outputs": [
    {
     "name": "stdout",
     "output_type": "stream",
     "text": [
      "list(enumerate(arr)) = [(0, 'a'), (1, 'b'), (2, 'c')]\n"
     ]
    }
   ],
   "source": [
    "arr = ['a', 'b', 'c']\n",
    "print(\"list(enumerate(arr)) =\", list(enumerate(arr)))"
   ]
  },
  {
   "cell_type": "markdown",
   "metadata": {},
   "source": [
    "#### Iterating over multiple sequences"
   ]
  },
  {
   "cell_type": "code",
   "execution_count": 28,
   "metadata": {},
   "outputs": [
    {
     "name": "stdout",
     "output_type": "stream",
     "text": [
      "[(1, 101), (5, 78), (4, 37), (2, 15), (10, 62), (7, 99)]\n"
     ]
    }
   ],
   "source": [
    "xpts = [1,5,4,2,10,7]\n",
    "ypts = [101, 78, 37, 15, 62, 99]\n",
    "print(list(zip(xpts, ypts)))"
   ]
  },
  {
   "attachments": {},
   "cell_type": "markdown",
   "metadata": {},
   "source": [
    "### Unpack sequence or iterable\n",
    "We can unpack sequence or iterable to multiple variables."
   ]
  },
  {
   "cell_type": "code",
   "execution_count": 2,
   "metadata": {},
   "outputs": [
    {
     "name": "stdout",
     "output_type": "stream",
     "text": [
      "x, y =  4 5\n",
      "name, shares, price, date =  ACME 50 91.1 (2012, 12, 21)\n",
      "shares, price =  50 91.1\n",
      "name, year =  ACME 21\n",
      "first, middle, last =  1 [2, 3, 4, 5, 6, 7, 8] 9\n"
     ]
    }
   ],
   "source": [
    "# unpack a tuple\n",
    "p = (4, 5)\n",
    "x, y = p\n",
    "print(\"x, y = \", x, y)\n",
    "\n",
    "data = ['ACME', 50, 91.1, (2012, 12, 21)]\n",
    "name, shares, price, date = data\n",
    "print(\"name, shares, price, date = \", name, shares, price, date)\n",
    "_, shares, price, _ = data\n",
    "print(\"shares, price = \", shares, price)\n",
    "name, *_, (*_, year) = data\n",
    "print(\"name, year = \", name, year)\n",
    "\n",
    "data = (1,2,3,4,5,6,7,8,9)\n",
    "first, *middle, last = data\n",
    "print(\"first, middle, last = \", first, middle, last)\n",
    "\n"
   ]
  },
  {
   "cell_type": "markdown",
   "metadata": {},
   "source": [
    "#### Flatten a Nested Sequence"
   ]
  },
  {
   "cell_type": "code",
   "execution_count": 37,
   "metadata": {},
   "outputs": [
    {
     "name": "stdout",
     "output_type": "stream",
     "text": [
      "[1, 2, 3, 4, 5, 6, 7, 8]\n"
     ]
    }
   ],
   "source": [
    "from collections.abc import Iterable\n",
    "def flatten(items, ignore_types=(str, bytes)):\n",
    "    for x in items:\n",
    "        if (isinstance(x, Iterable) and  not isinstance(x, ignore_types)) :\n",
    "            yield from flatten(x)\n",
    "        else:\n",
    "            yield x\n",
    "\n",
    "items = [1, 2, [3, 4, [5,6],7],8]\n",
    "print(list(flatten(items)))"
   ]
  },
  {
   "cell_type": "markdown",
   "metadata": {},
   "source": [
    "#### Merge two sorted list"
   ]
  },
  {
   "cell_type": "code",
   "execution_count": 38,
   "metadata": {},
   "outputs": [
    {
     "name": "stdout",
     "output_type": "stream",
     "text": [
      "[1, 2, 4, 5, 6, 7, 10, 11]\n"
     ]
    }
   ],
   "source": [
    "import heapq\n",
    "a = [1,4,7,10]\n",
    "b = [2,5,6,11]\n",
    "print(list(heapq.merge(a, b)))"
   ]
  }
 ],
 "metadata": {
  "kernelspec": {
   "display_name": "venv",
   "language": "python",
   "name": "python3"
  },
  "language_info": {
   "codemirror_mode": {
    "name": "ipython",
    "version": 3
   },
   "file_extension": ".py",
   "mimetype": "text/x-python",
   "name": "python",
   "nbconvert_exporter": "python",
   "pygments_lexer": "ipython3",
   "version": "3.11.7"
  },
  "orig_nbformat": 4
 },
 "nbformat": 4,
 "nbformat_minor": 2
}
