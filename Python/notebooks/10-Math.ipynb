{
 "cells": [
  {
   "attachments": {},
   "cell_type": "markdown",
   "metadata": {},
   "source": [
    "# Math\n",
    "In this notebook we will study some math module."
   ]
  },
  {
   "attachments": {},
   "cell_type": "markdown",
   "metadata": {},
   "source": [
    "## Random\n",
    "Python provides a module to support some random numbers.\n",
    "\n",
    "| Function Name | Explanation |\n",
    "| --- | --- |\n",
    "| randint(x, y) | generate a random int in [x, y] |\n",
    "| random() | generate a random float from [0, 1) |\n",
    "| uniform(x, y) | generate a random float from [x, y) |\n",
    "| choice([]) |   return a random element in the array |\n",
    "| shuffle([]) | suffle an array |\n",
    "| sample([], int) | return a few random elements in array |\n",
    "| seed(x) | start to a specific list of random number | \n"
   ]
  },
  {
   "cell_type": "code",
   "execution_count": 15,
   "metadata": {},
   "outputs": [
    {
     "name": "stdout",
     "output_type": "stream",
     "text": [
      "random 1 - 10 [9, 1, 3, 9, 1, 9, 9, 2, 6, 8]\n",
      "fruits =  ['apple', 'banana', 'watermelon', 'peach', 'orange']\n",
      "random fruits =  ['watermelon', 'peach', 'watermelon', 'orange', 'watermelon']\n",
      "Before shuffle : ['2', '3', '4', '5', '6', '7', '8', '9', '10', 'J', 'Q', 'K', 'A']\n",
      "After shuffle : ['9', '2', '8', 'J', '7', '10', 'Q', '3', '6', 'A', 'K', '5', '4']\n",
      "lottery =  [11, 13, 33, 36, 37, 45] , special number =  12\n",
      "random float numbers =  [10.262, 15.51, 13.177, 10.571, 17.037, 14.143, 13.773, 16.338, 14.507, 19.48]\n"
     ]
    }
   ],
   "source": [
    "# Generate a list of integer\n",
    "import random\n",
    "\n",
    "# generate 10 random integer\n",
    "print(\"random 1 - 10\", list(random.randint(1, 10) for n in range(1, 11)))\n",
    "\n",
    "\n",
    "# select random elements in the array\n",
    "fruits = ['apple', 'banana', 'watermelon', 'peach', 'orange']\n",
    "print(\"fruits = \", fruits)\n",
    "print(\"random fruits = \", list(random.choice(fruits) for n in range(1, 6)))\n",
    "\n",
    "# shuffle pokers\n",
    "pokers = ['2', '3', '4', '5', '6', '7', '8', '9', '10', 'J', 'Q', 'K', 'A']\n",
    "print(\"Before shuffle :\", pokers) \n",
    "for i in range(1, 11) :\n",
    "    random.shuffle(pokers)\n",
    "print (\"After shuffle :\", pokers)\n",
    "\n",
    "# select multiple random numbers\n",
    "lottery = random.sample(range(1, 50), 7)\n",
    "special = lottery.pop()\n",
    "lottery.sort()\n",
    "print(\"lottery = \", lottery, \", special number = \", special)\n",
    "\n",
    "# generate random float numbers\n",
    "print(\"random float numbers = \", list(round(random.uniform(10, 20), 3) for n in range(1, 11)))\n"
   ]
  },
  {
   "cell_type": "markdown",
   "metadata": {},
   "source": [
    "## Decimal\n",
    "We can calculate float in accurate decimal. This is normally used in commercial scenarios."
   ]
  },
  {
   "cell_type": "code",
   "execution_count": 1,
   "metadata": {},
   "outputs": [
    {
     "name": "stdout",
     "output_type": "stream",
     "text": [
      "a =  4.2 , b =  2.1 , a+b= 6.300000000000001\n",
      "a =  4.2 , b =  2.1 , a+b= 6.3\n",
      "a/b =  2.000\n"
     ]
    }
   ],
   "source": [
    "# decimal for precise calculation\n",
    "from decimal import Decimal\n",
    "a = 4.2\n",
    "b = 2.1\n",
    "print(\"a = \", a, \", b = \", b, \", a+b=\", a+b)\n",
    "a = Decimal('4.2')\n",
    "b = Decimal('2.1')\n",
    "print(\"a = \", a, \", b = \", b, \", a+b=\", a+b)\n",
    "print(\"a/b = \", round(a/b, 3))"
   ]
  },
  {
   "cell_type": "markdown",
   "metadata": {},
   "source": [
    "#### fsum"
   ]
  },
  {
   "cell_type": "code",
   "execution_count": 2,
   "metadata": {},
   "outputs": [
    {
     "name": "stdout",
     "output_type": "stream",
     "text": [
      "nums =  [1.23e+18, 1, -1.23e+18]\n",
      "sum(nums) 0.0\n",
      "math.fsum(nums) 1.0\n"
     ]
    }
   ],
   "source": [
    "import math\n",
    "nums = [1.23E+18, 1, -1.23E18]\n",
    "print(\"nums = \", nums)\n",
    "print(\"sum(nums)\", sum(nums))\n",
    "math.fsum(nums)\n",
    "print(\"math.fsum(nums)\", math.fsum(nums))\n"
   ]
  },
  {
   "cell_type": "markdown",
   "metadata": {},
   "source": [
    "### Fractions"
   ]
  },
  {
   "cell_type": "code",
   "execution_count": 9,
   "metadata": {},
   "outputs": [
    {
     "name": "stdout",
     "output_type": "stream",
     "text": [
      "a =  5/4 ; b =  7/16 ; a + b =  27/16\n",
      "a * b =  35/64\n",
      "c.numerator =  2\n",
      "c.denominator =  3\n"
     ]
    }
   ],
   "source": [
    "from fractions import Fraction\n",
    "a = Fraction(5, 4)\n",
    "b = Fraction(7, 16)\n",
    "print(\"a = \", a, \"; b = \", b, \"; a + b = \", a + b)\n",
    "print(\"a * b = \", a * b)\n",
    "c = Fraction(4, 6)\n",
    "print(\"c.numerator = \", c.numerator)\n",
    "print(\"c.denominator = \", c.denominator)\n"
   ]
  },
  {
   "cell_type": "markdown",
   "metadata": {},
   "source": [
    "## Numpy arrays\n",
    "Numpy arrays are used to calculate array and liner algebra"
   ]
  },
  {
   "cell_type": "markdown",
   "metadata": {},
   "source": [
    "#### Matrix calculation"
   ]
  },
  {
   "cell_type": "code",
   "execution_count": 21,
   "metadata": {},
   "outputs": [
    {
     "name": "stdout",
     "output_type": "stream",
     "text": [
      "ax =  [1 2 3 4] ; ay =  [5 6 7 8]\n",
      "ax + ay =  [ 6  8 10 12]\n",
      "ax * ay =  [ 5 12 21 32]\n",
      "np.sqrt(ax) =  [1.         1.41421356 1.73205081 2.        ]\n",
      "a[1] [5 6 7 8]\n",
      "a[:,1] [ 2  6 10]\n",
      "c =  [[ 1  2  3  4]\n",
      " [ 5  6  7  8]\n",
      " [ 9 10 10 10]]\n"
     ]
    }
   ],
   "source": [
    "# calculate matrix\n",
    "import numpy as np\n",
    "ax = np.array([1,2,3,4])\n",
    "ay = np.array([5,6,7,8])\n",
    "print(\"ax = \", ax, \"; ay = \", ay)\n",
    "print(\"ax + ay = \", ax + ay)\n",
    "print(\"ax * ay = \", ax * ay)\n",
    "print(\"np.sqrt(ax) = \", np.sqrt(ax))\n",
    "\n",
    "# select rows and columns\n",
    "a = np.array([[1, 2, 3, 4], [5, 6, 7, 8], [9, 10, 11, 12]])\n",
    "# select row 1 \n",
    "print(\"a[1]\", a[1])\n",
    "# select col 1 \n",
    "print(\"a[:,1]\", a[:,1])\n",
    "c = np.where(a < 10, a, 10)\n",
    "print(\"c = \", c)\n",
    "\n"
   ]
  },
  {
   "cell_type": "markdown",
   "metadata": {},
   "source": [
    "#### Linear Algebra"
   ]
  },
  {
   "cell_type": "code",
   "execution_count": 23,
   "metadata": {},
   "outputs": [
    {
     "name": "stdout",
     "output_type": "stream",
     "text": [
      "m =  [[ 1 -2  3]\n",
      " [ 0  4  5]\n",
      " [ 7  8 -9]]\n",
      "m.T =  [[ 1  0  7]\n",
      " [-2  4  8]\n",
      " [ 3  5 -9]]\n",
      "m.T =  [[ 1  0  7]\n",
      " [-2  4  8]\n",
      " [ 3  5 -9]]\n",
      "v =  [[2]\n",
      " [3]\n",
      " [4]]\n",
      "m * v =  [[ 8]\n",
      " [32]\n",
      " [ 2]]\n"
     ]
    }
   ],
   "source": [
    "import numpy as np\n",
    "m = np.matrix([[1, -2, 3], [0, 4, 5], [7, 8, -9]])\n",
    "print(\"m = \", m)\n",
    "\n",
    "# return transpose\n",
    "print(\"m.T = \", m.T)\n",
    "\n",
    "# return inverse\n",
    "print(\"m.T = \", m.T)\n",
    "\n",
    "# vector mltiply\n",
    "v = np.matrix([[2], [3], [4]])\n",
    "print(\"v = \", v)\n",
    "print(\"m * v = \", m * v)\n"
   ]
  }
 ],
 "metadata": {
  "kernelspec": {
   "display_name": "venv",
   "language": "python",
   "name": "python3"
  },
  "language_info": {
   "codemirror_mode": {
    "name": "ipython",
    "version": 3
   },
   "file_extension": ".py",
   "mimetype": "text/x-python",
   "name": "python",
   "nbconvert_exporter": "python",
   "pygments_lexer": "ipython3",
   "version": "3.11.7"
  },
  "orig_nbformat": 4
 },
 "nbformat": 4,
 "nbformat_minor": 2
}
