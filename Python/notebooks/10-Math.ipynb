{
 "cells": [
  {
   "attachments": {},
   "cell_type": "markdown",
   "metadata": {},
   "source": [
    "# Math\n",
    "In this notebook we will study some math module."
   ]
  },
  {
   "attachments": {},
   "cell_type": "markdown",
   "metadata": {},
   "source": [
    "## Random\n",
    "Python provides a module to support some random numbers.\n",
    "\n",
    "| Function Name | Explanation |\n",
    "| --- | --- |\n",
    "| randint(x, y) | generate a random int in [x, y] |\n",
    "| random() | generate a random float from [0, 1) |\n",
    "| uniform(x, y) | generate a random float from [x, y) |\n",
    "| choice([]) |   return a random element in the array |\n",
    "| shuffle([]) | suffle an array |\n",
    "| sample([], int) | return a few random elements in array |\n",
    "| seed(x) | start to a specific list of random number | \n"
   ]
  },
  {
   "cell_type": "code",
   "execution_count": 15,
   "metadata": {},
   "outputs": [
    {
     "name": "stdout",
     "output_type": "stream",
     "text": [
      "random 1 - 10 [9, 1, 3, 9, 1, 9, 9, 2, 6, 8]\n",
      "fruits =  ['apple', 'banana', 'watermelon', 'peach', 'orange']\n",
      "random fruits =  ['watermelon', 'peach', 'watermelon', 'orange', 'watermelon']\n",
      "Before shuffle : ['2', '3', '4', '5', '6', '7', '8', '9', '10', 'J', 'Q', 'K', 'A']\n",
      "After shuffle : ['9', '2', '8', 'J', '7', '10', 'Q', '3', '6', 'A', 'K', '5', '4']\n",
      "lottery =  [11, 13, 33, 36, 37, 45] , special number =  12\n",
      "random float numbers =  [10.262, 15.51, 13.177, 10.571, 17.037, 14.143, 13.773, 16.338, 14.507, 19.48]\n"
     ]
    }
   ],
   "source": [
    "# Generate a list of integer\n",
    "import random\n",
    "\n",
    "# generate 10 random integer\n",
    "print(\"random 1 - 10\", list(random.randint(1, 10) for n in range(1, 11)))\n",
    "\n",
    "\n",
    "# select random elements in the array\n",
    "fruits = ['apple', 'banana', 'watermelon', 'peach', 'orange']\n",
    "print(\"fruits = \", fruits)\n",
    "print(\"random fruits = \", list(random.choice(fruits) for n in range(1, 6)))\n",
    "\n",
    "# shuffle pokers\n",
    "pokers = ['2', '3', '4', '5', '6', '7', '8', '9', '10', 'J', 'Q', 'K', 'A']\n",
    "print(\"Before shuffle :\", pokers) \n",
    "for i in range(1, 11) :\n",
    "    random.shuffle(pokers)\n",
    "print (\"After shuffle :\", pokers)\n",
    "\n",
    "# select multiple random numbers\n",
    "lottery = random.sample(range(1, 50), 7)\n",
    "special = lottery.pop()\n",
    "lottery.sort()\n",
    "print(\"lottery = \", lottery, \", special number = \", special)\n",
    "\n",
    "# generate random float numbers\n",
    "print(\"random float numbers = \", list(round(random.uniform(10, 20), 3) for n in range(1, 11)))\n"
   ]
  }
 ],
 "metadata": {
  "kernelspec": {
   "display_name": "venv",
   "language": "python",
   "name": "python3"
  },
  "language_info": {
   "codemirror_mode": {
    "name": "ipython",
    "version": 3
   },
   "file_extension": ".py",
   "mimetype": "text/x-python",
   "name": "python",
   "nbconvert_exporter": "python",
   "pygments_lexer": "ipython3",
   "version": "3.11.4"
  },
  "orig_nbformat": 4
 },
 "nbformat": 4,
 "nbformat_minor": 2
}
