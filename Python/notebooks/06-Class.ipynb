{
 "cells": [
  {
   "attachments": {},
   "cell_type": "markdown",
   "metadata": {},
   "source": [
    "# Class\n",
    "In this notebook we will learn Class."
   ]
  },
  {
   "attachments": {},
   "cell_type": "markdown",
   "metadata": {},
   "source": [
    "### Define a Class\n",
    "Class will have its member variables and method."
   ]
  },
  {
   "cell_type": "code",
   "execution_count": 23,
   "metadata": {},
   "outputs": [
    {
     "name": "stdout",
     "output_type": "stream",
     "text": [
      "2019 Audit A4\n",
      "This car has 100 miles on it.\n"
     ]
    }
   ],
   "source": [
    "# define a class Car. \n",
    "class Car:\n",
    "    def __init__(self, maker, model, year):\n",
    "        self.maker = maker\n",
    "        self.model = model\n",
    "        self.year = year\n",
    "        self.tank = 0\n",
    "        self.meter_reading  = 0\n",
    "    \n",
    "    def get_description(self) :\n",
    "        description = str(self.year) + \" \" + str(self.maker.title()) + \" \" + str(self.model.title())\n",
    "        return description\n",
    "\n",
    "    def get_meter_reading(self) :\n",
    "        return self.meter_reading\n",
    "    \n",
    "    def set_meter_reading(self, meters) :\n",
    "        if self.meter_reading > meters :\n",
    "            print(\"Error, you can not roll back meter\")\n",
    "        else:\n",
    "            self.meter_reading = meters\n",
    "\n",
    "\n",
    "my_car = Car('audit', 'a4', '2019')\n",
    "print(my_car.get_description())\n",
    "my_car.set_meter_reading(100)\n",
    "print(\"This car has {miles} miles on it.\".format(miles = my_car.get_meter_reading()))\n",
    "\n",
    "\n"
   ]
  },
  {
   "attachments": {},
   "cell_type": "markdown",
   "metadata": {},
   "source": [
    "#### Observation\n",
    "1. The constructor of class is defined in the function of __init__(), please notice it is double under score.\n",
    "2. Every member function should be declared with parameters starting with self, which is the current instance of the class. (like this in C++).\n",
    "3. When call a member function you should ignore the self."
   ]
  },
  {
   "attachments": {},
   "cell_type": "markdown",
   "metadata": {},
   "source": [
    "### Inheritance\n",
    "A class can inherit from another class\n"
   ]
  },
  {
   "cell_type": "code",
   "execution_count": 33,
   "metadata": {},
   "outputs": [
    {
     "name": "stdout",
     "output_type": "stream",
     "text": [
      "2021 Tesla Model_S\n",
      "ElectricCar, Battery Size = 60\n",
      "This car has 100 miles on it.\n",
      "The car can run 300 miles.\n"
     ]
    }
   ],
   "source": [
    "# define a class Car. \n",
    "class Car:\n",
    "    def __init__(self, maker, model, year):\n",
    "        self.maker = maker\n",
    "        self.model = model\n",
    "        self.year = year\n",
    "        self.tank = 0\n",
    "        self.meter_reading  = 0\n",
    "    \n",
    "    def get_description(self) :\n",
    "        description = str(self.year) + \" \" + str(self.maker.title()) + \" \" + str(self.model.title())\n",
    "        return description\n",
    "\n",
    "    def get_meter_reading(self) :\n",
    "        return self.meter_reading\n",
    "    \n",
    "    def set_meter_reading(self, meters) :\n",
    "        if self.meter_reading > meters :\n",
    "            print(\"Error, you can not roll back meter\")\n",
    "        else:\n",
    "            self.meter_reading = meters\n",
    "\n",
    "    def fill_tank(self, gas) :\n",
    "        self.tank += gas\n",
    "\n",
    "    # how many mile the car can run with current gas in tank\n",
    "    def get_range(self) :\n",
    "        return self.tank * 20\n",
    "\n",
    "# define a subclass Electric Car\n",
    "class ElectricCar(Car) :\n",
    "    def __init__(self, maker, model, year, battery_size) :\n",
    "        super().__init__(maker, model, year)\n",
    "        self.battery_size = battery_size\n",
    "    \n",
    "    def get_description(self) :\n",
    "        description = super().get_description()\n",
    "        description += \"\\n\"\n",
    "        description += \"ElectricCar, Battery Size = \" + str(self.battery_size)\n",
    "        return description\n",
    "\n",
    "    # how many mile the car can run with current gas in tank\n",
    "    def get_range(self) :\n",
    "        return self.battery_size * 5\n",
    "\n",
    "    \n",
    "my_car = ElectricCar('Tesla', 'model_s', '2021', 60)\n",
    "print(my_car.get_description())\n",
    "my_car.set_meter_reading(100)\n",
    "print(\"This car has {miles} miles on it.\".format(miles = my_car.get_meter_reading()))\n",
    "print(\"The car can run {miles} miles.\".format(miles = my_car.get_range()))\n",
    "\n"
   ]
  },
  {
   "attachments": {},
   "cell_type": "markdown",
   "metadata": {},
   "source": [
    "#### Observation\n",
    "1. A subclass object can get the parent object by calling super().\n",
    "2. The super().call() will call the function defined in the parent object.\n",
    "3. If the subclass and super calss happen to have the same method, then the subclass function will get called.\n",
    "4. Please remember Python is a weak type language, if you define many mentods with same name, it can be messy in the future."
   ]
  },
  {
   "attachments": {},
   "cell_type": "markdown",
   "metadata": {},
   "source": [
    "### Import Class Library\n",
    "We can define class in module, and package it. When we use it, we will import module and select class to the code.\n",
    "\n",
    "In the following example, we import some random class"
   ]
  },
  {
   "cell_type": "code",
   "execution_count": 43,
   "metadata": {},
   "outputs": [
    {
     "name": "stdout",
     "output_type": "stream",
     "text": [
      "7\n",
      "evil\n"
     ]
    }
   ],
   "source": [
    "# get a random integer\n",
    "from random import randint\n",
    "print(randint(1, 10))\n",
    "\n",
    "# get a random choice from an array\n",
    "from random import choice\n",
    "players = ['charles', 'martina', 'michael', 'florence', 'evil']\n",
    "print(choice(players))\n"
   ]
  }
 ],
 "metadata": {
  "kernelspec": {
   "display_name": "venv",
   "language": "python",
   "name": "python3"
  },
  "language_info": {
   "codemirror_mode": {
    "name": "ipython",
    "version": 3
   },
   "file_extension": ".py",
   "mimetype": "text/x-python",
   "name": "python",
   "nbconvert_exporter": "python",
   "pygments_lexer": "ipython3",
   "version": "3.11.4"
  },
  "orig_nbformat": 4
 },
 "nbformat": 4,
 "nbformat_minor": 2
}
