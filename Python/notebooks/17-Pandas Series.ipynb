{
 "cells": [
  {
   "attachments": {},
   "cell_type": "markdown",
   "metadata": {},
   "source": [
    "# Pandas Series\n",
    "Pandas is an open-source library in Python that is made mainly for working with relational or labeled data both easily and intuitively. It provides various data structures and operations for manipulating numerical data and time series. This library is built on top of the NumPy library of Python. Pandas is fast and it has high performance & productivity for users."
   ]
  },
  {
   "cell_type": "markdown",
   "metadata": {},
   "source": [
    "#### History of Pandas Library\n",
    "Pandas were initially developed by Wes McKinney in 2008 while he was working at AQR Capital Management. He convinced the AQR to allow him to open source the Pandas. Another AQR employee, Chang She, joined as the second major contributor to the library in 2012. Over time many versions of pandas have been released."
   ]
  },
  {
   "cell_type": "markdown",
   "metadata": {},
   "source": [
    "#### Why Use Pandas?\n",
    "- Fast and efficient for manipulating and analyzing data.\n",
    "- Data from different file objects can be easily loaded.\n",
    "- Flexible reshaping and pivoting of data sets\n",
    "- Provides time-series functionality."
   ]
  },
  {
   "cell_type": "markdown",
   "metadata": {},
   "source": [
    "#### What can you do using Pandas?\n",
    "Pandas are generally used for data science but have you wondered why? This is because pandas are used in conjunction with other libraries that are used for data science. It is built on the top of the NumPy library which means that a lot of structures of NumPy are used or replicated in Pandas. The data produced by Pandas are often used as input for plotting functions of Matplotlib, statistical analysis in SciPy, and machine learning algorithms in Scikit-learn. Here is a list of things that we can do using Pandas.\n",
    "- Data set cleaning, merging, and joining.\n",
    "- Easy handling of missing data (represented as NaN) in floating point as well as non-floating point data.\n",
    "- Columns can be inserted and deleted from DataFrame and higher dimensional objects.\n",
    "- Powerful group by functionality for performing split-apply-combine operations on data sets.\n",
    "- Data Visulaization"
   ]
  },
  {
   "cell_type": "markdown",
   "metadata": {},
   "source": [
    "## Getting Started\n",
    "\n",
    "#### Install and Import Pandas"
   ]
  },
  {
   "cell_type": "code",
   "execution_count": 1,
   "metadata": {},
   "outputs": [
    {
     "name": "stdout",
     "output_type": "stream",
     "text": [
      "Requirement already satisfied: pandas in c:\\leetcode\\python\\.venv\\lib\\site-packages (2.0.3)\n",
      "Requirement already satisfied: python-dateutil>=2.8.2 in c:\\leetcode\\python\\.venv\\lib\\site-packages (from pandas) (2.8.2)\n",
      "Requirement already satisfied: pytz>=2020.1 in c:\\leetcode\\python\\.venv\\lib\\site-packages (from pandas) (2023.3)\n",
      "Requirement already satisfied: tzdata>=2022.1 in c:\\leetcode\\python\\.venv\\lib\\site-packages (from pandas) (2023.3)\n",
      "Requirement already satisfied: numpy>=1.21.0 in c:\\leetcode\\python\\.venv\\lib\\site-packages (from pandas) (1.25.0)\n",
      "Requirement already satisfied: six>=1.5 in c:\\leetcode\\python\\.venv\\lib\\site-packages (from python-dateutil>=2.8.2->pandas) (1.16.0)\n",
      "Note: you may need to restart the kernel to use updated packages.\n"
     ]
    },
    {
     "name": "stderr",
     "output_type": "stream",
     "text": [
      "\n",
      "[notice] A new release of pip is available: 23.1.2 -> 23.2.1\n",
      "[notice] To update, run: python.exe -m pip install --upgrade pip\n"
     ]
    }
   ],
   "source": [
    "# Install Pandas\n",
    "%pip install pandas\n",
    "\n",
    "# Import pandas\n",
    "import pandas as pd"
   ]
  },
  {
   "cell_type": "markdown",
   "metadata": {},
   "source": [
    "### Series\n",
    "Pandas Series is a one-dimensional labeled array capable of holding data of any type (integer, string, float, python objects, etc.). The axis labels are collectively called indexes.\n",
    "Pandas Series is nothing but a column in an Excel sheet. Labels need not be unique but must be a hashable type. The object supports both integer and label-based indexing and provides a host of methods for performing operations involving the index.\n",
    "\n",
    "![Alt text](image-1.png)"
   ]
  },
  {
   "cell_type": "markdown",
   "metadata": {},
   "source": [
    "#### Creating a Series\n",
    "In the real world, a Pandas Series will be created by loading the datasets from existing storage, storage can be SQL Database, CSV file, or an Excel file. Pandas Series can be created from lists, dictionaries, and from scalar values, etc."
   ]
  },
  {
   "cell_type": "code",
   "execution_count": 9,
   "metadata": {},
   "outputs": [
    {
     "name": "stdout",
     "output_type": "stream",
     "text": [
      "0    1\n",
      "1    2\n",
      "2    3\n",
      "3    4\n",
      "dtype: int64\n"
     ]
    }
   ],
   "source": [
    "# import pandas as pd\n",
    "import pandas as pd\n",
    " \n",
    "# simple array\n",
    "data = [1, 2, 3, 4]\n",
    " \n",
    "ser = pd.Series(data)\n",
    "print(ser)"
   ]
  },
  {
   "cell_type": "code",
   "execution_count": 6,
   "metadata": {},
   "outputs": [
    {
     "name": "stdout",
     "output_type": "stream",
     "text": [
      "Pandas Series:  Series([], dtype: object)\n",
      "Pandas Series:\n",
      "0    g\n",
      "1    e\n",
      "2    e\n",
      "3    k\n",
      "4    s\n",
      "dtype: object\n"
     ]
    }
   ],
   "source": [
    "import pandas as pd \n",
    "import numpy as np\n",
    "  \n",
    "# Creating empty series \n",
    "ser = pd.Series() \n",
    "print(\"Pandas Series: \", ser) \n",
    "  \n",
    "# simple array \n",
    "data = np.array(['g', 'e', 'e', 'k', 's']) \n",
    "    \n",
    "ser = pd.Series(data) \n",
    "print(\"Pandas Series:\")\n",
    "print(ser)"
   ]
  },
  {
   "cell_type": "code",
   "execution_count": 10,
   "metadata": {},
   "outputs": [
    {
     "name": "stdout",
     "output_type": "stream",
     "text": [
      "0    g\n",
      "1    e\n",
      "2    e\n",
      "3    k\n",
      "4    s\n",
      "dtype: object\n"
     ]
    }
   ],
   "source": [
    "import pandas as pd\n",
    " \n",
    "# a simple list\n",
    "list = ['g', 'e', 'e', 'k', 's']\n",
    "  \n",
    "# create series form a list\n",
    "ser = pd.Series(list)\n",
    "print(ser)"
   ]
  },
  {
   "cell_type": "markdown",
   "metadata": {},
   "source": [
    "### Accessing element of Series\n",
    "There are two ways through which we can access element of series, they are :\n",
    "- Accessing Element from Series with Position\n",
    "- Accessing Element Using Label (index)"
   ]
  },
  {
   "cell_type": "markdown",
   "metadata": {},
   "source": [
    "#### Accessing Element from Series with Position \n",
    "In order to access the series element refers to the index number. Use the index operator [ ] to access an element in a series. The index must be an integer. In order to access multiple elements from a series, we use Slice operation."
   ]
  },
  {
   "cell_type": "code",
   "execution_count": 11,
   "metadata": {},
   "outputs": [
    {
     "name": "stdout",
     "output_type": "stream",
     "text": [
      "0    g\n",
      "1    e\n",
      "2    e\n",
      "3    k\n",
      "4    s\n",
      "dtype: object\n"
     ]
    }
   ],
   "source": [
    "# import pandas and numpy \n",
    "import pandas as pd\n",
    "import numpy as np\n",
    " \n",
    "# creating simple array\n",
    "data = np.array(['g','e','e','k','s','f', 'o','r','g','e','e','k','s'])\n",
    "ser = pd.Series(data)\n",
    "  \n",
    "  \n",
    "#retrieve the first element\n",
    "print(ser[:5])"
   ]
  },
  {
   "cell_type": "markdown",
   "metadata": {},
   "source": [
    "#### Accessing Element Using Label (index)\n",
    "In order to access an element from series, we have to set values by index label. A Series is like a fixed-size dictionary in that you can get and set values by index label.\n",
    "\n",
    "Accessing a single element using index label"
   ]
  },
  {
   "cell_type": "code",
   "execution_count": 18,
   "metadata": {},
   "outputs": [
    {
     "name": "stdout",
     "output_type": "stream",
     "text": [
      "Single Element:\n",
      "o\n",
      "\n",
      "\n",
      "A slice of Series:\n",
      "13    k\n",
      "14    s\n",
      "15    f\n",
      "dtype: object\n",
      "Another way of slice of Series:\n",
      "13    k\n",
      "14    s\n",
      "15    f\n",
      "dtype: object\n"
     ]
    }
   ],
   "source": [
    "# import pandas and numpy \n",
    "import pandas as pd\n",
    "import numpy as np\n",
    " \n",
    "# creating simple array\n",
    "data = np.array(['g','e','e','k','s','f', 'o','r','g','e','e','k','s'])\n",
    "ser = pd.Series(data,index=[10,11,12,13,14,15,16,17,18,19,20,21,22])\n",
    "  \n",
    "  \n",
    "# accessing a element using index element\n",
    "print(\"Single Element:\")\n",
    "print(ser[16])\n",
    "print(\"\\n\")\n",
    "print(\"A slice of Series:\")\n",
    "print(ser[3:6])\n",
    "\n",
    "print(\"Another way of slice of Series:\")\n",
    "print(ser.iloc[3:6])"
   ]
  },
  {
   "cell_type": "markdown",
   "metadata": {},
   "source": [
    "#### Assign a new index to series"
   ]
  },
  {
   "cell_type": "code",
   "execution_count": 8,
   "metadata": {},
   "outputs": [
    {
     "name": "stdout",
     "output_type": "stream",
     "text": [
      "series =  0    4\n",
      "1    7\n",
      "2   -5\n",
      "3    3\n",
      "dtype: int64\n",
      "series.index =  [0, 1, 2, 3]\n",
      "series.values =  [ 4  7 -5  3]\n",
      "series with new indexes =  a    4\n",
      "b    7\n",
      "c   -5\n",
      "d    3\n",
      "dtype: int64\n",
      "series[[a , c]] =  a    4\n",
      "c   -5\n",
      "dtype: int64\n"
     ]
    }
   ],
   "source": [
    "# Load array from list\n",
    "from pandas import Series, DataFrame\n",
    "import pandas as pd\n",
    "series = Series([4, 7, -5, 3])\n",
    "print(\"series = \", series)\n",
    "print(\"series.index = \", list(series.index))\n",
    "print(\"series.values = \", series.values)\n",
    "\n",
    "series = Series([4, 7, -5, 3], index= ['a', 'b', 'c', 'd'])\n",
    "print(\"series with new indexes = \", series)\n",
    "print(\"series[[a , c]] = \", series[['a' , 'c']])"
   ]
  },
  {
   "cell_type": "markdown",
   "metadata": {},
   "source": [
    "#### Convert dictionary to series"
   ]
  },
  {
   "cell_type": "code",
   "execution_count": 14,
   "metadata": {},
   "outputs": [
    {
     "name": "stdout",
     "output_type": "stream",
     "text": [
      "series =  Ohio      35000\n",
      "Texas     71000\n",
      "Oregon    16000\n",
      "Utah       5000\n",
      "dtype: int64\n",
      "slices =  California        NaN\n",
      "Ohio          35000.0\n",
      "Oregon        16000.0\n",
      "Texas         71000.0\n",
      "dtype: float64\n",
      "pd.isnull(slices): California     True\n",
      "Ohio          False\n",
      "Oregon        False\n",
      "Texas         False\n",
      "dtype: bool\n",
      "pd.notnull(slices): California    False\n",
      "Ohio           True\n",
      "Oregon         True\n",
      "Texas          True\n",
      "dtype: bool\n",
      "series + slices =  California         NaN\n",
      "Ohio           70000.0\n",
      "Oregon         32000.0\n",
      "Texas         142000.0\n",
      "Utah               NaN\n",
      "dtype: float64\n"
     ]
    }
   ],
   "source": [
    "from pandas import Series, DataFrame\n",
    "import pandas as pd\n",
    "data = {'Ohio':35000, 'Texas': 71000, 'Oregon': 16000, 'Utah' : 5000}\n",
    "series = Series(data)\n",
    "print(\"series = \", series)\n",
    "states = ['California', 'Ohio', 'Oregon', 'Texas']\n",
    "slices = Series(data, index = states)\n",
    "print(\"slices = \", slices)\n",
    "print(\"pd.isnull(slices):\", pd.isnull(slices))\n",
    "print(\"pd.notnull(slices):\", pd.notnull(slices))\n",
    "print(\"series + slices = \", series + slices)\n"
   ]
  },
  {
   "cell_type": "code",
   "execution_count": 2,
   "metadata": {},
   "outputs": [
    {
     "name": "stdout",
     "output_type": "stream",
     "text": [
      "series =  state\n",
      "Ohio      35000\n",
      "Texas     71000\n",
      "Oregon    16000\n",
      "Utah       5000\n",
      "Name: population, dtype: int64\n"
     ]
    }
   ],
   "source": [
    "from pandas import Series, DataFrame\n",
    "import pandas as pd\n",
    "data = {'Ohio':35000, 'Texas': 71000, 'Oregon': 16000, 'Utah' : 5000}\n",
    "series = Series(data)\n",
    "series.name = 'population'\n",
    "series.index.name = 'state'\n",
    "print(\"series = \", series)"
   ]
  },
  {
   "cell_type": "markdown",
   "metadata": {},
   "source": [
    "#### Operation on Series\n",
    "Binary operation methods on series:\n",
    "\n",
    "| FUNCTION | DESCRIPTION |\n",
    "| -- | -- |\n",
    "| add() | Method is used to add series or list like objects with same length to the caller series |\n",
    "| sub() | Method is used to subtract series or list like objects with same length from the caller series |\n",
    "| mul()\t| Method is used to multiply series or list like objects with same length with the caller series |\n",
    "| div()\t| Method is used to divide series or list like objects with same length by the caller series |\n",
    "| sum()\t| Returns the sum of the values for the requested axis |\n",
    "| prod() | Returns the product of the values for the requested axis |\n",
    "| mean() | Returns the mean of the values for the requested axis |\n",
    "| pow()\t| Method is used to put each element of passed series as exponential power of caller series and returned the results |\n",
    "| abs()\t| Method is used to get the absolute numeric value of each element in Series/DataFrame |\n",
    "| cov()\t| Method is used to find covariance of two series |\n",
    " \n",
    "#### Pandas series method:\n",
    "| FUNCTION | DESCRIPTION |\n",
    "| -- | -- |\n",
    "| Series() | A pandas Series can be created with the Series() constructor method. This constructor method accepts a variety of inputs |\n",
    "| combine_first() |\tMethod is used to combine two series into one |\n",
    "| count() | Returns number of non-NA/null observations in the Series |\n",
    "| size() | Returns the number of elements in the underlying data |\n",
    "| name() | Method allows to give a name to a Series object, i.e. to the column |\n",
    "| is_unique() | Method returns boolean if values in the object are unique |\n",
    "| idxmax() | Method to extract the index positions of the highest values in a Series |\n",
    "| idxmin() | Method to extract the index positions of the lowest values in a Series |\n",
    "| sort_values() | Method is called on a Series to sort the values in ascending or descending order |\n",
    "| sort_index() | Method is called on a pandas Series to sort it by the index instead of its values |\n",
    "| head() | Method is used to return a specified number of rows from the beginning of a Series. The method returns a brand new Series |\n",
    "| tail() | Method is used to return a specified number of rows from the end of a Series. The method returns a brand new Series |\n",
    "| le() | Used to compare every element of Caller series with passed series.It returns True for every element which is Less than or Equal to the element in passed series |\n",
    "| ne() | Used to compare every element of Caller series with passed series. It returns True for every element which is Not Equal to the element in passed series |\n",
    "| ge() | Used to compare every element of Caller series with passed series. It returns True for every element which is Greater than or Equal to the element in passed series |\n",
    "| eq() | Used to compare every element of Caller series with passed series. It returns True for every element which is Equal to the element in passed series |\n",
    "| gt() | Used to compare two series and return Boolean value for every respective element |\n",
    "| lt() | Used to compare two series and return Boolean value for every respective element |\n",
    "| clip() | Used to clip value below and above to passed Least and Max value |\n",
    "| clip_lower() | Used to clip values below a passed least value |\n",
    "| clip_upper() | Used to clip values above a passed maximum value |\n",
    "| astype() | Method is used to change data type of a series |\n",
    "| tolist() | Method is used to convert a series to list |\n",
    "| get() | Method is called on a Series to extract values from a Series. This is alternative syntax to the traditional bracket syntax |\n",
    "| unique() | Pandas unique() is used to see the unique values in a particular column |\n",
    "| nunique() | Pandas nunique() is used to get a count of unique values |\n",
    "| value_counts() | Method to count the number of the times each unique value occurs in a Series |\n",
    "| factorize() | Method helps to get the numeric representation of an array by identifying distinct values |\n",
    "| map() | Method to tie together the values from one object to another |\n",
    "| between() | Pandas between() method is used on series to check which values lie between first and second argument |\n",
    "| apply() | Method is called and feeded a Python function as an argument to use the function on every Series value. This method is helpful for executing custom operations that are not included in pandas or numpy |\n"
   ]
  },
  {
   "cell_type": "code",
   "execution_count": 25,
   "metadata": {},
   "outputs": [
    {
     "name": "stdout",
     "output_type": "stream",
     "text": [
      "a    5\n",
      "b    2\n",
      "c    3\n",
      "d    7\n",
      "dtype: int64\n",
      "a    1\n",
      "b    6\n",
      "d    4\n",
      "e    9\n",
      "dtype: int64\n",
      "a     6.0\n",
      "b     8.0\n",
      "c     3.0\n",
      "d    11.0\n",
      "e     9.0\n",
      "dtype: float64\n",
      "a    4.0\n",
      "b   -4.0\n",
      "c    3.0\n",
      "d    3.0\n",
      "e   -9.0\n",
      "dtype: float64\n"
     ]
    }
   ],
   "source": [
    "# importing pandas module  \n",
    "import pandas as pd  \n",
    " \n",
    "# creating a series\n",
    "data1 = pd.Series([5, 2, 3,7], index=['a', 'b', 'c', 'd'])\n",
    " \n",
    "# creating a series\n",
    "data2 = pd.Series([1, 6, 4, 9], index=['a', 'b', 'd', 'e'])\n",
    " \n",
    "print(data1)\n",
    "print(data2)\n",
    "\n",
    "# data1 + data2\n",
    "data = data1.add(data2, fill_value=0)\n",
    "print(data)\n",
    "\n",
    "# data1 - data2\n",
    "data = data1.sub(data2, fill_value=0)\n",
    "print(data)\n"
   ]
  },
  {
   "cell_type": "markdown",
   "metadata": {},
   "source": [
    "#### Reindexing"
   ]
  },
  {
   "cell_type": "code",
   "execution_count": null,
   "metadata": {},
   "outputs": [
    {
     "name": "stdout",
     "output_type": "stream",
     "text": [
      "Before reindex\n",
      "series.index =  ['d', 'b', 'a', 'c']\n",
      "series.values =  [ 4.5  7.2 -5.3  3.6]\n",
      "After reindex\n",
      "series.index =  ['a', 'b', 'c', 'd', 'e']\n",
      "series.values =  [-5.3  7.2  3.6  4.5  nan]\n",
      "series.drop('c')\n",
      "series.index =  ['a', 'b', 'c', 'd']\n",
      "series.values =  [-5.3  7.2  3.6  4.5]\n"
     ]
    }
   ],
   "source": [
    "# reindex series\n",
    "from pandas import Series, DataFrame\n",
    "import pandas as pd\n",
    "series = Series([4.5, 7.2, -5.3, 3.6], index=['d','b', 'a', 'c'])\n",
    "print(\"Before reindex\")\n",
    "print(\"series.index = \", list(series.index))\n",
    "print(\"series.values = \", series.values)\n",
    "series = series.reindex(['a', 'b', 'c', 'd', 'e'])\n",
    "print(\"After reindex\")\n",
    "print(\"series.index = \", list(series.index))\n",
    "print(\"series.values = \", series.values)\n",
    "print(\"series.drop('c')\")\n",
    "series = series.drop('e')\n",
    "print(\"series.index = \", list(series.index))\n",
    "print(\"series.values = \", series.values)"
   ]
  }
 ],
 "metadata": {
  "kernelspec": {
   "display_name": "venv",
   "language": "python",
   "name": "python3"
  },
  "language_info": {
   "codemirror_mode": {
    "name": "ipython",
    "version": 3
   },
   "file_extension": ".py",
   "mimetype": "text/x-python",
   "name": "python",
   "nbconvert_exporter": "python",
   "pygments_lexer": "ipython3",
   "version": "3.11.5"
  },
  "orig_nbformat": 4
 },
 "nbformat": 4,
 "nbformat_minor": 2
}
