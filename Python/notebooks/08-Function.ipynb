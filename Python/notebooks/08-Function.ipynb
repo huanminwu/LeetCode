{
 "cells": [
  {
   "attachments": {},
   "cell_type": "markdown",
   "metadata": {},
   "source": [
    "# Function\n",
    "In this notebook we will learn function."
   ]
  },
  {
   "attachments": {},
   "cell_type": "markdown",
   "metadata": {},
   "source": [
    "### Define function"
   ]
  },
  {
   "cell_type": "code",
   "execution_count": 1,
   "metadata": {},
   "outputs": [
    {
     "name": "stdout",
     "output_type": "stream",
     "text": [
      "Hello!\n"
     ]
    }
   ],
   "source": [
    "# define a function without parameter. \n",
    "def greet_user():\n",
    "    print(\"Hello!\")\n",
    "\n",
    "greet_user()"
   ]
  },
  {
   "cell_type": "code",
   "execution_count": 2,
   "metadata": {},
   "outputs": [
    {
     "name": "stdout",
     "output_type": "stream",
     "text": [
      "Hello, Jesse\n"
     ]
    }
   ],
   "source": [
    "# define a function with parameter. \n",
    "def greet_user(username):\n",
    "    print(\"Hello, \",  username.title())\n",
    "\n",
    "greet_user('jesse')"
   ]
  },
  {
   "attachments": {},
   "cell_type": "markdown",
   "metadata": {},
   "source": [
    "### Pass parameters\n",
    "We can pass parameters by order or by name"
   ]
  },
  {
   "cell_type": "code",
   "execution_count": 6,
   "metadata": {},
   "outputs": [
    {
     "name": "stdout",
     "output_type": "stream",
     "text": [
      "I have a Hamster\n",
      "My Hamster's name is Harry\n",
      "I have a Dog\n",
      "My Dog's name is Willie\n",
      "I have a Pig\n",
      "My Pig's name is Allen\n"
     ]
    }
   ],
   "source": [
    "# define a function with two parameters\n",
    "def describe_pet(animal_type, pet_name) :\n",
    "    print(\"I have a {animal_type}\".format(animal_type = animal_type.title()))\n",
    "    print(\"My {animal_type}'s name is {pet_name}\".format(animal_type = animal_type.title(), pet_name = pet_name.title()))\n",
    "\n",
    "describe_pet('hamster', 'harry')\n",
    "describe_pet('dog', 'willie')\n",
    "describe_pet(pet_name = 'allen', animal_type = 'pig')"
   ]
  },
  {
   "attachments": {},
   "cell_type": "markdown",
   "metadata": {},
   "source": [
    "#### Observation\n",
    "1. We can pass the parameters based on the position in the definition.\n",
    "2. We can pass the parameters with specified parameter name regardless the position."
   ]
  },
  {
   "attachments": {},
   "cell_type": "markdown",
   "metadata": {},
   "source": [
    "### Function with optional parameter\n",
    "1. We can pass the optional parameters as last ones in the function definition.\n",
    "2. We should not pass multable type as optional parameter, because we will end up with undesired behavior."
   ]
  },
  {
   "cell_type": "code",
   "execution_count": 36,
   "metadata": {},
   "outputs": [
    {
     "name": "stdout",
     "output_type": "stream",
     "text": [
      "I have a Hamster\n",
      "My Hamster's name is Harry\n",
      "I have a Pig\n",
      "My Pig's name is Allen\n",
      "spam(1,2) =  2\n",
      "spam(1) =  []\n",
      "spam(1)= ['Yahoo']\n",
      "False\n"
     ]
    }
   ],
   "source": [
    "# define a function with optional parameters\n",
    "def describe_pet(pet_name, animal_type = 'pig') :\n",
    "    print(\"I have a {animal_type}\".format(animal_type = animal_type.title()))\n",
    "    print(\"My {animal_type}'s name is {pet_name}\".format(animal_type = animal_type.title(), pet_name = pet_name.title()))\n",
    "\n",
    "describe_pet('harry', 'hamster')\n",
    "describe_pet('allen')\n",
    "\n",
    "\n",
    "# Let's look at passing a list as optional parameter\n",
    "def spam(a, b=[]):\n",
    "    return (b)\n",
    "\n",
    "print(\"spam(1,2) = \", spam(1,2))\n",
    "print(\"spam(1) = \", spam(1))\n",
    "x = spam(1)\n",
    "x.append('Yahoo')\n",
    "print(\"spam(1)=\", spam(1))"
   ]
  },
  {
   "attachments": {},
   "cell_type": "markdown",
   "metadata": {},
   "source": [
    "### Function with return value"
   ]
  },
  {
   "cell_type": "code",
   "execution_count": null,
   "metadata": {},
   "outputs": [
    {
     "name": "stdout",
     "output_type": "stream",
     "text": [
      "{'animal_type': 'hamster', 'pet_name': 'harry'}\n"
     ]
    }
   ],
   "source": [
    "# define a function with a dictionary as return value\n",
    "def describe_pet(pet_name, animal_type = 'pig') :\n",
    "    \"\"\" retuen a dictionary with animal type and animal name\"\"\"\n",
    "    pet = {'animal_type' : animal_type, 'pet_name' : pet_name}\n",
    "    return pet\n",
    "\n",
    "pet = describe_pet('harry', 'hamster')\n",
    "print(pet)"
   ]
  },
  {
   "cell_type": "markdown",
   "metadata": {},
   "source": [
    "#### return multiple values\n",
    "In fact this means return a tuple"
   ]
  },
  {
   "cell_type": "code",
   "execution_count": 1,
   "metadata": {},
   "outputs": [
    {
     "name": "stdout",
     "output_type": "stream",
     "text": [
      "multifunction(10, 5) =  (15, 5, 50, 2.0)\n"
     ]
    }
   ],
   "source": [
    "# return multiple result as tuple\n",
    "def multifunction(x1, x2):\n",
    "    addresult = x1 + x2\n",
    "    subresult = x1 - x2\n",
    "    mulresult = x1 * x2\n",
    "    divresult = x1 / x2\n",
    "    return (addresult, subresult, mulresult, divresult)\n",
    "\n",
    "x1 = 10\n",
    "x2 = 5\n",
    "print( \"multifunction({x1}, {x2}) = \".format(x1=x1, x2=x2),  multifunction(x1, x2))   "
   ]
  },
  {
   "cell_type": "markdown",
   "metadata": {},
   "source": [
    "#### Specify parameter and return type\n",
    "In general python does not validate parameter type and return type, but if you do so, will make your code clean."
   ]
  },
  {
   "cell_type": "code",
   "execution_count": 25,
   "metadata": {},
   "outputs": [
    {
     "name": "stdout",
     "output_type": "stream",
     "text": [
      "add(2,3) = 5\n"
     ]
    }
   ],
   "source": [
    "def add (x:int, y:int) -> int:\n",
    "    return x + y\n",
    "\n",
    "print('add(2,3) =', add(2,3))"
   ]
  },
  {
   "attachments": {},
   "cell_type": "markdown",
   "metadata": {},
   "source": [
    "### Function with variable parameters\n",
    "1. We use *paramter to pass multiple parameters as tuple\n",
    "2. We use **parameter to pass multiple parameters as dictionary."
   ]
  },
  {
   "cell_type": "code",
   "execution_count": 26,
   "metadata": {},
   "outputs": [
    {
     "name": "stdout",
     "output_type": "stream",
     "text": [
      "Making a pizza with the following toppings: \n",
      " - pepperoni\n",
      "Making a pizza with the following toppings: \n",
      " - mushrooms\n",
      " - green peppers\n",
      " - extra cheese\n",
      "avg(1,2,3,4) =  2.5\n",
      "min(1,2,3,4,5,-9) = -9\n",
      "min(1,2,3,4,5,-9, clip=0) = 1\n"
     ]
    }
   ],
   "source": [
    "# Pass variable parameters as tuple\n",
    "def make_pizza(*toppings) :\n",
    "    print(\"Making a pizza with the following toppings: \")\n",
    "    for topping in toppings :\n",
    "        print(\" - \" + topping)\n",
    "\n",
    "make_pizza('pepperoni')\n",
    "make_pizza('mushrooms', 'green peppers', 'extra cheese')\n",
    "\n",
    "# Pass variable parameters for average\n",
    "def avg(*nums):\n",
    "    return (sum(nums) / (len(nums)))\n",
    "\n",
    "print (\"avg(1,2,3,4) = \", avg(1,2,3,4))  \n",
    "\n",
    "# Define minimum value\n",
    "def minimum(*values, clip=None) :\n",
    "    m = min(x for x in values if (clip == None or x >= clip))\n",
    "    return m\n",
    "\n",
    "print(\"min(1,2,3,4,5,-9) =\", minimum(1,2,3,4,5, -9))\n",
    "print(\"min(1,2,3,4,5,-9, clip=0) =\", minimum(1,2,3,4,5,-9, clip=0))"
   ]
  },
  {
   "cell_type": "code",
   "execution_count": 9,
   "metadata": {},
   "outputs": [
    {
     "name": "stdout",
     "output_type": "stream",
     "text": [
      "{'location': 'princeton', 'field': 'physics', 'first_name': 'albert', 'last_name': 'einstein'}\n"
     ]
    },
    {
     "data": {
      "text/plain": [
       "\"<item['size = large quantity = 6']>Albatross</item>\""
      ]
     },
     "execution_count": 9,
     "metadata": {},
     "output_type": "execute_result"
    }
   ],
   "source": [
    "# Pass user_info as dictionary\n",
    "def build_profile(first, last, **user_info) :\n",
    "    user_info['first_name'] = first\n",
    "    user_info['last_name'] = last\n",
    "    return user_info\n",
    "\n",
    "user_profile = build_profile('albert', 'einstein', location='princeton', field='physics')\n",
    "print(user_profile)\n",
    "\n",
    "\n",
    "# parse html settings\n",
    "import html\n",
    "def make_element(name, value, **attrs) :\n",
    "    key_vals = [\"{key} = {value}\".format(key=key, value = value) for (key, value) in attrs.items()]\n",
    "    attr_str = [' '.join(key_vals)]\n",
    "    element = '<{name}{attrs}>{value}</{name}>'.format(name=name, attrs=attr_str, value=html.escape(value))\n",
    "    return element \n",
    "\n",
    "make_element('item', 'Albatross', size='large', quantity = 6)"
   ]
  },
  {
   "attachments": {},
   "cell_type": "markdown",
   "metadata": {},
   "source": [
    "#### Pass parameter as reference or copy\n",
    "By default, if the parameter is a list or dictionary, it is passed by reference. If we change it in the function, the original data will get updated. If we want to avoid it we need to copy the instance."
   ]
  },
  {
   "cell_type": "code",
   "execution_count": 8,
   "metadata": {},
   "outputs": [
    {
     "name": "stdout",
     "output_type": "stream",
     "text": [
      "a =  [1, 2, 3, 4]\n",
      "pass by reference and pop last element: \n",
      "a =  [1, 2, 3]\n",
      "ret =  [1, 2, 3]\n",
      "pass by copy pop last element: \n",
      "a =  [1, 2, 3, 4]\n",
      "ret =  [1, 2, 3]\n"
     ]
    }
   ],
   "source": [
    "# create an array\n",
    "def pop_up(arr):\n",
    "    if arr:\n",
    "        arr.pop()\n",
    "    return arr\n",
    "    \n",
    "# pass by reference\n",
    "a = [1, 2, 3, 4]\n",
    "print(\"a = \", a)\n",
    "ret = pop_up(a)\n",
    "print(\"pass by reference and pop last element: \")\n",
    "print(\"a = \", a)\n",
    "print(\"ret = \", ret)\n",
    "\n",
    "\n",
    "\n",
    "a = [1, 2, 3, 4]\n",
    "ConnectionResetError = pop_up(a.copy())\n",
    "print(\"pass by copy pop last element: \")\n",
    "print(\"a = \", a)\n",
    "print(\"ret = \", ret)\n"
   ]
  },
  {
   "attachments": {},
   "cell_type": "markdown",
   "metadata": {},
   "source": [
    "#### Pass functions as values\n",
    "You can pass functions as values in a list."
   ]
  },
  {
   "cell_type": "code",
   "execution_count": 10,
   "metadata": {},
   "outputs": [
    {
     "name": "stdout",
     "output_type": "stream",
     "text": [
      "[1, 10, 16]\n"
     ]
    }
   ],
   "source": [
    "x = [1, 5, 10]\n",
    "func = [min, max, sum]\n",
    "print(list(f(x) for f in func))"
   ]
  },
  {
   "attachments": {},
   "cell_type": "markdown",
   "metadata": {},
   "source": [
    "### Recursive Function\n",
    "A function can call itself, which is a recursive function"
   ]
  },
  {
   "cell_type": "code",
   "execution_count": 15,
   "metadata": {},
   "outputs": [
    {
     "name": "stdout",
     "output_type": "stream",
     "text": [
      "fibonacci(10) =  55\n"
     ]
    }
   ],
   "source": [
    "# The definition of Fibonacci function is\n",
    "# f(0) = 0, f(1) = 1, f(n) = f(n-1) + f(n-2) where n > 1\n",
    "\n",
    "def fibonacci(n) :\n",
    "    if (n == 0):\n",
    "        return 0\n",
    "    elif (n == 1):\n",
    "        return 1\n",
    "    else:\n",
    "        return fibonacci(n-1) + fibonacci(n-2)\n",
    "\n",
    "print(\"fibonacci(10) = \", fibonacci(10))\n"
   ]
  },
  {
   "attachments": {},
   "cell_type": "markdown",
   "metadata": {},
   "source": [
    "### Local and Global\n",
    "In function we can have local variable which is only visible in the function, and we can have global variables visible to all the functions. We also have nonlocal varibles which refer to upper level varilable \n",
    "In a function, we can define any of above variables.\n",
    "\n",
    "However using global variables is a very bad programming habbit, because you may get confused."
   ]
  },
  {
   "cell_type": "code",
   "execution_count": 19,
   "metadata": {},
   "outputs": [
    {
     "name": "stdout",
     "output_type": "stream",
     "text": [
      "local_func(): var_global =  111\n",
      "local_func(): var_nonlocal =  222\n",
      "var_global =  111\n",
      "var_nonlocal =  1\n"
     ]
    }
   ],
   "source": [
    "def local_func():\n",
    "    var_nonlocal = 22\n",
    "    def local_inner() :\n",
    "        global var_global\n",
    "        nonlocal var_nonlocal\n",
    "        var_global = 111\n",
    "        var_nonlocal = 222\n",
    "    local_inner()\n",
    "    print(\"local_func(): var_global = \", var_global)\n",
    "    print(\"local_func(): var_nonlocal = \", var_nonlocal)\n",
    "\n",
    "var_global = 1\n",
    "var_nonlocal = 1\n",
    "local_func()\n",
    "print(\"var_global = \", var_global)\n",
    "print(\"var_nonlocal = \", var_nonlocal)\n",
    "\n",
    "\n"
   ]
  },
  {
   "attachments": {},
   "cell_type": "markdown",
   "metadata": {},
   "source": [
    "### Lambda\n",
    "The lambda function is anonymous function which can be written in the format of below:\n",
    "lambda arg1 [,arg2, argn] : expression\n",
    "\n",
    "Sometimes it is a light weight function without definition"
   ]
  },
  {
   "cell_type": "code",
   "execution_count": 38,
   "metadata": {},
   "outputs": [
    {
     "name": "stdout",
     "output_type": "stream",
     "text": [
      "square(10) =  100\n",
      "add(2, 3) =  5\n",
      "names =  ['David Beazley', 'Brian Jones', 'Raymond Hettinger', 'Ned Batchelder']\n",
      "sort by last name: ['Ned Batchelder', 'David Beazley', 'Raymond Hettinger', 'Brian Jones']\n"
     ]
    }
   ],
   "source": [
    "square = lambda x : x **2\n",
    "add = lambda x, y : x + y\n",
    "print(\"square(10) = \", square(10))\n",
    "print(\"add(2, 3) = \", add(2, 3))\n",
    "\n",
    "names = ['David Beazley', 'Brian Jones', 'Raymond Hettinger', 'Ned Batchelder']\n",
    "print(\"names = \", names)\n",
    "print(\"sort by last name:\", sorted(names, key = lambda name: name.split()[-1].lower()))\n"
   ]
  },
  {
   "attachments": {},
   "cell_type": "markdown",
   "metadata": {},
   "source": [
    "### filter\n",
    "The usage of filter is filter(func, iterable), which allow you to feed a iterable to a function and run the function for every element in the iterable."
   ]
  },
  {
   "cell_type": "code",
   "execution_count": 26,
   "metadata": {},
   "outputs": [
    {
     "name": "stdout",
     "output_type": "stream",
     "text": [
      "[5, 15, 25]\n"
     ]
    }
   ],
   "source": [
    "arr = [5, 10, 15, 20, 25, 30]\n",
    "filter_objects = list(filter(lambda x : x if x % 2 == 1 else None, arr))\n",
    "print(filter_objects)"
   ]
  },
  {
   "attachments": {},
   "cell_type": "markdown",
   "metadata": {},
   "source": [
    "#### Map\n",
    "map(func, iterable), Map will execute function for every element returned from iterable."
   ]
  },
  {
   "attachments": {},
   "cell_type": "markdown",
   "metadata": {},
   "source": [
    "#### Reduce\n",
    "Reduce(func, iterable). the func will always takes 2 paramaters, and reduce(f, [a,b,c,d]) = f(f(f(a, b), c), d)"
   ]
  },
  {
   "cell_type": "code",
   "execution_count": 42,
   "metadata": {},
   "outputs": [
    {
     "name": "stdout",
     "output_type": "stream",
     "text": [
      "[5, 4, 6, 7]\n",
      "5467\n"
     ]
    }
   ],
   "source": [
    "# Convert string to integer\n",
    "from functools import reduce\n",
    "char_to_num = lambda x : ord(x) - ord('0')\n",
    "multiply = lambda x, y : x * 10 + y\n",
    "s = \"5467\" \n",
    "# print how map works\n",
    "print(list(map(char_to_num, s)))\n",
    "# print how reduce works\n",
    "print(reduce(multiply, map(char_to_num, s)))\n"
   ]
  },
  {
   "attachments": {},
   "cell_type": "markdown",
   "metadata": {},
   "source": [
    "#### Pass\n",
    "if you do not want to put any logic in the function you can simply say Pass"
   ]
  },
  {
   "cell_type": "code",
   "execution_count": 43,
   "metadata": {},
   "outputs": [],
   "source": [
    "# def empty function\n",
    "def empty_func() :\n",
    "    pass\n",
    "\n",
    "empty_func()\n"
   ]
  },
  {
   "cell_type": "markdown",
   "metadata": {},
   "source": [
    "#### Wrapper function with parameters"
   ]
  },
  {
   "cell_type": "code",
   "execution_count": 11,
   "metadata": {},
   "outputs": [
    {
     "name": "stdout",
     "output_type": "stream",
     "text": [
      "5\n"
     ]
    }
   ],
   "source": [
    "from functools import wraps\n",
    "import logging\n",
    "\n",
    "def logged(level, name=None, message=None):\n",
    "    '''\n",
    "    Add logging to a function. level is logging level, \n",
    "    name is the logger name, and message is the log \n",
    "    message. If name and message are'nt specified,\n",
    "    the default to the function's module and name.   \n",
    "    '''\n",
    "    def decorate(func):\n",
    "        logname = name if name else func.__module__\n",
    "        log = logging.getLogger(logname)\n",
    "        logmsg = message if message else func.__name__\n",
    "        @wraps(func)\n",
    "        def wrapper(*args, **kwargs):\n",
    "            log.log(level, logmsg)\n",
    "            return func(*args, **kwargs)\n",
    "        return wrapper\n",
    "    return decorate\n",
    "\n",
    "# Example use\n",
    "@logged(logging.DEBUG)\n",
    "def add(x,y):\n",
    "    return x + y\n",
    "\n",
    "@logged(logging.CRITICAL, 'example')\n",
    "def spam():\n",
    "    print('Spam')\n",
    "\n",
    "print(add(2,3))\n",
    "    \n"
   ]
  },
  {
   "cell_type": "markdown",
   "metadata": {},
   "source": [
    "#### Enforce type check"
   ]
  },
  {
   "cell_type": "code",
   "execution_count": null,
   "metadata": {},
   "outputs": [],
   "source": [
    "@typeassert()"
   ]
  },
  {
   "attachments": {},
   "cell_type": "markdown",
   "metadata": {},
   "source": [
    "## Exercise\n",
    "7.1 Write a function to determine if a numer (integer) is a Prime. A Prime number is only divisible by 1 and itself.\n",
    "\n",
    "7.2 Write a function to find all the prime numbers from 1 to n.\n",
    "\n",
    "7.3 Give two numbers x and y, find the greater common divisor for them\n"
   ]
  }
 ],
 "metadata": {
  "kernelspec": {
   "display_name": "venv",
   "language": "python",
   "name": "python3"
  },
  "language_info": {
   "codemirror_mode": {
    "name": "ipython",
    "version": 3
   },
   "file_extension": ".py",
   "mimetype": "text/x-python",
   "name": "python",
   "nbconvert_exporter": "python",
   "pygments_lexer": "ipython3",
   "version": "3.11.5"
  },
  "orig_nbformat": 4
 },
 "nbformat": 4,
 "nbformat_minor": 2
}
