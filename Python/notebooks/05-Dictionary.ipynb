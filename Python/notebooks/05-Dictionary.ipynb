{
 "cells": [
  {
   "attachments": {},
   "cell_type": "markdown",
   "metadata": {},
   "source": [
    "# Dictionary\n",
    "In this notebook we will learn tuple and dictionary."
   ]
  },
  {
   "attachments": {},
   "cell_type": "markdown",
   "metadata": {},
   "source": [
    "## Tuple\n",
    "Tuple is a readonly multiple attributes object. The attribute can be accessed by index.\n",
    "By saying readonly which means we can not modify the attribute in the tuple, but we can create a new tuple with different values."
   ]
  },
  {
   "attachments": {},
   "cell_type": "markdown",
   "metadata": {},
   "source": [
    "### Create a Tuple"
   ]
  },
  {
   "cell_type": "code",
   "execution_count": null,
   "metadata": {},
   "outputs": [],
   "source": [
    "# create a tuple element. \n",
    "card = ('heart', 'A')\n",
    "print(card)\n",
    "print(card[0] + '-' + card[1])\n",
    "\n",
    "card = ('club', 'K')\n",
    "print(card)\n"
   ]
  },
  {
   "attachments": {},
   "cell_type": "markdown",
   "metadata": {},
   "source": [
    "#### Observation\n",
    "1. The dictionary is initialized within '{' and '}'. There is a ':' between key and value. Multiple key-value pair is delimited by a comma ','.\n",
    "2. We can get the attribute by \"[]\" or by get(). For non-existing attribute, \"[]\" operator will cause error and get() will return None.\n",
    "3. We can add attribute on demand."
   ]
  },
  {
   "attachments": {},
   "cell_type": "markdown",
   "metadata": {},
   "source": [
    "### Unpack Tuple"
   ]
  },
  {
   "cell_type": "code",
   "execution_count": 2,
   "metadata": {},
   "outputs": [
    {
     "name": "stdout",
     "output_type": "stream",
     "text": [
      "x, y, z = 1 2 3\n"
     ]
    }
   ],
   "source": [
    "# unpack a tuple\n",
    "x, y, z = (1, 2, 3)\n",
    "print(\"x, y, z =\", x, y, z) "
   ]
  },
  {
   "attachments": {},
   "cell_type": "markdown",
   "metadata": {},
   "source": [
    "### Enumerate list to Tuple"
   ]
  },
  {
   "cell_type": "code",
   "execution_count": 5,
   "metadata": {},
   "outputs": [
    {
     "name": "stdout",
     "output_type": "stream",
     "text": [
      "[(1, 'coffee'), (2, 'tea'), (3, 'wine')]\n"
     ]
    }
   ],
   "source": [
    "drinks = [\"coffee\", \"tea\", \"wine\"]\n",
    "enumerate_drinks = enumerate(drinks, 1)\n",
    "print(list(enumerate_drinks))"
   ]
  },
  {
   "attachments": {},
   "cell_type": "markdown",
   "metadata": {},
   "source": [
    "#### Observation\n",
    "1. eumerate a list will return a iterator, each item is a tuple, by adding the order in the front."
   ]
  },
  {
   "attachments": {},
   "cell_type": "markdown",
   "metadata": {},
   "source": [
    "### Zip package into Tuple"
   ]
  },
  {
   "cell_type": "code",
   "execution_count": 12,
   "metadata": {},
   "outputs": [
    {
     "name": "stdout",
     "output_type": "stream",
     "text": [
      "[]\n",
      "[('Name', 'Peter'), ('Age', '30'), ('Hometown', 'Chicago')]\n",
      "fields =  ('Name', 'Age', 'Hometown')\n",
      "info =  ('Peter', '30', 'Chicago')\n"
     ]
    }
   ],
   "source": [
    "# Zip package arrays\n",
    "fields = ['Name', 'Age', 'Hometown']\n",
    "info = ['Peter', '30', 'Chicago']\n",
    "zip_data = zip(fields, info)\n",
    "players = list(zip_data)\n",
    "print(list(zip_data))\n",
    "print(players)\n",
    "\n",
    "#unzip data\n",
    "f, i = zip(*players)\n",
    "print(\"fields = \", f)\n",
    "print(\"info = \", i)"
   ]
  },
  {
   "attachments": {},
   "cell_type": "markdown",
   "metadata": {},
   "source": [
    "#### Observation\n",
    "1. Zip will pack multiple array into a array of tuple, it is a iterator. After convert to list, it become empty.\n",
    "2. You can unpack zip tuple by reference *variable."
   ]
  },
  {
   "attachments": {},
   "cell_type": "markdown",
   "metadata": {},
   "source": [
    "## Dictionary\n",
    "Dictionary is an object with a list of key value pairs. Such key vaule pairs can also be regarded as attributes\n"
   ]
  },
  {
   "attachments": {},
   "cell_type": "markdown",
   "metadata": {},
   "source": [
    "### Initialize Dictionary"
   ]
  },
  {
   "cell_type": "code",
   "execution_count": 6,
   "metadata": {},
   "outputs": [
    {
     "name": "stdout",
     "output_type": "stream",
     "text": [
      "{'color': 'green', 'points': 5}\n",
      "5\n",
      "5\n"
     ]
    }
   ],
   "source": [
    "# Initialize a dictionary\n",
    "alien = {'color':'green', 'points' : 5}\n",
    "print(alien)\n",
    "\n",
    "# Get an attribue\n",
    "print(alien['points'])\n",
    "print(alien.get('points'))\n"
   ]
  },
  {
   "cell_type": "code",
   "execution_count": 7,
   "metadata": {},
   "outputs": [
    {
     "name": "stdout",
     "output_type": "stream",
     "text": [
      "None\n"
     ]
    }
   ],
   "source": [
    "# get a non existing key\n",
    "print(alien.get('point'))\n",
    "#print(alien['point'])"
   ]
  },
  {
   "attachments": {},
   "cell_type": "markdown",
   "metadata": {},
   "source": [
    "### Update dictionary"
   ]
  },
  {
   "cell_type": "code",
   "execution_count": 8,
   "metadata": {},
   "outputs": [
    {
     "name": "stdout",
     "output_type": "stream",
     "text": [
      "{'color': 'yellow', 'points': 5, 'x_position': 0, 'y_position': 25}\n"
     ]
    }
   ],
   "source": [
    "# Update an attribute\n",
    "alien = {'color':'green', 'points' : 5}\n",
    "alien['color'] = 'yellow'\n",
    "alien['x_position'] = 0\n",
    "alien['y_position'] = 25\n",
    "print(alien)"
   ]
  },
  {
   "attachments": {},
   "cell_type": "markdown",
   "metadata": {},
   "source": [
    "### Iterate the key-value pair in a dictionary"
   ]
  },
  {
   "cell_type": "code",
   "execution_count": 9,
   "metadata": {},
   "outputs": [
    {
     "name": "stdout",
     "output_type": "stream",
     "text": [
      "jen= python\n",
      "sarah= C++\n",
      "edward= ruby\n",
      "phil= java\n"
     ]
    }
   ],
   "source": [
    "# Initialize dictionary\n",
    "favorite_languages = {\n",
    "    'jen' : 'python',\n",
    "    'sarah' : 'C++',\n",
    "    'edward' : 'ruby',\n",
    "    'phil' : 'java'\n",
    "}\n",
    "\n",
    "# Iterate key value pairs\n",
    "for key, value in favorite_languages.items():\n",
    "    print(key + '= ' + value) \n"
   ]
  },
  {
   "cell_type": "code",
   "execution_count": 10,
   "metadata": {},
   "outputs": [
    {
     "name": "stdout",
     "output_type": "stream",
     "text": [
      "jen= python\n",
      "sarah= C++\n",
      "edward= ruby\n",
      "phil= java\n"
     ]
    }
   ],
   "source": [
    "# Iterate by keys\n",
    "for key in favorite_languages.keys() :\n",
    "    print(key + '= ' + favorite_languages[key]) "
   ]
  },
  {
   "cell_type": "code",
   "execution_count": 11,
   "metadata": {},
   "outputs": [
    {
     "name": "stdout",
     "output_type": "stream",
     "text": [
      "empty dictionary\n"
     ]
    }
   ],
   "source": [
    "# derermine the diction is empty\n",
    "alien = {}\n",
    "if len(alien) == 0:\n",
    "    print('empty dictionary')"
   ]
  },
  {
   "cell_type": "code",
   "execution_count": 12,
   "metadata": {},
   "outputs": [
    {
     "name": "stdout",
     "output_type": "stream",
     "text": [
      "[{'color': 'green', 'points': 5}, {'color': 'yellow', 'points': 10}, {'color': 'red', 'points': 15}]\n"
     ]
    }
   ],
   "source": [
    "# create an array of dictionary\n",
    "alien_0 = {'color' : 'green', 'points' : 5}\n",
    "alien_1 = {'color' : 'yellow', 'points' : 10}\n",
    "alien_2 = {'color' : 'red', 'points' : 15}\n",
    "\n",
    "aliens = [alien_0, alien_1, alien_2]\n",
    "print(aliens)\n"
   ]
  },
  {
   "cell_type": "code",
   "execution_count": 13,
   "metadata": {},
   "outputs": [
    {
     "name": "stdout",
     "output_type": "stream",
     "text": [
      "{'crust': 'thick', 'toppings': ['mushrooms', 'extra cheese']}\n"
     ]
    }
   ],
   "source": [
    "# Store an array in a dictionary\n",
    "pizza = {\n",
    "    'crust':'thick',\n",
    "    'toppings' : ['mushrooms', 'extra cheese']\n",
    "}\n",
    "print(pizza)"
   ]
  },
  {
   "cell_type": "code",
   "execution_count": 14,
   "metadata": {},
   "outputs": [
    {
     "name": "stdout",
     "output_type": "stream",
     "text": [
      "{'jen': ['python', 'java script'], 'sarah': ['C', 'C++', 'Rust'], 'edward': 'ruby', 'phil': ['java', 'go']}\n"
     ]
    }
   ],
   "source": [
    "# Store an array in a dictionary\n",
    "favorite_languages = {\n",
    "    'jen' : ['python', 'java script'],\n",
    "    'sarah' : ['C', 'C++', 'Rust'],\n",
    "    'edward' : 'ruby',\n",
    "    'phil' : ['java', 'go']\n",
    "}\n",
    "print(favorite_languages)"
   ]
  },
  {
   "cell_type": "code",
   "execution_count": 15,
   "metadata": {},
   "outputs": [
    {
     "name": "stdout",
     "output_type": "stream",
     "text": [
      "{'aeinstein': {'first': 'albert', 'last': 'einstein', 'location': 'princeton'}, 'mcurie': {'first': 'marie', 'last': 'curie', 'location': 'paris'}}\n"
     ]
    }
   ],
   "source": [
    "# Store a dictionary in a dictionary\n",
    "users = {\n",
    "    'aeinstein' : {\n",
    "        'first' : 'albert',\n",
    "        'last' : 'einstein',\n",
    "        'location' : 'princeton'\n",
    "    },\n",
    "    'mcurie' : {\n",
    "        'first' : 'marie',\n",
    "        'last' : 'curie',\n",
    "        'location' : 'paris'\n",
    "    }\n",
    "}\n",
    "print(users)"
   ]
  },
  {
   "attachments": {},
   "cell_type": "markdown",
   "metadata": {},
   "source": [
    "#### Observation\n",
    "1. The dictionary can be initialized with multi-lines, but starting '{' should be in the same line as assignment.\n",
    "2. We can iterate a dictionary by key value pair in dictionary.items() or by dictionary.keys()\n",
    "3. Multiple dictionaries can be loaded to one array.\n",
    "4. We can store an array as value in a dictionary.\n",
    "5. We can store an dictionary as value in dictionary."
   ]
  }
 ],
 "metadata": {
  "kernelspec": {
   "display_name": "venv",
   "language": "python",
   "name": "python3"
  },
  "language_info": {
   "codemirror_mode": {
    "name": "ipython",
    "version": 3
   },
   "file_extension": ".py",
   "mimetype": "text/x-python",
   "name": "python",
   "nbconvert_exporter": "python",
   "pygments_lexer": "ipython3",
   "version": "3.11.4"
  },
  "orig_nbformat": 4
 },
 "nbformat": 4,
 "nbformat_minor": 2
}
