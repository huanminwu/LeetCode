{
 "cells": [
  {
   "attachments": {},
   "cell_type": "markdown",
   "metadata": {},
   "source": [
    "# Pandas Aggregation\n",
    "In this chapter we will discussion data group by and aggregation using Pandas."
   ]
  },
  {
   "cell_type": "markdown",
   "metadata": {},
   "source": [
    "### Group By\n",
    "A dataframe, can group by a list of key columns. "
   ]
  },
  {
   "cell_type": "code",
   "execution_count": 3,
   "metadata": {},
   "outputs": [
    {
     "name": "stdout",
     "output_type": "stream",
     "text": [
      "  key1 key2     data1     data2\n",
      "0    a  one  0.566805 -0.100761\n",
      "1    a  two  0.611113 -0.332433\n",
      "2    b  one -1.107966  0.157592\n",
      "3    b  two  0.287503 -0.668305\n",
      "4    a  one  0.693716  0.950847\n"
     ]
    }
   ],
   "source": [
    "# Initilaize data set\n",
    "from pandas import DataFrame\n",
    "import pandas as pd\n",
    "import numpy as np\n",
    "df = DataFrame({'key1' : ['a', 'a', 'b', 'b', 'a'],\n",
    "                'key2' : ['one', 'two', 'one', 'two', 'one'],\n",
    "                'data1' : np.random.randn(5),\n",
    "                'data2' : np.random.randn(5)});\n",
    "print(df)"
   ]
  },
  {
   "cell_type": "markdown",
   "metadata": {},
   "source": [
    "#### Calculate mean based on key1"
   ]
  },
  {
   "cell_type": "code",
   "execution_count": 24,
   "metadata": {},
   "outputs": [
    {
     "name": "stdout",
     "output_type": "stream",
     "text": [
      "key1\n",
      "a    0.623878\n",
      "b   -0.410231\n",
      "Name: data1, dtype: float64\n"
     ]
    }
   ],
   "source": [
    "# calculate mean value\n",
    "mean = df.groupby('key1')['data1'].mean();\n",
    "print(mean);"
   ]
  },
  {
   "cell_type": "markdown",
   "metadata": {},
   "source": [
    "#### we can put a list of columns as group by"
   ]
  },
  {
   "cell_type": "code",
   "execution_count": 23,
   "metadata": {},
   "outputs": [
    {
     "name": "stdout",
     "output_type": "stream",
     "text": [
      "key1  key2\n",
      "a     one     0.425043\n",
      "      two    -0.332433\n",
      "b     one     0.157592\n",
      "      two    -0.668305\n",
      "Name: data2, dtype: float64\n"
     ]
    }
   ],
   "source": [
    "# calculate mean value\n",
    "mean = df.groupby(['key1', 'key2'])['data2'].mean();\n",
    "print(mean);"
   ]
  },
  {
   "cell_type": "code",
   "execution_count": 10,
   "metadata": {},
   "outputs": [
    {
     "name": "stdout",
     "output_type": "stream",
     "text": [
      "key1\n",
      "a    3\n",
      "b    2\n",
      "dtype: int64\n"
     ]
    }
   ],
   "source": [
    "# calculate group size\n",
    "mean = df.groupby(df['key1']).size();\n",
    "print(mean);"
   ]
  },
  {
   "cell_type": "code",
   "execution_count": 14,
   "metadata": {},
   "outputs": [
    {
     "name": "stdout",
     "output_type": "stream",
     "text": [
      "{'a':   key1 key2     data1     data2\n",
      "0    a  one  0.566805 -0.100761\n",
      "1    a  two  0.611113 -0.332433\n",
      "4    a  one  0.693716  0.950847, 'b':   key1 key2     data1     data2\n",
      "2    b  one -1.107966  0.157592\n",
      "3    b  two  0.287503 -0.668305}\n"
     ]
    }
   ],
   "source": [
    "print(dict(list(df.groupby('key1'))))"
   ]
  },
  {
   "cell_type": "markdown",
   "metadata": {},
   "source": [
    "#### Calculate quantile on key"
   ]
  },
  {
   "cell_type": "code",
   "execution_count": 30,
   "metadata": {},
   "outputs": [
    {
     "name": "stdout",
     "output_type": "stream",
     "text": [
      "key1\n",
      "a    0.677195\n",
      "b    0.147956\n",
      "Name: data1, dtype: float64\n"
     ]
    }
   ],
   "source": [
    "print(df.groupby('key1')['data1'].quantile(0.9))"
   ]
  },
  {
   "cell_type": "markdown",
   "metadata": {},
   "source": [
    "#### use customized function as aggregation funcion."
   ]
  },
  {
   "cell_type": "code",
   "execution_count": 48,
   "metadata": {},
   "outputs": [
    {
     "name": "stdout",
     "output_type": "stream",
     "text": [
      "key1\n",
      "a    0.126910\n",
      "b    1.395469\n",
      "Name: data1, dtype: float64\n"
     ]
    }
   ],
   "source": [
    "# define your own aggregation function\n",
    "def peak_to_peak(arr):\n",
    "    return arr.max() - arr.min();\n",
    "result = df.groupby('key1')['data1'].agg(peak_to_peak);\n",
    "print(result);\n"
   ]
  },
  {
   "cell_type": "markdown",
   "metadata": {},
   "source": [
    "#### Mapping columns"
   ]
  },
  {
   "cell_type": "code",
   "execution_count": 49,
   "metadata": {},
   "outputs": [
    {
     "name": "stdout",
     "output_type": "stream",
     "text": [
      "            blue       red\n",
      "Joe     0.963148  2.772641\n",
      "Steve  -0.068170  1.132276\n",
      "Wes    -0.029720  0.266524\n",
      "Jim     0.807887  1.358557\n",
      "Travis -0.852801 -0.508133\n"
     ]
    }
   ],
   "source": [
    "# Initilaize data set\n",
    "from pandas import DataFrame\n",
    "import pandas as pd\n",
    "import numpy as np\n",
    "people = DataFrame(\n",
    "                   np.random.randn(5,5), \n",
    "                   columns = ['a', 'b', 'c', 'd', 'e'],\n",
    "                   index = ['Joe', 'Steve', 'Wes', 'Jim', 'Travis'] \n",
    "                   );\n",
    "# map the columns to color\n",
    "mapping = {'a' : 'red', 'b' : 'red', 'c' : 'blue', 'd': 'blue', 'e': 'red', 'f' : 'organge'};\n",
    "#calculate sum\n",
    "print(people.groupby(mapping, axis=1).sum());\n"
   ]
  },
  {
   "cell_type": "markdown",
   "metadata": {},
   "source": [
    "#### Optimized groupby methods\n",
    "| Function Name | Description |\n",
    "| --- | --- |\n",
    "| count | Number of non-NA values in the group. |\n",
    "| sum | Sum of non-NA values |\n",
    "| mean | Mean of non-NA values |\n",
    "| median | Arithmetic median of non-NA values. |\n",
    "| std, var | Unbiased(n-1 denominator) standard deviation and variance. |\n",
    "| min, max | Minimum and maximum of non-NA values. |\n",
    "| prod | Product of non-NA values. |\n",
    "| first, last | First and last non-NA values. |"
   ]
  },
  {
   "cell_type": "code",
   "execution_count": 76,
   "metadata": {},
   "outputs": [
    {
     "name": "stdout",
     "output_type": "stream",
     "text": [
      "   total_bill   tip     sex smoker  day    time  size  tips_pct\n",
      "0       16.99  1.01  Female     No  Sun  Dinner     2  0.059447\n",
      "1       10.34  1.66    Male     No  Sat   Lunch     3  0.160542\n",
      "2       21.01  3.50    Male     No  Sat  Dinner     3  0.166587\n",
      "3       23.68  3.31    Male    Yes  Sun  Dinner     2  0.139780\n",
      "4       24.59  3.61  Female    Yes  Sun   Lunch     4  0.146808\n",
      "5       25.29  4.71    Male    Yes  Sun  Dinner     4  0.186240\n",
      "sex     smoker\n",
      "Female  No        0.059447\n",
      "        Yes       0.146808\n",
      "Male    No        0.163564\n",
      "        Yes       0.163010\n",
      "Name: tips_pct, dtype: float64\n"
     ]
    }
   ],
   "source": [
    "# Initilaize data set\n",
    "from pandas import DataFrame\n",
    "import pandas as pd\n",
    "import numpy as np\n",
    "tips = DataFrame({\n",
    "                  'total_bill' : [16.99, 10.34, 21.01, 23.68, 24.59, 25.29],\n",
    "                  'tip' :[1.01, 1.66, 3.50, 3.31, 3.61, 4.71],\n",
    "                  'sex' : ['Female', 'Male', 'Male', 'Male', 'Female', 'Male'],\n",
    "                  'smoker' : ['No', 'No', 'No', 'Yes', 'Yes', 'Yes'],\n",
    "                  'day' : ['Sun', 'Sat', 'Sat', 'Sun', 'Sun', 'Sun'],\n",
    "                  'time' : ['Dinner', 'Lunch', 'Dinner', 'Dinner', 'Lunch', 'Dinner'],\n",
    "                  'size' : [2, 3, 3, 2, 4, 4]\n",
    "                });\n",
    "# map the columns to color\n",
    "tips['tips_pct'] = tips['tip'] / tips['total_bill'];\n",
    "#calculate sum\n",
    "print(tips);\n",
    "aggr= tips.groupby(['sex', 'smoker'])['tips_pct'].apply(np.mean);\n",
    "print(aggr)\n"
   ]
  },
  {
   "cell_type": "markdown",
   "metadata": {},
   "source": [
    "### Random Sampling and Permutation"
   ]
  },
  {
   "cell_type": "code",
   "execution_count": 6,
   "metadata": {},
   "outputs": [
    {
     "name": "stdout",
     "output_type": "stream",
     "text": [
      "CQ    10\n",
      "C4     4\n",
      "DA     1\n",
      "D4     4\n",
      "H5     5\n",
      "HK    10\n",
      "S2     2\n",
      "SJ    10\n",
      "dtype: int64\n"
     ]
    }
   ],
   "source": [
    "from pandas import Series, DataFrame\n",
    "import pandas as pd\n",
    "import numpy as np\n",
    "# Spade, Heart, Diamond, Club\n",
    "suits = ['S', 'H', 'D', 'C'];\n",
    "card_val = (list(range(1, 11)) + [10] * 3) * 4;\n",
    "base_names = ['A'] + list(range(2, 11)) + ['J', 'Q', 'K']\n",
    "cards = []\n",
    "for suit in ['S', 'H', 'D', 'C']:\n",
    "    cards.extend(suit + str(name) for name in base_names)\n",
    "deck = Series(card_val, index = cards);\n",
    "\n",
    "def draw(deck, n = 5):\n",
    "    return deck.take(np.random.permutation(len(deck))[:n])\n",
    "\n",
    "candidates = deck.groupby(lambda card:card[0], group_keys = False).apply(draw, 2)\n",
    "print(candidates)"
   ]
  },
  {
   "cell_type": "markdown",
   "metadata": {},
   "source": [
    "#### Group Weighted Average and Correlation"
   ]
  },
  {
   "cell_type": "code",
   "execution_count": 8,
   "metadata": {},
   "outputs": [
    {
     "name": "stdout",
     "output_type": "stream",
     "text": [
      "category\n",
      "a    0.594622\n",
      "b    1.272249\n",
      "dtype: float64\n"
     ]
    }
   ],
   "source": [
    "from pandas import Series, DataFrame\n",
    "import pandas as pd\n",
    "import numpy as np\n",
    "df = DataFrame({'category' : ['a', 'a', 'a', 'a', 'b', 'b', 'b', 'b'],\n",
    "                'data': np.random.randn(8),\n",
    "                'weights' : np.random.randn(8)})\n",
    "category = df.groupby('category').apply(lambda g : np.average(g['data'], weights=g['weights']))\n",
    "print(category)"
   ]
  }
 ],
 "metadata": {
  "kernelspec": {
   "display_name": "venv",
   "language": "python",
   "name": "python3"
  },
  "language_info": {
   "codemirror_mode": {
    "name": "ipython",
    "version": 3
   },
   "file_extension": ".py",
   "mimetype": "text/x-python",
   "name": "python",
   "nbconvert_exporter": "python",
   "pygments_lexer": "ipython3",
   "version": "3.11.5"
  },
  "orig_nbformat": 4
 },
 "nbformat": 4,
 "nbformat_minor": 2
}
