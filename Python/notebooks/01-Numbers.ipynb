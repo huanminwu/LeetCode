{
 "cells": [
  {
   "attachments": {},
   "cell_type": "markdown",
   "metadata": {},
   "source": [
    "# Number\n",
    "In this notebook we will study Python hello world, then the numbers."
   ]
  },
  {
   "attachments": {},
   "cell_type": "markdown",
   "metadata": {},
   "source": [
    "# Prerequisites"
   ]
  },
  {
   "attachments": {},
   "cell_type": "markdown",
   "metadata": {},
   "source": [
    "- Assume you have a Windows laptop with internet connection.\n",
    "- You need install Visual Studio Code from Microsoft Store.\n",
    "- Open a folder, such as Pyhton in your machine and create a notebooks folder under it.\n",
    "- Copy any hello world ipynb file in the notebooks folder.\n",
    "- Launch VSCode and open this folder.\n",
    "- Install latest Python + Jupyter notebook when click install kernel.\n",
    "- Set default environment from Get Started with Python Development."
   ]
  },
  {
   "attachments": {},
   "cell_type": "markdown",
   "metadata": {},
   "source": [
    "## Hello World\n",
    "The following python code will first print a line of text \"Hello World\"\n",
    "Then we will assign this sentence to a variable and print it again."
   ]
  },
  {
   "cell_type": "code",
   "execution_count": 6,
   "metadata": {},
   "outputs": [
    {
     "name": "stdout",
     "output_type": "stream",
     "text": [
      "Hello World!\n"
     ]
    }
   ],
   "source": [
    "# Assign \"hello world\" to a variable and print it again.\n",
    "greeting_message = \"Hello World!\"\n",
    "print(greeting_message)"
   ]
  },
  {
   "attachments": {},
   "cell_type": "markdown",
   "metadata": {},
   "source": [
    "#### Observation\n",
    "From the above example, we observe following points:\n",
    "1. Python does not use any statement end mark (for example ; in C/C++), end of line means end of statement.\n",
    "2. We do not need to declare the type of a variable in advance (but we can do it, we will discuss later)."
   ]
  },
  {
   "attachments": {},
   "cell_type": "markdown",
   "metadata": {},
   "source": [
    "#### Variable Naming Convention \n",
    "We use lower case as name of variable, if the variable contains two english words, we use underscore '_' to connect them.\n",
    "We should avoid using keyword as variable names. For user varialbles and function, we should also avoid starting with '_', because it is reserved by python internal.\n"
   ]
  },
  {
   "attachments": {},
   "cell_type": "markdown",
   "metadata": {},
   "source": [
    "### Comments\n",
    "In python we can add comments lines by a leading '#'. The text after '#' is considered as explanation of the code and will not be executed."
   ]
  },
  {
   "attachments": {},
   "cell_type": "markdown",
   "metadata": {},
   "source": [
    "## Numbers\n",
    "Let's start some numeric value in python. Python is not a strong type language, so the numeric value is a mix of integer (32 bits), long (64 bits), float, double. We have a way to round up the float to integer.\n",
    "\n",
    "The numberic value in python generally does not have limit, so it can be very big and you do not need to worry about overflow."
   ]
  },
  {
   "cell_type": "code",
   "execution_count": 2,
   "metadata": {},
   "outputs": [
    {
     "name": "stdout",
     "output_type": "stream",
     "text": [
      "5\n",
      "1\n",
      "6\n",
      "5 / 2 = 2.5\n",
      "int(5 / 2) = 2\n",
      "3**29\n",
      "4\n",
      "0.2\n",
      "0.30000000000000004\n",
      "large =  14000000000000000000000000000000000\n",
      "googol =  10000000000000000000000000000000000000000000000000000000000000000000000000000000000000000000000000000\n",
      "x, y, z =  1 2 3\n",
      "MAX_CONNECTIONS 5000\n",
      "7 % 3 =  1\n",
      "1.23456E+3 =  1234.56\n",
      "complex(3,5) (3+5j)\n"
     ]
    }
   ],
   "source": [
    "# Let's work on some basic arithmetic\n",
    "a = 2 + 3\n",
    "print(a)\n",
    "\n",
    "a = 3 - 2\n",
    "print(a)\n",
    "\n",
    "a = 2 * 3\n",
    "print(a)\n",
    "\n",
    "a = 5 / 2\n",
    "print('5 / 2 = ' + str(a))\n",
    "print('int(5 / 2) = ' + str(int(a)))\n",
    "\n",
    "a = 3**2\n",
    "print('3**2' + str(a))\n",
    "\n",
    "a = 2 * (4-2)\n",
    "print(a)\n",
    "\n",
    "a = 0.1 + 0.1\n",
    "print(a)\n",
    "\n",
    "a = 0.2 + 0.1\n",
    "print(a)\n",
    "\n",
    "large = 14_000_000_000_000_000_000_000_000_000_000_000\n",
    "print(\"large = \" , large)\n",
    "googol = 10**100\n",
    "print(\"googol = \", googol)\n",
    "\n",
    "x, y, z = 1, 2, 3\n",
    "print(\"x, y, z = \", x,y,z)\n",
    "\n",
    "# The following is a constant value\n",
    "MAX_CONNECTIONS = 5000\n",
    "print('MAX_CONNECTIONS', MAX_CONNECTIONS)\n",
    "\n",
    "# calculate module\n",
    "print('7 % 3 = ', 7%3)\n",
    "\n",
    "# scientific number\n",
    "print('1.23456E+3 = ', 1.23456E+3)\n",
    "\n",
    "# complex number\n",
    "print('complex(3,5)', complex(3,5))\n"
   ]
  },
  {
   "attachments": {},
   "cell_type": "markdown",
   "metadata": {},
   "source": [
    "#### Observation \n",
    "1. In Python there is no difference between integer and float. By default, the division result will be treated as float. This is quite different from other language, for example in C/C++ or Java, 5/2 = 2, not 2.5, but in python it is 2.5\n",
    "2. Like all other languages, float will encounter precision issue, for example like 0.1 + 0.2. We will study precision round up later.\n",
    "3. Python can use under score '_' to separate multiple digits in a number.\n",
    "4. Python does not have capacity for a number, unlike C/C++ or Java, which will have integer(32 bits) and long (64 bits). A numeric value in python can be very big. But it is also not a double value, so you should not worry about precision of the large number.\n",
    "5. We can assign multiple values to multiple variables in one statement.\n",
    "6. Constant value can be represented by all upper case variables.\n",
    "7. We can convert a float to integer by int().\n",
    "8. We can convert numeric to string by str()"
   ]
  },
  {
   "attachments": {},
   "cell_type": "markdown",
   "metadata": {},
   "source": [
    "### Math Operations\n",
    "\n",
    "\n",
    "| Operation | Result | Notes | \n",
    "| --- | --- | --- |\n",
    "| x + y | sum of x and y |  |\n",
    "| x - y | difference of x and y | |\n",
    "| x * y | product of x and y | |\n",
    "| x / y | quotient (商) of x and y | |\n",
    "| x // y | floored quotient of x and y | (1) |\n",
    "| x % y | remainder of x / y | (2) |\n",
    "| -x | x negated | | \n",
    "| +x | x unchanged | |\n",
    "| abs(x) | absolute value or magnitude of x | |\n",
    "| int(x) | x converted to integer | (3)(6) | \n",
    "| float(x) | x converted to floating point | (4)(6) |\n",
    "| complex(re, im) | a complex number with real part re, imaginary part im. im defaults to zero. | (6) |\n",
    "| c.conjugate() | conjugate of the complex number c | |\n",
    "| divmod(x, y) | the pair (x // y, x % y) | (2) |\n",
    "| pow(x, y) | x to the power y | (5) |\n",
    "| x ** y | x to the power y | (5) |\n",
    "\n",
    "Notes:\n",
    "\n",
    "1. Also referred to as integer division. The resultant value is a whole integer, though the result’s type is not necessarily int. The result is always rounded towards minus infinity: 1//2 is 0, (-1)//2 is -1, 1//(-2) is -1, and (-1)//(-2) is 0.\n",
    "\n",
    "2. Not for complex numbers. Instead convert to floats using abs() if appropriate.\n",
    "\n",
    "3. Conversion from float to int truncates, discarding the fractional part. See functions math.floor() and math.ceil() for alternative conversions.\n",
    "\n",
    "4. float also accepts the strings “nan” and “inf” with an optional prefix “+” or “-” for Not a Number (NaN) and positive or negative infinity.\n",
    "\n",
    "5. Python defines pow(0, 0) and 0 ** 0 to be 1, as is common for programming languages.\n",
    "\n",
    "6. The numeric literals accepted include the digits 0 to 9 or any Unicode equivalent (code points with the Nd property).\n",
    "\n",
    "See https://www.unicode.org/Public/14.0.0/ucd/extracted/DerivedNumericType.txt for a complete list of code points with the Nd property.\n",
    "\n",
    "All numbers.Real types (int and float) also include the following operations:\n",
    "\n",
    "| Operation | Result |\n",
    "| --- | --- |\n",
    "|  math.trunc(x)  |  x truncated to Integral  |\n",
    "|  round(x[, n])  |  x rounded to n digits, rounding half to even. If n is omitted, it defaults to 0. |\n",
    "|  math.floor(x)  |  the greatest Integral <= x  |\n",
    "|  math.ceil(x)  |  the least Integral >= x  |\n",
    "\n",
    "For additional numeric operations see the math and cmath modules."
   ]
  },
  {
   "cell_type": "code",
   "execution_count": 3,
   "metadata": {},
   "outputs": [
    {
     "name": "stdout",
     "output_type": "stream",
     "text": [
      "7 / 2 = 3.5\n",
      "7 // 2 = 3\n",
      "100 % 3 = 1\n",
      "divmod(100, 3) = 33,1\n",
      "2^3 =  8\n",
      "3^2 =  9\n",
      "round(8/3, 2) =  2.67\n"
     ]
    }
   ],
   "source": [
    "import math\n",
    "\n",
    "# division to get float result\n",
    "print('7 / 2 = ' + str(7/2))\n",
    "\n",
    "# division to get integer result only\n",
    "print('7 // 2 = ' + str(7 // 2))\n",
    "\n",
    "# get mod value\n",
    "print('100 % 3 = ' + str(100 % 3))\n",
    "\n",
    "# get quotient and remainder\n",
    "(a, b) = divmod(100, 3)\n",
    "print('divmod(100, 3) = ' + str(a) + ',' + str(b))\n",
    "\n",
    "# calculate a^b\n",
    "print(\"2^3 = \", 2**3)\n",
    "print(\"3^2 = \", pow(3,2))\n",
    "\n",
    "# get round up\n",
    "a = 8 / 3\n",
    "print(\"round(8/3, 2) = \", round(a, 2))\n",
    "\n"
   ]
  },
  {
   "attachments": {},
   "cell_type": "markdown",
   "metadata": {},
   "source": [
    "### Bitwise Operations on Integer Types\n",
    "\n",
    "For any integer, internally we can convert to bits (in fact float can also be converted to bits, but less obvious)\n",
    "Bitwise operations only make sense for integers. \n",
    "\n",
    "The result of bitwise operations is calculated as though carried out in two’s complement with an infinite number of sign bits.\n",
    "\n",
    "The priorities of the binary bitwise operations are all lower than the numeric operations and higher than the comparisons; the unary operation ~ has the same priority as the other unary numeric operations (+ and -).\n",
    "\n",
    "This table lists the bitwise operations sorted in ascending priority:\n",
    "\n",
    "| Operation | Result | Notes |\n",
    "| --- | --- | --- |\n",
    "| x \\| y | bitwise or of x and y | (4) |\n",
    "| x ^ y | bitwise exclusive or of x and y | (4) |\n",
    "| x & y | bitwise and of x and y | (4) |\n",
    "| x << n | x shifted left by n bits | (1)(2) |\n",
    "| x >> n | x shifted right by n bits | (1)(3) |\n",
    "| ~x | the bits of x inverted |  |\n",
    "\n",
    "Notes:\n",
    "1. Negative shift counts are illegal and cause a ValueError to be raised.\n",
    "2. A left shift by n bits is equivalent to multiplication by pow(2, n).\n",
    "3. A right shift by n bits is equivalent to floor division by pow(2, n).\n",
    "4. Remeber Python number does not have scope, so if we invert the bits, we should mask it with scope.\n"
   ]
  },
  {
   "cell_type": "code",
   "execution_count": 4,
   "metadata": {},
   "outputs": [
    {
     "name": "stdout",
     "output_type": "stream",
     "text": [
      "9 >> 1 = 4\n",
      "9 << 1 = 18\n",
      "9 | 4 = 13\n",
      "9 & 4 = 0\n",
      "9 ^ 4 = 13\n",
      "~9 =  6\n",
      "bin(9) = 0b1001\n",
      "bin((~9) & 255) = 0b110\n",
      "hex(9) = 0x9\n",
      "hex(12) = 0xc\n"
     ]
    }
   ],
   "source": [
    "# shift bits right\n",
    "print('9 >> 1 = ' + str(9 >> 1))\n",
    "print('9 << 1 = ' + str(9 << 1))\n",
    "\n",
    "# bit wise or\n",
    "print('9 | 4 = ' + str(9 | 4))\n",
    "\n",
    "# bit wise and\n",
    "print('9 & 4 = ' + str(9 & 4))\n",
    "\n",
    "# bit wise xor\n",
    "print('9 ^ 4 = ' + str(9 ^ 4))\n",
    "\n",
    "# invert a 4 bits integer\n",
    "print('~9 = ', ~9 & 15)\n",
    "\n",
    "# print an integer in bits\n",
    "print(\"bin(9) =\", bin(9))\n",
    "print(\"bin((~9) & 255) =\", bin((~9) & 15))\n",
    "print(\"hex(9) =\", hex(9))\n",
    "print(\"hex(12) =\", hex(12))"
   ]
  },
  {
   "attachments": {},
   "cell_type": "markdown",
   "metadata": {},
   "source": [
    "#### Observation \n",
    "1. For 9, bit wise it is 1001 and for 4 bit wise it is 0100.\n",
    "2. We do not have bit flip ~x, this is because we need to specify unsigned integer."
   ]
  },
  {
   "attachments": {},
   "cell_type": "markdown",
   "metadata": {},
   "source": [
    "### Assignment with calculations\n",
    "\n",
    "Like C++ and Java, Python also support combining assignment and calculation together. Please look at following example"
   ]
  },
  {
   "cell_type": "code",
   "execution_count": 5,
   "metadata": {},
   "outputs": [
    {
     "name": "stdout",
     "output_type": "stream",
     "text": [
      "a=8\n",
      "a+=3: 11\n",
      "a-=3: 5\n",
      "a*=3: 24\n",
      "a/=3: 2.6666666666666665\n",
      "a%=3: 2\n",
      "a//=3: 2\n",
      "a**=3: 512\n"
     ]
    }
   ],
   "source": [
    "a = 8\n",
    "print(\"a=8\")\n",
    "# a+=b\n",
    "a+=3\n",
    "print(\"a+=3:\", a)\n",
    "a = 8\n",
    "a-=3\n",
    "print(\"a-=3:\", a)\n",
    "a = 8\n",
    "a*=3\n",
    "print(\"a*=3:\", a)\n",
    "a = 8\n",
    "a/=3\n",
    "print(\"a/=3:\", a)\n",
    "a = 8\n",
    "a%=3\n",
    "print(\"a%=3:\", a)\n",
    "a = 8\n",
    "a//=3\n",
    "print(\"a//=3:\", a)\n",
    "a = 8\n",
    "a**=3\n",
    "print(\"a**=3:\", a)"
   ]
  },
  {
   "cell_type": "markdown",
   "metadata": {},
   "source": [
    "### Round up float\n",
    "We can round up float with specified decimal position"
   ]
  },
  {
   "cell_type": "code",
   "execution_count": 5,
   "metadata": {},
   "outputs": [
    {
     "name": "stdout",
     "output_type": "stream",
     "text": [
      "3.142\n",
      "-3.142\n",
      "1627700\n",
      "1628000\n"
     ]
    }
   ],
   "source": [
    "# round up pi\n",
    "pi = 3.1415926\n",
    "print(round(pi, 3))\n",
    "\n",
    "minus_pi = -3.1415926\n",
    "print(round(minus_pi, 3))\n",
    "\n",
    "# round up by hundreds or thousands\n",
    "a = 1627731\n",
    "print(round(a, -2))\n",
    "print(round(a, -3))\n"
   ]
  },
  {
   "cell_type": "markdown",
   "metadata": {},
   "source": [
    "### Format Numbers for Output"
   ]
  },
  {
   "cell_type": "code",
   "execution_count": 17,
   "metadata": {},
   "outputs": [
    {
     "name": "stdout",
     "output_type": "stream",
     "text": [
      "x = 1234.56789\n",
      "format(x, '0.2f') 1234.57\n",
      "format(x, '>10.1f')     1234.6\n",
      "format(x, '<10.1f') 1234.6    \n",
      "format(x, '^10.1f')   1234.6  \n",
      "format(x, ',') 1,234.56789\n",
      "format(x, '0,.1f') 1,234.6\n"
     ]
    }
   ],
   "source": [
    "# format float\n",
    "x = 1234.56789\n",
    "print(\"x =\", x)\n",
    "\n",
    "# two decimal places of accuracy\n",
    "print(\"format(x, '0.2f')\", format(x, '0.2f'))\n",
    "\n",
    "#right justified in 10 chars, one-digit accuracy\n",
    "print(\"format(x, '>10.1f')\", format(x, '>10.1f'))\n",
    "\n",
    "#left justified\n",
    "print(\"format(x, '<10.1f')\", format(x, '<10.1f'))\n",
    "\n",
    "#center justified\n",
    "print(\"format(x, '^10.1f')\", format(x, '^10.1f'))\n",
    "\n",
    "#center justified\n",
    "print(\"format(x, ',')\", format(x, ','))\n",
    "print(\"format(x, '0,.1f')\", format(x, '0,.1f'))"
   ]
  },
  {
   "cell_type": "markdown",
   "metadata": {},
   "source": [
    "### Binary, Octal and Hexadecimal"
   ]
  },
  {
   "cell_type": "code",
   "execution_count": 20,
   "metadata": {},
   "outputs": [
    {
     "name": "stdout",
     "output_type": "stream",
     "text": [
      "bin(x) 0b10011010010\n",
      "oct(x) 0o2322\n",
      "hex(x) 0x4d2\n",
      "format(x, 'b') 10011010010\n",
      "format(x, 'o') 2322\n",
      "format(x, 'x') 4d2\n",
      "hex(x) 0x4d2\n",
      "int('4d2', 16) 1234\n",
      "int('10011010010', 2) 1234\n"
     ]
    }
   ],
   "source": [
    "x = 1234\n",
    "print(\"bin(x)\", bin(x))\n",
    "print(\"oct(x)\", oct(x))\n",
    "print(\"hex(x)\", hex(x))\n",
    "print(\"format(x, 'b')\", format(x, 'b'))\n",
    "print(\"format(x, 'o')\", format(x, 'o'))\n",
    "print(\"format(x, 'x')\", format(x, 'x'))\n",
    "print(\"hex(x)\", hex(x))\n",
    "print(\"int('4d2', 16)\", int('4d2', 16))\n",
    "print(\"int('10011010010', 2)\", int('10011010010', 2))\n",
    "\n"
   ]
  },
  {
   "cell_type": "markdown",
   "metadata": {},
   "source": [
    "### Complex"
   ]
  },
  {
   "cell_type": "code",
   "execution_count": 22,
   "metadata": {},
   "outputs": [
    {
     "name": "stdout",
     "output_type": "stream",
     "text": [
      "a =  (2+4j) ; b=  (3-5j)\n",
      "a + b =  (5-1j)\n",
      "a.real =  2.0 ; a.imag =  4.0 ; a.conjugate() =  (2-4j)\n",
      "cmath.sqrt(-2) =  1.4142135623730951j\n"
     ]
    }
   ],
   "source": [
    "a = complex(2, 4)\n",
    "b = 3-5j\n",
    "print(\"a = \", a, \"; b= \", b)\n",
    "print(\"a + b = \", a + b)\n",
    "print(\"a.real = \", a.real, \"; a.imag = \", a.imag, \"; a.conjugate() = \", a.conjugate())\n",
    "\n",
    "# import cmath\n",
    "import cmath\n",
    "print(\"cmath.sqrt(-2) = \", cmath.sqrt(-2))"
   ]
  },
  {
   "cell_type": "markdown",
   "metadata": {},
   "source": [
    "#### Infinity and NaNs\n",
    "inf is infinity and nan is not a number"
   ]
  },
  {
   "cell_type": "code",
   "execution_count": null,
   "metadata": {},
   "outputs": [],
   "source": [
    "a = float('inf')\n",
    "b = float('-inf')\n",
    "c = float('nan')"
   ]
  },
  {
   "attachments": {},
   "cell_type": "markdown",
   "metadata": {},
   "source": [
    "## Exercise\n",
    "1.1 If we borrow 50,000 dollar from the bank with a fixed annual interest rate as 3%, with term of 5 years. How much I will pay at the end of 5 years.\n",
    "\n",
    "\n",
    "\n",
    "\n",
    "1.2 If I buy a car with 20000 dollar, and if the value of car drops 15% in the first 3 years, how much the value left at the end of 3 years?\n",
    "\n",
    "\n",
    "\n",
    "1.3 Assume you have an hourly salary rate as $20 and if you work 8 hours per day, and you work 300 days in a year. and you have an monthly expense $2000, how much money you can save per year.\n",
    "\n",
    "\n",
    "\n",
    "1.4 The speed of sound is 340 m /s. We design a rockt as same speed of sound. The distance from the earth to the moon is 384,400 km. Can you calculate how many days and how many hours does it take for the rocket travel from earth to the moon?\n",
    "\n",
    "\n",
    "1.5 Assume you have two points in a plane, (x1, y1) and (x2, y2). Calculate the distance of these two points.\n",
    "\n",
    "\n",
    "1.6 We have two measurements on the temperature, Celsisus, C and Farenheit F. The 0 degree in Celsisus is equal to 32 degree Farenheit. The coversion formula is as below:\n",
    "Celsisus = (Farenheit - 32) * 5 / 9\n",
    "Farenheit = Celsisus * (9 /5) + 32\n",
    "\n",
    "\n",
    "1.7 You get a loan of 1000,000 $ from the bank and the interest rate is 5%, with the fixed term of 30 years. Can you calculate monthlt payment? The rule is that you have to pay off the interest generated every year and pay off the loan in the 30 years, you should pay the same amount every month.\n",
    "You can use the following formula:\n",
    "Monthly Payment = (loan * month rate) / (1 - 1/(1+ month rate) ^ (years * 12))\n",
    "\n",
    "1.8 calculate the sum of 1+3+5+...+999\n"
   ]
  }
 ],
 "metadata": {
  "kernelspec": {
   "display_name": "venv",
   "language": "python",
   "name": "python3"
  },
  "language_info": {
   "codemirror_mode": {
    "name": "ipython",
    "version": 3
   },
   "file_extension": ".py",
   "mimetype": "text/x-python",
   "name": "python",
   "nbconvert_exporter": "python",
   "pygments_lexer": "ipython3",
   "version": "3.11.6"
  },
  "orig_nbformat": 4
 },
 "nbformat": 4,
 "nbformat_minor": 2
}
