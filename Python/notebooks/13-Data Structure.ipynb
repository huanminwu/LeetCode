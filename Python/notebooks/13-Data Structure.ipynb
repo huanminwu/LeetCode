{
 "cells": [
  {
   "attachments": {},
   "cell_type": "markdown",
   "metadata": {},
   "source": [
    "# Data Structure\n",
    "In this notebook we will learn some python built-in data structure."
   ]
  },
  {
   "attachments": {},
   "cell_type": "markdown",
   "metadata": {},
   "source": [
    "## deque\n",
    "The Deque is FIFO data structure with capacity."
   ]
  },
  {
   "cell_type": "code",
   "execution_count": 1,
   "metadata": {},
   "outputs": [
    {
     "name": "stdout",
     "output_type": "stream",
     "text": [
      "q =  deque([2, 3, 4], maxlen=3)\n",
      "q.pop() =  3\n",
      "q.popleft() =  9\n"
     ]
    }
   ],
   "source": [
    "from collections import deque\n",
    "\n",
    "# Initalize deque\n",
    "q = deque(maxlen = 3)\n",
    "q.append(1)\n",
    "q.append(2)\n",
    "q.append(3)\n",
    "q.append(4)\n",
    "print(\"q = \", q)\n",
    "q.appendleft(9)\n",
    "print(\"q.pop() = \", q.pop())\n",
    "print(\"q.popleft() = \", q.popleft())"
   ]
  },
  {
   "attachments": {},
   "cell_type": "markdown",
   "metadata": {},
   "source": [
    "## heapq\n",
    "Heapq implements a heap based on a list"
   ]
  },
  {
   "cell_type": "code",
   "execution_count": 2,
   "metadata": {},
   "outputs": [
    {
     "name": "stdout",
     "output_type": "stream",
     "text": [
      "original nums: [1, 8, 2, 23, 7, -4, 18, 23, 42, 37, 2]\n",
      "After sorted:  [-4, 1, 2, 2, 7, 8, 18, 23, 23, 37]\n"
     ]
    }
   ],
   "source": [
    "# heap examples\n",
    "import heapq\n",
    "nums = [1, 8, 2, 23, 7, -4, 18, 23, 42, 37, 2]\n",
    "print('original nums:', nums)\n",
    "heapq.heapify(nums)\n",
    "print(\"After sorted: \", [heapq.heappop(nums) for i in range(1, len(nums))])\n"
   ]
  },
  {
   "cell_type": "markdown",
   "metadata": {},
   "source": [
    "### Priority Queue\n",
    "1. We can use heapq to implement priority queue\n",
    "2. We can also use QUEUE.PRIORITYQUEUE for priority queue"
   ]
  },
  {
   "cell_type": "code",
   "execution_count": 3,
   "metadata": {},
   "outputs": [
    {
     "name": "stdout",
     "output_type": "stream",
     "text": [
      "(1, 'Riya')\n",
      "(2, 'Harry')\n",
      "(3, 'Charles')\n",
      "(3, 'Charles')\n",
      "(4, 'Stacy')\n"
     ]
    }
   ],
   "source": [
    "import heapq\n",
    "customers = []\n",
    "heapq.heappush(customers, (2, \"Harry\"))\n",
    "heapq.heappush(customers, (3, \"Charles\"))\n",
    "heapq.heappush(customers, (1, \"Riya\"))\n",
    "heapq.heappush(customers, (4, \"Stacy\"))\n",
    "heapq.heappush(customers, (3, \"Charles\"))\n",
    "while customers:\n",
    "     print(heapq.heappop(customers))"
   ]
  },
  {
   "cell_type": "code",
   "execution_count": 4,
   "metadata": {},
   "outputs": [
    {
     "name": "stdout",
     "output_type": "stream",
     "text": [
      "(1, 'Riya')\n",
      "(2, 'Harry')\n",
      "(3, 'Charles')\n",
      "(4, 'Stacy')\n"
     ]
    }
   ],
   "source": [
    "from queue import PriorityQueue\n",
    "customers = PriorityQueue() #we initialise the PQ class instead of using a function to operate upon a list. \n",
    "customers.put((2, \"Harry\"))\n",
    "customers.put((3, \"Charles\"))\n",
    "customers.put((1, \"Riya\"))\n",
    "customers.put((4, \"Stacy\"))\n",
    "while not customers.empty():\n",
    "     print(customers.get())"
   ]
  },
  {
   "attachments": {},
   "cell_type": "markdown",
   "metadata": {},
   "source": [
    "## Dicationary"
   ]
  },
  {
   "attachments": {},
   "cell_type": "markdown",
   "metadata": {},
   "source": [
    "### defaultdict\n",
    "We can specify the type of values in the dictionary for default value. This means we can have a list as values of dictionary or have a set as values of dictionary."
   ]
  },
  {
   "cell_type": "code",
   "execution_count": 5,
   "metadata": {},
   "outputs": [
    {
     "name": "stdout",
     "output_type": "stream",
     "text": [
      "dict =  defaultdict(<class 'list'>, {'a': [1, 1, 2]})\n",
      "dict =  defaultdict(<class 'set'>, {'a': {1, 2}})\n"
     ]
    }
   ],
   "source": [
    "from collections import defaultdict\n",
    "d = defaultdict(list)\n",
    "d['a'].append(1)\n",
    "d['a'].append(1)\n",
    "d['a'].append(2)\n",
    "print(\"dict = \", d)\n",
    "\n",
    "d = defaultdict(set)\n",
    "d['a'].add(1)\n",
    "d['a'].add(1)\n",
    "d['a'].add(2)\n",
    "print(\"dict = \", d)\n",
    "\n"
   ]
  },
  {
   "attachments": {},
   "cell_type": "markdown",
   "metadata": {},
   "source": [
    "### OrderedDict\n",
    "OrderedDict will keep the keys in the order when they are added.\n"
   ]
  },
  {
   "cell_type": "code",
   "execution_count": 6,
   "metadata": {},
   "outputs": [
    {
     "name": "stdout",
     "output_type": "stream",
     "text": [
      "{\"foo\": 1, \"bar\": 2, \"spam\": 3, \"grok\": 4}\n"
     ]
    }
   ],
   "source": [
    "from collections import OrderedDict\n",
    "d = OrderedDict()\n",
    "d['foo'] = 1\n",
    "d['bar'] = 2\n",
    "d['spam'] = 3\n",
    "d['grok'] = 4\n",
    "\n",
    "import json\n",
    "print(json.dumps(d))\n"
   ]
  },
  {
   "attachments": {},
   "cell_type": "markdown",
   "metadata": {},
   "source": [
    "#### Sorting a List of Dictionary by a key\n",
    "1. We can use itemgetter to get the field in a dictionary.\n",
    "2. We can use attrgetter to get the attribute in a class."
   ]
  },
  {
   "cell_type": "code",
   "execution_count": 7,
   "metadata": {},
   "outputs": [
    {
     "name": "stdout",
     "output_type": "stream",
     "text": [
      "row_by_id =  [{'fname': 'John', 'lname': 'Cleese', 'uid': 1001}, {'fname': 'David', 'lname': 'Beazley', 'uid': 1002}, {'fname': 'Brian', 'lname': 'Jones', 'uid': 1003}, {'fname': 'Big', 'lname': 'Jones', 'uid': 1004}]\n",
      "row_by_name =  [{'fname': 'Big', 'lname': 'Jones', 'uid': 1004}, {'fname': 'Brian', 'lname': 'Jones', 'uid': 1003}, {'fname': 'David', 'lname': 'Beazley', 'uid': 1002}, {'fname': 'John', 'lname': 'Cleese', 'uid': 1001}]\n"
     ]
    }
   ],
   "source": [
    "rows = [\n",
    "    {'fname' : 'Brian', 'lname' : 'Jones', 'uid' : 1003},\n",
    "    {'fname' : 'David', 'lname' : 'Beazley', 'uid' : 1002},\n",
    "    {'fname' : 'John', 'lname' : 'Cleese', 'uid' : 1001},\n",
    "    {'fname' : 'Big', 'lname' : 'Jones', 'uid' : 1004},\n",
    "]\n",
    "from operator import itemgetter\n",
    "row_by_uid = sorted(rows, key=itemgetter('uid'))\n",
    "print('row_by_id = ', row_by_uid) \n",
    "\n",
    "row_by_name = sorted(rows, key=itemgetter('fname', 'lname'))\n",
    "print('row_by_name = ', row_by_name) \n"
   ]
  },
  {
   "attachments": {},
   "cell_type": "markdown",
   "metadata": {},
   "source": [
    "#### Counter\n",
    "Counter can be used to count the element in the array."
   ]
  },
  {
   "cell_type": "code",
   "execution_count": 8,
   "metadata": {},
   "outputs": [
    {
     "name": "stdout",
     "output_type": "stream",
     "text": [
      "[('eyes', 8), ('the', 5), ('look', 4)]\n",
      "a = Counter({'eyes': 8, 'the': 5, 'look': 4, 'into': 3, 'my': 3, 'around': 2, 'not': 1, \"don't\": 1, \"you're\": 1, 'under': 1})\n",
      "b = Counter({'why': 1, 'are': 1, 'you': 1, 'not': 1, 'looking': 1, 'in': 1, 'my': 1, 'eyes': 1})\n",
      "a + b = Counter({'eyes': 9, 'the': 5, 'look': 4, 'my': 4, 'into': 3, 'not': 2, 'around': 2, \"don't\": 1, \"you're\": 1, 'under': 1, 'why': 1, 'are': 1, 'you': 1, 'looking': 1, 'in': 1})\n",
      "a - b = Counter({'eyes': 7, 'the': 5, 'look': 4, 'into': 3, 'my': 2, 'around': 2, \"don't\": 1, \"you're\": 1, 'under': 1})\n"
     ]
    }
   ],
   "source": [
    "# pick the most common words in the array\n",
    "words = [\n",
    "    'look', 'into', 'my', 'eyes', 'look', 'into', 'my', 'eyes',\n",
    "    'the', 'eyes', 'the', 'eyes', 'the', 'eyes', 'not', 'around', 'the',\n",
    "    'eyes', \"don't\", 'look', 'around', 'the', 'eyes', 'look', 'into',\n",
    "    'my', 'eyes', \"you're\", 'under'\n",
    "]\n",
    "from collections import Counter\n",
    "a = Counter(words)\n",
    "top_three = a.most_common(3)\n",
    "print(top_three)\n",
    "\n",
    "more_words = ['why', 'are', 'you', 'not', 'looking', 'in', 'my', 'eyes']\n",
    "b = Counter(more_words)\n",
    "print(\"a =\", a)\n",
    "print(\"b =\", b)\n",
    "print(\"a + b =\", a + b)\n",
    "print(\"a - b =\", a - b)"
   ]
  },
  {
   "attachments": {},
   "cell_type": "markdown",
   "metadata": {},
   "source": [
    "### namedtuple\n",
    "namedtuple allows to specify name in the tuple. Name tuple can be considered as light weight class without methods"
   ]
  },
  {
   "cell_type": "code",
   "execution_count": 9,
   "metadata": {},
   "outputs": [
    {
     "name": "stdout",
     "output_type": "stream",
     "text": [
      "s =  Stock(name='ACME', shares=100, price=123.45, date='12/17/2012', time=None)\n"
     ]
    }
   ],
   "source": [
    "from collections import namedtuple\n",
    "Stock = namedtuple('Stock', ['name', 'shares', 'price', 'date', 'time'])\n",
    "s = Stock('ACME', 100, 123.45, date='12/17/2012', time=None)\n",
    "print('s = ', s)"
   ]
  },
  {
   "cell_type": "markdown",
   "metadata": {},
   "source": [
    "### Sorted Containers"
   ]
  },
  {
   "cell_type": "markdown",
   "metadata": {},
   "source": [
    "#### Install sorted containers"
   ]
  },
  {
   "cell_type": "code",
   "execution_count": 10,
   "metadata": {},
   "outputs": [
    {
     "name": "stdout",
     "output_type": "stream",
     "text": [
      "Requirement already satisfied: sortedcontainers in c:\\leetcode\\python\\.venv\\lib\\site-packages (2.4.0)Note: you may need to restart the kernel to use updated packages.\n",
      "\n"
     ]
    },
    {
     "name": "stderr",
     "output_type": "stream",
     "text": [
      "\n",
      "[notice] A new release of pip is available: 23.1.2 -> 23.3.2\n",
      "[notice] To update, run: python.exe -m pip install --upgrade pip\n"
     ]
    }
   ],
   "source": [
    "%pip install sortedcontainers"
   ]
  },
  {
   "cell_type": "markdown",
   "metadata": {},
   "source": [
    "#### Sorted Dictionary"
   ]
  },
  {
   "cell_type": "code",
   "execution_count": 11,
   "metadata": {},
   "outputs": [
    {
     "name": "stdout",
     "output_type": "stream",
     "text": [
      "SortedDict({1: 'abc', 3: 'defg', 5: 'klmn'})\n",
      "SortedDict({1: 'abc', 3: 'defg', 4: 'xyz', 5: 'klmn'})\n",
      "4 xyz\n"
     ]
    }
   ],
   "source": [
    "from sortedcontainers import SortedDict\t\n",
    "dict = SortedDict({1: \"abc\", 3: \"defg\", 5:\"klmn\"})\n",
    "print(dict)\n",
    "dict[4] = 'xyz'\n",
    "print(dict)\n",
    "\n",
    "target = 4\n",
    "index = dict.bisect_left(target)\n",
    "key = dict.keys()[index]\n",
    "print(key, dict[key])\n"
   ]
  },
  {
   "cell_type": "markdown",
   "metadata": {},
   "source": [
    "#### Sorted Set"
   ]
  },
  {
   "cell_type": "code",
   "execution_count": 12,
   "metadata": {},
   "outputs": [
    {
     "name": "stdout",
     "output_type": "stream",
     "text": [
      "SortedSet([1, 3, 5])\n",
      "SortedSet([1, 3, 4, 5])\n",
      "3\n"
     ]
    }
   ],
   "source": [
    "from sortedcontainers import SortedSet\t\n",
    "set = SortedSet([1,3,5])\n",
    "print(set)\n",
    "set.add(4)\n",
    "print(set)\n",
    "\n",
    "target = 2\n",
    "index = set.bisect_left(target)\n",
    "key = set[index]\n",
    "print(key)"
   ]
  },
  {
   "cell_type": "markdown",
   "metadata": {},
   "source": [
    "#### Sorted List"
   ]
  },
  {
   "cell_type": "code",
   "execution_count": 1,
   "metadata": {},
   "outputs": [
    {
     "name": "stdout",
     "output_type": "stream",
     "text": [
      "SortedList([1, 3, 5])\n",
      "SortedList([1, 3, 4, 5])\n",
      "3\n"
     ]
    }
   ],
   "source": [
    "from sortedcontainers import SortedList\n",
    "list = SortedList([1,3,5])\n",
    "print(list)\n",
    "list.add(4)\n",
    "print(list)\n",
    "\n",
    "target = 2\n",
    "index = list.bisect_left(target)\n",
    "key = list[index]\n",
    "print(key)"
   ]
  },
  {
   "cell_type": "markdown",
   "metadata": {},
   "source": [
    "#### Observation \n",
    "1. Sorted Containers is not in native python, you need to install library.\n",
    "2. Sorted Containers can add element randomly, but you need to make sure all the elements added with same type or at least they can be compared.\n",
    "3. Sorted containers provide binary search, bisect_left looks for the element equal or greater than the element, bisect_right looks for the element greater than the element.\n",
    "4. Binary Search return index, so we need to fetch the key by keys()[index]. This also means we can easily know how many element less than or greater than the target.\n"
   ]
  }
 ],
 "metadata": {
  "kernelspec": {
   "display_name": "venv",
   "language": "python",
   "name": "python3"
  },
  "language_info": {
   "codemirror_mode": {
    "name": "ipython",
    "version": 3
   },
   "file_extension": ".py",
   "mimetype": "text/x-python",
   "name": "python",
   "nbconvert_exporter": "python",
   "pygments_lexer": "ipython3",
   "version": "3.11.7"
  },
  "orig_nbformat": 4
 },
 "nbformat": 4,
 "nbformat_minor": 2
}
