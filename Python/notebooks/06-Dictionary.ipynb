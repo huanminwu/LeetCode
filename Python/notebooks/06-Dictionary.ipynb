{
 "cells": [
  {
   "attachments": {},
   "cell_type": "markdown",
   "metadata": {},
   "source": [
    "# Dictionary\n",
    "Dictionary is an object with a list of key value pairs. Such key vaule pairs can also be regarded as attributes\n"
   ]
  },
  {
   "attachments": {},
   "cell_type": "markdown",
   "metadata": {},
   "source": [
    "### Initialize Dictionary"
   ]
  },
  {
   "cell_type": "code",
   "execution_count": 1,
   "metadata": {},
   "outputs": [
    {
     "name": "stdout",
     "output_type": "stream",
     "text": [
      "{'color': 'green', 'points': 5, 'shape': 'rectangle'}\n",
      "5\n",
      "5\n"
     ]
    }
   ],
   "source": [
    "# Initialize a dictionary\n",
    "alien = {'color':'green', 'points' : 5}\n",
    "alien['shape'] = 'rectangle'\n",
    "print(alien)\n",
    "\n",
    "# Get an attribue\n",
    "print(alien['points'])\n",
    "print(alien.get('points'))\n"
   ]
  },
  {
   "cell_type": "code",
   "execution_count": 7,
   "metadata": {},
   "outputs": [
    {
     "name": "stdout",
     "output_type": "stream",
     "text": [
      "None\n"
     ]
    }
   ],
   "source": [
    "# get a non existing key\n",
    "print(alien.get('point'))"
   ]
  },
  {
   "attachments": {},
   "cell_type": "markdown",
   "metadata": {},
   "source": [
    "### Create empty Dictionary"
   ]
  },
  {
   "cell_type": "code",
   "execution_count": null,
   "metadata": {},
   "outputs": [],
   "source": [
    "# get a non existing key\n",
    "alien = {}"
   ]
  },
  {
   "attachments": {},
   "cell_type": "markdown",
   "metadata": {},
   "source": [
    "### Update dictionary"
   ]
  },
  {
   "cell_type": "code",
   "execution_count": 8,
   "metadata": {},
   "outputs": [
    {
     "name": "stdout",
     "output_type": "stream",
     "text": [
      "{'color': 'yellow', 'points': 5, 'x_position': 0, 'y_position': 25}\n"
     ]
    }
   ],
   "source": [
    "# Update an attribute\n",
    "alien = {'color':'green', 'points' : 5}\n",
    "alien['color'] = 'yellow'\n",
    "alien['x_position'] = 0\n",
    "alien['y_position'] = 25\n",
    "print(alien)"
   ]
  },
  {
   "attachments": {},
   "cell_type": "markdown",
   "metadata": {},
   "source": [
    "### keys, values and items in a dictionary"
   ]
  },
  {
   "cell_type": "code",
   "execution_count": 11,
   "metadata": {},
   "outputs": [
    {
     "name": "stdout",
     "output_type": "stream",
     "text": [
      "dictionary =  {'jen': 'python', 'sarah': 'C++', 'edward': 'ruby', 'phil': 'java'}\n",
      "keys =  dict_keys(['jen', 'sarah', 'edward', 'phil'])\n",
      "values =  dict_values(['python', 'C++', 'ruby', 'java'])\n",
      "items =  dict_items([('jen', 'python'), ('sarah', 'C++'), ('edward', 'ruby'), ('phil', 'java')])\n",
      "sorted(keys) =  ['edward', 'jen', 'phil', 'sarah']\n",
      "dict_keys(['jen', 'sarah', 'edward', 'phil'])\n",
      "jen= python\n",
      "sarah= C++\n",
      "edward= ruby\n",
      "phil= java\n"
     ]
    }
   ],
   "source": [
    "# Initialize dictionary\n",
    "favorite_languages = {\n",
    "    'jen' : 'python',\n",
    "    'sarah' : 'C++',\n",
    "    'edward' : 'ruby',\n",
    "    'phil' : 'java'\n",
    "}\n",
    "print('dictionary = ', favorite_languages)\n",
    "print('keys = ', favorite_languages.keys())\n",
    "print('values = ', favorite_languages.values())\n",
    "print('items = ', favorite_languages.items())"
   ]
  },
  {
   "cell_type": "code",
   "execution_count": 10,
   "metadata": {},
   "outputs": [
    {
     "name": "stdout",
     "output_type": "stream",
     "text": [
      "jen= python\n",
      "sarah= C++\n",
      "edward= ruby\n",
      "phil= java\n"
     ]
    }
   ],
   "source": [
    "# Iterate by keys\n",
    "for key in favorite_languages.keys() :\n",
    "    print(key + '= ' + favorite_languages[key]) "
   ]
  },
  {
   "cell_type": "code",
   "execution_count": 11,
   "metadata": {},
   "outputs": [
    {
     "name": "stdout",
     "output_type": "stream",
     "text": [
      "empty dictionary\n"
     ]
    }
   ],
   "source": [
    "# derermine the diction is empty\n",
    "alien = {}\n",
    "if len(alien) == 0:\n",
    "    print('empty dictionary')"
   ]
  },
  {
   "attachments": {},
   "cell_type": "markdown",
   "metadata": {},
   "source": [
    "#### List of dictionary"
   ]
  },
  {
   "cell_type": "code",
   "execution_count": 12,
   "metadata": {},
   "outputs": [
    {
     "name": "stdout",
     "output_type": "stream",
     "text": [
      "[{'color': 'green', 'points': 5}, {'color': 'yellow', 'points': 10}, {'color': 'red', 'points': 15}]\n"
     ]
    }
   ],
   "source": [
    "# create an array of dictionary\n",
    "alien_0 = {'color' : 'green', 'points' : 5}\n",
    "alien_1 = {'color' : 'yellow', 'points' : 10}\n",
    "alien_2 = {'color' : 'red', 'points' : 15}\n",
    "\n",
    "aliens = [alien_0, alien_1, alien_2]\n",
    "print(aliens)\n"
   ]
  },
  {
   "attachments": {},
   "cell_type": "markdown",
   "metadata": {},
   "source": [
    "#### Mix value type in Dictionary"
   ]
  },
  {
   "cell_type": "code",
   "execution_count": 13,
   "metadata": {},
   "outputs": [
    {
     "name": "stdout",
     "output_type": "stream",
     "text": [
      "{'crust': 'thick', 'toppings': ['mushrooms', 'extra cheese']}\n"
     ]
    }
   ],
   "source": [
    "# Store an array in a dictionary\n",
    "pizza = {\n",
    "    'crust':'thick',\n",
    "    'toppings' : ['mushrooms', 'extra cheese']\n",
    "}\n",
    "print(pizza)"
   ]
  },
  {
   "attachments": {},
   "cell_type": "markdown",
   "metadata": {},
   "source": [
    "#### List as value of dictionary"
   ]
  },
  {
   "cell_type": "code",
   "execution_count": 14,
   "metadata": {},
   "outputs": [
    {
     "name": "stdout",
     "output_type": "stream",
     "text": [
      "{'jen': ['python', 'java script'], 'sarah': ['C', 'C++', 'Rust'], 'edward': 'ruby', 'phil': ['java', 'go']}\n"
     ]
    }
   ],
   "source": [
    "# Store an array in a dictionary\n",
    "favorite_languages = {\n",
    "    'jen' : ['python', 'java script'],\n",
    "    'sarah' : ['C', 'C++', 'Rust'],\n",
    "    'edward' : 'ruby',\n",
    "    'phil' : ['java', 'go']\n",
    "}\n",
    "print(favorite_languages)"
   ]
  },
  {
   "attachments": {},
   "cell_type": "markdown",
   "metadata": {},
   "source": [
    "#### Dictionary as value of dictionary"
   ]
  },
  {
   "cell_type": "code",
   "execution_count": 15,
   "metadata": {},
   "outputs": [
    {
     "name": "stdout",
     "output_type": "stream",
     "text": [
      "{'aeinstein': {'first': 'albert', 'last': 'einstein', 'location': 'princeton'}, 'mcurie': {'first': 'marie', 'last': 'curie', 'location': 'paris'}}\n"
     ]
    }
   ],
   "source": [
    "# Store a dictionary in a dictionary\n",
    "users = {\n",
    "    'aeinstein' : {\n",
    "        'first' : 'albert',\n",
    "        'last' : 'einstein',\n",
    "        'location' : 'princeton'\n",
    "    },\n",
    "    'mcurie' : {\n",
    "        'first' : 'marie',\n",
    "        'last' : 'curie',\n",
    "        'location' : 'paris'\n",
    "    }\n",
    "}\n",
    "print(users)"
   ]
  },
  {
   "attachments": {},
   "cell_type": "markdown",
   "metadata": {},
   "source": [
    "#### Delete a key in Dictionary"
   ]
  },
  {
   "cell_type": "code",
   "execution_count": 2,
   "metadata": {},
   "outputs": [
    {
     "name": "stdout",
     "output_type": "stream",
     "text": [
      "{'jen': 'python', 'edward': 'ruby', 'phil': 'java'}\n"
     ]
    }
   ],
   "source": [
    "# Initialize dictionary\n",
    "favorite_languages = {\n",
    "    'jen' : 'python',\n",
    "    'sarah' : 'C++',\n",
    "    'edward' : 'ruby',\n",
    "    'phil' : 'java'\n",
    "}\n",
    "\n",
    "del favorite_languages['sarah']\n",
    "print(favorite_languages)"
   ]
  },
  {
   "attachments": {},
   "cell_type": "markdown",
   "metadata": {},
   "source": [
    "#### Iterate on dictionary keys"
   ]
  },
  {
   "cell_type": "code",
   "execution_count": null,
   "metadata": {},
   "outputs": [],
   "source": [
    "# Initialize dictionary\n",
    "favorite_languages = {\n",
    "    'jen' : 'python',\n",
    "    'sarah' : 'C++',\n",
    "    'edward' : 'ruby',\n",
    "    'phil' : 'java'\n",
    "}\n",
    "# Iterate key value pairs\n",
    "for key, value in favorite_languages.items():\n",
    "    print(key + '= ' + value) \n",
    "\n",
    "# sorted on keys\n",
    "print('sorted(keys) = ', sorted(favorite_languages.keys()))"
   ]
  },
  {
   "attachments": {},
   "cell_type": "markdown",
   "metadata": {},
   "source": [
    "#### Sort on dictionary"
   ]
  },
  {
   "cell_type": "code",
   "execution_count": 19,
   "metadata": {},
   "outputs": [
    {
     "name": "stdout",
     "output_type": "stream",
     "text": [
      "dict = {'jen': 'python', 'sarah': 'C++', 'edward': 'ruby', 'phil': 'java'}\n",
      "sorted(keys) =  [('edward', 'ruby'), ('jen', 'python'), ('phil', 'java'), ('sarah', 'C++')]\n",
      "sorted(values) =  [('sarah', 'C++'), ('phil', 'java'), ('jen', 'python'), ('edward', 'ruby')]\n"
     ]
    }
   ],
   "source": [
    "favorite_languages = {\n",
    "    'jen' : 'python',\n",
    "    'sarah' : 'C++',\n",
    "    'edward' : 'ruby',\n",
    "    'phil' : 'java'\n",
    "}\n",
    "print('dict =', favorite_languages)\n",
    "# sorted on keys\n",
    "print('sorted(keys) = ', sorted(favorite_languages.items(), key=lambda item:item[0]))\n",
    "# sorted on values\n",
    "print('sorted(values) = ', sorted(favorite_languages.items(), key=lambda item:item[1]))"
   ]
  },
  {
   "attachments": {},
   "cell_type": "markdown",
   "metadata": {},
   "source": [
    "#### Check if a key in dictionary"
   ]
  },
  {
   "cell_type": "code",
   "execution_count": 4,
   "metadata": {},
   "outputs": [
    {
     "name": "stdout",
     "output_type": "stream",
     "text": [
      "{'watermelon': 15, 'banana': 8, 'peach': 25, 'apple': 12}\n",
      "orange in fruits.keys() False\n"
     ]
    }
   ],
   "source": [
    "# Starts with a list of fruits with price\n",
    "fruits = {'watermelon' : 15, 'banana' : 8, 'peach' : 25, 'apple' : 12}\n",
    "print(fruits)\n",
    "print('orange in fruits.keys()', 'orange' in fruits.keys())    "
   ]
  },
  {
   "attachments": {},
   "cell_type": "markdown",
   "metadata": {},
   "source": [
    "#### Merge two dictionaries"
   ]
  },
  {
   "cell_type": "code",
   "execution_count": 5,
   "metadata": {},
   "outputs": [
    {
     "name": "stdout",
     "output_type": "stream",
     "text": [
      "{1: 'Nissan', 2: 'Toyota', 3: 'Lexus', 11: 'BMW', 12: 'Benz'}\n"
     ]
    }
   ],
   "source": [
    "# starts with two dictionary\n",
    "dealerA = {1: 'Nissan', 2:'Toyota', 3:'Lexus'}\n",
    "dealerB = {11: 'BMW', 12:'Benz'}\n",
    "dealerA.update(dealerB)\n",
    "print(dealerA)"
   ]
  },
  {
   "attachments": {},
   "cell_type": "markdown",
   "metadata": {},
   "source": [
    "#### Calculate Commonalities in Two Dictionaries() "
   ]
  },
  {
   "cell_type": "code",
   "execution_count": 5,
   "metadata": {},
   "outputs": [
    {
     "name": "stdout",
     "output_type": "stream",
     "text": [
      "a.keys() & b.keys() {'z', 'x'}\n",
      "a.keys() - b.keys() {'y'}\n",
      "a.keys() | b.keys() {'z', 'y', 'x', 'w'}\n"
     ]
    }
   ],
   "source": [
    "a = {\n",
    "    'x' : 1,\n",
    "    'y' : 2,\n",
    "    'z' : 3\n",
    "}\n",
    "b = {\n",
    "    'w' : 10,\n",
    "    'x' : 11,\n",
    "    'z' : 3\n",
    "}\n",
    "print(\"a.keys() & b.keys()\", a.keys() & b.keys())\n",
    "print(\"a.keys() - b.keys()\", a.keys() - b.keys())\n",
    "print(\"a.keys() | b.keys()\", a.keys() | b.keys())"
   ]
  },
  {
   "attachments": {},
   "cell_type": "markdown",
   "metadata": {},
   "source": [
    "#### Convert from list of tuple to dictionary"
   ]
  },
  {
   "cell_type": "code",
   "execution_count": 6,
   "metadata": {},
   "outputs": [
    {
     "name": "stdout",
     "output_type": "stream",
     "text": [
      "tuple_list =  [('a', 1), ('b', 2), ('c', 3), ('d', 4)]\n",
      "dictionary =  {'a': 1, 'b': 2, 'c': 3, 'd': 4}\n"
     ]
    }
   ],
   "source": [
    "tuple_list = [('a', 1), ('b', 2), ('c', 3), ('d', 4)]\n",
    "dictionary = dict(tuple_list)\n",
    "print(\"tuple_list = \", tuple_list)\n",
    "print(\"dictionary = \", dictionary)"
   ]
  },
  {
   "attachments": {},
   "cell_type": "markdown",
   "metadata": {},
   "source": [
    "#### Zip package into Dictionary"
   ]
  },
  {
   "cell_type": "code",
   "execution_count": 8,
   "metadata": {},
   "outputs": [
    {
     "name": "stdout",
     "output_type": "stream",
     "text": [
      "{'Name': 'Peter', 'Age': '30', 'Hometown': 'Chicago'}\n"
     ]
    }
   ],
   "source": [
    "# Zip package arrays\n",
    "fields = ['Name', 'Age', 'Hometown']\n",
    "info = ['Peter', '30', 'Chicago']\n",
    "zip_data = zip(fields, info)\n",
    "players = dict(zip_data)\n",
    "print(players)"
   ]
  },
  {
   "attachments": {},
   "cell_type": "markdown",
   "metadata": {},
   "source": [
    "#### Exchange values and keys in the dictionary\n",
    "We can use Zip to exchange values and keys in the dictionary"
   ]
  },
  {
   "cell_type": "code",
   "execution_count": 2,
   "metadata": {},
   "outputs": [
    {
     "name": "stdout",
     "output_type": "stream",
     "text": [
      "prices_sorted =  [(10.75, 'FB'), (37.2, 'HPQ'), (45.23, 'ACME'), (205.55, 'IBM'), (612.78, 'AAPL')]\n"
     ]
    }
   ],
   "source": [
    "prices = {\n",
    "    'ACME' : 45.23,\n",
    "    'AAPL' : 612.78,\n",
    "    'IBM' : 205.55,\n",
    "    'HPQ' : 37.20,\n",
    "    'FB' : 10.75\n",
    "}\n",
    "prices_sorted = sorted(zip(prices.values(), prices.keys()))\n",
    "print(\"prices_sorted = \", prices_sorted)"
   ]
  },
  {
   "attachments": {},
   "cell_type": "markdown",
   "metadata": {},
   "source": [
    "#### Filter specific attribute in dictionary"
   ]
  },
  {
   "cell_type": "code",
   "execution_count": 6,
   "metadata": {},
   "outputs": [
    {
     "name": "stdout",
     "output_type": "stream",
     "text": [
      "{'AAPL': 612.78, 'IBM': 205.55}\n"
     ]
    }
   ],
   "source": [
    "prices = {\n",
    "    'ACME' : 45.23,\n",
    "    'AAPL' : 612.78,\n",
    "    'IBM' : 205.55,\n",
    "    'HPQ' : 37.20,\n",
    "    'FB' : 10.75\n",
    "}\n",
    "p1 = {key : value for key, value in prices.items() if value > 200}\n",
    "print(p1)"
   ]
  },
  {
   "attachments": {},
   "cell_type": "markdown",
   "metadata": {},
   "source": [
    "### List of dictionary\n",
    "We can have a list of dictionary and the sort on one if its attribute."
   ]
  },
  {
   "cell_type": "code",
   "execution_count": 21,
   "metadata": {},
   "outputs": [
    {
     "name": "stdout",
     "output_type": "stream",
     "text": [
      "[{'name': 'James', 'math': 80, 'chinese': 95, 'english': 88}, {'name': 'Tim', 'math': 98, 'chinese': 97, 'english': 96}, {'name': 'Susan', 'math': 91, 'chinese': 93, 'english': 95}, {'name': 'Derick', 'math': 92, 'chinese': 94, 'english': 90}, {'name': 'Tracy', 'math': 92, 'chinese': 97, 'english': 80}]\n",
      "After sorted on math\n",
      "[{'name': 'Tim', 'math': 98, 'chinese': 97, 'english': 96}, {'name': 'Derick', 'math': 92, 'chinese': 94, 'english': 90}, {'name': 'Tracy', 'math': 92, 'chinese': 97, 'english': 80}, {'name': 'Susan', 'math': 91, 'chinese': 93, 'english': 95}, {'name': 'James', 'math': 80, 'chinese': 95, 'english': 88}]\n"
     ]
    }
   ],
   "source": [
    "scores = [\n",
    "    {'name':'James', 'math':80, 'chinese':95, 'english':88},\n",
    "    {'name':'Tim', 'math':98, 'chinese':97, 'english':96},\n",
    "    {'name':'Susan', 'math':91, 'chinese':93, 'english':95},\n",
    "    {'name':'Derick', 'math':92, 'chinese':94, 'english':90},\n",
    "    {'name':'Tracy', 'math':92, 'chinese':97, 'english':80}\n",
    "]\n",
    "print(scores)\n",
    "scores.sort(key = lambda x : x.get('math'), reverse=True)\n",
    "print('After sorted on math')\n",
    "print(scores)"
   ]
  },
  {
   "attachments": {},
   "cell_type": "markdown",
   "metadata": {},
   "source": [
    "### Dictionary Generator"
   ]
  },
  {
   "cell_type": "code",
   "execution_count": 22,
   "metadata": {},
   "outputs": [
    {
     "name": "stdout",
     "output_type": "stream",
     "text": [
      "{'d': 1, 'e': 3, 'p': 1, 's': 1, 't': 1, 'o': 1, 'n': 1}\n"
     ]
    }
   ],
   "source": [
    "#calculate characters count in word\n",
    "word = 'deepstone'\n",
    "alphabetCount = {alphabet:word.count(alphabet) for alphabet in word}\n",
    "print(alphabetCount)"
   ]
  },
  {
   "attachments": {},
   "cell_type": "markdown",
   "metadata": {},
   "source": [
    "#### Observation\n",
    "1. The dictionary can be initialized with multi-lines, but starting '{' should be in the same line as assignment.\n",
    "2. We can iterate a dictionary by key value pair in dictionary.items() or by dictionary.keys()\n",
    "3. Multiple dictionaries can be loaded to one array.\n",
    "4. We can store an array as value in a dictionary.\n",
    "5. We can store an dictionary as value in dictionary."
   ]
  }
 ],
 "metadata": {
  "kernelspec": {
   "display_name": "venv",
   "language": "python",
   "name": "python3"
  },
  "language_info": {
   "codemirror_mode": {
    "name": "ipython",
    "version": 3
   },
   "file_extension": ".py",
   "mimetype": "text/x-python",
   "name": "python",
   "nbconvert_exporter": "python",
   "pygments_lexer": "ipython3",
   "version": "3.11.8"
  },
  "orig_nbformat": 4
 },
 "nbformat": 4,
 "nbformat_minor": 2
}
