{
 "cells": [
  {
   "attachments": {},
   "cell_type": "markdown",
   "metadata": {},
   "source": [
    "# Function\n",
    "In this notebook we will learn function."
   ]
  },
  {
   "attachments": {},
   "cell_type": "markdown",
   "metadata": {},
   "source": [
    "### Define function"
   ]
  },
  {
   "cell_type": "code",
   "execution_count": 1,
   "metadata": {},
   "outputs": [
    {
     "name": "stdout",
     "output_type": "stream",
     "text": [
      "Hello!\n"
     ]
    }
   ],
   "source": [
    "# define a function without parameter. \n",
    "def greet_user():\n",
    "    print(\"Hello!\")\n",
    "\n",
    "greet_user()"
   ]
  },
  {
   "cell_type": "code",
   "execution_count": 2,
   "metadata": {},
   "outputs": [
    {
     "name": "stdout",
     "output_type": "stream",
     "text": [
      "Hello, Jesse\n"
     ]
    }
   ],
   "source": [
    "# define a function with parameter. \n",
    "def greet_user(username):\n",
    "    print(\"Hello, \" + username.title())\n",
    "\n",
    "greet_user('jesse')"
   ]
  },
  {
   "cell_type": "code",
   "execution_count": 6,
   "metadata": {},
   "outputs": [
    {
     "name": "stdout",
     "output_type": "stream",
     "text": [
      "I have a Hamster\n",
      "My Hamster's name is Harry\n",
      "I have a Dog\n",
      "My Dog's name is Willie\n",
      "I have a Pig\n",
      "My Pig's name is Allen\n"
     ]
    }
   ],
   "source": [
    "# define a function with two parameters\n",
    "def describe_pet(animal_type, pet_name) :\n",
    "    print(\"I have a {animal_type}\".format(animal_type = animal_type.title()))\n",
    "    print(\"My {animal_type}'s name is {pet_name}\".format(animal_type = animal_type.title(), pet_name = pet_name.title()))\n",
    "\n",
    "describe_pet('hamster', 'harry')\n",
    "describe_pet('dog', 'willie')\n",
    "describe_pet(pet_name = 'allen', animal_type = 'pig')"
   ]
  },
  {
   "attachments": {},
   "cell_type": "markdown",
   "metadata": {},
   "source": [
    "#### Observation\n",
    "1. We can pass the parameters based on the position in the definition.\n",
    "2. We can pass the parameters with specified parameter name regardless the position."
   ]
  },
  {
   "attachments": {},
   "cell_type": "markdown",
   "metadata": {},
   "source": [
    "### Function with optional parameter"
   ]
  },
  {
   "cell_type": "code",
   "execution_count": 8,
   "metadata": {},
   "outputs": [
    {
     "name": "stdout",
     "output_type": "stream",
     "text": [
      "I have a Hamster\n",
      "My Hamster's name is Harry\n",
      "I have a Pig\n",
      "My Pig's name is Allen\n"
     ]
    }
   ],
   "source": [
    "# define a function with optional parameters\n",
    "def describe_pet(pet_name, animal_type = 'pig') :\n",
    "    print(\"I have a {animal_type}\".format(animal_type = animal_type.title()))\n",
    "    print(\"My {animal_type}'s name is {pet_name}\".format(animal_type = animal_type.title(), pet_name = pet_name.title()))\n",
    "\n",
    "describe_pet('harry', 'hamster')\n",
    "describe_pet('allen')"
   ]
  },
  {
   "attachments": {},
   "cell_type": "markdown",
   "metadata": {},
   "source": [
    "### Function with return value"
   ]
  },
  {
   "cell_type": "code",
   "execution_count": 9,
   "metadata": {},
   "outputs": [
    {
     "name": "stdout",
     "output_type": "stream",
     "text": [
      "{'animal_type': 'hamster', 'pet_name': 'harry'}\n"
     ]
    }
   ],
   "source": [
    "# define a function with a dictionary as return value\n",
    "def describe_pet(pet_name, animal_type = 'pig') :\n",
    "    pet = {'animal_type' : animal_type, 'pet_name' : pet_name}\n",
    "    return pet\n",
    "\n",
    "pet = describe_pet('harry', 'hamster')\n",
    "print(pet)"
   ]
  },
  {
   "attachments": {},
   "cell_type": "markdown",
   "metadata": {},
   "source": [
    "### Function with variable parameters"
   ]
  },
  {
   "cell_type": "code",
   "execution_count": 11,
   "metadata": {},
   "outputs": [
    {
     "name": "stdout",
     "output_type": "stream",
     "text": [
      "Making a pizza with the following toppings: \n",
      " - pepperoni\n",
      "Making a pizza with the following toppings: \n",
      " - mushrooms\n",
      " - green peppers\n",
      " - extra cheese\n"
     ]
    }
   ],
   "source": [
    "def make_pizza(*toppings) :\n",
    "    print(\"Making a pizza with the following toppings: \")\n",
    "    for topping in toppings :\n",
    "        print(\" - \" + topping)\n",
    "\n",
    "make_pizza('pepperoni')\n",
    "make_pizza('mushrooms', 'green peppers', 'extra cheese')"
   ]
  },
  {
   "cell_type": "code",
   "execution_count": 12,
   "metadata": {},
   "outputs": [
    {
     "name": "stdout",
     "output_type": "stream",
     "text": [
      "{'location': 'princeton', 'field': 'physics', 'first_name': 'albert', 'last_name': 'einstein'}\n"
     ]
    }
   ],
   "source": [
    "def build_profile(first, last, **user_info) :\n",
    "    user_info['first_name'] = first\n",
    "    user_info['last_name'] = last\n",
    "    return user_info\n",
    "\n",
    "user_profile = build_profile('albert', 'einstein', location='princeton', field='physics')\n",
    "print(user_profile)"
   ]
  }
 ],
 "metadata": {
  "kernelspec": {
   "display_name": "venv",
   "language": "python",
   "name": "python3"
  },
  "language_info": {
   "codemirror_mode": {
    "name": "ipython",
    "version": 3
   },
   "file_extension": ".py",
   "mimetype": "text/x-python",
   "name": "python",
   "nbconvert_exporter": "python",
   "pygments_lexer": "ipython3",
   "version": "3.11.4"
  },
  "orig_nbformat": 4
 },
 "nbformat": 4,
 "nbformat_minor": 2
}
