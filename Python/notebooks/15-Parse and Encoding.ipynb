{
 "cells": [
  {
   "attachments": {},
   "cell_type": "markdown",
   "metadata": {},
   "source": [
    "# Parse and Encoding\n",
    "In this notebook we will learn how to parse the text with specific format and encoding the text in specific format."
   ]
  },
  {
   "attachments": {},
   "cell_type": "markdown",
   "metadata": {},
   "source": [
    "### CSV"
   ]
  },
  {
   "attachments": {},
   "cell_type": "markdown",
   "metadata": {},
   "source": [
    "#### Read CSV from string\n",
    "Due the limitation of jupiter notebook, we use multi-lines string as input"
   ]
  },
  {
   "cell_type": "code",
   "execution_count": 53,
   "metadata": {},
   "outputs": [
    {
     "name": "stdout",
     "output_type": "stream",
     "text": [
      "headers = ['Symbol', 'Price', 'Date', 'Time', 'Change', 'Volume']\n",
      "rows = [('AA', 39.48, '6/11/2007', '9:36am', -0.18, 181800), ('AIG', 71.38, '6/11/2007', '9:36am', -0.15, 195500), ('AXP', 62.58, '6/11/2007', '9:36am', -0.46, 935000), ('BA', 98.31, '6/11/2007', '9:36am', 0.12, 104800), ('C', 53.08, '6/11/2007', '9:36am', -0.25, 360900), ('CAT', 78.29, '6/11/2007', '9:36am', -0.23, 225400)]\n"
     ]
    }
   ],
   "source": [
    "import csv\n",
    "s = '''\n",
    "Symbol,Price,Date,Time,Change,Volume    \n",
    "\"AA\",39.48,\"6/11/2007\",\"9:36am\",-0.18,181800    \n",
    "\"AIG\",71.38,\"6/11/2007\",\"9:36am\",-0.15,195500    \n",
    "\"AXP\",62.58,\"6/11/2007\",\"9:36am\",-0.46,935000    \n",
    "\"BA\",98.31,\"6/11/2007\",\"9:36am\",+0.12,104800    \n",
    "\"C\",53.08,\"6/11/2007\",\"9:36am\",-0.25,360900    \n",
    "\"CAT\",78.29,\"6/11/2007\",\"9:36am\",-0.23,225400\n",
    "'''\n",
    "f_csv = csv.reader((line for line in s.splitlines() if line.strip() != ''), delimiter= ',')\n",
    "headers = None\n",
    "rows = []\n",
    "col_types = [str, float, str, str, float, int]\n",
    "for row in f_csv:\n",
    "    if headers == None:\n",
    "        headers = [column.strip() for column in row] \n",
    "    else :\n",
    "        row = tuple(convert(value) for convert, value in zip(col_types, row))\n",
    "        rows.append(row)\n",
    "print(\"headers =\", headers)\n",
    "print(\"rows =\", rows)"
   ]
  },
  {
   "cell_type": "markdown",
   "metadata": {},
   "source": [
    "#### Observation\n",
    "1. A csv line can be empty, so we need to filter out empty line.\n",
    "2. We can customize delimiters.\n",
    "3. By default all the columns are treated as string and yoiu may have space before and after, so you need to trim (strip()) it.\n",
    "4. You can convert data with predefined types.\n",
    "5. header is considered as a list of element, rows can be treated as a list of tuple (for performance)."
   ]
  },
  {
   "cell_type": "markdown",
   "metadata": {},
   "source": [
    "#### Write CSV data into String"
   ]
  },
  {
   "cell_type": "code",
   "execution_count": 44,
   "metadata": {},
   "outputs": [
    {
     "name": "stdout",
     "output_type": "stream",
     "text": [
      "\"Symbol\",\"Price\",\"Date\",\"Time\",\"Change\",\"Volume\"\n",
      "\"AA\",39.48,\"6/11/2007\",\"9:36am\",-0.18,181800\n",
      "\"AIG\",71.38,\"6/11/2007\",\"9:36am\",-0.15,195500\n",
      "\"AXP\",62.58,\"6/11/2007\",\"9:36am\",-0.46,935000\n",
      "\"BA\",98.31,\"6/11/2007\",\"9:36am\",0.12,104800\n",
      "\"C\",53.08,\"6/11/2007\",\"9:36am\",-0.25,360900\n",
      "\"CAT\",78.29,\"6/11/2007\",\"9:36am\",-0.23,225400\n",
      "\n"
     ]
    }
   ],
   "source": [
    "headers = ['Symbol', 'Price', 'Date', 'Time', 'Change', 'Volume']\n",
    "rows = [\n",
    "    ('AA', 39.48, '6/11/2007', '9:36am', -0.18, 181800), \n",
    "    ('AIG', 71.38, '6/11/2007', '9:36am', -0.15, 195500), \n",
    "    ('AXP', 62.58, '6/11/2007', '9:36am', -0.46, 935000), \n",
    "    ('BA', 98.31, '6/11/2007', '9:36am', 0.12, 104800), \n",
    "    ('C', 53.08, '6/11/2007', '9:36am', -0.25, 360900), \n",
    "    ('CAT', 78.29, '6/11/2007', '9:36am', -0.23, 225400)\n",
    "]\n",
    "import csv\n",
    "import io\n",
    "output = io.StringIO()\n",
    "writer = csv.writer(output, quoting=csv.QUOTE_NONNUMERIC)\n",
    "writer.writerow(headers)\n",
    "for row in rows:\n",
    "    writer.writerow(row)\n",
    "print(output.getvalue())"
   ]
  },
  {
   "cell_type": "markdown",
   "metadata": {},
   "source": [
    "### Json"
   ]
  },
  {
   "cell_type": "markdown",
   "metadata": {},
   "source": [
    "#### Load a JSON string"
   ]
  },
  {
   "cell_type": "code",
   "execution_count": 56,
   "metadata": {},
   "outputs": [
    {
     "data": {
      "text/plain": [
       "OrderedDict([('name', 'ACME'), ('shares', 50), ('price', 490.1)])"
      ]
     },
     "execution_count": 56,
     "metadata": {},
     "output_type": "execute_result"
    }
   ],
   "source": [
    "import json\n",
    "s = '{\"name\": \"ACME\", \"shares\":50, \"price\":490.1}'\n",
    "from collections import OrderedDict\n",
    "data = json.loads(s, object_pairs_hook=OrderedDict)\n",
    "print(data)"
   ]
  },
  {
   "cell_type": "markdown",
   "metadata": {},
   "source": [
    "#### Dump JSON data"
   ]
  },
  {
   "cell_type": "code",
   "execution_count": 60,
   "metadata": {},
   "outputs": [
    {
     "name": "stdout",
     "output_type": "stream",
     "text": [
      "json_str =  {\"name\": \"ACME\", \"shares\": 100, \"price\": 542.23} <class 'str'>\n"
     ]
    }
   ],
   "source": [
    "import json\n",
    "data = {\n",
    "    'name' : 'ACME',\n",
    "    'shares' : 100,\n",
    "    'price' : 542.23\n",
    "}\n",
    "json_str = json.dumps(data)\n",
    "print('json_str = ', json_str)"
   ]
  },
  {
   "cell_type": "markdown",
   "metadata": {},
   "source": [
    "### XML"
   ]
  },
  {
   "cell_type": "markdown",
   "metadata": {},
   "source": [
    "#### Parse XML"
   ]
  },
  {
   "cell_type": "code",
   "execution_count": 79,
   "metadata": {},
   "outputs": [
    {
     "name": "stdout",
     "output_type": "stream",
     "text": [
      "[{'title': 'Steve Holden: Python for Data Analysis', 'date': 'Mon, 19 Nov 2012 02:13:51 +0000', 'link': 'http://holdenweb.blogspot.com/...-data-analysis.html'}, {'title': 'Vasudev Ram: The Python Data model (for v2 and v3)', 'date': 'Sun, 18 Nov 2012 22:06:47 +0000', 'link': 'http://jugad2.blogspot.com/...-data-model.html'}, {'title': 'Python Diary: Been playing around with Object Databases', 'date': 'Sun, 18 Nov 2012 20:40:29 +0000', 'link': 'http://www.pythondiary.com/...-object-databases.html'}]\n"
     ]
    }
   ],
   "source": [
    "import xml.etree.ElementTree as ET\n",
    "\n",
    "# XML string\n",
    "xml_string = '''\n",
    "    <?xml version=\"1.0\"?>    \n",
    "    <rss version=\"2.0\" xmlns:dc=\"http://purl.org/dc/elements/1.1/\">    \n",
    "        <channel>      \n",
    "            <title>Planet Python</title>      \n",
    "            <link>http://planet.python.org/</link>      \n",
    "            <language>en</language>      \n",
    "            <description>Planet Python - http://planet.python.org/</description>      \n",
    "            <item>        \n",
    "                <title>Steve Holden: Python for Data Analysis</title>          \n",
    "                <guid>http://holdenweb.blogspot.com/...-data-analysis.html</guid>          \n",
    "                <link>http://holdenweb.blogspot.com/...-data-analysis.html</link>          \n",
    "                <description>...</description>          \n",
    "                <pubDate>Mon, 19 Nov 2012 02:13:51 +0000</pubDate>      \n",
    "            </item>      \n",
    "            <item>\n",
    "                <title>Vasudev Ram: The Python Data model (for v2 and v3)</title>        \n",
    "                <guid>http://jugad2.blogspot.com/...-data-model.html</guid>        \n",
    "                <link>http://jugad2.blogspot.com/...-data-model.html</link>        \n",
    "                <description>...</description>        \n",
    "                <pubDate>Sun, 18 Nov 2012 22:06:47 +0000</pubDate>        \n",
    "            </item>      \n",
    "            <item>        \n",
    "                <title>Python Diary: Been playing around with Object Databases</title>        \n",
    "                <guid>http://www.pythondiary.com/...-object-databases.html</guid>        \n",
    "                <link>http://www.pythondiary.com/...-object-databases.html</link>        \n",
    "                <description>...</description>        \n",
    "                <pubDate>Sun, 18 Nov 2012 20:40:29 +0000</pubDate>      \n",
    "            </item>\n",
    "        </channel>    \n",
    "    </rss>\n",
    "'''\n",
    "\n",
    "# Parse the XML string\n",
    "start_index = xml_string.find('?>')\n",
    "xml_content = xml_string[start_index + 2 if start_index >= 0 else 0:]\n",
    "root = ET.fromstring(xml_content)\n",
    "\n",
    "rows = []\n",
    "for item in root.iterfind('channel/item'):    \n",
    "    title = item.findtext('title')    \n",
    "    date = item.findtext('pubDate')    \n",
    "    link = item.findtext('link')\n",
    "    rows.append({'title': title, 'date' : date, 'link' : link})\n",
    "print(rows)"
   ]
  },
  {
   "cell_type": "markdown",
   "metadata": {},
   "source": [
    "#### Turning Dictionary into XML"
   ]
  },
  {
   "cell_type": "code",
   "execution_count": 99,
   "metadata": {},
   "outputs": [
    {
     "name": "stdout",
     "output_type": "stream",
     "text": [
      "<stock><name>GOOG</name><shares>100</shares><prices>490.1</prices></stock>\n"
     ]
    }
   ],
   "source": [
    "from xml.etree.ElementTree import Element, tostring\n",
    "def dict_to_xml(tag : str, d :dict) -> Element: \n",
    "    '''\n",
    "    Turn a simple dict of key/value pairs into XML\n",
    "    '''\n",
    "    elem = Element(tag)\n",
    "    for key, val in d.items():\n",
    "        child = Element(key)\n",
    "        child.text = str(val)\n",
    "        elem.append(child)\n",
    "    return elem\n",
    "\n",
    "s = {'name' : 'GOOG', 'shares':100, 'prices':490.1}\n",
    "e = dict_to_xml('stock', s)\n",
    "xml_string = tostring(e, encoding='utf-8', method='xml')\n",
    "print(xml_string.decode('utf-8'))\n"
   ]
  },
  {
   "cell_type": "markdown",
   "metadata": {},
   "source": [
    "#### Modifying XML"
   ]
  },
  {
   "cell_type": "code",
   "execution_count": 103,
   "metadata": {},
   "outputs": [
    {
     "name": "stdout",
     "output_type": "stream",
     "text": [
      "xml_content = \n",
      "<stop>\n",
      "    <id>14791</id>\n",
      "    <nm>Clark &amp; Balmoral</nm>\n",
      "    <sri>\n",
      "        <rt>22</rt>\n",
      "        <d>North Bound</d>\n",
      "        <dd>North Bound</dd>\n",
      "    </sri>\n",
      "    <cr>22</cr>\n",
      "    <pre>\n",
      "        <pt>5 MIN</pt>\n",
      "        <fd>Howard</fd>\n",
      "        <v>1378</v>\n",
      "        <rn>22</rn>\n",
      "    </pre>\n",
      "    <pre>\n",
      "        <pt>15 MIN</pt>\n",
      "        <fd>Howard</fd>\n",
      "        <v>1867</v>\n",
      "        <rn>22</rn>\n",
      "    </pre>\n",
      "</stop>\n",
      "\n",
      "xml_string =  <stop>\n",
      "    <id>14791</id>\n",
      "    <nm>Clark &amp; Balmoral</nm>\n",
      "    <spam>This is a test</spam><pre>\n",
      "        <pt>5 MIN</pt>\n",
      "        <fd>Howard</fd>\n",
      "        <v>1378</v>\n",
      "        <rn>22</rn>\n",
      "    </pre>\n",
      "    <pre>\n",
      "        <pt>15 MIN</pt>\n",
      "        <fd>Howard</fd>\n",
      "        <v>1867</v>\n",
      "        <rn>22</rn>\n",
      "    </pre>\n",
      "</stop>\n"
     ]
    }
   ],
   "source": [
    "from xml.etree.ElementTree import parse, Element, fromstring\n",
    "xml_string = '''\n",
    "<?xml version=\"1.0\"?>\n",
    "<stop>\n",
    "    <id>14791</id>\n",
    "    <nm>Clark &amp; Balmoral</nm>\n",
    "    <sri>\n",
    "        <rt>22</rt>\n",
    "        <d>North Bound</d>\n",
    "        <dd>North Bound</dd>\n",
    "    </sri>\n",
    "    <cr>22</cr>\n",
    "    <pre>\n",
    "        <pt>5 MIN</pt>\n",
    "        <fd>Howard</fd>\n",
    "        <v>1378</v>\n",
    "        <rn>22</rn>\n",
    "    </pre>\n",
    "    <pre>\n",
    "        <pt>15 MIN</pt>\n",
    "        <fd>Howard</fd>\n",
    "        <v>1867</v>\n",
    "        <rn>22</rn>\n",
    "    </pre>\n",
    "</stop>\n",
    "'''\n",
    "start_index = xml_string.find('?>')\n",
    "xml_content = xml_string[start_index + 2 if start_index >= 0 else 0:]\n",
    "print('xml_content =', xml_content)\n",
    "root = fromstring(xml_content)\n",
    "root.remove(root.find('sri'))\n",
    "root.remove(root.find('cr'))\n",
    "e = Element('spam')\n",
    "e.text = 'This is a test'\n",
    "root.insert(2, e)\n",
    "xml_string = tostring(root, encoding='utf-8', method='xml')\n",
    "print('xml_string = ', xml_string.decode('utf-8'))\n",
    "\n"
   ]
  }
 ],
 "metadata": {
  "kernelspec": {
   "display_name": "venv",
   "language": "python",
   "name": "python3"
  },
  "language_info": {
   "codemirror_mode": {
    "name": "ipython",
    "version": 3
   },
   "file_extension": ".py",
   "mimetype": "text/x-python",
   "name": "python",
   "nbconvert_exporter": "python",
   "pygments_lexer": "ipython3",
   "version": "3.11.4"
  },
  "orig_nbformat": 4
 },
 "nbformat": 4,
 "nbformat_minor": 2
}
