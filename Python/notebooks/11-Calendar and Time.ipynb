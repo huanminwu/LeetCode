{
 "cells": [
  {
   "attachments": {},
   "cell_type": "markdown",
   "metadata": {},
   "source": [
    "# Calendar and Time\n",
    "In this notebook we will learn Calendar and Time."
   ]
  },
  {
   "attachments": {},
   "cell_type": "markdown",
   "metadata": {},
   "source": [
    "## Time\n",
    "The time module will have the following methods\n",
    "| Function Name | Explanation |\n",
    "| --- | --- |\n",
    "| time() | get elapsed seconds since 1970/01/01 |\n",
    "| sleep(n) | sleep n seconds |\n",
    "| asctime() | generate readable time |\n",
    "| localtime() | return local time |\n",
    "| ctime() | return local time in readable format |\n",
    "| process_time() | get the program execution time |"
   ]
  },
  {
   "cell_type": "code",
   "execution_count": 4,
   "metadata": {},
   "outputs": [
    {
     "name": "stdout",
     "output_type": "stream",
     "text": [
      "time():  1688594734.121745\n",
      "asctime():  Wed Jul  5 15:05:34 2023\n",
      "localtime():  time.struct_time(tm_year=2023, tm_mon=7, tm_mday=5, tm_hour=15, tm_min=5, tm_sec=34, tm_wday=2, tm_yday=186, tm_isdst=1)\n",
      "ctime():  Wed Jul  5 15:05:34 2023\n",
      "process_time():  1.15625\n"
     ]
    }
   ],
   "source": [
    "# Print different time.\n",
    "import time\n",
    "\n",
    "# print asc time\n",
    "print(\"time(): \", time.time())\n",
    "print(\"asctime(): \", time.asctime())\n",
    "print(\"localtime(): \", time.localtime())\n",
    "print(\"ctime(): \", time.ctime())\n",
    "print(\"process_time(): \", time.process_time())"
   ]
  },
  {
   "cell_type": "markdown",
   "metadata": {},
   "source": [
    "## Datetime"
   ]
  },
  {
   "cell_type": "code",
   "execution_count": 19,
   "metadata": {},
   "outputs": [
    {
     "name": "stdout",
     "output_type": "stream",
     "text": [
      "a.year =  2023 ; a.month =  7 ; a.day =  7 ; a.weekday() =  4\n",
      "a =  2023-07-07 00:00:00 ; b =  2023-12-21 00:00:00\n",
      "b - a =  167 days, 0:00:00\n",
      "c =  2 days, 6:00:00\n",
      "a + c =  2023-07-09 06:00:00\n",
      "d =  relativedelta(months=+2)\n",
      "a + d =  2023-09-07 00:00:00\n",
      "e =  relativedelta(days=-7)\n",
      "a + e =  2023-06-30 00:00:00\n",
      "f =  relativedelta(weekday=FR)\n",
      "a + f =  2023-07-07 00:00:00\n"
     ]
    }
   ],
   "source": [
    "from datetime import timedelta\n",
    "from datetime import datetime\n",
    "from dateutil.relativedelta import relativedelta\n",
    "a = datetime(2023, 7, 7)\n",
    "b = datetime(2023, 12, 21)\n",
    "print(\"a.year = \", a.year, \"; a.month = \", a.month, \"; a.day = \", a.day, \"; a.weekday() = \", a.weekday())\n",
    "print(\"a = \", a, \"; b = \", b)\n",
    "print(\"b - a = \", b - a)\n",
    "c = timedelta(days = 2, hours = 6)\n",
    "print (\"c = \", c)\n",
    "print (\"a + c = \", a + c)\n",
    "\n",
    "# add month\n",
    "d = relativedelta(months = 2)\n",
    "print (\"d = \", d)\n",
    "print (\"a + d = \", a + d)\n",
    "\n",
    "# add week\n",
    "e = relativedelta(weeks = -1)\n",
    "print (\"e = \", e)\n",
    "print (\"a + e = \", a + e)\n",
    "\n",
    "# add next Fridayweek\n",
    "f = relativedelta(weekday=4)\n",
    "print (\"f = \", f)\n",
    "print (\"a + f = \", a + f)\n",
    "\n"
   ]
  },
  {
   "cell_type": "markdown",
   "metadata": {},
   "source": [
    "#### Convert string to datetime\n",
    "To be fair in python the conversion from string to datetime is not well design, because programers have to know the date time format in the string. The following table list all the format specification.\n",
    "| format code | Explanation |\n",
    "| --- | --- |\n",
    "| %Y | 4-digit year |\n",
    "|%y | 2-digit year |\n",
    "| %m | 2-digit month (01-12) |\n",
    "| %d | 2-digit day of the month (01-31) |\n",
    "| %H | 2-digit hour (00-23) |\n",
    "| %I | 2-digit hour (00-12) |\n",
    "| %M | 2-digit minute (00-59) |\n",
    "| %S | 2-digit second (00-59) |\n",
    "| %p | AM or PM |\n",
    "| %z | time offset, time zone |\n",
    "| %a | weekday short name, 3 characters |\n",
    "| %A | weekday full name |\n",
    "| %b | month short name, 3 characters |\n",
    "| %B | month full name |"
   ]
  },
  {
   "cell_type": "code",
   "execution_count": 20,
   "metadata": {},
   "outputs": [],
   "source": [
    "# date time examples\n",
    "date_str = '02/28/2023 02:30 PM'\n",
    "date_format = '%m/%d/%Y %I:%M %p'\n",
    "\n",
    "date_str = '2023-02-28 14:30:00'\n",
    "date_format = '%Y-%m-%d %H:%M:%S'\n",
    "\n",
    "date_str = '2023-02-28 14:30:00+05:30'\n",
    "date_format = '%Y-%m-%d %H:%M:%S%z'\n",
    "\n",
    "datetime_str = '09/19/22 13:55:26'\n",
    "date_format = '%m/%d/%y %H:%M:%S'\n",
    "\n",
    "datetime_str = 'Mon Dec 12 14:55:02 2022'\n",
    "date_format = \"%a %b %d %H:%M:%S %Y\"\n",
    "\n",
    "datetime_str = 'December 12 14:55:02 2022'\n",
    "date_format = \"%B %d %H:%M:%S %Y\""
   ]
  },
  {
   "cell_type": "markdown",
   "metadata": {},
   "source": [
    "#### time zone"
   ]
  },
  {
   "cell_type": "code",
   "execution_count": 25,
   "metadata": {},
   "outputs": [
    {
     "name": "stdout",
     "output_type": "stream",
     "text": [
      "2023-07-07 22:04:40.989931\n",
      "2023-07-07 22:04:40.989931+00:00\n"
     ]
    }
   ],
   "source": [
    "# Get utc time \n",
    "from datetime import timezone\n",
    "import datetime\n",
    "dt = datetime.datetime.now(timezone.utc) \n",
    "print(dt)"
   ]
  },
  {
   "attachments": {},
   "cell_type": "markdown",
   "metadata": {},
   "source": [
    "## Calendar\n",
    "The calendar module will have the following methods\n",
    "| Function Name | Explanation |\n",
    "| --- | --- |\n",
    "| isleap(int) | determine if it is a leap year |\n",
    "| month(int, int) | return calendar in a month |\n",
    "| calendar(int) | get the calendar in a year |"
   ]
  },
  {
   "cell_type": "code",
   "execution_count": 7,
   "metadata": {},
   "outputs": [
    {
     "name": "stdout",
     "output_type": "stream",
     "text": [
      "     July 2023\n",
      "Mo Tu We Th Fr Sa Su\n",
      "                1  2\n",
      " 3  4  5  6  7  8  9\n",
      "10 11 12 13 14 15 16\n",
      "17 18 19 20 21 22 23\n",
      "24 25 26 27 28 29 30\n",
      "31\n",
      "\n",
      "                                  2023\n",
      "\n",
      "      January                   February                   March\n",
      "Mo Tu We Th Fr Sa Su      Mo Tu We Th Fr Sa Su      Mo Tu We Th Fr Sa Su\n",
      "                   1             1  2  3  4  5             1  2  3  4  5\n",
      " 2  3  4  5  6  7  8       6  7  8  9 10 11 12       6  7  8  9 10 11 12\n",
      " 9 10 11 12 13 14 15      13 14 15 16 17 18 19      13 14 15 16 17 18 19\n",
      "16 17 18 19 20 21 22      20 21 22 23 24 25 26      20 21 22 23 24 25 26\n",
      "23 24 25 26 27 28 29      27 28                     27 28 29 30 31\n",
      "30 31\n",
      "\n",
      "       April                      May                       June\n",
      "Mo Tu We Th Fr Sa Su      Mo Tu We Th Fr Sa Su      Mo Tu We Th Fr Sa Su\n",
      "                1  2       1  2  3  4  5  6  7                1  2  3  4\n",
      " 3  4  5  6  7  8  9       8  9 10 11 12 13 14       5  6  7  8  9 10 11\n",
      "10 11 12 13 14 15 16      15 16 17 18 19 20 21      12 13 14 15 16 17 18\n",
      "17 18 19 20 21 22 23      22 23 24 25 26 27 28      19 20 21 22 23 24 25\n",
      "24 25 26 27 28 29 30      29 30 31                  26 27 28 29 30\n",
      "\n",
      "        July                     August                  September\n",
      "Mo Tu We Th Fr Sa Su      Mo Tu We Th Fr Sa Su      Mo Tu We Th Fr Sa Su\n",
      "                1  2          1  2  3  4  5  6                   1  2  3\n",
      " 3  4  5  6  7  8  9       7  8  9 10 11 12 13       4  5  6  7  8  9 10\n",
      "10 11 12 13 14 15 16      14 15 16 17 18 19 20      11 12 13 14 15 16 17\n",
      "17 18 19 20 21 22 23      21 22 23 24 25 26 27      18 19 20 21 22 23 24\n",
      "24 25 26 27 28 29 30      28 29 30 31               25 26 27 28 29 30\n",
      "31\n",
      "\n",
      "      October                   November                  December\n",
      "Mo Tu We Th Fr Sa Su      Mo Tu We Th Fr Sa Su      Mo Tu We Th Fr Sa Su\n",
      "                   1             1  2  3  4  5                   1  2  3\n",
      " 2  3  4  5  6  7  8       6  7  8  9 10 11 12       4  5  6  7  8  9 10\n",
      " 9 10 11 12 13 14 15      13 14 15 16 17 18 19      11 12 13 14 15 16 17\n",
      "16 17 18 19 20 21 22      20 21 22 23 24 25 26      18 19 20 21 22 23 24\n",
      "23 24 25 26 27 28 29      27 28 29 30               25 26 27 28 29 30 31\n",
      "30 31\n",
      "\n"
     ]
    }
   ],
   "source": [
    "# get a calendar in a month\n",
    "import calendar\n",
    "print(calendar.month(2023,7))\n",
    "\n",
    "print(calendar.calendar(2023))\n"
   ]
  }
 ],
 "metadata": {
  "kernelspec": {
   "display_name": "venv",
   "language": "python",
   "name": "python3"
  },
  "language_info": {
   "codemirror_mode": {
    "name": "ipython",
    "version": 3
   },
   "file_extension": ".py",
   "mimetype": "text/x-python",
   "name": "python",
   "nbconvert_exporter": "python",
   "pygments_lexer": "ipython3",
   "version": "3.11.4"
  },
  "orig_nbformat": 4
 },
 "nbformat": 4,
 "nbformat_minor": 2
}
