{
 "cells": [
  {
   "attachments": {},
   "cell_type": "markdown",
   "metadata": {},
   "source": [
    "# Pandas Aggregation\n",
    "### Aggregation Function\n",
    "Python is a great language for doing data analysis, primarily because of the fantastic ecosystem of data-centric Python packages. Pandas is one of those packages and makes importing and analyzing data much easier.\n",
    "\n",
    "Dataframe.aggregate() function is used to apply some aggregation across one or more column. Aggregate using callable, string, dict, or list of string/callables. Most frequently used aggregations are:\n",
    "\n",
    "sum: Return the sum of the values for the requested axis\n",
    "min: Return the minimum of the values for the requested axis\n",
    "max: Return the maximum of the values for the requested axis\n",
    "\n",
    "\n",
    "Syntax: DataFrame.aggregate(func, axis=0, *args, **kwargs)\n",
    "\n",
    "Parameters:\n",
    "func : callable, string, dictionary, or list of string/callables. Function to use for aggregating the data. If a function, must either work when passed a DataFrame or when passed to DataFrame.apply. For a DataFrame, can pass a dict, if the keys are DataFrame column names.\n",
    "axis : (default 0) {0 or ‘index’, 1 or ‘columns’} 0 or ‘index’: apply function to each column. 1 or ‘columns’: apply function to each row.\n",
    "\n",
    "Returns: Aggregated DataFrame"
   ]
  },
  {
   "cell_type": "code",
   "execution_count": 8,
   "metadata": {},
   "outputs": [
    {
     "name": "stdout",
     "output_type": "stream",
     "text": [
      "Before applying aggregation: \n",
      "   A   B   C\n",
      "0  0   4  47\n",
      "1  2  15   8\n",
      "2  3   6  19\n",
      "After applying aggregation: \n",
      "     A   B   C\n",
      "sum  5  25  74\n",
      "max  3  15  47\n",
      "After applying aggregation on Columns: \n",
      "       A     B     C\n",
      "sum  5.0   NaN  74.0\n",
      "min  0.0   4.0   8.0\n",
      "max  NaN  15.0   NaN\n"
     ]
    }
   ],
   "source": [
    "import pandas as pd\n",
    " \n",
    "def main():\n",
    "    # create a dictionary with\n",
    "    # three fields each\n",
    "    data = {\n",
    "            'A':[0, 2, 3], \n",
    "            'B':[4, 15, 6], \n",
    "            'C':[47, 8, 19] }\n",
    "     \n",
    "    # Convert the dictionary into DataFrame \n",
    "    df = pd.DataFrame(data)  \n",
    "    print('Before applying aggregation: ')\n",
    "    print(df)     \n",
    "  \n",
    "    print('After applying aggregation: ')\n",
    "    df1 = df.aggregate(['sum', 'max']) \n",
    "    print(df1)\n",
    "\n",
    "    df1 = df.aggregate({\"A\":['sum', 'min'], \n",
    "              \"B\":['max', 'min'], \n",
    "              \"C\":['min', 'sum']}) \n",
    "    print('After applying aggregation on Columns: ')\n",
    "    # printing the new dataframe\n",
    "    print(df1)\n",
    "  \n",
    "if __name__ == '__main__':\n",
    "    main()"
   ]
  },
  {
   "cell_type": "markdown",
   "metadata": {},
   "source": [
    "### Pandas DataFrame mean() \n",
    "Pandas dataframe.mean() function returns the mean of the values for the requested axis. If the method is applied on a pandas series object, then the method returns a scalar value which is the mean value of all the observations in the Pandas Dataframe. If the method is applied on a Pandas Dataframe object, then the method returns a Pandas series object which contains the mean of the values over the specified axis.\n",
    "\n",
    "Syntax: DataFrame.mean(axis=None, skipna=None, level=None, numeric_only=None, **kwargs)\n",
    "\n",
    "Parameters :\n",
    "\n",
    "axis : {index (0), columns (1)}\n",
    "skipna : Exclude NA/null values when computing the result\n",
    "level : If the axis is a MultiIndex (hierarchical), count along a particular level, collapsing into a Series\n",
    "numeric_only : Include only float, int, boolean columns. If None, will attempt to use everything, then use only numeric data. Not implemented for Series.\n",
    "Returns : mean : Series or DataFrame (if level specified)"
   ]
  },
  {
   "cell_type": "markdown",
   "metadata": {},
   "source": [
    "#### Calculate Mean on column"
   ]
  },
  {
   "cell_type": "code",
   "execution_count": 9,
   "metadata": {},
   "outputs": [
    {
     "name": "stdout",
     "output_type": "stream",
     "text": [
      "A    13.2\n",
      "B    13.2\n",
      "C    10.8\n",
      "D     8.4\n",
      "dtype: float64\n"
     ]
    }
   ],
   "source": [
    "# importing pandas as pd \n",
    "import pandas as pd \n",
    "  \n",
    "# Creating the dataframe \n",
    "df = pd.DataFrame({\"A\":[12, 4, 5, 44, 1], \n",
    "                \"B\":[5, 2, 54, 3, 2], \n",
    "                \"C\":[20, 16, 7, 3, 8], \n",
    "                \"D\":[14, 3, 17, 2, 6]}) \n",
    "df1 = df.mean(axis = 0) \n",
    "print(df1)"
   ]
  },
  {
   "cell_type": "markdown",
   "metadata": {},
   "source": [
    "#### Calculate Mean on Row"
   ]
  },
  {
   "cell_type": "code",
   "execution_count": 11,
   "metadata": {},
   "outputs": [
    {
     "data": {
      "text/plain": [
       "0    13.250000\n",
       "1     6.250000\n",
       "2    23.333333\n",
       "3     2.666667\n",
       "4     5.000000\n",
       "dtype: float64"
      ]
     },
     "execution_count": 11,
     "metadata": {},
     "output_type": "execute_result"
    }
   ],
   "source": [
    "# importing pandas as pd \n",
    "import pandas as pd \n",
    "  \n",
    "# Creating the dataframe \n",
    "df = pd.DataFrame({\"A\":[12, 4, 5, None, 1], \n",
    "                \"B\":[7, 2, 54, 3, None], \n",
    "                \"C\":[20, 16, 11, 3, 8],\n",
    "                \"D\":[14, 3, None, 2, 6]}) \n",
    "  \n",
    "# skip the Na values while finding the mean \n",
    "df.mean(axis = 1, skipna = True) "
   ]
  },
  {
   "cell_type": "markdown",
   "metadata": {},
   "source": [
    "### Pandas dataframe.sem()\n",
    "Pandas dataframe.sem() function return unbiased standard error of the mean over requested axis. The standard error (SE) of a statistic (usually an estimate of a parameter) is the standard deviation of its sampling distribution[1] or an estimate of that standard deviation. If the parameter or the statistic is the mean, it is called the standard error of the mean (SEM).\n",
    "\n",
    "Syntax : DataFrame.sem(axis=None, skipna=None, level=None, ddof=1, numeric_only=None, **kwargs)\n",
    "\n",
    "Parameters :\n",
    "axis : {index (0), columns (1)}\n",
    "skipna : Exclude NA/null values. If an entire row/column is NA, the result will be NA\n",
    "level : If the axis is a MultiIndex (hierarchical), count along a particular level, collapsing into a Series\n",
    "ddof : Delta Degrees of Freedom. The divisor used in calculations is N – ddof, where N represents the number of elements.\n",
    "numeric_only : Include only float, int, boolean columns. If None, will attempt to use everything, then use only numeric data. Not implemented for Series\n",
    "\n",
    "Return : sem : Series or DataFrame (if level specified)"
   ]
  },
  {
   "cell_type": "code",
   "execution_count": 15,
   "metadata": {},
   "outputs": [
    {
     "name": "stdout",
     "output_type": "stream",
     "text": [
      "A     7.908224\n",
      "B    10.214695\n",
      "C     3.120897\n",
      "D     3.009983\n",
      "dtype: float64\n"
     ]
    }
   ],
   "source": [
    "# importing pandas as pd \n",
    "import pandas as pd \n",
    "  \n",
    "# Creating the dataframe \n",
    "df = pd.DataFrame({\"A\":[12, 4, 5, 44, 1], \n",
    "                \"B\":[5, 2, 54, 3, 2], \n",
    "                \"C\":[20, 16, 7, 3, 8], \n",
    "                \"D\":[14, 3, 17, 2, 6]}) \n",
    "df1 = df.sem(axis = 0)  \n",
    "print(df1)"
   ]
  },
  {
   "cell_type": "markdown",
   "metadata": {},
   "source": [
    "### Pandas Series.value_counts()\n",
    "Pandas Series.value_counts() function return a Series containing counts of unique values. The resulting object will be in descending order so that the first element is the most frequently-occurring element. Excludes NA values by default.\n",
    "\n",
    "Syntax: Series.value_counts(normalize=False, sort=True, ascending=False, bins=None, dropna=True)\n",
    "\n",
    "Parameter :\n",
    "normalize : If True then the object returned will contain the relative frequencies of the unique values.\n",
    "sort : Sort by values.\n",
    "ascending : Sort in ascending order.\n",
    "bins : Rather than count values, group them into half-open bins, a convenience for pd.cut, only works with numeric data.\n",
    "dropna : Don’t include counts of NaN.\n",
    "\n",
    "Returns : counts : Series"
   ]
  },
  {
   "cell_type": "code",
   "execution_count": 18,
   "metadata": {},
   "outputs": [
    {
     "name": "stdout",
     "output_type": "stream",
     "text": [
      "0    New York\n",
      "1     Chicago\n",
      "2     Toronto\n",
      "3      Lisbon\n",
      "4         Rio\n",
      "5     Chicago\n",
      "6      Lisbon\n",
      "dtype: object\n",
      "\n",
      "\n",
      "Value Count:\n",
      "Chicago     2\n",
      "Lisbon      2\n",
      "New York    1\n",
      "Toronto     1\n",
      "Rio         1\n",
      "Name: count, dtype: int64\n"
     ]
    }
   ],
   "source": [
    "import pandas as pd \n",
    "  \n",
    "# Creating the Series \n",
    "sr = pd.Series(['New York', 'Chicago', 'Toronto', 'Lisbon', 'Rio', 'Chicago', 'Lisbon']) \n",
    "  \n",
    "# Print the series \n",
    "print(sr) \n",
    "print('\\n\\nValue Count:')\n",
    "print(sr.value_counts())"
   ]
  },
  {
   "cell_type": "markdown",
   "metadata": {},
   "source": [
    "### Group By\n",
    "A dataframe, can group by a list of key columns. "
   ]
  },
  {
   "cell_type": "code",
   "execution_count": 3,
   "metadata": {},
   "outputs": [
    {
     "name": "stdout",
     "output_type": "stream",
     "text": [
      "  key1 key2     data1     data2\n",
      "0    a  one  0.566805 -0.100761\n",
      "1    a  two  0.611113 -0.332433\n",
      "2    b  one -1.107966  0.157592\n",
      "3    b  two  0.287503 -0.668305\n",
      "4    a  one  0.693716  0.950847\n"
     ]
    }
   ],
   "source": [
    "# Initilaize data set\n",
    "from pandas import DataFrame\n",
    "import pandas as pd\n",
    "import numpy as np\n",
    "df = DataFrame({'key1' : ['a', 'a', 'b', 'b', 'a'],\n",
    "                'key2' : ['one', 'two', 'one', 'two', 'one'],\n",
    "                'data1' : np.random.randn(5),\n",
    "                'data2' : np.random.randn(5)});\n",
    "print(df)"
   ]
  },
  {
   "cell_type": "markdown",
   "metadata": {},
   "source": [
    "#### Calculate mean based on key1"
   ]
  },
  {
   "cell_type": "code",
   "execution_count": 24,
   "metadata": {},
   "outputs": [
    {
     "name": "stdout",
     "output_type": "stream",
     "text": [
      "key1\n",
      "a    0.623878\n",
      "b   -0.410231\n",
      "Name: data1, dtype: float64\n"
     ]
    }
   ],
   "source": [
    "# calculate mean value\n",
    "mean = df.groupby('key1')['data1'].mean();\n",
    "print(mean);"
   ]
  },
  {
   "cell_type": "markdown",
   "metadata": {},
   "source": [
    "#### we can put a list of columns as group by"
   ]
  },
  {
   "cell_type": "code",
   "execution_count": 23,
   "metadata": {},
   "outputs": [
    {
     "name": "stdout",
     "output_type": "stream",
     "text": [
      "key1  key2\n",
      "a     one     0.425043\n",
      "      two    -0.332433\n",
      "b     one     0.157592\n",
      "      two    -0.668305\n",
      "Name: data2, dtype: float64\n"
     ]
    }
   ],
   "source": [
    "# calculate mean value\n",
    "mean = df.groupby(['key1', 'key2'])['data2'].mean();\n",
    "print(mean);"
   ]
  },
  {
   "cell_type": "code",
   "execution_count": 10,
   "metadata": {},
   "outputs": [
    {
     "name": "stdout",
     "output_type": "stream",
     "text": [
      "key1\n",
      "a    3\n",
      "b    2\n",
      "dtype: int64\n"
     ]
    }
   ],
   "source": [
    "# calculate group size\n",
    "mean = df.groupby(df['key1']).size();\n",
    "print(mean);"
   ]
  },
  {
   "cell_type": "code",
   "execution_count": 14,
   "metadata": {},
   "outputs": [
    {
     "name": "stdout",
     "output_type": "stream",
     "text": [
      "{'a':   key1 key2     data1     data2\n",
      "0    a  one  0.566805 -0.100761\n",
      "1    a  two  0.611113 -0.332433\n",
      "4    a  one  0.693716  0.950847, 'b':   key1 key2     data1     data2\n",
      "2    b  one -1.107966  0.157592\n",
      "3    b  two  0.287503 -0.668305}\n"
     ]
    }
   ],
   "source": [
    "print(dict(list(df.groupby('key1'))))"
   ]
  },
  {
   "cell_type": "markdown",
   "metadata": {},
   "source": [
    "#### Calculate quantile on key"
   ]
  },
  {
   "cell_type": "code",
   "execution_count": 30,
   "metadata": {},
   "outputs": [
    {
     "name": "stdout",
     "output_type": "stream",
     "text": [
      "key1\n",
      "a    0.677195\n",
      "b    0.147956\n",
      "Name: data1, dtype: float64\n"
     ]
    }
   ],
   "source": [
    "print(df.groupby('key1')['data1'].quantile(0.9))"
   ]
  },
  {
   "cell_type": "markdown",
   "metadata": {},
   "source": [
    "#### use customized function as aggregation funcion."
   ]
  },
  {
   "cell_type": "code",
   "execution_count": 48,
   "metadata": {},
   "outputs": [
    {
     "name": "stdout",
     "output_type": "stream",
     "text": [
      "key1\n",
      "a    0.126910\n",
      "b    1.395469\n",
      "Name: data1, dtype: float64\n"
     ]
    }
   ],
   "source": [
    "# define your own aggregation function\n",
    "def peak_to_peak(arr):\n",
    "    return arr.max() - arr.min();\n",
    "result = df.groupby('key1')['data1'].agg(peak_to_peak);\n",
    "print(result);\n"
   ]
  },
  {
   "cell_type": "markdown",
   "metadata": {},
   "source": [
    "#### Mapping columns"
   ]
  },
  {
   "cell_type": "code",
   "execution_count": 49,
   "metadata": {},
   "outputs": [
    {
     "name": "stdout",
     "output_type": "stream",
     "text": [
      "            blue       red\n",
      "Joe     0.963148  2.772641\n",
      "Steve  -0.068170  1.132276\n",
      "Wes    -0.029720  0.266524\n",
      "Jim     0.807887  1.358557\n",
      "Travis -0.852801 -0.508133\n"
     ]
    }
   ],
   "source": [
    "# Initilaize data set\n",
    "from pandas import DataFrame\n",
    "import pandas as pd\n",
    "import numpy as np\n",
    "people = DataFrame(\n",
    "                   np.random.randn(5,5), \n",
    "                   columns = ['a', 'b', 'c', 'd', 'e'],\n",
    "                   index = ['Joe', 'Steve', 'Wes', 'Jim', 'Travis'] \n",
    "                   );\n",
    "# map the columns to color\n",
    "mapping = {'a' : 'red', 'b' : 'red', 'c' : 'blue', 'd': 'blue', 'e': 'red', 'f' : 'organge'};\n",
    "#calculate sum\n",
    "print(people.groupby(mapping, axis=1).sum());\n"
   ]
  },
  {
   "cell_type": "markdown",
   "metadata": {},
   "source": [
    "#### Optimized groupby methods\n",
    "| Function Name | Description |\n",
    "| --- | --- |\n",
    "| count | Number of non-NA values in the group. |\n",
    "| sum | Sum of non-NA values |\n",
    "| mean | Mean of non-NA values |\n",
    "| median | Arithmetic median of non-NA values. |\n",
    "| std, var | Unbiased(n-1 denominator) standard deviation and variance. |\n",
    "| min, max | Minimum and maximum of non-NA values. |\n",
    "| prod | Product of non-NA values. |\n",
    "| first, last | First and last non-NA values. |"
   ]
  },
  {
   "cell_type": "code",
   "execution_count": 76,
   "metadata": {},
   "outputs": [
    {
     "name": "stdout",
     "output_type": "stream",
     "text": [
      "   total_bill   tip     sex smoker  day    time  size  tips_pct\n",
      "0       16.99  1.01  Female     No  Sun  Dinner     2  0.059447\n",
      "1       10.34  1.66    Male     No  Sat   Lunch     3  0.160542\n",
      "2       21.01  3.50    Male     No  Sat  Dinner     3  0.166587\n",
      "3       23.68  3.31    Male    Yes  Sun  Dinner     2  0.139780\n",
      "4       24.59  3.61  Female    Yes  Sun   Lunch     4  0.146808\n",
      "5       25.29  4.71    Male    Yes  Sun  Dinner     4  0.186240\n",
      "sex     smoker\n",
      "Female  No        0.059447\n",
      "        Yes       0.146808\n",
      "Male    No        0.163564\n",
      "        Yes       0.163010\n",
      "Name: tips_pct, dtype: float64\n"
     ]
    }
   ],
   "source": [
    "# Initilaize data set\n",
    "from pandas import DataFrame\n",
    "import pandas as pd\n",
    "import numpy as np\n",
    "tips = DataFrame({\n",
    "                  'total_bill' : [16.99, 10.34, 21.01, 23.68, 24.59, 25.29],\n",
    "                  'tip' :[1.01, 1.66, 3.50, 3.31, 3.61, 4.71],\n",
    "                  'sex' : ['Female', 'Male', 'Male', 'Male', 'Female', 'Male'],\n",
    "                  'smoker' : ['No', 'No', 'No', 'Yes', 'Yes', 'Yes'],\n",
    "                  'day' : ['Sun', 'Sat', 'Sat', 'Sun', 'Sun', 'Sun'],\n",
    "                  'time' : ['Dinner', 'Lunch', 'Dinner', 'Dinner', 'Lunch', 'Dinner'],\n",
    "                  'size' : [2, 3, 3, 2, 4, 4]\n",
    "                });\n",
    "# map the columns to color\n",
    "tips['tips_pct'] = tips['tip'] / tips['total_bill'];\n",
    "#calculate sum\n",
    "print(tips);\n",
    "aggr= tips.groupby(['sex', 'smoker'])['tips_pct'].apply(np.mean);\n",
    "print(aggr)\n"
   ]
  },
  {
   "cell_type": "markdown",
   "metadata": {},
   "source": [
    "### Random Sampling and Permutation"
   ]
  },
  {
   "cell_type": "code",
   "execution_count": 6,
   "metadata": {},
   "outputs": [
    {
     "name": "stdout",
     "output_type": "stream",
     "text": [
      "CQ    10\n",
      "C4     4\n",
      "DA     1\n",
      "D4     4\n",
      "H5     5\n",
      "HK    10\n",
      "S2     2\n",
      "SJ    10\n",
      "dtype: int64\n"
     ]
    }
   ],
   "source": [
    "from pandas import Series, DataFrame\n",
    "import pandas as pd\n",
    "import numpy as np\n",
    "# Spade, Heart, Diamond, Club\n",
    "suits = ['S', 'H', 'D', 'C'];\n",
    "card_val = (list(range(1, 11)) + [10] * 3) * 4;\n",
    "base_names = ['A'] + list(range(2, 11)) + ['J', 'Q', 'K']\n",
    "cards = []\n",
    "for suit in ['S', 'H', 'D', 'C']:\n",
    "    cards.extend(suit + str(name) for name in base_names)\n",
    "deck = Series(card_val, index = cards);\n",
    "\n",
    "def draw(deck, n = 5):\n",
    "    return deck.take(np.random.permutation(len(deck))[:n])\n",
    "\n",
    "candidates = deck.groupby(lambda card:card[0], group_keys = False).apply(draw, 2)\n",
    "print(candidates)"
   ]
  },
  {
   "cell_type": "markdown",
   "metadata": {},
   "source": [
    "#### Group Weighted Average and Correlation"
   ]
  },
  {
   "cell_type": "code",
   "execution_count": 8,
   "metadata": {},
   "outputs": [
    {
     "name": "stdout",
     "output_type": "stream",
     "text": [
      "category\n",
      "a    0.594622\n",
      "b    1.272249\n",
      "dtype: float64\n"
     ]
    }
   ],
   "source": [
    "from pandas import Series, DataFrame\n",
    "import pandas as pd\n",
    "import numpy as np\n",
    "df = DataFrame({'category' : ['a', 'a', 'a', 'a', 'b', 'b', 'b', 'b'],\n",
    "                'data': np.random.randn(8),\n",
    "                'weights' : np.random.randn(8)})\n",
    "category = df.groupby('category').apply(lambda g : np.average(g['data'], weights=g['weights']))\n",
    "print(category)"
   ]
  }
 ],
 "metadata": {
  "kernelspec": {
   "display_name": "venv",
   "language": "python",
   "name": "python3"
  },
  "language_info": {
   "codemirror_mode": {
    "name": "ipython",
    "version": 3
   },
   "file_extension": ".py",
   "mimetype": "text/x-python",
   "name": "python",
   "nbconvert_exporter": "python",
   "pygments_lexer": "ipython3",
   "version": "3.11.7"
  },
  "orig_nbformat": 4
 },
 "nbformat": 4,
 "nbformat_minor": 2
}
