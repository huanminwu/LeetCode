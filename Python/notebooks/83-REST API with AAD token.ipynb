{
 "cells": [
  {
   "attachments": {},
   "cell_type": "markdown",
   "metadata": {},
   "source": [
    "# REST API\n",
    "In this notebook we will discuss how to use REST API to pull data. We assume the app id is authenticate with secret token."
   ]
  },
  {
   "cell_type": "code",
   "execution_count": 10,
   "metadata": {},
   "outputs": [
    {
     "name": "stdout",
     "output_type": "stream",
     "text": [
      "Requirement already satisfied: azure.identity in c:\\leetcode\\python\\.venv\\lib\\site-packages (1.13.0)\n",
      "Requirement already satisfied: azure-core<2.0.0,>=1.11.0 in c:\\leetcode\\python\\.venv\\lib\\site-packages (from azure.identity) (1.30.1)\n",
      "Requirement already satisfied: cryptography>=2.5 in c:\\leetcode\\python\\.venv\\lib\\site-packages (from azure.identity) (41.0.1)\n",
      "Requirement already satisfied: msal<2.0.0,>=1.20.0 in c:\\leetcode\\python\\.venv\\lib\\site-packages (from azure.identity) (1.22.0)\n",
      "Requirement already satisfied: msal-extensions<2.0.0,>=0.3.0 in c:\\leetcode\\python\\.venv\\lib\\site-packages (from azure.identity) (1.0.0)\n",
      "Requirement already satisfied: six>=1.12.0 in c:\\leetcode\\python\\.venv\\lib\\site-packages (from azure.identity) (1.16.0)\n",
      "Requirement already satisfied: requests>=2.21.0 in c:\\leetcode\\python\\.venv\\lib\\site-packages (from azure-core<2.0.0,>=1.11.0->azure.identity) (2.31.0)\n",
      "Requirement already satisfied: typing-extensions>=4.6.0 in c:\\leetcode\\python\\.venv\\lib\\site-packages (from azure-core<2.0.0,>=1.11.0->azure.identity) (4.7.1)\n",
      "Requirement already satisfied: cffi>=1.12 in c:\\leetcode\\python\\.venv\\lib\\site-packages (from cryptography>=2.5->azure.identity) (1.15.1)\n",
      "Requirement already satisfied: PyJWT[crypto]<3,>=1.0.0 in c:\\leetcode\\python\\.venv\\lib\\site-packages (from msal<2.0.0,>=1.20.0->azure.identity) (2.7.0)\n",
      "Requirement already satisfied: portalocker<3,>=1.6 in c:\\leetcode\\python\\.venv\\lib\\site-packages (from msal-extensions<2.0.0,>=0.3.0->azure.identity) (2.7.0)\n",
      "Requirement already satisfied: pycparser in c:\\leetcode\\python\\.venv\\lib\\site-packages (from cffi>=1.12->cryptography>=2.5->azure.identity) (2.21)\n",
      "Requirement already satisfied: pywin32>=226 in c:\\leetcode\\python\\.venv\\lib\\site-packages (from portalocker<3,>=1.6->msal-extensions<2.0.0,>=0.3.0->azure.identity) (306)\n",
      "Requirement already satisfied: charset-normalizer<4,>=2 in c:\\leetcode\\python\\.venv\\lib\\site-packages (from requests>=2.21.0->azure-core<2.0.0,>=1.11.0->azure.identity) (3.1.0)\n",
      "Requirement already satisfied: idna<4,>=2.5 in c:\\leetcode\\python\\.venv\\lib\\site-packages (from requests>=2.21.0->azure-core<2.0.0,>=1.11.0->azure.identity) (3.4)\n",
      "Requirement already satisfied: urllib3<3,>=1.21.1 in c:\\leetcode\\python\\.venv\\lib\\site-packages (from requests>=2.21.0->azure-core<2.0.0,>=1.11.0->azure.identity) (2.0.3)\n",
      "Requirement already satisfied: certifi>=2017.4.17 in c:\\leetcode\\python\\.venv\\lib\\site-packages (from requests>=2.21.0->azure-core<2.0.0,>=1.11.0->azure.identity) (2023.5.7)\n",
      "Note: you may need to restart the kernel to use updated packages.\n"
     ]
    },
    {
     "name": "stderr",
     "output_type": "stream",
     "text": [
      "\n",
      "[notice] A new release of pip is available: 23.1.2 -> 24.0\n",
      "[notice] To update, run: python.exe -m pip install --upgrade pip\n"
     ]
    },
    {
     "name": "stdout",
     "output_type": "stream",
     "text": [
      "Requirement already satisfied: azure-keyvault-secrets in c:\\leetcode\\python\\.venv\\lib\\site-packages (4.8.0)Note: you may need to restart the kernel to use updated packages.\n"
     ]
    },
    {
     "name": "stderr",
     "output_type": "stream",
     "text": [
      "\n",
      "[notice] A new release of pip is available: 23.1.2 -> 24.0\n",
      "[notice] To update, run: python.exe -m pip install --upgrade pip\n"
     ]
    },
    {
     "name": "stdout",
     "output_type": "stream",
     "text": [
      "\n",
      "Requirement already satisfied: azure-core<2.0.0,>=1.29.5 in c:\\leetcode\\python\\.venv\\lib\\site-packages (from azure-keyvault-secrets) (1.30.1)\n",
      "Requirement already satisfied: isodate>=0.6.1 in c:\\leetcode\\python\\.venv\\lib\\site-packages (from azure-keyvault-secrets) (0.6.1)\n",
      "Requirement already satisfied: typing-extensions>=4.0.1 in c:\\leetcode\\python\\.venv\\lib\\site-packages (from azure-keyvault-secrets) (4.7.1)\n",
      "Requirement already satisfied: requests>=2.21.0 in c:\\leetcode\\python\\.venv\\lib\\site-packages (from azure-core<2.0.0,>=1.29.5->azure-keyvault-secrets) (2.31.0)\n",
      "Requirement already satisfied: six>=1.11.0 in c:\\leetcode\\python\\.venv\\lib\\site-packages (from azure-core<2.0.0,>=1.29.5->azure-keyvault-secrets) (1.16.0)\n",
      "Requirement already satisfied: charset-normalizer<4,>=2 in c:\\leetcode\\python\\.venv\\lib\\site-packages (from requests>=2.21.0->azure-core<2.0.0,>=1.29.5->azure-keyvault-secrets) (3.1.0)\n",
      "Requirement already satisfied: idna<4,>=2.5 in c:\\leetcode\\python\\.venv\\lib\\site-packages (from requests>=2.21.0->azure-core<2.0.0,>=1.29.5->azure-keyvault-secrets) (3.4)\n",
      "Requirement already satisfied: urllib3<3,>=1.21.1 in c:\\leetcode\\python\\.venv\\lib\\site-packages (from requests>=2.21.0->azure-core<2.0.0,>=1.29.5->azure-keyvault-secrets) (2.0.3)\n",
      "Requirement already satisfied: certifi>=2017.4.17 in c:\\leetcode\\python\\.venv\\lib\\site-packages (from requests>=2.21.0->azure-core<2.0.0,>=1.29.5->azure-keyvault-secrets) (2023.5.7)\n"
     ]
    }
   ],
   "source": [
    "# install all the azure identity modules\n",
    "%pip install azure.identity\n",
    "# install all the azure keyvault modules\n",
    "%pip install azure-keyvault-secrets"
   ]
  },
  {
   "cell_type": "code",
   "execution_count": 15,
   "metadata": {},
   "outputs": [
    {
     "name": "stdout",
     "output_type": "stream",
     "text": [
      "Error: 400\n"
     ]
    },
    {
     "ename": "TypeError",
     "evalue": "list indices must be integers or slices, not str",
     "output_type": "error",
     "traceback": [
      "\u001b[1;31m---------------------------------------------------------------------------\u001b[0m",
      "\u001b[1;31mTypeError\u001b[0m                                 Traceback (most recent call last)",
      "Cell \u001b[1;32mIn[15], line 51\u001b[0m\n\u001b[0;32m     49\u001b[0m api_client \u001b[38;5;241m=\u001b[39m RestAPI({\u001b[38;5;124m'\u001b[39m\u001b[38;5;124mapp_id\u001b[39m\u001b[38;5;124m'\u001b[39m : app_id, \u001b[38;5;124m'\u001b[39m\u001b[38;5;124mapp_secret\u001b[39m\u001b[38;5;124m'\u001b[39m: app_secret});\n\u001b[0;32m     50\u001b[0m result \u001b[38;5;241m=\u001b[39m api_client\u001b[38;5;241m.\u001b[39mcall_data_api(\u001b[38;5;124m\"\u001b[39m\u001b[38;5;124mhttps://api.infra.global.azure.com/pantheon/api/v2/entities/AGI_Projects\u001b[39m\u001b[38;5;124m\"\u001b[39m)\n\u001b[1;32m---> 51\u001b[0m projects \u001b[38;5;241m=\u001b[39m \u001b[43mresult\u001b[49m\u001b[43m[\u001b[49m\u001b[38;5;124;43m'\u001b[39;49m\u001b[38;5;124;43mresult\u001b[39;49m\u001b[38;5;124;43m'\u001b[39;49m\u001b[43m]\u001b[49m;\n\u001b[0;32m     52\u001b[0m \u001b[38;5;28mprint\u001b[39m(projects)\n",
      "\u001b[1;31mTypeError\u001b[0m: list indices must be integers or slices, not str"
     ]
    }
   ],
   "source": [
    "from azure.identity import AzureCliCredential, ChainedTokenCredential, DefaultAzureCredential, ManagedIdentityCredential\n",
    "from azure.keyvault.secrets import SecretClient\n",
    "from azure.identity import ClientSecretCredential\n",
    "import requests;\n",
    "\n",
    "class KeyVault():\n",
    "    def __init__(self, configuration : dict):\n",
    "        key_vault = configuration.get('keyvault');\n",
    "        credential = ChainedTokenCredential(ManagedIdentityCredential(), \n",
    "                                            AzureCliCredential(), \n",
    "                                            DefaultAzureCredential());\n",
    "        kv_url = \"https://{key_vault}.vault.azure.net\";\n",
    "        kv_url = kv_url.format(key_vault = key_vault);\n",
    "        self.client = SecretClient(vault_url=kv_url, credential=credential)\n",
    "\n",
    "    # write a database to database, mode = append or replace\n",
    "    def get(self, secret_name : str) -> str:\n",
    "        secret_value = self.client.get_secret(secret_name);\n",
    "        return secret_value.value;\n",
    "\n",
    "\n",
    "class RestAPI():\n",
    "    def __init__(self, configuration : dict):\n",
    "        app_id = configuration.get('app_id');\n",
    "        app_secret = configuration.get('app_secret');\n",
    "        tenant_id = '72f988bf-86f1-41af-91ab-2d7cd011db47';\n",
    "        credential = ClientSecretCredential(tenant_id, app_id, app_secret);\n",
    "        self.token = credential.get_token(\"280b00f4-2c5a-44d8-bab9-6acbbaaa7c78/.default\").token;\n",
    "    \n",
    "    def call_data_api(self, uri : str) -> dict:\n",
    "        result = [];\n",
    "        try:\n",
    "            headers = {\n",
    "                \"Authorization\": \"Bearer \" + self.token,\n",
    "                \"Content-Type\": \"application/json\"  # Adjust content type as per your API\n",
    "            }\n",
    "            response = requests.get(uri, headers=headers);\n",
    "            if response.status_code == 200:\n",
    "                result = response.json();\n",
    "            else:\n",
    "                print(\"Error:\", response.status_code)\n",
    "        except requests.exceptions.RequestException as e:\n",
    "            print(\"Error:\", e);\n",
    "        return result;\n",
    "\n",
    "key_vault = KeyVault({'keyvault' : 'etlframeworkkeyvaults'});\n",
    "app_id = key_vault.get('sec-CoiDpxeETLClientId');\n",
    "app_secret = key_vault.get('sec-CoiDpxeETLClientKey');\n",
    "api_client = RestAPI({'app_id' : app_id, 'app_secret': app_secret});\n",
    "result = api_client.call_data_api(\"https://api.infra.global.azure.com/pantheon/api/v2/entities/AGI_Projects\")\n",
    "projects = result['result'];\n",
    "print(projects)\n",
    "\n"
   ]
  }
 ],
 "metadata": {
  "kernelspec": {
   "display_name": "venv",
   "language": "python",
   "name": "python3"
  },
  "language_info": {
   "codemirror_mode": {
    "name": "ipython",
    "version": 3
   },
   "file_extension": ".py",
   "mimetype": "text/x-python",
   "name": "python",
   "nbconvert_exporter": "python",
   "pygments_lexer": "ipython3",
   "version": "3.11.9"
  },
  "orig_nbformat": 4
 },
 "nbformat": 4,
 "nbformat_minor": 2
}
