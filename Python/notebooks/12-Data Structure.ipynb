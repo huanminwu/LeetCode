{
 "cells": [
  {
   "attachments": {},
   "cell_type": "markdown",
   "metadata": {},
   "source": [
    "# Data Structure\n",
    "In this notebook we will learn some python built-in data structure."
   ]
  },
  {
   "attachments": {},
   "cell_type": "markdown",
   "metadata": {},
   "source": [
    "## Itertools\n",
    "The Itertools module helps to build a list with specification."
   ]
  },
  {
   "cell_type": "code",
   "execution_count": 7,
   "metadata": {},
   "outputs": [
    {
     "name": "stdout",
     "output_type": "stream",
     "text": [
      "chain([1,2,3],('a', 'b')): [1, 2, 3, 'a', 'b']\n",
      "accumulate(1,2,3,4,5): [1, 3, 6, 10, 15]\n",
      "accumulate(1,2,3,4,5), mul: [1, 2, 6, 24, 120]\n"
     ]
    }
   ],
   "source": [
    "# print chain().\n",
    "import itertools\n",
    "\n",
    "# chain the list\n",
    "print(\"chain([1,2,3],('a', 'b')):\", list(itertools.chain([1,2,3],('a', 'b'))))\n",
    "\n",
    "# accumulate list\n",
    "print(\"accumulate(1,2,3,4,5):\", list(itertools.accumulate([1,2,3,4,5])))\n",
    "print(\"accumulate(1,2,3,4,5), mul:\", list(itertools.accumulate([1,2,3,4,5], lambda x, y : x * y)))"
   ]
  }
 ],
 "metadata": {
  "kernelspec": {
   "display_name": "venv",
   "language": "python",
   "name": "python3"
  },
  "language_info": {
   "codemirror_mode": {
    "name": "ipython",
    "version": 3
   },
   "file_extension": ".py",
   "mimetype": "text/x-python",
   "name": "python",
   "nbconvert_exporter": "python",
   "pygments_lexer": "ipython3",
   "version": "3.11.4"
  },
  "orig_nbformat": 4
 },
 "nbformat": 4,
 "nbformat_minor": 2
}
