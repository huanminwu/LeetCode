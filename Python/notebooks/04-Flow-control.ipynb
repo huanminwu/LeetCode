{
 "cells": [
  {
   "attachments": {},
   "cell_type": "markdown",
   "metadata": {},
   "source": [
    "# Flow Control\n",
    "In this notebook we will learn for, if-else, while, break and continue."
   ]
  },
  {
   "attachments": {},
   "cell_type": "markdown",
   "metadata": {},
   "source": [
    "## if-else\n",
    "The if-else statement will control the logic flow ."
   ]
  },
  {
   "attachments": {},
   "cell_type": "markdown",
   "metadata": {},
   "source": [
    "### Boolean Operations - and, or, not\n",
    "\n",
    "| Operation | Result | Priority | \n",
    "| --- | --- | --- |\n",
    "| x or y | if x is true, then x, else y | (1) |\n",
    "| x and y | if x is false, then x, else y | (2) |\n",
    "| not x | if x is false, then True, else False | (3) |\n",
    "\n",
    "- \"or\" is a short-circuit operator, so it only evaluates the second argument if the first one is false.\n",
    "- \"and\" is a short-circuit operator, so it only evaluates the second argument if the first one is true.\n",
    "- not has a lower priority than non-Boolean operators, so not a == b is interpreted as not (a == b), and a == not b is a syntax error."
   ]
  },
  {
   "attachments": {},
   "cell_type": "markdown",
   "metadata": {},
   "source": [
    "### Comparisons\n",
    "There are eight comparison operations in Python. They all have the same priority (which is higher than that of the Boolean operations). Comparisons can be chained arbitrarily; for example, x < y <= z is equivalent to x < y and y <= z, except that y is evaluated only once (but in both cases z is not evaluated at all when x < y is found to be false).\n",
    "\n",
    "This table summarizes the comparison operations:\n",
    "| Operation | Meaning |\n",
    "| --- | --- |\n",
    "| < | strictly less than |\n",
    "| <= | less than or equal |\n",
    "| > | strictly greater than |\n",
    "| >= | greater than or equal |\n",
    "| == | equal |\n",
    "| != | not equal |\n",
    "| is | object identity |\n",
    "| is not | negated object identity |\n",
    "\n",
    "Objects of different types, except different numeric types, never compare equal. The == operator is always defined but for some object types (for example, class objects) is equivalent to is. The <, <=, > and >= operators are only defined where they make sense; for example, they raise a TypeError exception when one of the arguments is a complex number."
   ]
  },
  {
   "cell_type": "code",
   "execution_count": 3,
   "metadata": {},
   "outputs": [
    {
     "name": "stdout",
     "output_type": "stream",
     "text": [
      "3 == 8 False\n",
      "3 != 8 True\n",
      "((3 < 8) or (10 < 9)) True\n",
      "((3 < 8) and (10 < 9)) False\n",
      "not(10<9) True\n"
     ]
    }
   ],
   "source": [
    "print(\"3 == 8\", 3 == 8)\n",
    "print(\"3 != 8\", 3 != 8)\n",
    "print(\"((3 < 8) or (10 < 9))\", ((3 < 8) or (10 < 9)))\n",
    "print(\"((3 < 8) and (10 < 9))\", ((3 < 8) and (10 < 9)))\n",
    "print(\"not(10<9)\", not(10<9))"
   ]
  },
  {
   "cell_type": "code",
   "execution_count": 17,
   "metadata": {},
   "outputs": [
    {
     "name": "stdout",
     "output_type": "stream",
     "text": [
      "Audi\n",
      "BMW\n",
      "Subaru\n",
      "Toyota\n"
     ]
    }
   ],
   "source": [
    "# make the car brand correct\n",
    "cars = ['audi', 'bmw', 'subaru', 'toyota']\n",
    "for car in cars:\n",
    "    if car == 'bmw':\n",
    "        print(car.upper())\n",
    "    else:\n",
    "        print(car.title())\n"
   ]
  },
  {
   "cell_type": "code",
   "execution_count": null,
   "metadata": {},
   "outputs": [],
   "source": [
    "# check not equal\n",
    "car = 'toyota'\n",
    "if car != 'bmw':\n",
    "    print('This is not my favorite car')\n"
   ]
  },
  {
   "cell_type": "code",
   "execution_count": 16,
   "metadata": {},
   "outputs": [
    {
     "name": "stdout",
     "output_type": "stream",
     "text": [
      "True\n",
      "False\n"
     ]
    }
   ],
   "source": [
    "# print a boolean vale\n",
    "car = 'toyota'\n",
    "print(car != 'bmw')\n",
    "print(car == 'bmw')\n",
    "\n"
   ]
  },
  {
   "cell_type": "code",
   "execution_count": 18,
   "metadata": {},
   "outputs": [
    {
     "name": "stdout",
     "output_type": "stream",
     "text": [
      "False\n",
      "True\n"
     ]
    }
   ],
   "source": [
    "# Check if  a value in the collection or not\n",
    "requested_toppings = ['mushrooms', 'onions', 'pineapple']\n",
    "print('mushroom' in requested_toppings)\n",
    "print('mushroom' not in requested_toppings)\n"
   ]
  },
  {
   "cell_type": "code",
   "execution_count": 22,
   "metadata": {},
   "outputs": [
    {
     "name": "stdout",
     "output_type": "stream",
     "text": [
      "Your admission cost is 25\n"
     ]
    }
   ],
   "source": [
    "# if-elif-else\n",
    "age = 12\n",
    "if age < 4 :\n",
    "    cost = 0\n",
    "elif age < 18:\n",
    "    cost = 25\n",
    "elif age > 65:\n",
    "    cost = 20\n",
    "else:\n",
    "    cost = 40\n",
    "print('Your admission cost is ' + str(cost))"
   ]
  },
  {
   "attachments": {},
   "cell_type": "markdown",
   "metadata": {},
   "source": [
    "#### Observation\n",
    "1. To determine if two values are equal, we use ==, if not equal we use !=.\n",
    "2. For if-else, we end each part by ':' and put the block of logic below with indent, this is same as for statement.\n",
    "3. if-else can be multi-levels with elif\n",
    "4. The boolean value is True and False, please watch the upper case in the front.\n"
   ]
  },
  {
   "attachments": {},
   "cell_type": "markdown",
   "metadata": {},
   "source": [
    "### None type\n",
    "Like null in Java or C#, Python introduce a None as a special data which indicates nothing"
   ]
  },
  {
   "cell_type": "code",
   "execution_count": 5,
   "metadata": {},
   "outputs": [
    {
     "name": "stdout",
     "output_type": "stream",
     "text": [
      "None\n",
      "None == False? False\n"
     ]
    }
   ],
   "source": [
    "nothing = None\n",
    "print(nothing)\n",
    "print(\"None == False?\", None == False)"
   ]
  },
  {
   "attachments": {},
   "cell_type": "markdown",
   "metadata": {},
   "source": [
    "## For loop\n",
    "Let's use for statement to generate a list of integers."
   ]
  },
  {
   "cell_type": "code",
   "execution_count": null,
   "metadata": {},
   "outputs": [],
   "source": [
    "# print(\"print numbers from 1 to 5\")\n",
    "print(\"print numbers from 1 to 5\")\n",
    "for value in range(1, 6):\n",
    "    print(value)"
   ]
  },
  {
   "cell_type": "code",
   "execution_count": null,
   "metadata": {},
   "outputs": [],
   "source": [
    "# print(\"print odd numbers from 1 to 5\")\n",
    "print(\"\\n\")\n",
    "print(\"print odd numbers from 1 to 5\")\n",
    "for value in range(1, 6, 2):\n",
    "    print(value)"
   ]
  },
  {
   "cell_type": "code",
   "execution_count": null,
   "metadata": {},
   "outputs": [],
   "source": [
    "# print(\"print numbers from 6 to 1\")\n",
    "print(\"\\n\")\n",
    "print(\"print numbers from 6 to 1\")\n",
    "for value in range(6, 0, -1):\n",
    "    print(value)"
   ]
  },
  {
   "cell_type": "code",
   "execution_count": null,
   "metadata": {},
   "outputs": [],
   "source": [
    "# generate a square values for 1 to 10\n",
    "squares = []\n",
    "for value in range(1,11,2):\n",
    "    squares.append(value ** 2)\n",
    "print(squares)"
   ]
  },
  {
   "cell_type": "code",
   "execution_count": null,
   "metadata": {},
   "outputs": [],
   "source": [
    "# generate a square values for 1 to 10\n",
    "squares = [value ** 2 for value in range(1, 11)]\n",
    "print(squares)"
   ]
  },
  {
   "attachments": {},
   "cell_type": "markdown",
   "metadata": {},
   "source": [
    "#### Observation\n",
    "1. The range can have start, end and step value, step value if not given by default it is 1.\n",
    "2. end value will not be reachable, so from the math point of view, we can see the range as [start, end).\n",
    "3. step value can be positive or negative."
   ]
  },
  {
   "attachments": {},
   "cell_type": "markdown",
   "metadata": {},
   "source": [
    "### Generate a list\n",
    "We can use for loop to generate a list."
   ]
  },
  {
   "cell_type": "code",
   "execution_count": 1,
   "metadata": {},
   "outputs": [
    {
     "name": "stdout",
     "output_type": "stream",
     "text": [
      "[1, 4, 9, 16, 25, 36, 49, 64, 81, 100]\n"
     ]
    }
   ],
   "source": [
    "# Generate a list of square value from 1 to 10\n",
    "n = 10\n",
    "squares = [num ** 2 for num in range(1, n+1)]\n",
    "print(squares)"
   ]
  },
  {
   "cell_type": "code",
   "execution_count": 8,
   "metadata": {},
   "outputs": [
    {
     "name": "stdout",
     "output_type": "stream",
     "text": [
      "[1, 3, 5, 7, 9, 11, 13, 15, 17, 19]\n"
     ]
    }
   ],
   "source": [
    "# Generate odd list in 1 to 20\n",
    "oddlist = [num for num in range(1, 20) if num % 2 == 1]\n",
    "print(oddlist)"
   ]
  },
  {
   "cell_type": "code",
   "execution_count": 5,
   "metadata": {},
   "outputs": [
    {
     "name": "stdout",
     "output_type": "stream",
     "text": [
      "[('S', 2), ('S', 3), ('S', 4), ('S', 5), ('S', 6), ('S', 7), ('S', 8), ('S', 9), ('S', 'J'), ('S', 'Q'), ('S', 'K'), ('S', 'A'), ('H', 2), ('H', 3), ('H', 4), ('H', 5), ('H', 6), ('H', 7), ('H', 8), ('H', 9), ('H', 'J'), ('H', 'Q'), ('H', 'K'), ('H', 'A'), ('D', 2), ('D', 3), ('D', 4), ('D', 5), ('D', 6), ('D', 7), ('D', 8), ('D', 9), ('D', 'J'), ('D', 'Q'), ('D', 'K'), ('D', 'A'), ('C', 2), ('C', 3), ('C', 4), ('C', 5), ('C', 6), ('C', 7), ('C', 8), ('C', 9), ('C', 'J'), ('C', 'Q'), ('C', 'K'), ('C', 'A')]\n"
     ]
    }
   ],
   "source": [
    "# Generate a full set of pork card\n",
    "values = list(range(2, 10)) + ['J', 'Q', 'K', 'A']\n",
    "shapes = ['S', 'H', 'D', 'C']\n",
    "cards = [(shape, value) for shape in shapes for value in values]\n",
    "print(cards)"
   ]
  },
  {
   "cell_type": "code",
   "execution_count": 16,
   "metadata": {},
   "outputs": [
    {
     "name": "stdout",
     "output_type": "stream",
     "text": [
      "1*1 = 1   1*2 = 2   1*3 = 3   1*4 = 4   1*5 = 5   1*6 = 6   1*7 = 7   1*8 = 8   1*9 = 9   \n",
      "2*1 = 2   2*2 = 4   2*3 = 6   2*4 = 8   2*5 = 10  2*6 = 12  2*7 = 14  2*8 = 16  2*9 = 18  \n",
      "3*1 = 3   3*2 = 6   3*3 = 9   3*4 = 12  3*5 = 15  3*6 = 18  3*7 = 21  3*8 = 24  3*9 = 27  \n",
      "4*1 = 4   4*2 = 8   4*3 = 12  4*4 = 16  4*5 = 20  4*6 = 24  4*7 = 28  4*8 = 32  4*9 = 36  \n",
      "5*1 = 5   5*2 = 10  5*3 = 15  5*4 = 20  5*5 = 25  5*6 = 30  5*7 = 35  5*8 = 40  5*9 = 45  \n",
      "6*1 = 6   6*2 = 12  6*3 = 18  6*4 = 24  6*5 = 30  6*6 = 36  6*7 = 42  6*8 = 48  6*9 = 54  \n",
      "7*1 = 7   7*2 = 14  7*3 = 21  7*4 = 28  7*5 = 35  7*6 = 42  7*7 = 49  7*8 = 56  7*9 = 63  \n",
      "8*1 = 8   8*2 = 16  8*3 = 24  8*4 = 32  8*5 = 40  8*6 = 48  8*7 = 56  8*8 = 64  8*9 = 72  \n",
      "9*1 = 9   9*2 = 18  9*3 = 27  9*4 = 36  9*5 = 45  9*6 = 54  9*7 = 63  9*8 = 72  9*9 = 81  \n"
     ]
    }
   ],
   "source": [
    "# print a 9 X 9 multiply table\n",
    "for i in range(1, 10):\n",
    "    for j in range(1, 10):\n",
    "        print(\"{i}*{j} = {result:<3d}\".format(i=i, j=j, result= i *j), end = \" \")\n",
    "    print()"
   ]
  },
  {
   "attachments": {},
   "cell_type": "markdown",
   "metadata": {},
   "source": [
    "## While loop\n",
    "While loop will run until condition fails or get break."
   ]
  },
  {
   "attachments": {},
   "cell_type": "markdown",
   "metadata": {},
   "source": [
    "### Continue and Break"
   ]
  },
  {
   "cell_type": "code",
   "execution_count": 10,
   "metadata": {},
   "outputs": [
    {
     "name": "stdout",
     "output_type": "stream",
     "text": [
      "sum = 16\n"
     ]
    }
   ],
   "source": [
    "# sum = 1 + 3 + 5 + 7\n",
    "number = 0\n",
    "sum = 0\n",
    "while number < 11 :\n",
    "    number = number + 1\n",
    "    if number % 9 == 0 :\n",
    "        break\n",
    "    if number % 2 == 0 :\n",
    "        continue\n",
    "    sum += number\n",
    "print('sum = ' + str(sum))"
   ]
  },
  {
   "cell_type": "code",
   "execution_count": 11,
   "metadata": {},
   "outputs": [
    {
     "name": "stdout",
     "output_type": "stream",
     "text": [
      "['dog', 'cat', 'dog', 'goldfish', 'cat', 'rabbit', 'cat']\n",
      "['dog', 'dog', 'goldfish', 'rabbit']\n"
     ]
    }
   ],
   "source": [
    "# remove specific value in an array\n",
    "pets = ['dog', 'cat', 'dog', 'goldfish', 'cat', 'rabbit', 'cat']\n",
    "print(pets)\n",
    "while 'cat' in pets :\n",
    "    pets.remove('cat')\n",
    "print(pets)"
   ]
  },
  {
   "attachments": {},
   "cell_type": "markdown",
   "metadata": {},
   "source": [
    "#### Observation\n",
    "1. break will break from the loop and continue will skip all the statement remaining in the loop.\n"
   ]
  },
  {
   "attachments": {},
   "cell_type": "markdown",
   "metadata": {},
   "source": [
    "## Exercise\n",
    "4.1 In Chinese year, every year will tie to animal, assume 1900 is rat, please calculate the animal for any year after 1900.\n",
    "\n",
    "\n",
    "4.2 we have a equation ax^2 + bx + c = 0, we want to calculate two roots, r1 = (-b + sqrt(b^2 - 4ac)) / 2a and r2 = (-b - sqrt(b^2 - 4ac)). But if b^-4ac < 0, then we do not have root. Given an equation, please calculate root.\n",
    "\n",
    "\n",
    "4.3 Given equation \n",
    "a * x + b * y = e\n",
    "c * x + d * y = f\n",
    "Please calculate x and y.\n",
    "\n",
    "\n",
    "4.4 Please determine if a year is leap year or not. A leap year should be able to divisible by 4, and if it can be divisible by 100 then it should also be divisible by 400.\n",
    "\n",
    "4.5 Calculate pi by the following formula:\n",
    "pi = 4 * (1-1/3+1/5-1/7 + + (-1)^(i+1)/(2*i+1))\n"
   ]
  }
 ],
 "metadata": {
  "kernelspec": {
   "display_name": "venv",
   "language": "python",
   "name": "python3"
  },
  "language_info": {
   "codemirror_mode": {
    "name": "ipython",
    "version": 3
   },
   "file_extension": ".py",
   "mimetype": "text/x-python",
   "name": "python",
   "nbconvert_exporter": "python",
   "pygments_lexer": "ipython3",
   "version": "3.11.9"
  },
  "orig_nbformat": 4
 },
 "nbformat": 4,
 "nbformat_minor": 2
}
